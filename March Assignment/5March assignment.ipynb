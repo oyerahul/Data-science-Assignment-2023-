{
 "cells": [
  {
   "cell_type": "markdown",
   "id": "1ae0fee3-f917-4ac0-9bba-802842d7622d",
   "metadata": {},
   "source": [
    "`Question 1`. How can you create a Bokeh plot using Python code?\n",
    "\n",
    "`Answer` :"
   ]
  },
  {
   "cell_type": "code",
   "execution_count": null,
   "id": "2d7f3929-6cfe-4dd2-8993-2c3e50f455aa",
   "metadata": {},
   "outputs": [],
   "source": []
  },
  {
   "cell_type": "code",
   "execution_count": null,
   "id": "9a6ce52c-ff7e-4f2b-a7d5-4fcfa7cc17a1",
   "metadata": {},
   "outputs": [],
   "source": []
  },
  {
   "cell_type": "markdown",
   "id": "c3cfd24e-2947-4827-a1eb-b11c105e6bcd",
   "metadata": {},
   "source": [
    "`Question 2`.What are glyphs in Bokeh, and how can you add them to a Bokeh plot? Explain with an example. \n",
    "\n",
    "`Answer` :"
   ]
  },
  {
   "cell_type": "code",
   "execution_count": null,
   "id": "44adda7d-580f-41a7-8619-c4f9bb73e6be",
   "metadata": {},
   "outputs": [],
   "source": []
  },
  {
   "cell_type": "code",
   "execution_count": null,
   "id": "627bc81c-0874-438b-905e-49e3a5875183",
   "metadata": {},
   "outputs": [],
   "source": []
  },
  {
   "cell_type": "markdown",
   "id": "072b0b54-b42d-41cc-abd0-eab3c66e665c",
   "metadata": {},
   "source": [
    "`Question 3`.How can you customize the appearance of a Bokeh plot, including the axes, title, and legend? \n",
    "\n",
    "`Answer` :"
   ]
  },
  {
   "cell_type": "code",
   "execution_count": null,
   "id": "6450b11b-eefb-41b0-ad59-86dadf6bb09c",
   "metadata": {},
   "outputs": [],
   "source": []
  },
  {
   "cell_type": "code",
   "execution_count": null,
   "id": "6ebb1886-6490-446d-980e-f222fb7aa1b2",
   "metadata": {},
   "outputs": [],
   "source": []
  },
  {
   "cell_type": "markdown",
   "id": "3f318160-80b9-4974-8406-9765d44e4a77",
   "metadata": {},
   "source": [
    "`Question 4`. What is a Bokeh server, and how can you use it to create interactive plots that can be updated in\n",
    "real time?\n",
    "\n",
    "`Answer` :"
   ]
  },
  {
   "cell_type": "code",
   "execution_count": null,
   "id": "c5e6aef9-0cd6-46d7-944f-5ff60a00357f",
   "metadata": {},
   "outputs": [],
   "source": []
  },
  {
   "cell_type": "code",
   "execution_count": null,
   "id": "a54943ca-7317-48b9-aeba-28808c098a20",
   "metadata": {},
   "outputs": [],
   "source": []
  },
  {
   "cell_type": "markdown",
   "id": "5ec58a7b-676c-4fb3-874c-9f63b3e95ebb",
   "metadata": {},
   "source": [
    "`Question 5`.How can you embed a Bokeh plot into a web page or dashboard using Flask or Django? \n",
    "\n",
    "`Answer` :"
   ]
  },
  {
   "cell_type": "code",
   "execution_count": null,
   "id": "7fd78822-3962-4bc1-854c-a989f6f433b7",
   "metadata": {},
   "outputs": [],
   "source": []
  },
  {
   "cell_type": "code",
   "execution_count": null,
   "id": "17d9e0af-0ae6-4471-9465-ae8ed73ae50b",
   "metadata": {},
   "outputs": [],
   "source": []
  },
  {
   "cell_type": "code",
   "execution_count": null,
   "id": "e13fb329-ed97-4269-bcf2-f94f8e75ea65",
   "metadata": {},
   "outputs": [],
   "source": []
  }
 ],
 "metadata": {
  "kernelspec": {
   "display_name": "Python 3 (ipykernel)",
   "language": "python",
   "name": "python3"
  },
  "language_info": {
   "codemirror_mode": {
    "name": "ipython",
    "version": 3
   },
   "file_extension": ".py",
   "mimetype": "text/x-python",
   "name": "python",
   "nbconvert_exporter": "python",
   "pygments_lexer": "ipython3",
   "version": "3.10.8"
  }
 },
 "nbformat": 4,
 "nbformat_minor": 5
}
