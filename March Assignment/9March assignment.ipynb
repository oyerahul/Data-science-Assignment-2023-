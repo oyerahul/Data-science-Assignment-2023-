{
 "cells": [
  {
   "cell_type": "markdown",
   "id": "f1890b16-e313-47b1-b27e-a9d5e2025153",
   "metadata": {},
   "source": [
    "`Question 1`. What are the Probability Mass Function (PMF) and Probability Density Function (PDF)? Explain with\n",
    "an example.\n",
    "\n",
    "`Answer` :`The Probability Mass Function (PMF)` is used to describe the probability distribution of a discrete random variable. It assigns a probability to each possible outcome. The PMF gives the probability of observing a specific value of the random variable.\n",
    "\n",
    "`The Probability Density Function (PDF)` is used to describe the probability distribution of a continuous random variable. Unlike the PMF, the PDF does not give the probability of observing a specific value, but rather the probability density at a given point. The probability of an interval is obtained by integrating the PDF over that interval.\n",
    "\n",
    "Example:\n",
    "\n",
    "`PMF:` Consider a fair six-sided die. The PMF of this random variable would assign a probability of 1/6 to each of the possible outcomes (numbers 1 to 6).\n",
    "\n",
    "`PDF:` Consider a continuous random variable representing the height of adult males. The PDF of this random variable would describe the shape of the distribution and give the probability density at each possible height value."
   ]
  },
  {
   "cell_type": "code",
   "execution_count": null,
   "id": "94225e7f-29de-4149-be91-90c8c9e5cce3",
   "metadata": {},
   "outputs": [],
   "source": []
  },
  {
   "cell_type": "markdown",
   "id": "1783352d-152c-499c-bb55-165eaf4cede6",
   "metadata": {},
   "source": [
    "`Question 2`. What is Cumulative Density Function (CDF)? Explain with an example. Why CDF is used?\n",
    "\n",
    "`Answer` :`The Cumulative Density Function (CDF)` gives the probability that a random variable takes on a value less than or equal to a given value. It provides information about the probability distribution of a random variable.\n",
    "\n",
    "Example:\n",
    "Let's consider a random variable that represents the outcome of rolling a fair six-sided die. The CDF of this random variable would give the probability of rolling a number less than or equal to a given value.\n",
    "\n",
    "For example, if we want to find the probability of rolling a number less than or equal to 3, we can use the CDF. If the CDF at 3 is 0.5, it means there is a 50% chance of rolling a number less than or equal to 3.\n",
    "\n",
    "The CDF is useful for calculating probabilities and understanding the distribution of a random variable."
   ]
  },
  {
   "cell_type": "code",
   "execution_count": null,
   "id": "702b6666-071f-4674-aceb-8c95e2a5ce3d",
   "metadata": {},
   "outputs": [],
   "source": []
  },
  {
   "cell_type": "markdown",
   "id": "0efae261-f84d-483b-9c40-62c64c95ee02",
   "metadata": {},
   "source": [
    "`Question 3`. What are some examples of situations where the normal distribution might be used as a model? Explain how the parameters of the normal distribution relate to the shape of the distribution.\n",
    "\n",
    "`Answer` :`The normal distribution`, also known as the Gaussian distribution, is widely used as a model in various fields due to its mathematical properties and the prevalence of phenomena that follow its pattern. Some examples of situations where the normal distribution might be used include:\n",
    "1. Heights and weights of a population.\n",
    "2. Errors in measurements or observations.\n",
    "3. IQ scores.\n",
    "4. Test scores.\n",
    "\n",
    "`The normal distribution` is characterized by two parameters: the mean (μ) and the standard deviation (σ). The mean determines the central tendency of the distribution and represents its average value. The standard deviation determines the spread or dispersion of the distribution. A larger standard deviation results in a wider distribution, while a smaller standard deviation yields a narrower distribution."
   ]
  },
  {
   "cell_type": "code",
   "execution_count": null,
   "id": "242a9ae5-cbf8-4e1a-8ea6-58aff0aa328a",
   "metadata": {},
   "outputs": [],
   "source": []
  },
  {
   "cell_type": "markdown",
   "id": "39441cce-f62b-4fc6-9f12-6848006a338d",
   "metadata": {},
   "source": [
    "`Question 4`. Explain the importance of Normal Distribution. Give a few real-life examples of Normal\n",
    "Distribution.\n",
    "\n",
    "`Answer` : `The normal distribution is of great importance in statistics and probability theory for several reasons:`\n",
    "1. Many natural phenomena tend to follow a normal distribution, which makes it a useful model in various fields.\n",
    "2. The central limit theorem states that the sum or average of a large number of independent and identically distributed random variables tends to follow a normal distribution, regardless of the shape of the original distribution.\n",
    "3. The normal distribution has well-defined mathematical properties, which simplifies statistical analysis and allows for the application of numerous statistical techniques.\n",
    "\n",
    "`Some real-life examples of the normal distribution include:`\n",
    "1. Heights of individuals in a population.\n",
    "2. IQ scores.\n",
    "3. Measurement errors.\n",
    "4. Test scores.\n",
    "5. Stock market returns."
   ]
  },
  {
   "cell_type": "code",
   "execution_count": null,
   "id": "e70f4c9f-8e33-4b85-ab12-9d296c9254c2",
   "metadata": {},
   "outputs": [],
   "source": []
  },
  {
   "cell_type": "markdown",
   "id": "3e6e57de-99f7-45e3-bd1b-f5ae27ce0ed0",
   "metadata": {},
   "source": [
    "`Question 5`. What is Bernaulli Distribution? Give an Example. What is the difference between Bernoulli Distribution and Binomial Distribution?\n",
    "\n",
    "`Answer` :The Bernoulli distribution is a discrete probability distribution that models a random variable with two possible outcomes, usually labeled as success (usually denoted as 1) and failure (usually denoted as 0), where the probability of success is denoted as p.\n",
    "Example.\n",
    "\n",
    "1. Consider a coin flip. We can model the outcome of a single coin flip using a Bernoulli distribution. If we define success as getting heads (1) and failure as getting tails (0), the Bernoulli distribution would describe the probability of getting heads or tails.\n",
    "\n",
    "2. The main difference between the Bernoulli distribution and the binomial distribution is that the Bernoulli distribution models a single trial with two outcomes (success or failure), while the binomial distribution models the number of successes in a fixed number of independent Bernoulli trials.\n",
    "\n",
    "3. The binomial distribution is obtained by performing multiple independent Bernoulli trials andcounting the number of successes. It has two additional parameters: the number of trials (n) and the probability of success in each trial (p)."
   ]
  },
  {
   "cell_type": "code",
   "execution_count": null,
   "id": "51f1db69-e96a-4786-90c6-c3a606f3c30b",
   "metadata": {},
   "outputs": [],
   "source": []
  },
  {
   "cell_type": "markdown",
   "id": "fc6193fa-ca0f-407d-83d4-c7d1a637d3e1",
   "metadata": {},
   "source": [
    "`Question 6`. Consider a dataset with a mean of 50 and a standard deviation of 10. If we assume that the dataset is normally distributed, what is the probability that a randomly selected observation will be greater than 60? Use the appropriate formula and show your calculations.\n",
    "\n",
    "`Answer` :To calculate the probability that a randomly selected observation from a dataset with a mean of 50 and a standard deviation of 10 will be greater than 60, we need to use the standard normal distribution.\n",
    "\n",
    "First, we calculate the z-score for the value 60 using the formula:\n",
    "\n",
    "`z = (x - μ) / σ`\n",
    "\n",
    "where x is the value (60), μ is the mean (50), and σ is the standard deviation (10).\n",
    "\n",
    "`z = (60 - 50) / 10 = 1`\n",
    "\n",
    "Once we have the z-score, we can find the probability using a standard normal distribution table or a statistical calculator.\n",
    "\n",
    "The probability of a randomly selected observation being greater than 60 can be calculated as:\n",
    "\n",
    "`P(Z > 1) = 1 - P(Z ≤ 1)`\n",
    "\n",
    "Using a standard normal distribution table or a calculator, we find that P(Z ≤ 1) is approximately `0.8413`. Therefore, `P(Z > 1) is approximately 1 - 0.8413 = 0.1587`.\n",
    "\n",
    "Therefore, the probability that a randomly selected observation from the dataset will be greater than 60 is approximately 0.1587 or 15.87%."
   ]
  },
  {
   "cell_type": "code",
   "execution_count": null,
   "id": "8eec40f2-fb51-40fe-9931-684390d90b03",
   "metadata": {},
   "outputs": [],
   "source": []
  },
  {
   "cell_type": "markdown",
   "id": "2290e8a4-aed8-4f2c-968e-cfb7df4744d4",
   "metadata": {},
   "source": [
    "`Question 7`.Explain uniform Distribution with an example.\n",
    "\n",
    "`Answer` :\n",
    "The uniform distribution is a continuous probability distribution where all outcomes are equally likely over a specified interval. In other words, every value within the interval has the same probability of occurring.\n",
    "\n",
    "Example: Consider a fair six-sided die. The outcomes of rolling the die (1, 2, 3, 4, 5, 6) are all equally likely, and each has a probability of 1/6. This can be represented by a uniform distribution over the interval [1, 6].\n",
    "\n",
    "In a uniform distribution, the probability density function (PDF) is constant within the interval and zero outside the interval. The cumulative distribution function (CDF) increases linearly within the interval from 0 to 1."
   ]
  },
  {
   "cell_type": "code",
   "execution_count": null,
   "id": "1879bccb-ba02-4bd2-82e8-3bbc70dc810d",
   "metadata": {},
   "outputs": [],
   "source": []
  },
  {
   "cell_type": "markdown",
   "id": "c15655a5-43f4-41cc-a119-ec160182e120",
   "metadata": {},
   "source": [
    "`Question 8`. What is the z score? State the importance of the z score.\n",
    "\n",
    "`Answer` :The z-score, also known as the standard score, is a measure of how many standard deviations an observation or data point is from the mean of a distribution. It indicates the relative position of a data point within a distribution.\n",
    "\n",
    "The formula to calculate the z-score is:\n",
    "\n",
    "`z = (x - μ) / σ`\n",
    "\n",
    "where x is the data point, μ is the mean, and σ is the standard deviation.\n",
    "\n",
    "The importance of the z-score is as follows:\n",
    "1.    It allows us to standardize data and compare values from different distributions.\n",
    "2.    It provides a way to determine the probability or percentile associated with a particular value in a distribution.\n",
    "3.    It helps identify outliers or extreme values in a dataset.\n",
    "4.    It is used in hypothesis testing and statistical inference."
   ]
  },
  {
   "cell_type": "code",
   "execution_count": null,
   "id": "1ebe7f01-1248-459a-a3d9-2963e4f5e9ef",
   "metadata": {},
   "outputs": [],
   "source": []
  },
  {
   "cell_type": "markdown",
   "id": "799990c3-3a63-4195-aa15-85983ca1180b",
   "metadata": {},
   "source": [
    "`Question 9`. What is Central Limit Theorem? State the significance of the Central Limit Theorem.\n",
    "\n",
    "`Answer` :`The Central Limit Theorem (CLT)` is a fundamental theorem in statistics that states that the sampling distribution of the mean of a large number of independent and identically distributed random variables approaches a normal distribution, regardless of the shape of the original distribution.\n",
    "\n",
    "The significance of the Central Limit Theorem is as follows:\n",
    "1. It allows us to make inferences about a population based on a sample, as the sample mean tends to be normally distributed even if the population distribution is not normal.\n",
    "2. It forms the basis for many statistical techniques and hypothesis testing procedures.\n",
    "3. It explains why the normal distribution is commonly observed in many natural and social phenomena.\n",
    "4. It enables the use of mathematical formulas and statistical methods that assume normality, even when dealing with non-normal data."
   ]
  },
  {
   "cell_type": "code",
   "execution_count": null,
   "id": "40d37b86-5990-44cc-8735-451767207ab3",
   "metadata": {},
   "outputs": [],
   "source": []
  },
  {
   "cell_type": "markdown",
   "id": "e0baf855-bac0-4896-ab8c-3c91c6c91e02",
   "metadata": {},
   "source": [
    "`Question 10`. State the assumptions of the Central Limit Theorem.\n",
    "\n",
    "`Answer` :\n",
    "The Central Limit Theorem relies on the following assumptions:\n",
    "1. The random variables being averaged are independent of each other.\n",
    "2. The random variables have the same distribution (can be any distribution with finite mean and variance).\n",
    "3. The sample size is sufficiently large (typically considered to be at least 30) to ensure the approximation to normality.\n",
    "These assumptions allow the theorem to hold and the sampling distribution of the mean to converge to a normal distribution."
   ]
  },
  {
   "cell_type": "code",
   "execution_count": null,
   "id": "aa3b9a6d-848b-444e-b783-145924e9353d",
   "metadata": {},
   "outputs": [],
   "source": []
  },
  {
   "cell_type": "markdown",
   "id": "124a035a-71c4-447c-9ee6-0c9d1290b826",
   "metadata": {},
   "source": [
    "`COMPLETE...`"
   ]
  }
 ],
 "metadata": {
  "kernelspec": {
   "display_name": "Python 3 (ipykernel)",
   "language": "python",
   "name": "python3"
  },
  "language_info": {
   "codemirror_mode": {
    "name": "ipython",
    "version": 3
   },
   "file_extension": ".py",
   "mimetype": "text/x-python",
   "name": "python",
   "nbconvert_exporter": "python",
   "pygments_lexer": "ipython3",
   "version": "3.10.8"
  }
 },
 "nbformat": 4,
 "nbformat_minor": 5
}
