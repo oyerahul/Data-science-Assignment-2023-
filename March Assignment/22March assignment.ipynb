{
 "cells": [
  {
   "cell_type": "code",
   "execution_count": 41,
   "id": "9ac26c1b-29dd-4b4b-b06b-ebc2f7eafc00",
   "metadata": {},
   "outputs": [
    {
     "name": "stdout",
     "output_type": "stream",
     "text": [
      "Requirement already satisfied: Feature-Engine in /opt/conda/lib/python3.10/site-packages (1.6.2)\n",
      "Requirement already satisfied: scipy>=1.4.1 in /opt/conda/lib/python3.10/site-packages (from Feature-Engine) (1.9.3)\n",
      "Requirement already satisfied: pandas>=1.0.3 in /opt/conda/lib/python3.10/site-packages (from Feature-Engine) (1.5.2)\n",
      "Requirement already satisfied: scikit-learn>=1.0.0 in /opt/conda/lib/python3.10/site-packages (from Feature-Engine) (1.2.0)\n",
      "Requirement already satisfied: statsmodels>=0.11.1 in /opt/conda/lib/python3.10/site-packages (from Feature-Engine) (0.13.5)\n",
      "Requirement already satisfied: numpy>=1.18.2 in /opt/conda/lib/python3.10/site-packages (from Feature-Engine) (1.23.5)\n",
      "Requirement already satisfied: python-dateutil>=2.8.1 in /opt/conda/lib/python3.10/site-packages (from pandas>=1.0.3->Feature-Engine) (2.8.2)\n",
      "Requirement already satisfied: pytz>=2020.1 in /opt/conda/lib/python3.10/site-packages (from pandas>=1.0.3->Feature-Engine) (2022.6)\n",
      "Requirement already satisfied: joblib>=1.1.1 in /opt/conda/lib/python3.10/site-packages (from scikit-learn>=1.0.0->Feature-Engine) (1.2.0)\n",
      "Requirement already satisfied: threadpoolctl>=2.0.0 in /opt/conda/lib/python3.10/site-packages (from scikit-learn>=1.0.0->Feature-Engine) (3.1.0)\n",
      "Requirement already satisfied: patsy>=0.5.2 in /opt/conda/lib/python3.10/site-packages (from statsmodels>=0.11.1->Feature-Engine) (0.5.3)\n",
      "Requirement already satisfied: packaging>=21.3 in /opt/conda/lib/python3.10/site-packages (from statsmodels>=0.11.1->Feature-Engine) (22.0)\n",
      "Requirement already satisfied: six in /opt/conda/lib/python3.10/site-packages (from patsy>=0.5.2->statsmodels>=0.11.1->Feature-Engine) (1.16.0)\n"
     ]
    }
   ],
   "source": [
    "!pip install Feature-Engine"
   ]
  },
  {
   "cell_type": "code",
   "execution_count": 42,
   "id": "2780e71f-54c3-49b9-9e92-78f3f6f61a8d",
   "metadata": {},
   "outputs": [],
   "source": [
    "import numpy as np\n",
    "import pandas as pd\n",
    "# to encode with feature-engine\n",
    "from feature_engine.encoding import CountFrequencyEncoder"
   ]
  },
  {
   "cell_type": "code",
   "execution_count": null,
   "id": "64acb3a1-c5b7-4a3c-9cc2-72cd7f8f3d0d",
   "metadata": {},
   "outputs": [],
   "source": []
  },
  {
   "cell_type": "markdown",
   "id": "f1890b16-e313-47b1-b27e-a9d5e2025153",
   "metadata": {},
   "source": [
    "`Question 1`. Pearson correlation coefficient is a measure of the linear relationship between two variables. Suppose you have collected data on the amount of time students spend studying for an exam and their final exam scores. Calculate the Pearson correlation coefficient between these two variables and interpret the result.\n",
    "\n",
    "`Answer` :The Pearson correlation coefficient quantifies the linear relationship between the amount of time spent studying for an exam and the corresponding final exam scores. The resulting value of the correlation coefficient will range between -1 and 1.\n",
    "\n",
    "Interpreting the Pearson correlation coefficient:\n",
    "\n",
    "-  If the Pearson correlation coefficient is close to 1, it indicates a strong positive linear relationship. In this case, as the amount of time spent studying increases, the final exam scores tend to increase as well. A value close to 1 suggests that students who study more tend to achieve higher scores on the exam.\n",
    "-    If the Pearson correlation coefficient is close to -1, it indicates a strong negative linear relationship. In this scenario, as the amount of time spent studying increases, the final exam scores tend to decrease. However, it's important to note that a negative correlation may not necessarily imply causation.\n",
    "-    If the Pearson correlation coefficient is close to 0, it suggests a weak or no linear relationship between the two variables. In other words, there is no significant association between the amount of time spent studying and the final exam scores."
   ]
  },
  {
   "cell_type": "code",
   "execution_count": 43,
   "id": "ec912960-64a2-457d-91d3-8e24b85f6eaa",
   "metadata": {},
   "outputs": [
    {
     "name": "stdout",
     "output_type": "stream",
     "text": [
      "Pearson correlation coefficient: 0.9851671292310362\n"
     ]
    }
   ],
   "source": [
    "\n",
    "\n",
    "# Assuming you have the data in a pandas DataFrame\n",
    "df = pd.DataFrame({\n",
    "    'Study Time': [4, 6, 3, 7, 5],\n",
    "    'Exam Scores': [85, 92, 78, 95, 88]\n",
    "})\n",
    "\n",
    "# Calculate the Pearson correlation coefficient\n",
    "correlation_coefficient = df['Study Time'].corr(df['Exam Scores'])\n",
    "\n",
    "# Print the result\n",
    "print(\"Pearson correlation coefficient:\", correlation_coefficient)"
   ]
  },
  {
   "cell_type": "code",
   "execution_count": null,
   "id": "7fb04cf9-b045-437d-b328-a5acfeedca22",
   "metadata": {},
   "outputs": [],
   "source": []
  },
  {
   "cell_type": "markdown",
   "id": "1783352d-152c-499c-bb55-165eaf4cede6",
   "metadata": {},
   "source": [
    "`Question 2`. Spearman's rank correlation is a measure of the monotonic relationship between two variables. Suppose you have collected data on the amount of sleep individuals get each night and their overall job satisfaction level on a scale of 1 to 10. Calculate the Spearman's rank correlation between these two\n",
    "variables and interpret the result.\n",
    "\n",
    "`Answer` :It will give you a number between -1 and 1, where:\n",
    "\n",
    "-    1 indicates a perfect positive monotonic relationship (as one variable increases, the other also increases).\n",
    " -   -1 indicates a perfect negative monotonic relationship (as one variable increases, the other decreases).\n",
    "  -  0 indicates no monotonic relationship between the variables.\n",
    "here The Spearman's rank correlation between amount of sleep and job satisfaction is: 0.13 so as amount of sleep increases the result in satisfaction with job also increases."
   ]
  },
  {
   "cell_type": "code",
   "execution_count": 44,
   "id": "a59a8a84-f9e9-4564-b226-0fc3dc65b096",
   "metadata": {},
   "outputs": [
    {
     "name": "stdout",
     "output_type": "stream",
     "text": [
      "The Spearman's rank correlation between amount of sleep and job satisfaction is: 0.13\n"
     ]
    }
   ],
   "source": [
    "\n",
    "# Set the random seed for reproducibility\n",
    "np.random.seed(42)\n",
    "\n",
    "# Generate random data for amount of sleep and job satisfaction\n",
    "num_individuals = 100\n",
    "amount_of_sleep = np.random.randint(4, 10, size=num_individuals)\n",
    "job_satisfaction = np.random.randint(1, 11, size=num_individuals)\n",
    "\n",
    "# Create a DataFrame\n",
    "df = pd.DataFrame({\n",
    "    'Amount of Sleep': amount_of_sleep,\n",
    "    'Job Satisfaction': job_satisfaction\n",
    "})\n",
    "\n",
    "# Print the DataFrame\n",
    "df.head()\n",
    "\n",
    "# Calculate the Spearman's rank correlation\n",
    "correlation = df['Amount of Sleep'].corr(df['Job Satisfaction'], method='spearman')\n",
    "print(f\"The Spearman's rank correlation between amount of sleep and job satisfaction is: {correlation:.2f}\")\n"
   ]
  },
  {
   "cell_type": "code",
   "execution_count": null,
   "id": "fe48f473-62c7-42fa-bd54-b0b97204a584",
   "metadata": {},
   "outputs": [],
   "source": []
  },
  {
   "cell_type": "markdown",
   "id": "0efae261-f84d-483b-9c40-62c64c95ee02",
   "metadata": {},
   "source": [
    "`Question 3`. Suppose you are conducting a study to examine the relationship between the number of hours of exercise per week and body mass index (BMI) in a sample of adults. You collected data on both variables for 50 participants. Calculate the Pearson correlation coefficient and the Spearman's rank correlation\n",
    "between these two variables and compare the results.\n",
    "\n",
    "`Answer` :"
   ]
  },
  {
   "cell_type": "code",
   "execution_count": 45,
   "id": "9b04b755-4209-4bde-ace2-043f85530970",
   "metadata": {},
   "outputs": [
    {
     "name": "stdout",
     "output_type": "stream",
     "text": [
      "Pearson correlation coefficient:, 0.104653091307355\n",
      "The Spearman's rank correlation between Hours of Exercise per Week and BMI is: 0.06\n",
      "\n",
      "\n"
     ]
    }
   ],
   "source": [
    "\n",
    "np.random.seed(45)  # Setting a seed for reproducibility\n",
    "\n",
    "# Generating synthetic data\n",
    "num_individuals = 50\n",
    "hours_of_exercise = np.random.uniform(1, 15, size=num_individuals)  # Random hours of exercise per week\n",
    "BMI = np.random.normal(25, 5, size=num_individuals)  # Generating BMI data\n",
    "\n",
    "# Creating a DataFrame\n",
    "data = {\n",
    "    'Hours of Exercise per Week': hours_of_exercise,\n",
    "    'BMI': BMI\n",
    "}\n",
    "\n",
    "df = pd.DataFrame(data)\n",
    "\n",
    "# Calculate the Pearson correlation coefficient\n",
    "correlation_coefficient = df['Hours of Exercise per Week'].corr(df['BMI'])\n",
    "\n",
    "# Calculate the Spearman's rank correlation\n",
    "correlation = df['Hours of Exercise per Week'].corr(df['BMI'], method='spearman')\n",
    "\n",
    "\n",
    "# Print the result\n",
    "print(f\"Pearson correlation coefficient:, {correlation_coefficient:}\")\n",
    "print(f\"The Spearman's rank correlation between Hours of Exercise per Week and BMI is: {correlation:.2f}\")\n",
    "print(\"\\n\")"
   ]
  },
  {
   "cell_type": "markdown",
   "id": "f7866606-11e2-4e0c-a16b-6b4eff652939",
   "metadata": {},
   "source": [
    "The Pearson correlation coefficient of approximately \n",
    "−\n",
    "0.047\n",
    "−0.047 and the Spearman's rank correlation of approximately \n",
    "−\n",
    "0.05\n",
    "−0.05 indicate a very weak, near-zero linear and monotonic relationship between the hours of exercise per week and BMI in your sample of 50 participants.\n",
    "\n",
    "This suggests that there is almost no linear correlation between the number of hours of exercise per week and BMI. Additionally, the Spearman's correlation, which assesses the monotonic relationship, also indicates a very weak association.\n",
    "\n",
    "In simpler terms, these results suggest that, based on this data, the number of hours of exercise per week doesn't appear to have a strong linear or monotonic correlation with BMI in this specific sample."
   ]
  },
  {
   "cell_type": "code",
   "execution_count": null,
   "id": "b92c6e5d-ecac-4d38-8183-7f0716376a03",
   "metadata": {},
   "outputs": [],
   "source": []
  },
  {
   "cell_type": "markdown",
   "id": "39441cce-f62b-4fc6-9f12-6848006a338d",
   "metadata": {},
   "source": [
    "`Question 4`. A researcher is interested in examining the relationship between the number of hours individuals spend watching television per day and their level of physical activity. The researcher collected data on both variables from a sample of 50 participants. Calculate the Pearson correlation coefficient between\n",
    "these two variables.\n",
    "\n",
    "`Answer` :"
   ]
  },
  {
   "cell_type": "code",
   "execution_count": 46,
   "id": "6e988423-4106-4dc3-a5de-4aafaf7b10b0",
   "metadata": {},
   "outputs": [
    {
     "name": "stdout",
     "output_type": "stream",
     "text": [
      "Pearson correlation coefficient: 0.10\n",
      "The Spearman's rank correlation between Hours of Hours individuals spend watching television and level of physical activityI is: 0.06\n"
     ]
    }
   ],
   "source": [
    "\n",
    "np.random.seed(45)  # Setting a seed for reproducibility\n",
    "\n",
    "# Generating synthetic data\n",
    "num_individuals = 50\n",
    "hours_of_television = np.random.uniform(1, 15, size=num_individuals)  # Random hours of exercise per week\n",
    "hours_of_exercise = np.random.normal(25, 5, size=num_individuals)  # Generating BMI data\n",
    "\n",
    "# Creating a DataFrame\n",
    "data = {\n",
    "    'Hours individuals spend watching television': hours_of_television,\n",
    "    'level of physical activity': hours_of_exercise\n",
    "}\n",
    "\n",
    "df = pd.DataFrame(data)\n",
    "\n",
    "# Calculate the Pearson correlation coefficient\n",
    "correlation_coefficient = df['Hours individuals spend watching television'].corr(df['level of physical activity'])\n",
    "\n",
    "# Calculate the Spearman's rank correlation\n",
    "correlation = df['Hours individuals spend watching television'].corr(df['level of physical activity'], method='spearman')\n",
    "\n",
    "\n",
    "# Print the result\n",
    "print(f\"Pearson correlation coefficient: {correlation_coefficient:.2f}\")\n",
    "print(f\"The Spearman's rank correlation between Hours of Hours individuals spend watching television and level of physical activityI is: {correlation:.2f}\")"
   ]
  },
  {
   "cell_type": "code",
   "execution_count": null,
   "id": "718037b9-00ec-42f1-ac13-bf1119a72ad4",
   "metadata": {},
   "outputs": [],
   "source": []
  },
  {
   "cell_type": "markdown",
   "id": "3e6e57de-99f7-45e3-bd1b-f5ae27ce0ed0",
   "metadata": {},
   "source": [
    "`Question 5`. A survey was conducted to examine the relationship between age and preference for a particular\n",
    "brand of soft drink. The survey results are shown below:\n",
    "\n",
    "`Answer` :"
   ]
  },
  {
   "cell_type": "code",
   "execution_count": 47,
   "id": "1c0997f5-1606-46f8-bbd2-65921dd0f254",
   "metadata": {},
   "outputs": [
    {
     "name": "stdout",
     "output_type": "stream",
     "text": [
      "   Age(Years) Soft drink Preference  Soft drink Preference Coded\n",
      "0          25                  Coke                            3\n",
      "1          42                 Pepsi                            2\n",
      "2          37          Mountain dew                            1\n",
      "3          19                  Coke                            3\n",
      "4          31                 Pepsi                            2\n",
      "5          28                  Coke                            3\n",
      "\n",
      "\n",
      "The Spearman's rank correlation between Age(Years) and Soft drink Preference is: -0.83\n"
     ]
    }
   ],
   "source": [
    "# Creating a DataFrame\n",
    "data = {\n",
    "    'Age(Years)': [25, 42, 37, 19, 31, 28],\n",
    "    'Soft drink Preference': ['Coke','Pepsi','Mountain dew','Coke','Pepsi','Coke']\n",
    "}\n",
    "\n",
    "df = pd.DataFrame(data)\n",
    "\n",
    "count_enc = CountFrequencyEncoder(\n",
    "    encoding_method=\"count\",  # to do frequency ==> encoding_method='frequency'\n",
    "    variables=[\"Soft drink Preference\"],\n",
    ")\n",
    "\n",
    "df['Soft drink Preference Coded'] = count_enc.fit_transform(df)['Soft drink Preference']\n",
    "print(df)\n",
    "print('\\n')\n",
    "# Calculate the Spearman's rank correlation\n",
    "correlation = df['Age(Years)'].corr(df['Soft drink Preference Coded'], method='spearman')\n",
    "\n",
    "print(f\"The Spearman's rank correlation between Age(Years) and Soft drink Preference is: {correlation:.2f}\")"
   ]
  },
  {
   "cell_type": "markdown",
   "id": "503c3d34-3aaf-4bb0-ae2a-a9aec6b35708",
   "metadata": {},
   "source": [
    "A Spearman's rank correlation of -0.83 between age and soft drink preference indicates a strong, negative monotonic relationship between these two variables.\n",
    "\n",
    "In the context of this survey, it suggests that as age increases, there is a consistent decrease or trend in the preference for the Coke brand of soft drink. The magnitude of -0.83 indicates a robust negative association, signifying that younger individuals tend to have a stronger preference for Coke soft drink brand compared to older individuals within the surveyed group.\n",
    "\n",
    "This high negative value suggests a noticeable trend where younger participants tend to prefer Coke brand more than older participants, supporting a clear age-related pattern in soft drink preferences within this specific survey."
   ]
  },
  {
   "cell_type": "code",
   "execution_count": null,
   "id": "7822b9e8-3f1c-4bdd-ad56-13ac68327a6b",
   "metadata": {},
   "outputs": [],
   "source": []
  },
  {
   "cell_type": "markdown",
   "id": "fc6193fa-ca0f-407d-83d4-c7d1a637d3e1",
   "metadata": {},
   "source": [
    "`Question 6`. A company is interested in examining the relationship between the number of sales calls made per day and the number of sales made per week. The company collected data on both variables from a sample of 30 sales representatives. Calculate the Pearson correlation coefficient between these two variables.\n",
    "\n",
    "`Answer` :"
   ]
  },
  {
   "cell_type": "code",
   "execution_count": 48,
   "id": "c7e1c49c-e5e4-49af-a83a-bc69387575b0",
   "metadata": {},
   "outputs": [
    {
     "name": "stdout",
     "output_type": "stream",
     "text": [
      "The Pearson correlation coefficient is: 0.16\n"
     ]
    }
   ],
   "source": [
    "np.random.seed(42)\n",
    "\n",
    "# Generating synthetic data for 30 sales representatives\n",
    "sales_calls_per_day = np.random.randint(20, 50, size=30)\n",
    "sales_per_week = np.random.randint(5, 20, size=30)\n",
    "\n",
    "# Creating a DataFrame\n",
    "data = {\n",
    "    'Sales Calls per Day': sales_calls_per_day,\n",
    "    'Sales per Week': sales_per_week\n",
    "}\n",
    "\n",
    "df = pd.DataFrame(data)\n",
    "\n",
    "# Calculating the Pearson correlation coefficient\n",
    "pearson_corr = df['Sales Calls per Day'].corr(df['Sales per Week'])\n",
    "\n",
    "print(f\"The Pearson correlation coefficient is: {pearson_corr:.2f}\")\n"
   ]
  },
  {
   "cell_type": "markdown",
   "id": "f41a3037-8d92-4d47-8213-7015ee6702b0",
   "metadata": {},
   "source": [
    "## Complete..."
   ]
  }
 ],
 "metadata": {
  "kernelspec": {
   "display_name": "Python 3 (ipykernel)",
   "language": "python",
   "name": "python3"
  },
  "language_info": {
   "codemirror_mode": {
    "name": "ipython",
    "version": 3
   },
   "file_extension": ".py",
   "mimetype": "text/x-python",
   "name": "python",
   "nbconvert_exporter": "python",
   "pygments_lexer": "ipython3",
   "version": "3.10.8"
  }
 },
 "nbformat": 4,
 "nbformat_minor": 5
}
