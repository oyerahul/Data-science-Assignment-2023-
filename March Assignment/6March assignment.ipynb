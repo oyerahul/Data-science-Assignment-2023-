{
 "cells": [
  {
   "cell_type": "markdown",
   "id": "f1890b16-e313-47b1-b27e-a9d5e2025153",
   "metadata": {},
   "source": [
    "`Question 1`. What is Statistics?\n",
    "\n",
    "`Answer` : Statistics is a branch of mathematics that deals with the collection, analysis, interpretation, presentation, and organization of data. It is a scientific approach to making decisions based on data.\n",
    "\n",
    "The main goal of statistics is to extract useful information from data, and to make inferences about a population based on a sample of data. It is used in many different fields, including science, business, finance, medicine, engineering, and social sciences, among others.\n",
    "\n",
    "Some of the key concepts in statistics include probability theory, hypothesis testing, correlation and regression analysis, sampling theory, and data visualization. These tools are used to understand the relationships between variables, to identify patterns and trends in data, and to make predictions about future events."
   ]
  },
  {
   "cell_type": "code",
   "execution_count": null,
   "id": "9e2ff838-9d82-4c65-885a-b1396841bd80",
   "metadata": {},
   "outputs": [],
   "source": []
  },
  {
   "cell_type": "markdown",
   "id": "1783352d-152c-499c-bb55-165eaf4cede6",
   "metadata": {},
   "source": [
    "`Question 2`. Define the different types of statistics and give an example of when each type might be used.\n",
    "\n",
    "`Answer` :   \n",
    "\n",
    "`Descriptive statistics:`\n",
    "\n",
    "Descriptive statistics are used to describe and summarize the main features of a dataset. They provide information about the central tendency (mean, median, mode) and variability (range, standard deviation, variance) of the data. Descriptive statistics are useful for exploring and visualizing data, identifying outliers, and making initial inferences.\n",
    "\n",
    "Example: Suppose a data scientist is working with a dataset that contains information about the age of employees in a company. They can use descriptive statistics to calculate the mean, median, and standard deviation of the ages. This information can help the data scientist understand the distribution of ages in the company, identify any outliers, and make initial inferences about the age range of the employees.\n",
    "\n",
    "`Inferential statistics:`\n",
    "\n",
    "Inferential statistics are used to make inferences and draw conclusions about a population based on a sample of data. They involve testing hypotheses and making predictions about the population based on the sample data. Inferential statistics are useful for generalizing findings from a sample to a larger population and making predictions about future outcomes.\n",
    "\n",
    "Example: Suppose a data scientist wants to know whether there is a significant difference in the salaries of male and female employees in a company. They can use inferential statistics to analyze a sample of data and test the hypothesis that there is no difference in salaries between the two groups. If the results of the analysis are statistically significant, the data scientist can make a prediction that the same pattern holds in the population and take action to address any potential gender pay gap.\n"
   ]
  },
  {
   "cell_type": "code",
   "execution_count": null,
   "id": "50ace312-9878-45e5-a65b-6ba6d8313003",
   "metadata": {},
   "outputs": [],
   "source": []
  },
  {
   "cell_type": "markdown",
   "id": "0efae261-f84d-483b-9c40-62c64c95ee02",
   "metadata": {},
   "source": [
    "`Question 3`. What are the different types of data and how do they differ from each other? Provide an example of\n",
    "each type of data.\n",
    "\n",
    "`Answer` : There are four main types of data: nominal, ordinal, interval, and ratio. The main differences between these types of data are the levels of measurement, the amount of information conveyed, and the mathematical operations that can be performed on the data.\n",
    "\n",
    "`Nominal data:` \n",
    "    Nominal data are categorical data that cannot be ordered or ranked. They represent different categories or classes that have no inherent order or relationship to each other. Examples of nominal data include gender, race, and marital status.\n",
    "\n",
    "`Ordinal data:` \n",
    "    Ordinal data are categorical data that can be ordered or ranked. They represent different categories or classes that have a natural order or relationship to each other. Examples of ordinal data include educational attainment (e.g., high school, college, graduate school) and customer satisfaction ratings (e.g., very satisfied, somewhat satisfied, neutral, somewhat dissatisfied, very dissatisfied).\n",
    "\n",
    "`Interval data:` \n",
    "    Interval data are numerical data that have equal intervals between values but no true zero point. They represent quantities that can be measured on a continuous scale with a fixed unit of measurement. Examples of interval data include temperature measured in Celsius or Fahrenheit and dates on a calendar.\n",
    "\n",
    "` Ratio data:`\n",
    "    Ratio data are numerical data that have equal intervals between values and a true zero point. They represent quantities that can be measured on a continuous scale with a fixed unit of measurement and a meaningful zero point. Examples of ratio data include height, weight, and income.\n",
    "\n",
    "Example: Suppose a data scientist is analyzing a dataset that contains information about the customers of an online store. They can classify the different types of data as follows:\n",
    "\n",
    "Nominal data: Gender (male/female), Payment method (credit card/PayPal/bitcoin)\n",
    "\n",
    "Ordinal data: Customer satisfaction rating (1-5 scale: very dissatisfied to very satisfied), Education level (high school, college, graduate school)\n",
    "\n",
    "Interval data: Date of purchase (in days since the beginning of the year), Temperature (in Celsius or Fahrenheit)\n",
    "\n",
    "Ratio data: Total spending (in dollars), Age (in years)"
   ]
  },
  {
   "cell_type": "code",
   "execution_count": null,
   "id": "cc068478-2be0-4739-a80d-238ed9c8ff19",
   "metadata": {},
   "outputs": [],
   "source": []
  },
  {
   "cell_type": "markdown",
   "id": "39441cce-f62b-4fc6-9f12-6848006a338d",
   "metadata": {},
   "source": [
    "`Question 4`. Categorise the following datasets with respect to quantitative and qualitative data types:\n",
    "\n",
    "(i) Grading in exam: A+, A, B+, B, C+, C, D, E\n",
    "\n",
    "(ii) Colour of mangoes: yellow, green, orange, red\n",
    "\n",
    "(iii) Height data of a class: [178.9, 179, 179.5, 176, 177.2, 178.3, 175.8,...]\n",
    "\n",
    "(iv) Number of mangoes exported by a farm: [500, 600, 478, 672, ...]\n",
    "\n",
    "`Answer` :\n",
    "i :Categorical/Qualitative data\n",
    "\n",
    "ii  :Categorical/Qualitative data\n",
    "\n",
    "iii :Numerical/Quantitative data\n",
    "\n",
    "iv :Numerical/Quantitative data\n",
    "\n"
   ]
  },
  {
   "cell_type": "code",
   "execution_count": null,
   "id": "39a62a47-f971-4ac6-8be3-f10d6dcd2c35",
   "metadata": {},
   "outputs": [],
   "source": []
  },
  {
   "cell_type": "markdown",
   "id": "3e6e57de-99f7-45e3-bd1b-f5ae27ce0ed0",
   "metadata": {},
   "source": [
    "`Question 5`. Explain the concept of levels of measurement and give an example of a variable for each level.\n",
    "\n",
    "`Answer` :Levels of measurement refer to the different ways in which data can be measured and classified. There are four levels of measurement: nominal, ordinal, interval, and ratio. Each level of measurement has its own unique properties and assumptions that determine the types of statistical analyses that can be performed on the data.\n",
    "\n",
    "`Nominal level of measurement:`\n",
    "\n",
    "Nominal data are categorical data that cannot be ordered or ranked. They represent different categories or classes that have no inherent order or relationship to each other. The only valid operation that can be performed on nominal data is counting. Examples of variables at the nominal level include:\n",
    "\n",
    "    Gender (male, female, other)\n",
    "    \n",
    "    Marital status (married, single, divorced, widowed)\n",
    "    \n",
    "    Nationality (American, British, Canadian, Indian, etc.)\n",
    "\n",
    "`Ordinal level of measurement:`\n",
    "\n",
    "    Ordinal data are categorical data that can be ordered or ranked. They represent different categories or classes that have a natural order or relationship to each other. The valid operations that can be performed on ordinal data include counting, ranking, and calculating percentiles. Examples of variables at the ordinal level include:\n",
    "\n",
    "    Education level (high school, college, graduate school)\n",
    "    \n",
    "    Customer satisfaction ratings (very satisfied, somewhat satisfied, neutral, somewhat dissatisfied, very dissatisfied)\n",
    "    \n",
    "    Movie ratings (poor, fair, good, excellent)\n",
    "\n",
    "`Interval level of measurement:`\n",
    "\n",
    "    Interval data are numerical data that have equal intervals between values but no true zero point. They represent quantities that can be measured on a continuous scale with a fixed unit of measurement. The valid operations that can be performed on interval data include counting, ranking, calculating percentiles, and addition/subtraction. Examples of variables at the interval level include:\n",
    "\n",
    "    Temperature (measured in Celsius or Fahrenheit)\n",
    "    \n",
    "    Dates on a calendar (measured in days since a reference date)\n",
    "    \n",
    "    IQ scores (measured on a standardized scale)\n",
    "\n",
    "`Ratio level of measurement:`\n",
    "\n",
    "    Ratio data are numerical data that have equal intervals between values and a true zero point. They represent quantities that can be measured on a continuous scale with a fixed unit of measurement and a meaningful zero point. The valid operations that can be performed on ratio data include all of the operations that can be performed on interval data, as well as multiplication and division. Examples of variables at the ratio level include:\n",
    "\n",
    "    Height (measured in inches or centimeters)\n",
    "    \n",
    "    Weight (measured in pounds or kilograms)\n",
    "    \n",
    "    Income (measured in dollars)"
   ]
  },
  {
   "cell_type": "code",
   "execution_count": null,
   "id": "53c2d425-6e9f-489c-bfe6-624437328f2b",
   "metadata": {},
   "outputs": [],
   "source": []
  },
  {
   "cell_type": "markdown",
   "id": "fc6193fa-ca0f-407d-83d4-c7d1a637d3e1",
   "metadata": {},
   "source": [
    "`Question 6`. Why is it important to understand the level of measurement when analyzing data? Provide an\n",
    "example to illustrate your answer.\n",
    "\n",
    "`Answer` : Understanding the level of measurement of a variable is important when analyzing data because it determines which statistical methods can be used to summarize, describe, and draw inferences from the data. Different levels of measurement require different types of analysis, and using inappropriate statistical methods can lead to erroneous or misleading results.\n",
    "\n",
    "For example, let's consider a study that examines the relationship between income and job satisfaction. Income is measured in dollars, which is a variable at the ratio level of measurement, while job satisfaction is measured using a Likert scale, which is a variable at the ordinal level of measurement. If the researcher mistakenly treats job satisfaction as a variable at the interval or ratio level, they may use inappropriate statistical methods that assume equal intervals or a meaningful zero point, leading to incorrect conclusions.\n",
    "\n",
    "Another example would be if a researcher analyzed the mean of a nominal variable. Since nominal variables are categories, they cannot be meaningfully ordered or measured on a numerical scale, so calculating a mean is not appropriate. Doing so would provide misleading results and misinterpretation of data.\n",
    "\n",
    "Therefore, understanding the level of measurement of variables is crucial when analyzing data to ensure that appropriate statistical methods are used and to draw accurate conclusions from the data.\n"
   ]
  },
  {
   "cell_type": "code",
   "execution_count": null,
   "id": "d86d98ed-051d-4e3d-b4d4-06c76ad572fd",
   "metadata": {},
   "outputs": [],
   "source": []
  },
  {
   "cell_type": "markdown",
   "id": "2290e8a4-aed8-4f2c-968e-cfb7df4744d4",
   "metadata": {},
   "source": [
    "`Question 7`. How nominal data type is different from ordinal data type.\n",
    "\n",
    "`Answer` : Nominal and ordinal data are both types of categorical data, but they differ in terms of the level of measurement and the amount of information they provide.\n",
    "\n",
    "Nominal data are categories that do not have any inherent order or ranking. They represent different categories or classes that are distinct from each other, but there is no logical or natural order to them. Examples of nominal data include gender (male, female, other), color (red, green, blue), and religion (Christianity, Islam, Buddhism). In nominal data, the categories cannot be ordered or ranked, and the only valid operation that can be performed is counting. Nominal data can be represented using frequency tables, bar charts, and pie charts.\n",
    "\n",
    "Ordinal data are also categories, but they have a natural order or ranking to them. They represent different categories or classes that can be ordered or ranked based on some logical or natural relationship. Examples of ordinal data include education level (elementary school, middle school, high school, college), income level (low, medium, high), and satisfaction level (very satisfied, somewhat satisfied, neutral, somewhat dissatisfied, very dissatisfied). In ordinal data, the categories can be ordered or ranked, and the valid operations that can be performed include counting, ranking, and calculating percentiles. Ordinal data can be represented using frequency tables, bar charts, and ordered bar charts.\n",
    "\n",
    "In summary, the key difference between nominal and ordinal data is that nominal data do not have any inherent order or ranking, while ordinal data have a natural order or ranking based on some logical or natural relationship."
   ]
  },
  {
   "cell_type": "code",
   "execution_count": null,
   "id": "df355f79-bd7a-42cf-9443-376297181701",
   "metadata": {},
   "outputs": [],
   "source": []
  },
  {
   "cell_type": "markdown",
   "id": "c15655a5-43f4-41cc-a119-ec160182e120",
   "metadata": {},
   "source": [
    "`Question 8`. Which type of plot can be used to display data in terms of range?\n",
    "\n",
    "`Answer` : A box plot (also known as a box-and-whisker plot) is a type of plot that can be used to display data in terms of range.\n",
    "\n",
    "A box plot displays the range, median, quartiles, and outliers of a dataset. The box represents the interquartile range (IQR), which contains the middle 50% of the data. The line inside the box represents the median, which is the middle value of the dataset. The whiskers extend from the box to the minimum and maximum values that are not outliers, and any points outside the whiskers are considered outliers.\n",
    "\n",
    "By displaying the range of the data, a box plot can give an overview of the spread of the dataset, including the minimum and maximum values, the quartiles, and any outliers. This makes it useful for comparing the ranges of multiple datasets or for identifying any extreme values that may need further investigation.\n",
    "\n",
    "In summary, a box plot can be used to display data in terms of range, providing a visual representation of the spread of the data, including any outliers.\n"
   ]
  },
  {
   "cell_type": "code",
   "execution_count": null,
   "id": "6368ffaa-1828-4e57-a5e6-64e8b02ea4e6",
   "metadata": {},
   "outputs": [],
   "source": []
  },
  {
   "cell_type": "markdown",
   "id": "799990c3-3a63-4195-aa15-85983ca1180b",
   "metadata": {},
   "source": [
    "`Question 9`. Describe the difference between descriptive and inferential statistics. Give an example of each\n",
    "type of statistics and explain how they are used.\n",
    "\n",
    "`Answer` : Descriptive statistics and inferential statistics are two broad categories of statistical analysis that are used to analyze and summarize data.\n",
    "\n",
    "Descriptive statistics involve the use of statistical methods to describe and summarize the main features of a dataset. These methods are used to provide a summary of the data in a way that is easily understandable and informative to the reader. Descriptive statistics can be used to calculate measures of central tendency, such as the mean, median, and mode, as well as measures of variability, such as the range, standard deviation, and variance. Descriptive statistics are used to summarize and describe data, but they do not make any conclusions or inferences beyond the data itself.\n",
    "\n",
    "For example, let's consider a dataset that consists of the heights of students in a class. A descriptive statistic, such as the mean height, can be used to summarize the central tendency of the dataset. The standard deviation can be used to summarize the variability of the data, and a histogram can be used to visualize the distribution of the data.\n",
    "\n",
    "Inferential statistics, on the other hand, involve the use of statistical methods to make inferences or draw conclusions about a population based on a sample of data. These methods are used to make predictions, test hypotheses, and estimate population parameters based on the sample data. Inferential statistics involve using probability theory to make statements about the larger population based on the smaller sample.\n",
    "\n",
    "For example, let's consider a study that investigates the effectiveness of a new drug in treating a particular disease. A sample of patients is given the drug, and another sample is given a placebo. Inferential statistics can be used to compare the outcomes of the two groups and to determine whether the drug is effective in treating the disease. The results can be used to make inferences about the effectiveness of the drug in the larger population of patients with the disease.\n",
    "\n",
    "In summary, descriptive statistics are used to describe and summarize data, while inferential statistics are used to make inferences or draw conclusions about a population based on a sample of data. Both types of statistics are important in data analysis, and they are used in combination to provide a comprehensive understanding of the data."
   ]
  },
  {
   "cell_type": "code",
   "execution_count": null,
   "id": "001ad50e-ab6e-48bc-b432-508f4fb80f65",
   "metadata": {},
   "outputs": [],
   "source": []
  },
  {
   "cell_type": "markdown",
   "id": "e0baf855-bac0-4896-ab8c-3c91c6c91e02",
   "metadata": {},
   "source": [
    "`Question 10`. What are some common measures of central tendency and variability used in statistics? Explain\n",
    "how each measure can be used to describe a dataset.\n",
    "\n",
    "`Answer` :There are several common measures of central tendency and variability used in statistics. These measures provide important information about the central location and spread of a dataset.\n",
    "\n",
    "`Measures of central tendency:`\n",
    "\n",
    "`Mean:` The mean is the arithmetic average of a dataset. It is calculated by adding up all the values in the dataset and dividing by the number of values. The mean is commonly used to describe the central location of a dataset. It provides a single value that represents the typical value of the data. However, the mean can be sensitive to outliers and skewed data.\n",
    "\n",
    "`Median:` The median is the middle value in a dataset when the values are arranged in numerical order. The median is less sensitive to outliers and skewed data than the mean. It is commonly used when the data is not normally distributed.\n",
    "\n",
    "`Mode:` The mode is the most common value in a dataset. It is useful for describing categorical or nominal data. In some cases, there may be more than one mode or no mode at all.\n",
    "\n",
    "`Measures of variability:`\n",
    "\n",
    "`Range:` The range is the difference between the maximum and minimum values in a dataset. It provides a quick and simple measure of the spread of the data. However, the range is sensitive to outliers and may not be a good measure of variability for skewed data.\n",
    "\n",
    "`Variance:` The variance is the average of the squared differences from the mean. It provides a measure of the spread of the data, taking into account all the values in the dataset. However, the variance is not easily interpretable and can be sensitive to outliers.\n",
    "\n",
    "`Standard deviation:` The standard deviation is the square root of the variance. It provides a measure of the spread of the data in the same units as the original data. It is commonly used to describe the variability of a dataset. The standard deviation is more interpretable than the variance and is less sensitive to outliers."
   ]
  },
  {
   "cell_type": "code",
   "execution_count": null,
   "id": "bc633010-7c0b-4f5d-9ad9-e854d2104935",
   "metadata": {},
   "outputs": [],
   "source": []
  },
  {
   "cell_type": "markdown",
   "id": "0d1be91f-f93e-495a-b738-b221f7ae8112",
   "metadata": {},
   "source": [
    "`Completed......`"
   ]
  }
 ],
 "metadata": {
  "kernelspec": {
   "display_name": "Python 3 (ipykernel)",
   "language": "python",
   "name": "python3"
  },
  "language_info": {
   "codemirror_mode": {
    "name": "ipython",
    "version": 3
   },
   "file_extension": ".py",
   "mimetype": "text/x-python",
   "name": "python",
   "nbconvert_exporter": "python",
   "pygments_lexer": "ipython3",
   "version": "3.10.8"
  }
 },
 "nbformat": 4,
 "nbformat_minor": 5
}
