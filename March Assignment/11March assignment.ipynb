{
 "cells": [
  {
   "cell_type": "markdown",
   "id": "f1890b16-e313-47b1-b27e-a9d5e2025153",
   "metadata": {},
   "source": [
    "`Question 1`. What is the difference between a t-test and a z-test? Provide an example scenario where you would use each type of test. \n",
    "\n",
    "`Answer` :A t-test and a z-test are both statistical tests used to make inferences about population parameters, such as the population mean, based on sample data. However, they differ in terms of when and how they are used. Here's the key difference between the two, along with example scenarios for each type of test:\n",
    "\n",
    "` T-Test:`\n",
    "\n",
    "1.    A t-test is used when you are working with a small sample size (typically less than 30) or when the population standard deviation is unknown.\n",
    " 2.   It is based on the t-distribution, which has heavier tails than the standard normal (z) distribution. The shape of the t-distribution depends on the degrees of freedom, which is related to the sample size.\n",
    "3.    T-tests are typically used in situations where you have a small sample size or when you need to estimate the population mean with an unknown population standard deviation.\n",
    "\n",
    "`Example Scenario for a T-Test:`\n",
    "\n",
    "You want to test whether a new teaching method improves student test scores. You randomly select 20 students and measure their test scores before and after implementing the new method. You use a t-test to determine if there is a significant difference in test scores after the intervention.\n",
    "\n",
    "` Z-Test:`\n",
    "\n",
    "1.    A z-test is used when you have a larger sample size (typically greater than 30) and you know the population standard deviation, or when you are comparing sample means to a known population mean.\n",
    "2.    It is based on the standard normal (z) distribution, which has a fixed shape with mean 0 and standard deviation 1.\n",
    "3.    Z-tests are typically used when working with larger sample sizes and when you have information about the population standard deviation.\n",
    "\n",
    "`Example Scenario for a Z-Test:`\n",
    "\n",
    "You want to determine if the average height of male students at your university is significantly different from the national average height for adult males, which is known to be 68 inches. You collect height data from a random sample of 100 male students and use a z-test to compare the sample mean to the known population mean.\n",
    "\n",
    "In summary, the choice between a t-test and a z-test depends on the sample size, whether you know the population standard deviation, and the specific research question. If you have a small sample size or an unknown population standard deviation, you typically use a t-test. If you have a larger sample size and know the population standard deviation, a z-test is more appropriate. Both tests are valuable tools for hypothesis testing and making statistical inferences.\n"
   ]
  },
  {
   "cell_type": "code",
   "execution_count": null,
   "id": "c1a7c66f-d155-4113-9433-4dd39fddceb9",
   "metadata": {},
   "outputs": [],
   "source": []
  },
  {
   "cell_type": "markdown",
   "id": "1783352d-152c-499c-bb55-165eaf4cede6",
   "metadata": {},
   "source": [
    "`Question 2`.Differentiate between one-tailed and two-tailed tests. \n",
    "\n",
    "`Answer` :In statistical hypothesis testing, one-tailed and two-tailed tests refer to the directionality of the test and the region in the probability distribution where you look for evidence to make a decision regarding the null hypothesis. Here's how they differ:\n",
    "\n",
    "`One-Tailed Test:`\n",
    "\n",
    "1.    In a one-tailed test, also known as a one-sided test, you are interested in detecting a change or difference in one specific direction (either \"greater than\" or \"less than\").\n",
    "2.    It is typically used when you have a specific hypothesis about the direction of the effect or relationship you are testing.\n",
    "3.    The critical region (the region in the probability distribution where you look for evidence) is only on one side of the distribution, either in the right tail or the left tail, but not both.\n",
    "4.    The null hypothesis is rejected if the test statistic falls into the critical region of that specific tail.\n",
    "5.    For example, if you're testing whether a new drug is more effective than an old drug, you might use a one-tailed test looking for evidence that the new drug's effect is \"greater than\" the old drug.\n",
    "\n",
    "`Two-Tailed Test:`\n",
    "\n",
    "1.    In a two-tailed test, you are interested in detecting a change or difference in either direction (both \"greater than\" and \"less than\").\n",
    "  2.  It is used when you want to determine if there is a significant difference or effect, but you don't have a specific hypothesis about the direction of the effect.\n",
    "3.    The critical region is divided into two parts, one in each tail of the distribution, representing extreme values in both directions.\n",
    "  4.  The null hypothesis is rejected if the test statistic falls into either of the two critical regions.\n",
    " 5.   For example, if you're testing whether a coin is fair (has an equal chance of landing heads or tails), you might use a two-tailed test to check for a significant difference from the expected 50% chance of heads."
   ]
  },
  {
   "cell_type": "code",
   "execution_count": null,
   "id": "bf7d70b7-83bc-4537-a439-243696a75ed2",
   "metadata": {},
   "outputs": [],
   "source": []
  },
  {
   "cell_type": "markdown",
   "id": "750a6787-bd58-448d-9cd6-3ad0b238c206",
   "metadata": {},
   "source": [
    "`Question 3`.Explain the concept of Type 1 and Type 2 errors in hypothesis testing. Provide an example scenario for each type of error. \n",
    "\n",
    "`Answer` :Type 1 and Type 2 errors are two types of errors that can occur in hypothesis testing:\n",
    "\n",
    "`Type 1 error (False Positive):`\n",
    "1.   A Type 1 error occurs when the null hypothesis (H0) is rejected when it is actually true. In other words, it is the incorrect rejection of a true null hypothesis.\n",
    "2.    This error is associated with the significance level (α) of a hypothesis test, which represents the probability of making a Type 1 error.\n",
    "3.    Type 1 errors are considered more serious in certain applications where the consequences of falsely rejecting the null hypothesis are significant.\n",
    "4.    The probability of committing a Type 1 error is denoted by α.\n",
    "    \n",
    "`Example scenario:`\n",
    "    Suppose a pharmaceutical company is testing a new drug to determine if it is effective in treating a certain disease. The null hypothesis (H0) states that the drug has no effect, while the alternative hypothesis (H1) states that the drug is effective. If the company conducts a hypothesis test with a significance level (α) of 0.05 and mistakenly rejects the null hypothesis, concluding that the drug is effective when it is actually not, it would be a Type 1 error.\n",
    "\n",
    "`Type 2 error (False Negative):`\n",
    "1.    A Type 2 error occurs when the null hypothesis (H0) is not rejected when it is actually false. In other words, it is the failure to reject a false null hypothesis.\n",
    " 2.   Type 2 errors are associated with the concept of statistical power, which is the probability of correctly rejecting the null hypothesis when it is false (1 - β).\n",
    "   3. Type 2 errors are particularly important when a failure to reject a false null hypothesis has serious consequences or when the sample size is limited.\n",
    "   4. The probability of committing a Type 2 error is denoted by β.\n",
    "   \n",
    "`Example scenario:`\n",
    "    Continuing with the previous example, suppose the pharmaceutical company fails to reject the null hypothesis (H0) and concludes that the drug is ineffective when it is actually effective. In this case, the company would be committing a Type 2 error. For instance, if the true effectiveness of the drug is moderate, but the sample size of the study is too small to detect the effect, it may lead to a failure to reject the null hypothesis and a Type 2 error.\n",
    "\n",
    "In hypothesis testing, the choice of significance level (α) and the desired level of power (1 - β) trade off Type 1 and Type 2 errors. A lower significance level reduces the risk of Type 1 error but may increase the risk of Type 2 error, while a higher significance level may increase the risk of Type 1 error but decrease the risk of Type 2 error. The balance between these two types of errors depends on the specific context and the consequences of each error type."
   ]
  },
  {
   "cell_type": "code",
   "execution_count": null,
   "id": "56112809-3045-4079-835a-7bf0a2acc028",
   "metadata": {},
   "outputs": [],
   "source": []
  },
  {
   "cell_type": "markdown",
   "id": "39441cce-f62b-4fc6-9f12-6848006a338d",
   "metadata": {},
   "source": [
    "`Question 4`.Explain Bayes's theorem with an example. \n",
    "\n",
    "`Answer` :Bayes's theorem is a fundamental concept in probability theory and statistics that describes how to update the probability of an event based on new evidence. It provides a way to revise our beliefs about the probability of an event occurring after considering new information.\n",
    "\n",
    "Bayes's theorem is stated as:\n",
    "\n",
    "`P(A|B) = (P(B|A) * P(A)) / P(B)`\n",
    "\n",
    "Where:\n",
    "\n",
    "`P(A|B)` is the probability of event A occurring given that event B has occurred (the posterior probability).\n",
    "`P(B|A)` is the probability of event B occurring given that event A has occurred (the likelihood).\n",
    "`P(A)` is the prior probability of event A occurring.\n",
    "`P(B)` is the prior probability of event B occurring.\n",
    "To illustrate Bayes's theorem, let's consider a medical example:\n",
    "\n",
    "`Suppose there is a rare medical condition that affects 1 in every 10,000 individuals, and a diagnostic test has been developed to detect this condition. The test is highly accurate, with a sensitivity of 95% (correctly identifying a positive case) and a specificity of 98% (correctly identifying a negative case).`\n",
    "`\n",
    "Let's denote:\n",
    "\n",
    "A: the event that an individual has the medical condition.\n",
    "B: the event that the test result is positive.\n",
    "We want to determine the probability that an individual actually has the medical condition given that they test positive (P(A|B)).\n",
    "\n",
    "Using Bayes's theorem, we can calculate this as follows:\n",
    "\n",
    "P(A|B) = (P(B|A) * P(A)) / P(B)\n",
    "\n",
    "P(B|A) is the sensitivity of the test, which is 0.95 (95%).\n",
    "P(A) is the prior probability of having the medical condition, which is 1/10,000 or 0.0001.\n",
    "P(B) can be calculated using the law of total probability:\n",
    "P(B) = P(B|A) * P(A) + P(B|¬A) * P(¬A)\n",
    "= 0.95 * 0.0001 + (1 - 0.98) * (1 - 0.0001)\n",
    "= 0.000095 + 0.9999 * 0.9999\n",
    "≈ 0.000095 + 0.99980001\n",
    "≈ 0.999895\n",
    "\n",
    "Now we can substitute these values into Bayes's theorem:\n",
    "\n",
    "P(A|B) = (0.95 * 0.0001) / 0.999895\n",
    "\n",
    "P(A|B) ≈ 0.000095 / 0.999895\n",
    "\n",
    "P(A|B) ≈ 0.000095\n",
    "\n",
    "The result indicates that even if an individual tests positive for the condition, the probability of actually having the condition is very low (approximately 0.0095% or 1 in 10,526). This low probability is due to the combination of the rare occurrence of the condition in the population and the possibility of false positives from the test.\n",
    "\n",
    "Bayes's theorem allows us to update our initial beliefs (prior probabilities) based on new evidence (likelihoods) to obtain more accurate and refined probabilities (posterior probabilities)."
   ]
  },
  {
   "cell_type": "code",
   "execution_count": null,
   "id": "3ce4ae35-49a9-484b-883d-2b4f3a92bb1a",
   "metadata": {},
   "outputs": [],
   "source": []
  },
  {
   "cell_type": "markdown",
   "id": "3e6e57de-99f7-45e3-bd1b-f5ae27ce0ed0",
   "metadata": {},
   "source": [
    "`Question 5`.What is a confidence interval? How to calculate the confidence interval, explain with an example. \n",
    "\n",
    "`Answer` :A confidence interval is a range of values constructed around an estimated parameter of a population that provides an indication of the uncertainty associated with the estimate. It is a way to quantify the level of confidence we have in the estimate, indicating the range within which the true population parameter is likely to fall.\n",
    "\n",
    "The calculation of a confidence interval involves the following components:\n",
    "\n",
    " 1.   Point Estimate: This is the sample statistic that serves as an estimate of the population parameter. It could be the sample mean, proportion, difference in means, etc.\n",
    "2.    Margin of Error: This is the amount added to and subtracted from the point estimate to create the interval. It represents the uncertainty or variability associated with the estimate.\n",
    " 3.   Confidence Level: This is the level of confidence we desire in the estimate. It is typically expressed as a percentage and determines the width of the confidence interval. Common confidence levels are 90%, 95%, and 99%.\n",
    "    To calculate a confidence interval, follow these steps:\n",
    "\n",
    "Collect a representative sample from the population of interest.\n",
    "\n",
    " 1.   Compute the sample statistic (point estimate) based on the collected data.\n",
    " 2.   Determine the appropriate critical value based on the desired confidence level and the distribution of the sample statistic (e.g., t-distribution for small samples, z-distribution for large samples).\n",
    " 3.   Calculate the margin of error by multiplying the critical value by the standard error of the sample statistic.\n",
    " 4.   Construct the confidence interval by adding and subtracting the margin of error from the point estimate.\n",
    "    \n",
    "Example:\n",
    "Suppose we want to estimate the average height of adult males in a certain city. We randomly sample 100 adult males and measure their heights. The sample mean height is 175 cm, and the standard deviation is 5 cm.\n",
    "\n",
    "To calculate a 95% confidence interval for the population mean height, we follow these steps:\n",
    "\n",
    " 1.   Point Estimate: The sample mean height is 175 cm.\n",
    " 2,   Margin of Error: We need to determine the critical value associated with a 95% confidence level. For a large sample size (which is often considered as n > 30), we can use the z-distribution. The critical value for a 95% confidence level is approximately 1.96. The margin of error is then calculated as 1.96 times the standard error of the mean (standard deviation divided by the square root of the sample size).\n",
    "    Margin of Error = 1.96 * (5 / √100) ≈ 1.96 * 0.5 ≈ 0.98 cm.\n",
    "3.    Confidence Interval: We construct the confidence interval by adding and subtracting the margin of error from the point estimate.\n",
    "    Confidence Interval = Point Estimate ± Margin of Error\n",
    "    \n",
    "    = 175 ± 0.98\n",
    "    \n",
    "    = (174.02, 175.98)\n",
    "Therefore, we can say with 95% confidence that the true average height of adult males in the city falls within the range of 174.02 cm to 175.98 cm based on the sample data.\n",
    "\n",
    "The interpretation of the confidence interval is that if we repeated the sampling process many times and constructed confidence intervals in the same way, approximately 95% of those intervals would contain the true population mean."
   ]
  },
  {
   "cell_type": "code",
   "execution_count": null,
   "id": "bf433d56-053e-4c47-b26e-26b07bbf335d",
   "metadata": {},
   "outputs": [],
   "source": []
  },
  {
   "cell_type": "markdown",
   "id": "6d644633-f6f5-4b49-8931-ce94223ed2af",
   "metadata": {},
   "source": [
    "`Question 6`.Use Bayes' Theorem to calculate the probability of an event occurring given prior knowledge of the event's probability and new evidence. Provide a sample problem and solution. \n",
    "\n",
    "`Answer` :\n",
    "Problem:\n",
    "\n",
    "Suppose a certain disease affects 1% of the population. A diagnostic test for this disease is known to be 95% accurate in detecting the disease when it is present, but it also has a false positive rate of 3% (meaning it incorrectly identifies 3% of healthy individuals as having the disease). If a randomly selected person tests positive for the disease, what is the probability that they actually have the disease?\n",
    "\n",
    "Solution:\n",
    "\n",
    "To calculate the probability that the person actually has the disease given a positive test result, we can use Bayes' Theorem.\n",
    "\n",
    "Let's denote the following events:\n",
    "\n",
    "A: The person has the disease.\n",
    "\n",
    "B: The test result is positive.\n",
    "\n",
    "We are interested in finding P(A|B), the probability that the person has the disease given a positive test result.\n",
    "\n",
    "According to Bayes' Theorem:\n",
    "\n",
    "P(A|B) = (P(B|A) * P(A)) / P(B)\n",
    "\n",
    "Given the information provided, we have:\n",
    "\n",
    "P(A) = 0.01 (prior probability of having the disease)\n",
    "\n",
    "P(B|A) = 0.95 (probability of a positive test result given that the person has the disease)\n",
    "\n",
    "P(B|¬A) = 0.03 (probability of a positive test result given that the person does not have the disease)\n",
    "\n",
    "We can calculate P(B) using the law of total probability:\n",
    "\n",
    "P(B) = P(B|A) * P(A) + P(B|¬A) * P(¬A)\n",
    "\n",
    "P(¬A) is the complement of having the disease, which is 1 - P(A) = 1 - 0.01 = 0.99.\n",
    "\n",
    "Substituting the values into the equation:\n",
    "\n",
    "P(B) = 0.95 * 0.01 + 0.03 * 0.99\n",
    "\n",
    "= 0.0095 + 0.0297\n",
    "\n",
    "= 0.0392\n",
    "\n",
    "Now, we can calculate P(A|B) using Bayes' Theorem:\n",
    "\n",
    "P(A|B) = (P(B|A) * P(A)) / P(B)\n",
    "\n",
    "P(A|B) = (0.95 * 0.01) / 0.0392\n",
    "\n",
    "≈ 0.0095 / 0.0392\n",
    "\n",
    "≈ 0.242\n",
    "\n",
    "Therefore, the probability that the person actually has the disease given a positive test result is approximately 0.242 or 24.2%.\n",
    "\n",
    "This calculation demonstrates how Bayes' Theorem allows us to update our prior beliefs (prior probability) based on new evidence (test result) to obtain a more accurate estimate (posterior probability) of the probability of an event occurring."
   ]
  },
  {
   "cell_type": "code",
   "execution_count": null,
   "id": "ab9f15b7-3867-49ee-a34f-10137b71806b",
   "metadata": {},
   "outputs": [],
   "source": []
  },
  {
   "cell_type": "markdown",
   "id": "2290e8a4-aed8-4f2c-968e-cfb7df4744d4",
   "metadata": {},
   "source": [
    "`Question 7`.Calculate the 95% confidence interval for a sample of data with a mean of 50 and a standard deviationof 5. Interpret the results. \n",
    "\n",
    "`Answer` :To calculate the 95% confidence interval for a sample with a mean of 50 and a standard deviation of 5, we can follow the formula:\n",
    "\n",
    "Confidence Interval = (Sample Mean) ± (Critical Value) * (Standard Deviation / √(Sample Size))\n",
    "\n",
    "In this case, the sample mean is 50, the standard deviation is 5, and we want to calculate the 95% confidence interval. The critical value for a 95% confidence level can be obtained from the standard normal distribution (Z-distribution) and is approximately 1.96.\n",
    "\n",
    "Substituting the values into the formula:\n",
    "\n",
    "Confidence Interval = 50 ± 1.96 * (5 / √(Sample Size))\n",
    "\n",
    "Since the sample size is not provided in the problem, we cannot calculate the exact confidence interval. However, we can provide a general formula and interpretation.\n",
    "\n",
    "Please replace \"Sample Size\" with the actual size of your sample to get the precise confidence interval. For example, if your sample size is 100, the formula becomes:\n",
    "\n",
    "Confidence Interval = 50 ± 1.96 * (5 / √100)\n",
    "\n",
    "Simplifying further:\n",
    "\n",
    "Confidence Interval = 50 ± 1.96 * 0.5\n",
    "\n",
    "Confidence Interval = (50 - 0.98, 50 + 0.98)\n",
    "\n",
    "Confidence Interval ≈ (49.02, 50.98)\n",
    "\n",
    "Interpretation:\n",
    "The 95% confidence interval for the given sample data (mean = 50, standard deviation = 5) is approximately (49.02, 50.98). This means that if we were to repeat the sampling process and calculate the confidence interval many times, approximately 95% of those intervals would contain the true population mean.\n",
    "\n",
    "In practical terms, we can say with 95% confidence that the true population mean lies within the range of 49.02 to 50.98 based on the given sample data."
   ]
  },
  {
   "cell_type": "code",
   "execution_count": null,
   "id": "d7cab1f1-0227-462d-b083-b2de214bc0c9",
   "metadata": {},
   "outputs": [],
   "source": []
  },
  {
   "cell_type": "markdown",
   "id": "c15655a5-43f4-41cc-a119-ec160182e120",
   "metadata": {},
   "source": [
    "`Question 8`.What is the margin of error in a confidence interval? How does sample size affect the margin of error?\n",
    "Provide an example of a scenario where a larger sample size would result in a smaller margin of error. \n",
    "\n",
    "`Answer` :The margin of error is a measure of the uncertainty or variability associated with the estimate of a population parameter in a confidence interval. It represents the maximum amount by which the estimate is expected to differ from the true population value.\n",
    "\n",
    "The margin of error is influenced by several factors, including the desired level of confidence, the standard deviation of the population (or the sample), and the sample size. As the sample size increases, the margin of error generally decreases, resulting in a more precise estimate.\n",
    "\n",
    "The relationship between sample size and the margin of error can be explained by the concept of sampling variability. When we have a larger sample size, the estimates based on that sample are more likely to be representative of the true population characteristics. This reduced sampling variability leads to a narrower confidence interval and a smaller margin of error.\n",
    "\n",
    "Example scenario:\n",
    "Suppose a market research company wants to estimate the average income of households in a particular city. They take two different samples—one with 100 households and another with 500 households—and calculate the 95% confidence intervals for each sample.\n",
    "\n",
    "For the sample of 100 households, the margin of error might be, for example,` ±$2,500.` This means that the market research company is 95% confident that the true average income of households in the city falls within a range of $2,500 above or below the estimated value.\n",
    "\n",
    "For the sample of 500 households, the larger sample size reduces the sampling variability and, consequently, the margin of error might be, for example, ±$1,000. This narrower margin of error indicates that the market research company has more precision in estimating the true average income, as the 95% confidence interval is now narrower.\n",
    "\n",
    "In this example, the larger sample size (500 households) leads to a smaller margin of error compared to the smaller sample size (100 households), highlighting the impact of sample size on the precision of the estimate."
   ]
  },
  {
   "cell_type": "code",
   "execution_count": null,
   "id": "29a8fee3-bd6a-4f6a-be4f-05f661a86f60",
   "metadata": {},
   "outputs": [],
   "source": []
  },
  {
   "cell_type": "markdown",
   "id": "799990c3-3a63-4195-aa15-85983ca1180b",
   "metadata": {},
   "source": [
    "`Question 9`.Calculate the z-score for a data point with a value of 75, a population mean of 70, and a population\n",
    "standard deviation of 5. Interpret the results. \n",
    "\n",
    "`Answer` :To calculate the z-score for a data point with a value of 75, a population mean of 70, and a population standard deviation of 5, you can use the following formula:\n",
    "\n",
    "`z_score = (X - mu) / sigma`"
   ]
  },
  {
   "cell_type": "code",
   "execution_count": 16,
   "id": "936c3fc7-e717-45fd-9fac-ac7a2a9eb903",
   "metadata": {},
   "outputs": [
    {
     "data": {
      "text/plain": [
       "1.0"
      ]
     },
     "execution_count": 16,
     "metadata": {},
     "output_type": "execute_result"
    }
   ],
   "source": [
    "# Given values\n",
    "X = 75  # Value of the data point\n",
    "mu = 70  # Population mean\n",
    "sigma = 5  # Population standard deviation\n",
    "\n",
    "# Calculate the z-score\n",
    "z_score = (X - mu) / sigma\n",
    "z_score\n"
   ]
  },
  {
   "cell_type": "markdown",
   "id": "d5a73853-b36d-40a2-8648-55257f65772b",
   "metadata": {},
   "source": [
    "When you run The z-score tells you how many standard deviations the data point is away from the mean.\n",
    "\n",
    "Interpretation:\n",
    "\n",
    "1. If the z-score. z is positive, it means the data point is above the mean.\n",
    "2. If the z-score. is negative, it means the data point is below the mean.\n",
    "3. If the z-score.  is 0, it means the data point is exactly at the mean.\n",
    "\n",
    "In this case, the calculated z-score will tell you how many standard deviations 75 is away from the mean of 70 in the context of the population with a standard deviation of 5."
   ]
  },
  {
   "cell_type": "code",
   "execution_count": null,
   "id": "a1c520da-0a3c-402a-a2a1-b1f27ef18584",
   "metadata": {},
   "outputs": [],
   "source": []
  },
  {
   "cell_type": "markdown",
   "id": "e0baf855-bac0-4896-ab8c-3c91c6c91e02",
   "metadata": {},
   "source": [
    "`Question 10`. In a study of the effectiveness of a new weight loss drug, a sample of 50 participants lost an average of 6 pounds with a standard deviation of 2.5 pounds. Conduct a hypothesis test to determine if the drug is significantly effective at a 95% confidence level using a t-test.\n",
    "\n",
    "\n",
    "`Answer` :To conduct a hypothesis test to determine if the weight loss drug is significantly effective at a 95% confidence level, we can perform a t-test.\n",
    "\n",
    "The null hypothesis (H0) assumes that the drug is not significantly effective, while the alternative hypothesis (H1) assumes that the drug is significantly effective.\n",
    "\n",
    "H0: The average weight loss with the drug is not significantly different from zero.\n",
    "H1: The average weight loss with the drug is significantly different from zero.\n",
    "\n",
    "We can use a one-sample t-test to compare the sample mean with the hypothesized population mean (in this case, zero).\n",
    "\n",
    "Here's the procedure to conduct the hypothesis test:\n",
    "\n",
    "Step 1: Define the hypotheses:\n",
    "H0: μ = 0 (The average weight loss is not significantly different from zero)\n",
    "H1: μ ≠ 0 (The average weight loss is significantly different from zero)\n",
    "\n",
    "Step 2: Set the significance level:\n",
    "In this case, the significance level is 0.05, which corresponds to a 95% confidence level.\n",
    "\n",
    "Step 3: Compute the test statistic:\n",
    "The test statistic for a one-sample t-test is given by:\n",
    "t = (x̄ - μ) / (s / √n)\n",
    "where x̄ is the sample mean, μ is the hypothesized population mean, s is the sample standard deviation, and n is the sample size.\n",
    "\n",
    "In this case:\n",
    "x̄ = 6 (sample mean)\n",
    "μ = 0 (hypothesized population mean)\n",
    "s = 2.5 (sample standard deviation)\n",
    "n = 50 (sample size)\n",
    "\n",
    "t = (6 - 0) / (2.5 / √50)\n",
    "\n",
    "Step 4: Determine the critical value:\n",
    "Since we are using a two-tailed test and a significance level of 0.05, we need to find the critical value that corresponds to an alpha level of 0.025 (0.05 divided by 2) in the t-distribution with (n - 1) degrees of freedom.\n",
    "\n",
    "For a sample size of 50, the degrees of freedom would be (50 - 1) = 49.\n",
    "Using a t-table or statistical software, we find the critical value to be approximately ±2.009.\n",
    "\n",
    "Step 5: Make a decision:\n",
    "If the absolute value of the calculated t-statistic is greater than the critical value, we reject the null hypothesis. Otherwise, we fail to reject the null hypothesis.\n",
    "\n",
    "Compare the calculated t-statistic from Step 3 with the critical value from Step 4.\n",
    "\n",
    "If |t| > 2.009, reject H0.\n",
    "If |t| ≤ 2.009, fail to reject H0.\n",
    "\n",
    "Step 6: State the conclusion:\n",
    "Based on the t-test results, if we reject the null hypothesis in Step 5, we conclude that the weight loss drug is significantly effective. If we fail to reject the null hypothesis, we conclude that there is not enough evidence to suggest that the weight loss drug is significantly effective.\n",
    "\n",
    "Now you can plug in the values into the equations and perform the calculations in a Jupyter cell to conduct the hypothesis test."
   ]
  },
  {
   "cell_type": "code",
   "execution_count": null,
   "id": "ec976777-357e-474b-9442-e4600f724d9f",
   "metadata": {},
   "outputs": [],
   "source": []
  },
  {
   "cell_type": "markdown",
   "id": "a758b005-6e8d-4218-ad33-e6de8e34b630",
   "metadata": {},
   "source": [
    "`Question 11`.In a survey of 500 people, 65% reported being satisfied with their current job. Calculate the 95%\n",
    "confidence interval for the true proportion of people who are satisfied with their job.\n",
    "\n",
    "`Answer` :"
   ]
  },
  {
   "cell_type": "code",
   "execution_count": 17,
   "id": "f57798c0-17d4-47a5-a368-97c0b1ac05e6",
   "metadata": {},
   "outputs": [
    {
     "data": {
      "text/plain": [
       "(0.608191771144905, 0.6918082288550951)"
      ]
     },
     "execution_count": 17,
     "metadata": {},
     "output_type": "execute_result"
    }
   ],
   "source": [
    "import math\n",
    "\n",
    "# Given values\n",
    "sample_proportion = 0.65  # 65% satisfaction rate\n",
    "sample_size = 500\n",
    "confidence_level = 0.95\n",
    "\n",
    "# Calculate the critical value (Z) for a 95% confidence interval\n",
    "critical_value = 1.96  # You can find this value from a standard normal distribution table\n",
    "\n",
    "# Calculate the standard error\n",
    "standard_error = math.sqrt((sample_proportion * (1 - sample_proportion)) / sample_size)\n",
    "\n",
    "# Calculate the margin of error\n",
    "margin_of_error = critical_value * standard_error\n",
    "\n",
    "# Calculate the lower and upper bounds of the confidence interval\n",
    "lower_bound = sample_proportion - margin_of_error\n",
    "upper_bound = sample_proportion + margin_of_error\n",
    "\n",
    "(lower_bound, upper_bound)\n"
   ]
  },
  {
   "cell_type": "markdown",
   "id": "b6e7ba0b-9e6d-49b4-bba9-050b35818756",
   "metadata": {},
   "source": [
    "Interpretation:\n",
    "The 95% confidence interval tells us that we can be 95% confident that the true proportion of people who are satisfied with their job falls within the range between the lower and upper bounds calculated. In other words, we are reasonably certain that the true proportion of satisfied individuals lies between these two values."
   ]
  },
  {
   "cell_type": "code",
   "execution_count": null,
   "id": "3529fa72-fc6d-46fd-b7a5-b5187766fa49",
   "metadata": {},
   "outputs": [],
   "source": []
  },
  {
   "cell_type": "markdown",
   "id": "0cd86bb1-6966-4764-ab3c-1e9b9f96266d",
   "metadata": {},
   "source": [
    "`Question 12`.A researcher is testing the effectiveness of two different teaching methods on student performance.\n",
    "Sample A has a mean score of 85 with a standard deviation of 6, while sample B has a mean score of 82\n",
    "with a standard deviation of 5. Conduct a hypothesis test to determine if the two teaching methods have a\n",
    "significant difference in student performance using a t-test with a significance level of 0.01.\n",
    "\n",
    "`Answer` :In this code, you need to specify the sample sizes (sample_size_A and sample_size_B). The code will calculate the test statistic, critical value, and make a decision and conclusion based on the results. Execute this code in a Jupyter cell to determine if there is a significant difference in student performance between the two teaching methods."
   ]
  },
  {
   "cell_type": "code",
   "execution_count": 18,
   "id": "a10918b3-9a4c-4806-a19e-ae18d66998a3",
   "metadata": {},
   "outputs": [
    {
     "data": {
      "text/plain": [
       "'Fail to reject the null hypothesis. There is no significant difference in student performance between the teaching methods.'"
      ]
     },
     "execution_count": 18,
     "metadata": {},
     "output_type": "execute_result"
    }
   ],
   "source": [
    "import scipy.stats as stats\n",
    "\n",
    "# Step 3: Collect and Analyze Data\n",
    "# Sample A\n",
    "sample_mean_A = 85\n",
    "sample_stddev_A = 6\n",
    "sample_size_A = 30  # You need to specify the sample size\n",
    "\n",
    "# Sample B\n",
    "sample_mean_B = 82\n",
    "sample_stddev_B = 5\n",
    "sample_size_B = 30  # You need to specify the sample size\n",
    "\n",
    "# Step 4: Calculate the Test Statistic\n",
    "# Calculate the test statistic for a two-sample t-test\n",
    "test_statistic, p_value = stats.ttest_ind_from_stats(\n",
    "    mean1=sample_mean_A,\n",
    "    std1=sample_stddev_A,\n",
    "    nobs1=sample_size_A,\n",
    "    mean2=sample_mean_B,\n",
    "    std2=sample_stddev_B,\n",
    "    nobs2=sample_size_B,\n",
    "    equal_var=False  # Assuming unequal variances\n",
    ")\n",
    "\n",
    "# Step 5: Determine the Degrees of Freedom\n",
    "# Degrees of freedom are not explicitly calculated in this case\n",
    "\n",
    "# Step 6: Find the Critical Value (Assuming two-tailed test)\n",
    "alpha = 0.01  # Significance level\n",
    "critical_value = stats.t.ppf(alpha / 2, df=sample_size_A + sample_size_B - 2)\n",
    "\n",
    "# Step 7: Make a Decision\n",
    "# Check if the absolute value of the test statistic is greater than the critical value\n",
    "# and the p-value is less than alpha\n",
    "if abs(test_statistic) > critical_value and p_value < alpha:\n",
    "    conclusion = \"Reject the null hypothesis. There is a significant difference in student performance between the teaching methods.\"\n",
    "else:\n",
    "    conclusion = \"Fail to reject the null hypothesis. There is no significant difference in student performance between the teaching methods.\"\n",
    "\n",
    "# Step 8: Draw a Conclusion\n",
    "conclusion\n"
   ]
  },
  {
   "cell_type": "code",
   "execution_count": null,
   "id": "84ff79c2-55b6-45b4-9872-c99fb143a148",
   "metadata": {},
   "outputs": [],
   "source": []
  },
  {
   "cell_type": "markdown",
   "id": "9f2d0af0-f942-420b-b5a8-c52785d88719",
   "metadata": {},
   "source": [
    "`Question 13`. A population has a mean of 60 and a standard deviation of 8. A sample of 50 observations has a mean\n",
    "of 65. Calculate the 90% confidence interval for the true population mean.\n",
    "\n",
    "`Answer` :Interpretation:\n",
    "The 90% confidence interval tells us that we can be 90% confident that the true population mean falls within the range between the lower and upper bounds calculated. In other words, we are reasonably certain that the true population mean lies between these two values."
   ]
  },
  {
   "cell_type": "code",
   "execution_count": 19,
   "id": "fd39e181-dd29-428d-9162-003c0a333c20",
   "metadata": {},
   "outputs": [
    {
     "data": {
      "text/plain": [
       "(63.13889495191701, 66.86110504808299)"
      ]
     },
     "execution_count": 19,
     "metadata": {},
     "output_type": "execute_result"
    }
   ],
   "source": [
    "import math\n",
    "\n",
    "# Given values\n",
    "sample_mean = 65\n",
    "population_stddev = 8\n",
    "sample_size = 50\n",
    "confidence_level = 0.90\n",
    "\n",
    "# Calculate the critical value (Z) for a 90% confidence interval\n",
    "critical_value = 1.645  # You can find this value from a standard normal distribution table\n",
    "\n",
    "# Calculate the standard error\n",
    "standard_error = population_stddev / math.sqrt(sample_size)\n",
    "\n",
    "# Calculate the margin of error\n",
    "margin_of_error = critical_value * standard_error\n",
    "\n",
    "# Calculate the lower and upper bounds of the confidence interval\n",
    "lower_bound = sample_mean - margin_of_error\n",
    "upper_bound = sample_mean + margin_of_error\n",
    "\n",
    "(lower_bound, upper_bound)\n"
   ]
  },
  {
   "cell_type": "code",
   "execution_count": null,
   "id": "36643a32-a00c-4627-bb74-b47282ed7501",
   "metadata": {},
   "outputs": [],
   "source": []
  },
  {
   "cell_type": "markdown",
   "id": "ea2d615c-9c0a-4bd1-9356-06c8b24657ca",
   "metadata": {},
   "source": [
    "`Question 14`.In a study of the effects of caffeine on reaction time, a sample of 30 participants had an average\n",
    "reaction time of 0.25 seconds with a standard deviation of 0.05 seconds. Conduct a hypothesis test to\n",
    "determine if the caffeine has a significant effect on reaction time at a 90% confidence level using a t-test. \n",
    "\n",
    "`Answer` :"
   ]
  },
  {
   "cell_type": "code",
   "execution_count": 20,
   "id": "53595500-f393-4c32-a246-b88b3f149e25",
   "metadata": {},
   "outputs": [
    {
     "data": {
      "text/plain": [
       "'Fail to reject the null hypothesis. Caffeine does not have a significant effect on reaction time.'"
      ]
     },
     "execution_count": 20,
     "metadata": {},
     "output_type": "execute_result"
    }
   ],
   "source": [
    "import scipy.stats as stats\n",
    "\n",
    "# Step 3: Collect and Analyze Data\n",
    "sample_mean = 0.25  # Sample mean reaction time\n",
    "sample_stddev = 0.05  # Sample standard deviation\n",
    "sample_size = 30  # Sample size\n",
    "confidence_level = 0.90  # 90% confidence level\n",
    "\n",
    "# Step 4: Calculate the Test Statistic\n",
    "# Null hypothesis: mu_c = mu_no_caffeine (no caffeine effect)\n",
    "# mu_no_caffeine is the expected reaction time without caffeine (you can set this value)\n",
    "mu_no_caffeine = 0.24  # Adjust this value as needed\n",
    "\n",
    "# Calculate the t-statistic\n",
    "t_statistic = (sample_mean - mu_no_caffeine) / (sample_stddev / (sample_size**0.5))\n",
    "\n",
    "# Step 5: Determine the Degrees of Freedom\n",
    "degrees_of_freedom = sample_size - 1\n",
    "\n",
    "# Step 6: Find the Critical Value\n",
    "alpha = 1 - confidence_level\n",
    "alpha_over_2 = alpha / 2\n",
    "critical_value_left = stats.t.ppf(alpha_over_2, df=degrees_of_freedom)\n",
    "critical_value_right = -critical_value_left  # For a two-tailed test\n",
    "\n",
    "# Step 7: Calculate the p-value\n",
    "p_value = 2 * (1 - stats.t.cdf(abs(t_statistic), df=degrees_of_freedom))\n",
    "\n",
    "# Step 8: Make a Decision\n",
    "if p_value < alpha:\n",
    "    conclusion = \"Reject the null hypothesis. Caffeine has a significant effect on reaction time.\"\n",
    "else:\n",
    "    conclusion = \"Fail to reject the null hypothesis. Caffeine does not have a significant effect on reaction time.\"\n",
    "\n",
    "# Step 9: Draw a Conclusion\n",
    "conclusion\n"
   ]
  },
  {
   "cell_type": "code",
   "execution_count": null,
   "id": "245f792c-e8fb-4c45-acb5-2e8d2d93c567",
   "metadata": {},
   "outputs": [],
   "source": []
  },
  {
   "cell_type": "markdown",
   "id": "1ab24e45-8672-489d-a382-193076d21adc",
   "metadata": {},
   "source": [
    "`Complete....`"
   ]
  }
 ],
 "metadata": {
  "kernelspec": {
   "display_name": "Python 3 (ipykernel)",
   "language": "python",
   "name": "python3"
  },
  "language_info": {
   "codemirror_mode": {
    "name": "ipython",
    "version": 3
   },
   "file_extension": ".py",
   "mimetype": "text/x-python",
   "name": "python",
   "nbconvert_exporter": "python",
   "pygments_lexer": "ipython3",
   "version": "3.10.8"
  }
 },
 "nbformat": 4,
 "nbformat_minor": 5
}
