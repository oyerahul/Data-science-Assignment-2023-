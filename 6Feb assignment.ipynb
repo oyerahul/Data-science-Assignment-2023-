{
 "cells": [
  {
   "cell_type": "code",
   "execution_count": null,
   "id": "65257741-af1a-49b6-95d4-a0b38adfd755",
   "metadata": {},
   "outputs": [],
   "source": [
    "Assignment FEB 6"
   ]
  },
  {
   "cell_type": "code",
   "execution_count": 1,
   "id": "4f708f8b-e00b-4153-9aec-154315dc7df4",
   "metadata": {},
   "outputs": [
    {
     "name": "stdout",
     "output_type": "stream",
     "text": [
      "[1, 2, 3, 4, 44, 55, 66, 34, 56, 78, 89, 34, 1, 1, 2, 2, 3, 3, 1, 34, 55, 67, 78, 89, 4, 45, 22, 61, 34, 56]\n",
      "24808271033922512873003047452672000\n"
     ]
    }
   ],
   "source": [
    "# Question no. 1\n",
    "\"\"\"Create a function which will take a list as an argument and return the product of all the numbers\n",
    "after creating a flat list.\n",
    "Use the below-given list as an argument for your function.\"\"\"\n",
    "\n",
    "from functools import reduce\n",
    "\n",
    "list1 = [1, 2, 3, 4, [44, 55, 66, True], False, (34, 56, 78, 89, 34), {1, 2, 3, 3, 2, 1},\n",
    "         {1: 34, \"key2\": [55, 67, 78, 89], 4: (45,22, 61, 34)}, [56, 'data science'], \n",
    "         'Machine Learning']\n",
    "\n",
    "\n",
    "def get_product(list_o):\n",
    "    new_lsit = []\n",
    "    for data in list_o:\n",
    "        if type(data) == int:\n",
    "            new_lsit.append(data)\n",
    "        elif type(data) == list:\n",
    "            for data_list in data:\n",
    "                if type(data_list) == int:\n",
    "                    new_lsit.append(data_list)\n",
    "        elif type(data) == tuple:\n",
    "            for data_tuple in data:\n",
    "                if type(data_tuple) == int:\n",
    "                    new_lsit.append(data_tuple)\n",
    "        elif type(data) == dict:\n",
    "            for key, value in data.items():\n",
    "                if type(key) == int:\n",
    "                    new_lsit.append(key)\n",
    "                if type(value) == int:\n",
    "                    new_lsit.append(value)\n",
    "                elif type(value) == int:\n",
    "                    new_lsit.append(value)\n",
    "                elif type(value) == list:\n",
    "                    for data_list in value:\n",
    "                        if type(data_list) == int:\n",
    "                            new_lsit.append(data_list)\n",
    "                elif type(value) == tuple:\n",
    "                    for data_tuple in value:\n",
    "                        if type(data_tuple) == int:\n",
    "                            new_lsit.append(data_tuple)\n",
    "        elif type(data) == set:\n",
    "            for num in list(data):\n",
    "                new_lsit.append(num)\n",
    "                new_lsit.append(num)\n",
    "\n",
    "    product = reduce(lambda x, y: x * y, new_lsit)\n",
    "    print(new_lsit)\n",
    "    return product\n",
    "\n",
    "\n",
    "print(get_product(list1))\n"
   ]
  },
  {
   "cell_type": "code",
   "execution_count": 2,
   "id": "b34e3d68-c798-41c8-9cdc-af921ed01010",
   "metadata": {},
   "outputs": [
    {
     "name": "stdin",
     "output_type": "stream",
     "text": [
      "Please enter your message ? I want to become a Data Scientist.\n"
     ]
    },
    {
     "name": "stdout",
     "output_type": "stream",
     "text": [
      "t$nzro$oq$yuxqsu$z$vzoz$pxturotpo\n"
     ]
    }
   ],
   "source": [
    "# Question 2\n",
    "\"\"\"Write a python program for encrypting a message sent to you by your friend. The logic of encryption\n",
    "should be such that, for a the output should be z. For b, the output should be y. For c, the output should\n",
    "be x respectively. Also, the whitespace should be replaced with a dollar sign. Keep the punctuation\n",
    "marks unchanged.\"\"\"\n",
    "\n",
    "\n",
    "user_input = input(\"Please enter your message ?\")\n",
    "dict_input = {\"a\": \"z\", \"b\": \"y\", \"c\": \"x\", \"d\": \"v\", \"e\": \"u\", \"i\": \"t\", \n",
    "              \"m\": \"s\", \"n\": \"r\", \"o\": \"q\", \"s\": \"p\", \"t\": \"o\", \"w\": \"n\"}\n",
    "\n",
    "rev_input = user_input.lower()\n",
    "encrypt_list = []\n",
    "for i in rev_input:\n",
    "    if i == \" \":\n",
    "        encrypt_list.append(\"$\")\n",
    "    elif i in dict_input:\n",
    "        encrypt_list.append(dict_input[i])\n",
    "encrypt_message= \"\".join(encrypt_list)\n",
    "print(encrypt_message)\n"
   ]
  },
  {
   "cell_type": "code",
   "execution_count": null,
   "id": "00e6bddb-60b8-4d1f-b97e-e4d033ed28f2",
   "metadata": {},
   "outputs": [],
   "source": []
  }
 ],
 "metadata": {
  "kernelspec": {
   "display_name": "Python 3 (ipykernel)",
   "language": "python",
   "name": "python3"
  },
  "language_info": {
   "codemirror_mode": {
    "name": "ipython",
    "version": 3
   },
   "file_extension": ".py",
   "mimetype": "text/x-python",
   "name": "python",
   "nbconvert_exporter": "python",
   "pygments_lexer": "ipython3",
   "version": "3.10.8"
  }
 },
 "nbformat": 4,
 "nbformat_minor": 5
}
