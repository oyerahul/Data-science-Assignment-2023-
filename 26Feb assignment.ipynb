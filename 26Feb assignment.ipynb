{
 "cells": [
  {
   "cell_type": "markdown",
   "id": "c9b74dcf-ec1e-4752-94ae-aa844772db02",
   "metadata": {},
   "source": [
    "`Consider the below code to answer further questions:`\n"
   ]
  },
  {
   "cell_type": "code",
   "execution_count": 2,
   "id": "0332c442-1d0b-4896-b549-8904986f58fa",
   "metadata": {},
   "outputs": [
    {
     "data": {
      "text/plain": [
       "array(['1', '2', '3', '4', '5'], dtype='<U1')"
      ]
     },
     "execution_count": 2,
     "metadata": {},
     "output_type": "execute_result"
    }
   ],
   "source": [
    "import numpy as np\n",
    "list_ = ['1', '2', '3', '4', '5']\n",
    "array_list = np.array(object = list_)\n",
    "\n",
    "array_list"
   ]
  },
  {
   "cell_type": "markdown",
   "id": "75b4f817-fee9-400a-8087-9dcb3f482445",
   "metadata": {},
   "source": [
    "`Question 1`. Is there any difference in the data type of variables list_ and array_list? If there is then write a code\n",
    "to print the data types of both the variables.\n",
    "\n",
    "`Answer` :Yes, there is a difference in the data type of variables list_ and array_list. list_ is a Python list while array_list is a NumPy array."
   ]
  },
  {
   "cell_type": "code",
   "execution_count": 6,
   "id": "1eab4d92-eb04-4b15-88b7-046933967dd8",
   "metadata": {},
   "outputs": [
    {
     "name": "stdout",
     "output_type": "stream",
     "text": [
      "<class 'list'>\n",
      "<class 'numpy.ndarray'>\n"
     ]
    }
   ],
   "source": [
    "print(type(list_))\n",
    "print(type(array_list))"
   ]
  },
  {
   "cell_type": "markdown",
   "id": "f2c8ec72-cc0d-47de-95b0-a222ba95cda1",
   "metadata": {},
   "source": [
    "`Question 2`. Write a code to print the data type of each and every element of both the variables list_ and\n",
    "arra_list."
   ]
  },
  {
   "cell_type": "code",
   "execution_count": 13,
   "id": "0002816e-1e4a-4fb9-91f6-ac53ea7712a2",
   "metadata": {},
   "outputs": [
    {
     "name": "stdout",
     "output_type": "stream",
     "text": [
      "[<class 'str'>, <class 'str'>, <class 'str'>, <class 'str'>, <class 'str'>]\n",
      "______________________________________________________________________________________________________________\n",
      "[<class 'numpy.str_'>, <class 'numpy.str_'>, <class 'numpy.str_'>, <class 'numpy.str_'>, <class 'numpy.str_'>]\n"
     ]
    }
   ],
   "source": [
    "variables_list_type = []\n",
    "arra_list_type = []\n",
    "for element in list_:\n",
    "    variables_list_type.append(type(element))\n",
    "    \n",
    "for element in array_list:\n",
    "    arra_list_type.append(type(element))\n",
    "    \n",
    "print(variables_list_type)\n",
    "print('______________________________________________________________________________________________________________')\n",
    "print(arra_list_type)"
   ]
  },
  {
   "cell_type": "code",
   "execution_count": null,
   "id": "07b4e3f3-b118-48a9-828a-ce0d7e461515",
   "metadata": {},
   "outputs": [],
   "source": []
  },
  {
   "cell_type": "markdown",
   "id": "a7bd4295-2fd7-4065-873b-086c9ccbe2d7",
   "metadata": {},
   "source": [
    "Q3. Considering the following changes in the variable, array_list:\n",
    "\n",
    "Will there be any difference in the data type of the elements present in both the variables, list_ and\n",
    "arra_list? If so then print the data types of each and every element present in both the variables, list_\n",
    "and arra_list."
   ]
  },
  {
   "cell_type": "code",
   "execution_count": 14,
   "id": "7f297077-d805-4e12-b3f3-78041ee585af",
   "metadata": {},
   "outputs": [],
   "source": [
    "array_list = np.array(object = list_, dtype = int)"
   ]
  },
  {
   "cell_type": "code",
   "execution_count": 16,
   "id": "62be89d4-64cf-4228-970f-6d7c83bd8d08",
   "metadata": {},
   "outputs": [
    {
     "name": "stdout",
     "output_type": "stream",
     "text": [
      "<class 'numpy.ndarray'>\n",
      "<class 'numpy.int64'>\n",
      "<class 'numpy.int64'>\n",
      "<class 'numpy.int64'>\n",
      "<class 'numpy.int64'>\n",
      "<class 'numpy.int64'>\n"
     ]
    }
   ],
   "source": [
    "print(type(array_list))\n",
    "for element in array_list:\n",
    "    print(type(element))"
   ]
  },
  {
   "cell_type": "markdown",
   "id": "70669c28-aca7-4a78-862b-8005d63a57bd",
   "metadata": {},
   "source": [
    "`Answer`\n",
    "\n",
    "Yes, there will be a difference in the data type of the elements present in `list_` and `array_list` if you change the data type of the array using the dtype parameter.\n",
    "\n",
    "By setting dtype to `int`, the elements in `array_list` will be cast to `integer type`."
   ]
  },
  {
   "cell_type": "code",
   "execution_count": null,
   "id": "8be18549-f96f-4886-9f78-3322825d2fdb",
   "metadata": {},
   "outputs": [],
   "source": []
  },
  {
   "cell_type": "markdown",
   "id": "0f872a26-7d05-4047-97fe-f44ac91a93d1",
   "metadata": {},
   "source": [
    "`Consider the below code to answer further questions:`"
   ]
  },
  {
   "cell_type": "code",
   "execution_count": 17,
   "id": "cd7fcd33-cecd-4017-8b5f-caef15173f0e",
   "metadata": {},
   "outputs": [],
   "source": [
    "import numpy as np\n",
    "num_list = [ [ 1 , 2 , 3 ] , [ 4 , 5 , 6 ] ]\n",
    "num_array = np.array(object = num_list)"
   ]
  },
  {
   "cell_type": "code",
   "execution_count": 18,
   "id": "23c0f5e0-a357-4566-900f-6afe1a757471",
   "metadata": {},
   "outputs": [
    {
     "data": {
      "text/plain": [
       "array([[1, 2, 3],\n",
       "       [4, 5, 6]])"
      ]
     },
     "execution_count": 18,
     "metadata": {},
     "output_type": "execute_result"
    }
   ],
   "source": [
    "num_array"
   ]
  },
  {
   "cell_type": "markdown",
   "id": "fc4dc597-9a39-4c29-a1bf-4db04393bbe1",
   "metadata": {},
   "source": [
    "`Question 4`. Write a code to find the following characteristics of variable, num_array:\n",
    "\n",
    "(i) shape\n",
    "\n",
    "(ii) size\n"
   ]
  },
  {
   "cell_type": "code",
   "execution_count": 25,
   "id": "aed2665f-4965-4a94-9f21-f848575a1820",
   "metadata": {},
   "outputs": [
    {
     "name": "stdout",
     "output_type": "stream",
     "text": [
      "(2, 3)\n",
      "________\n",
      "6\n"
     ]
    }
   ],
   "source": [
    "print(num_array.shape)\n",
    "print(\"________\")\n",
    "print(num_array.size)"
   ]
  },
  {
   "cell_type": "code",
   "execution_count": null,
   "id": "ca265dc2-d686-4e1f-9c26-52ff0adfb441",
   "metadata": {},
   "outputs": [],
   "source": []
  },
  {
   "cell_type": "markdown",
   "id": "ccb5e25c-2566-42a0-9f71-e050f021efeb",
   "metadata": {},
   "source": [
    "`Question 5`. Write a code to create numpy array of 3*3 matrix containing zeros only, using a numpy array\n",
    "creation function.\n",
    "\n",
    "[Hint: The size of the array will be 9 and the shape will be (3,3).]"
   ]
  },
  {
   "cell_type": "code",
   "execution_count": 32,
   "id": "6c0c0905-7cbd-4439-af57-9eb9dfab887c",
   "metadata": {},
   "outputs": [
    {
     "name": "stdout",
     "output_type": "stream",
     "text": [
      "[[0. 0. 0.]\n",
      " [0. 0. 0.]\n",
      " [0. 0. 0.]]\n",
      "____________\n",
      "(3, 3)\n"
     ]
    }
   ],
   "source": [
    "arr1 = np.zeros((3,3))\n",
    "print(arr1)\n",
    "\n",
    "print(\"____________\")\n",
    "\n",
    "print(arr1.shape)"
   ]
  },
  {
   "cell_type": "markdown",
   "id": "0b2781b4-8bcb-487f-aa02-18a5c713d806",
   "metadata": {},
   "source": [
    "`Question 6`. Create an identity matrix of shape (5,5) using numpy functions?\n",
    "\n",
    "[Hint: An identity matrix is a matrix containing 1 diagonally and other elements will be 0.]"
   ]
  },
  {
   "cell_type": "code",
   "execution_count": 33,
   "id": "c57d3602-937d-41bd-bf14-0d75d15bd54a",
   "metadata": {},
   "outputs": [
    {
     "name": "stdout",
     "output_type": "stream",
     "text": [
      "[[1. 0. 0. 0. 0.]\n",
      " [0. 1. 0. 0. 0.]\n",
      " [0. 0. 1. 0. 0.]\n",
      " [0. 0. 0. 1. 0.]\n",
      " [0. 0. 0. 0. 1.]]\n"
     ]
    }
   ],
   "source": [
    "import numpy as np\n",
    "\n",
    "identity_matrix = np.identity(5)\n",
    "\n",
    "print(identity_matrix)\n"
   ]
  },
  {
   "cell_type": "code",
   "execution_count": null,
   "id": "3985b575-7b84-46b9-bc39-28ab0f5acce0",
   "metadata": {},
   "outputs": [],
   "source": []
  },
  {
   "cell_type": "markdown",
   "id": "34a46f59-9be3-49fd-8428-be52c7c385ef",
   "metadata": {},
   "source": [
    "`Completed`"
   ]
  }
 ],
 "metadata": {
  "kernelspec": {
   "display_name": "Python 3 (ipykernel)",
   "language": "python",
   "name": "python3"
  },
  "language_info": {
   "codemirror_mode": {
    "name": "ipython",
    "version": 3
   },
   "file_extension": ".py",
   "mimetype": "text/x-python",
   "name": "python",
   "nbconvert_exporter": "python",
   "pygments_lexer": "ipython3",
   "version": "3.10.8"
  }
 },
 "nbformat": 4,
 "nbformat_minor": 5
}
