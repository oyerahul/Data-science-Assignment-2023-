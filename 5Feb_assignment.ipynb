{
 "cells": [
  {
   "cell_type": "code",
   "execution_count": null,
   "id": "3073a177-d9be-42da-9bbb-ef34a824cde1",
   "metadata": {},
   "outputs": [],
   "source": [
    "Assignment FEB 5"
   ]
  },
  {
   "cell_type": "code",
   "execution_count": null,
   "id": "bd469876-1669-4590-8a43-9f749b367960",
   "metadata": {},
   "outputs": [],
   "source": [
    "Q.1 : Explain Class and Object with respect to Object-Oriented Programming. Give a suitable example.\n",
    "Ans. Object − Objects have states and behaviors. Example: A dog has states - color, name, breed \n",
    "as well as behaviors – wagging the tail, barking, eating. An object is an instance of a class. \n",
    "Class − A class can be defined as a template/blueprint that describes the behavior/state that the \n",
    "object of its type support."
   ]
  },
  {
   "cell_type": "code",
   "execution_count": 1,
   "id": "cca74ac8-7e3a-4047-ae45-f0d570deb1a3",
   "metadata": {},
   "outputs": [
    {
     "name": "stdout",
     "output_type": "stream",
     "text": [
      "5\n"
     ]
    }
   ],
   "source": [
    "# Question 1 , example\n",
    "class MyClass:\n",
    "    x = 5\n",
    "    \n",
    "p1 = MyClass()\n",
    "print(p1.x)"
   ]
  },
  {
   "cell_type": "code",
   "execution_count": null,
   "id": "c5577f00-825a-4b0d-a216-6fcaab9f45f8",
   "metadata": {},
   "outputs": [],
   "source": [
    "Q.2 :Name the four pillars of OOPs.\n",
    "Ans. These principles are called the four pillars of object-oriented programming (OOP).\n",
    "These four pillars are Inheritance, Polymorphism, Encapsulation and Abstraction"
   ]
  },
  {
   "cell_type": "code",
   "execution_count": null,
   "id": "392ffcce-87fb-4414-afb5-220c99171e9d",
   "metadata": {},
   "outputs": [],
   "source": [
    "Q.3 :Explain why the __init__() function is used. Give a suitable example.\n",
    "Ans : All classes have a function called __init__(), which is always executed when the class is\n",
    "being initiated. Use the __init__() function to assign values to object properties,\n",
    "or other operations that are necessary to do when the object is being . In simple word The self\n",
    "parameter is a reference to the current instance of the class,\n",
    "and is used to access variables that belong to the class."
   ]
  },
  {
   "cell_type": "code",
   "execution_count": 3,
   "id": "8022f856-23ed-4ab2-8917-67a13305c7ce",
   "metadata": {},
   "outputs": [
    {
     "name": "stdout",
     "output_type": "stream",
     "text": [
      "John\n",
      "36\n"
     ]
    }
   ],
   "source": [
    "#Question no. 3, example\n",
    "class Person:\n",
    "    \n",
    "    def __init__(self, name, age):\n",
    "        self.name = name\n",
    "        self.age = age\n",
    "\n",
    "p1 = Person(\"John\", 36)\n",
    "\n",
    "print(p1.name)\n",
    "print(p1.age) "
   ]
  },
  {
   "cell_type": "code",
   "execution_count": null,
   "id": "ddcc001e-1e25-4797-b5a3-2d7ebf6a5f7e",
   "metadata": {},
   "outputs": [],
   "source": [
    "Q.4 : Why self is used in OOPs?\n",
    "Ans. The self variable is used to represent the instance of the class which is often used \n",
    "in object-oriented programming. It works as a reference to the object. \n",
    "Python uses the self parameter to refer to instance attributes and methods of the class."
   ]
  },
  {
   "cell_type": "code",
   "execution_count": null,
   "id": "31a3530d-396c-427d-8d6a-29059b99591e",
   "metadata": {},
   "outputs": [],
   "source": [
    "Q.5 : What is inheritance? Give an example for each type of inheritance.\n",
    "Ans.Inheritance is a mechanism in which one class acquires the property of another class.\n",
    "For example, a child inherits the traits of his/her parents. With inheritance,\n",
    "we can reuse the fields and methods of the existing class. Hence, \n",
    "inheritance facilitates Reusability and is an important concept of OOPs."
   ]
  },
  {
   "cell_type": "code",
   "execution_count": 2,
   "id": "d3d69ede-f457-4ed3-9ac8-908e73459b23",
   "metadata": {},
   "outputs": [
    {
     "name": "stdout",
     "output_type": "stream",
     "text": [
      "This function is in parent class.\n",
      "This function is in child class.\n"
     ]
    }
   ],
   "source": [
    "# Question 5 , example\n",
    "\n",
    "# Python program to demonstrate\n",
    "# single inheritance\n",
    "\n",
    "# Base class\n",
    "class Parent:\n",
    "\tdef func1(self):\n",
    "\t\tprint(\"This function is in parent class.\")\n",
    "\n",
    "# Derived class\n",
    "\n",
    "\n",
    "class Child(Parent):\n",
    "\tdef func2(self):\n",
    "\t\tprint(\"This function is in child class.\")\n",
    "\n",
    "\n",
    "# Driver's code\n",
    "object = Child()\n",
    "object.func1()\n",
    "object.func2()\n"
   ]
  },
  {
   "cell_type": "code",
   "execution_count": null,
   "id": "6f034d45-9ef0-430b-b68b-560f5d2b2ae0",
   "metadata": {},
   "outputs": [],
   "source": []
  }
 ],
 "metadata": {
  "kernelspec": {
   "display_name": "Python 3 (ipykernel)",
   "language": "python",
   "name": "python3"
  },
  "language_info": {
   "codemirror_mode": {
    "name": "ipython",
    "version": 3
   },
   "file_extension": ".py",
   "mimetype": "text/x-python",
   "name": "python",
   "nbconvert_exporter": "python",
   "pygments_lexer": "ipython3",
   "version": "3.10.8"
  }
 },
 "nbformat": 4,
 "nbformat_minor": 5
}
