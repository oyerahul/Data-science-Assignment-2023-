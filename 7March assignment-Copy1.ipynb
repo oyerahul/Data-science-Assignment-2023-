{
 "cells": [
  {
   "cell_type": "markdown",
   "id": "f1890b16-e313-47b1-b27e-a9d5e2025153",
   "metadata": {},
   "source": [
    "`Question 1`. What are the three measures of central tendency?\n",
    "\n",
    "`Answer` : The three measures of central tendency are the mean, the median, and the mode.\n",
    "\n",
    "1. The mean is calculated by adding up all the values in a data set and then dividing by the total number of values. It is the most commonly used measure of central tendency and is sensitive to extreme values.\n",
    "\n",
    "2. The median is the middle value in a data set when it is arranged in order. If there is an even number of values, the median is the average of the two middle values. The median is often used when there are outliers or extreme values that might skew the mean.\n",
    "\n",
    "3. The mode is the most frequently occurring value in a data set. It is useful when dealing with categorical or nominal data, and is not as affected by extreme values as the mean.\n",
    "\n"
   ]
  },
  {
   "cell_type": "code",
   "execution_count": null,
   "id": "2f37f966-4a08-4d5a-9d13-5e1fc5c753e1",
   "metadata": {},
   "outputs": [],
   "source": []
  },
  {
   "cell_type": "markdown",
   "id": "1783352d-152c-499c-bb55-165eaf4cede6",
   "metadata": {},
   "source": [
    "`Question 2`. What is the difference between the mean, median, and mode? How are they used to measure the\n",
    "central tendency of a dataset?\n",
    "\n",
    "`Answer` :The mean, median, and mode are different measures of central tendency used to describe the typical or central value of a dataset.\n",
    "\n",
    "The mean is the arithmetic average of a set of numbers, calculated by adding up all the values and then dividing by the number of values. The mean is sensitive to extreme values or outliers in the data, as these can greatly affect the overall value of the mean.\n",
    "\n",
    "The median is the middle value in a dataset when the values are arranged in order. If there is an even number of values, the median is the average of the two middle values. The median is a useful measure of central tendency when there are outliers in the data that could skew the mean.\n",
    "\n",
    "The mode is the value that occurs most frequently in a dataset. The mode is useful when dealing with categorical or nominal data, where there are discrete values that occur with different frequencies. The mode is not sensitive to outliers in the same way that the mean is, but it can be affected by bimodal or multimodal datasets."
   ]
  },
  {
   "cell_type": "code",
   "execution_count": null,
   "id": "c306ab7a-9801-4fd4-8d10-66c32ac3033e",
   "metadata": {},
   "outputs": [],
   "source": []
  },
  {
   "cell_type": "markdown",
   "id": "0efae261-f84d-483b-9c40-62c64c95ee02",
   "metadata": {},
   "source": [
    "`Question 3`. Measure the three measures of central tendency for the given height data:\n",
    "\n",
    "[178,177,176,177,178.2,178,175,179,180,175,178.9,176.2,177,172.5,178,176.5] \n",
    "\n",
    "`Answer` :"
   ]
  },
  {
   "cell_type": "code",
   "execution_count": 2,
   "id": "d51c7326-35e5-42e7-8789-9b82ea34e11b",
   "metadata": {},
   "outputs": [
    {
     "name": "stdout",
     "output_type": "stream",
     "text": [
      "Mean : 177.01875\n",
      "Median : 177.0\n",
      "Mode : 0    177.0\n",
      "1    178.0\n",
      "dtype: float64\n"
     ]
    }
   ],
   "source": [
    "import pandas as pd\n",
    "\n",
    "df = pd.Series([178,177,176,177,178.2,178,175,179,180,175,178.9,176.2,177,172.5,178,176.5])\n",
    "\n",
    "print(f\"Mean : {df.mean()}\")\n",
    "print(f\"Median : {df.median()}\")\n",
    "print(f\"Mode : {df.mode()}\")"
   ]
  },
  {
   "cell_type": "code",
   "execution_count": null,
   "id": "219d1b72-0e75-4ab8-ae03-d6fad050349c",
   "metadata": {},
   "outputs": [],
   "source": []
  },
  {
   "cell_type": "markdown",
   "id": "39441cce-f62b-4fc6-9f12-6848006a338d",
   "metadata": {},
   "source": [
    "`Question 4`. Find the standard deviation for the given data:\n",
    "\n",
    "[178,177,176,177,178.2,178,175,179,180,175,178.9,176.2,177,172.5,178,176.5]\n",
    "\n",
    "`Answer` :"
   ]
  },
  {
   "cell_type": "code",
   "execution_count": 3,
   "id": "d92760ba-cbfb-4a61-9bd5-573accd42df2",
   "metadata": {},
   "outputs": [
    {
     "name": "stdout",
     "output_type": "stream",
     "text": [
      "SD : 1.847238930584419\n"
     ]
    }
   ],
   "source": [
    "print(f\"SD : {df.std()}\")"
   ]
  },
  {
   "cell_type": "code",
   "execution_count": null,
   "id": "479d54a7-c25d-40db-b93f-e3730d9254be",
   "metadata": {},
   "outputs": [],
   "source": []
  },
  {
   "cell_type": "markdown",
   "id": "3e6e57de-99f7-45e3-bd1b-f5ae27ce0ed0",
   "metadata": {},
   "source": [
    "`Question 5`. How are measures of dispersion such as range, variance, and standard deviation used to describe the spread of a dataset? Provide an example.\n",
    "\n",
    "`Answer` :Measures of dispersion such as range, variance, and standard deviation are used to describe the spread of a dataset by providing information about how spread out the values are from each other.\n",
    "\n",
    "The `range` is the simplest measure of dispersion and is calculated as the difference between the maximum and minimum values in a dataset. The range provides information about the distance between the highest and lowest values in the dataset, but it does not take into account the distribution of the values in between.The variance and standard deviation are more robust measures of dispersion that take into account the distribution of the data.\n",
    "\n",
    "The `variance` is calculated as the average of the squared differences between each data point and the mean of the dataset. The standard deviation is the square root of the variance and represents the average distance that the values in the dataset are from the mean.\n",
    "\n",
    "For example, let's consider a dataset of the ages of 10 people: 18, 20, 22, 23, 25, 27, 28, 30, 32, and 35. The range of the dataset is 17 (35-18). The variance of the dataset is approximately 35.29, and the standard deviation is approximately 5.94.\n",
    "\n",
    "This means that the values in the dataset are spread out around the mean (25) by an average of 5.94 years, and the majority of the values fall within two standard deviations of the mean, which is between 13.12 and 36.88. The variance and standard deviation provide more information about the spread of the dataset than the range, as they take into account the distribution of the values in the dataset."
   ]
  },
  {
   "cell_type": "code",
   "execution_count": null,
   "id": "25260e33-36eb-49f2-920a-716bc1bc342c",
   "metadata": {},
   "outputs": [],
   "source": []
  },
  {
   "cell_type": "markdown",
   "id": "fc6193fa-ca0f-407d-83d4-c7d1a637d3e1",
   "metadata": {},
   "source": [
    "`Question 6`. What is a Venn diagram?\n",
    "\n",
    "`Answer` :A Venn diagram is a graphical representation of the relationships between sets or groups of things. It consists of one or more overlapping circles, each representing a set, and the areas of overlap between the circles represent the intersections between the sets. The purpose of a Venn diagram is to illustrate the logical relationships between these sets, showing how they are related and how they differ from each other. Venn diagrams are commonly used in mathematics, logic, statistics, and computer science, as well as in many other fields. They are named after John Venn, a 19th-century English logician who first popularized their use."
   ]
  },
  {
   "cell_type": "markdown",
   "id": "2290e8a4-aed8-4f2c-968e-cfb7df4744d4",
   "metadata": {},
   "source": [
    "`Question 7`. For the two given sets A = (2,3,4,5,6,7) & B = (0,2,6,8,10). Find:\n",
    "\n",
    "(i) A ⋂ B\n",
    "\n",
    "(ii) A ⋃ B\n",
    "\n",
    "`Answer` : (i) {2, 6}\n",
    "           (ii) {0, 3, 4, 5, 6, 7, 8, 10}"
   ]
  },
  {
   "cell_type": "code",
   "execution_count": null,
   "id": "872cace9-2641-43bb-a2ba-2deb56febb7d",
   "metadata": {},
   "outputs": [],
   "source": []
  },
  {
   "cell_type": "markdown",
   "id": "c15655a5-43f4-41cc-a119-ec160182e120",
   "metadata": {},
   "source": [
    "`Question 8`. What do you understand about skewness in data?\n",
    "\n",
    "`Answer` :Skewness is a measure of the asymmetry of a probability distribution. In statistics, it refers to the degree to which a distribution of data deviates from a perfectly symmetrical bell curve. A distribution is said to be skewed if it has a longer tail on one side of the distribution than on the other side.\n",
    "\n",
    "There are two main types of skewness: positive skewness and negative skewness. Positive skewness occurs when the tail of the distribution is longer on the right side, and negative skewness occurs when the tail is longer on the left side.\n",
    "\n",
    "Skewness is important in data analysis because it affects the interpretation of statistical results. For example, if the data is positively skewed, the mean will be higher than the median, while if the data is negatively skewed, the median will be higher than the mean. This can have implications for how the data is interpreted and used in statistical models.\n",
    "\n",
    "Skewness can also affect the validity of some statistical tests, particularly those that assume a normal distribution. In such cases, it may be necessary to transform the data to achieve a more normal distribution before conducting the test.\n"
   ]
  },
  {
   "cell_type": "code",
   "execution_count": null,
   "id": "5d2f8ced-2725-4f8f-a46e-fe30016b9fff",
   "metadata": {},
   "outputs": [],
   "source": []
  },
  {
   "cell_type": "markdown",
   "id": "799990c3-3a63-4195-aa15-85983ca1180b",
   "metadata": {},
   "source": [
    "`Question 9`. If a data is right skewed then what will be the position of median with respect to mean?\n",
    "\n",
    "`Answer` :If a data is right-skewed, then the median will typically be less than the mean. This is because the tail of the distribution is stretched out to the right, which pulls the mean in that direction. The median, on the other hand, is less affected by the extreme values in the tail of the distribution, so it will tend to be closer to the bulk of the data, which is usually on the left side of the distribution.\n",
    "\n",
    "To illustrate this with an example, consider a dataset of salaries for a group of employees at a company. If the data is right-skewed, then there may be a few employees with very high salaries, which would pull the mean upward. However, the median would be less affected by these extreme values, so it would likely be lower than the mean. This means that the typical employee at the company would earn less than the average salary, due to the influence of the few high earners."
   ]
  },
  {
   "cell_type": "code",
   "execution_count": null,
   "id": "9ff467e0-a232-480e-91bb-3e3fbe3b17ef",
   "metadata": {},
   "outputs": [],
   "source": []
  },
  {
   "cell_type": "markdown",
   "id": "e0baf855-bac0-4896-ab8c-3c91c6c91e02",
   "metadata": {},
   "source": [
    "`Question 10`. Explain the difference between covariance and correlation. How are these measures used in\n",
    "statistical analysis?\n",
    "\n",
    "`Answer` :Covariance and correlation are two measures that are commonly used in statistical analysis to describe the relationship between two variables.\n",
    "\n",
    "`Covariance` is a measure of how much two variables change together. It measures the degree to which two variables are linearly related, and it can be positive or negative. A positive covariance indicates that when one variable increases, the other variable tends to increase as well, while a negative covariance indicates that when one variable increases, the other variable tends to decrease.\n",
    "\n",
    "`Correlation` on the other hand, is a standardized measure of the linear relationship between two variables. Unlike covariance, correlation is always between -1 and 1, where a correlation of -1 indicates a perfect negative linear relationship, a correlation of 0 indicates no linear relationship, and a correlation of 1 indicates a perfect positive linear relationship.\n",
    "\n",
    "The key difference between covariance and correlation is that covariance is not standardized, while correlation is. This means that the magnitude of the covariance depends on the scale of the variables, while the magnitude of the correlation does not. This makes correlation a more useful measure than covariance when comparing the strength of the relationship between two variables that are measured on different scales.\n",
    "\n",
    "In statistical analysis, both covariance and correlation are used to investigate the relationship between two variables. They are particularly useful in regression analysis, where they can be used to assess the strength and direction of the relationship between the independent and dependent variables. They can also be used in exploratory data analysis to identify patterns and relationships in the data."
   ]
  },
  {
   "cell_type": "code",
   "execution_count": null,
   "id": "0bd27652-5f34-4bfc-93f4-a12c1c74d7db",
   "metadata": {},
   "outputs": [],
   "source": []
  },
  {
   "cell_type": "markdown",
   "id": "d2a74cee-8a5a-4748-a920-5fbce6597946",
   "metadata": {},
   "source": [
    "`Question 11`. What is the formula for calculating the sample mean? Provide an example calculation for a dataset.\n",
    "\n",
    "`Answer` :The sample mean is a measure of central tendency that is calculated as the average of a set of observations. It is typically denoted by the symbol \"x̄\" (pronounced \"x-bar\") and is calculated using the following formula:\n",
    "\n",
    "x̄ = (Σxi) / n\n",
    "\n",
    "where Σxi represents the sum of all the individual observations in the sample, and n represents the sample size.\n",
    "\n",
    "Here's an example calculation of the sample mean for a dataset of 5 observations:\n",
    "\n",
    "Dataset: 5, 10, 12, 15, 20\n",
    "\n",
    "Step 1: Calculate the sum of the observations:\n",
    "\n",
    "Σxi = 5 + 10 + 12 + 15 + 20 = 62\n",
    "\n",
    "Step 2: Calculate the sample size:\n",
    "\n",
    "n = 5\n",
    "\n",
    "Step 3: Substitute the values into the formula and calculate the sample mean:\n",
    "x̄ = Σxi / n = 62 / 5 = 12.4\n",
    "\n",
    "Therefore, the sample mean for this dataset is 12.4. This means that on average, the observations in the dataset are centered around the value of 12.4."
   ]
  },
  {
   "cell_type": "code",
   "execution_count": null,
   "id": "c739ad5c-0f49-426b-8189-de2337ef67cd",
   "metadata": {},
   "outputs": [],
   "source": []
  },
  {
   "cell_type": "markdown",
   "id": "b25067ff-e520-4865-af72-b1b428aa838c",
   "metadata": {},
   "source": [
    "`Question 12`. For a normal distribution data what is the relationship between its measure of central tendency?\n",
    "\n",
    "`Answer` :For a normal distribution, the three measures of central tendency, which are the mean, median, and mode, are all equal. This property is also known as symmetry of the normal distribution.\n",
    "\n",
    "In other words, if we have a dataset that follows a normal distribution, the mean, median, and mode will be located at the same point in the distribution, which is the peak of the curve. This is because the normal distribution is a symmetric distribution, meaning that the data is evenly distributed on both sides of the mean.\n",
    "\n",
    "However, for datasets that are not normally distributed, such as skewed or bimodal distributions, the three measures of central tendency may differ. In such cases, the median and mode may be more appropriate measures of central tendency to use than the mean, depending on the context and purpose of the analysis."
   ]
  },
  {
   "cell_type": "markdown",
   "id": "39e1e786-42fb-40f8-85d1-2f7795a5843b",
   "metadata": {},
   "source": [
    "`Question 13`. How is covariance different from correlation?\n",
    "\n",
    "`Answer` :The key difference between covariance and correlation is that covariance is not standardized, while correlation is. This means that the magnitude of the covariance depends on the scale of the variables, while the magnitude of the correlation does not. This makes correlation a more useful measure than covariance when comparing the strength of the relationship between two variables that are measured on different scales.\n"
   ]
  },
  {
   "cell_type": "markdown",
   "id": "08a7e1e7-7dfd-4103-a3c5-51b93c55388d",
   "metadata": {},
   "source": [
    "`Question 14`. How do outliers affect measures of central tendency and dispersion? Provide an example.\n",
    "\n",
    "`Answer` :Outliers are data points that are significantly different from the rest of the data in a dataset. Outliers can have a significant impact on measures of central tendency and dispersion, as they can distort the overall distribution and influence the values of the measures.For example, consider a dataset of salaries for a company, where most employees make around $50,000 per year, but one employee makes $1,000,000 per year. This extreme value is an outlier that significantly affects the measures of central tendency and dispersion.\n",
    "\n",
    "In terms of measures of central tendency, the outlier can greatly increase the mean, as the value of $1,000,000 is much larger than the rest of the values in the dataset. However, the median, which is the middle value when the data is sorted in ascending order, would not be affected as much by the outlier.\n",
    "\n",
    "In terms of measures of dispersion, the outlier can greatly increase the range, which is the difference between the maximum and minimum values in the dataset. Additionally, the outlier can affect the standard deviation, which is a measure of how much the data deviates from the mean. If the outlier is much larger than the other values in the dataset, it will increase the standard deviation, indicating a greater variability in the data.\n",
    "\n",
    "Therefore, it is important to identify and address outliers when analyzing a dataset, as they can significantly affect the results and lead to incorrect conclusions."
   ]
  },
  {
   "cell_type": "code",
   "execution_count": null,
   "id": "099f8bcf-18d4-4eee-b13b-9633c71fe655",
   "metadata": {},
   "outputs": [],
   "source": []
  },
  {
   "cell_type": "markdown",
   "id": "04e8c212-c9af-4510-b2df-949ef8750aab",
   "metadata": {},
   "source": [
    "`Completed...`"
   ]
  }
 ],
 "metadata": {
  "kernelspec": {
   "display_name": "Python 3 (ipykernel)",
   "language": "python",
   "name": "python3"
  },
  "language_info": {
   "codemirror_mode": {
    "name": "ipython",
    "version": 3
   },
   "file_extension": ".py",
   "mimetype": "text/x-python",
   "name": "python",
   "nbconvert_exporter": "python",
   "pygments_lexer": "ipython3",
   "version": "3.10.8"
  }
 },
 "nbformat": 4,
 "nbformat_minor": 5
}
