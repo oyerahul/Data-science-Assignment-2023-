{
 "cells": [
  {
   "cell_type": "code",
   "execution_count": 11,
   "id": "ba4da76d-411e-440d-8ed3-f94450d2e485",
   "metadata": {},
   "outputs": [
    {
     "name": "stdout",
     "output_type": "stream",
     "text": [
      "[1, 3, 5, 7, 9, 11, 13, 15, 17, 19, 21, 23, 25]\n"
     ]
    }
   ],
   "source": [
    "# Question no. 1\n",
    "\n",
    "\"\"\" def is used to create a function\"\"\"\n",
    "\n",
    "\n",
    "def odd():\n",
    "    odd_num =[]\n",
    "    for num in range(1, 26):\n",
    "        if num % 2 != 0:\n",
    "            odd_num.append(num)\n",
    "\n",
    "    return odd_num\n",
    "\n",
    "\n",
    "print(odd())\n"
   ]
  },
  {
   "cell_type": "code",
   "execution_count": 10,
   "id": "fbc9de60-dfd3-4c65-9873-2209ec083777",
   "metadata": {},
   "outputs": [
    {
     "name": "stdout",
     "output_type": "stream",
     "text": [
      "Sum: 22\n",
      "\n",
      "Data type of argument: <class 'dict'>\n",
      "Firstname is John\n",
      "Lastname is Wood\n",
      "Email is johnwood@nomail.com\n",
      "Country is Wakanda\n",
      "Age is 25\n",
      "Phone is 9876543210\n"
     ]
    }
   ],
   "source": [
    "# Question 2\n",
    "\n",
    "\"\"\"*args allows us to pass a variable number of non-keyword arguments to a Python function. In the function,\n",
    "we should use an asterisk ( * ) before the parameter name to pass a variable number of arguments\"\"\"\n",
    "\n",
    "\n",
    "def adder(*num):\n",
    "    sum = 0\n",
    "\n",
    "    for n in num:\n",
    "        sum = sum + n\n",
    "\n",
    "    print(\"Sum:\", sum)\n",
    "\n",
    "\n",
    "adder(4, 5, 6, 7)\n",
    "\n",
    "\"\"\"**kwargs allows us to pass a variable number of keyword arguments to a Python function.\n",
    " In the function, we use the double-asterisk ( ** ) before the parameter name to denote this type of argument.\"\"\"\n",
    "\n",
    "\n",
    "def intro(**data):\n",
    "    print(\"\\nData type of argument:\", type(data))\n",
    "\n",
    "    for key, value in data.items():\n",
    "        print(\"{} is {}\".format(key, value))\n",
    "\n",
    "\n",
    "intro(Firstname=\"John\", Lastname=\"Wood\", Email=\"johnwood@nomail.com\", Country=\"Wakanda\", Age=25, Phone=9876543210)"
   ]
  },
  {
   "cell_type": "code",
   "execution_count": 3,
   "id": "06e969f2-26aa-4717-a8d3-c6946ca2610c",
   "metadata": {},
   "outputs": [
    {
     "name": "stdout",
     "output_type": "stream",
     "text": [
      "2\n",
      "4\n",
      "6\n",
      "8\n",
      "10\n"
     ]
    }
   ],
   "source": [
    "# question no. 3\n",
    "\"\"\"An iterator is an object that contains a countable number of values. An iterator is an\n",
    "object that can be iterated upon, meaning that you can traverse through all the values. \n",
    "Technically, in Python, an iterator is an object which implements \n",
    "the iterator protocol, which consist of the methods __iter__() and __next__() .\"\"\"\n",
    "\n",
    "\n",
    "list_num =  [2, 4, 6, 8, 10, 12, 14, 16, 18, 20]\n",
    "it = iter(list_num)\n",
    "\n",
    "for i in range(5):\n",
    "    print(next(it))"
   ]
  },
  {
   "cell_type": "code",
   "execution_count": 9,
   "id": "f6b5140b-e92f-47f5-a605-53d95699f524",
   "metadata": {},
   "outputs": [
    {
     "name": "stdout",
     "output_type": "stream",
     "text": [
      "<class 'generator'>\n",
      "Hello world!!\n",
      "Geeksforgeeks\n"
     ]
    }
   ],
   "source": [
    "# Question no. 4\n",
    "\"\"\"In Python, a generator is a function that returns an iterator that produces a sequence of values when iterated over.\n",
    "Generators are useful when we want to produce a large sequence of values,\n",
    " but we don't want to store all of them in memory at once.\"\"\"\n",
    "\n",
    "\"\"\"The Yield keyword in Python is similar to a return statement used for returning values or objects in Python.\n",
    " However, there is a slight difference.\n",
    " The yield statement returns a generator object to the one who calls the function which contains yield,\n",
    "  instead of simply returning a value\"\"\"\n",
    "\n",
    "\n",
    "# example\n",
    "def fun_generator():\n",
    "    yield \"Hello world!!\"\n",
    "    yield \"Geeksforgeeks\"\n",
    "\n",
    "\n",
    "obj = fun_generator()\n",
    "\n",
    "print(type(obj))\n",
    "\n",
    "print(next(obj))\n",
    "print(next(obj))"
   ]
  },
  {
   "cell_type": "code",
   "execution_count": 12,
   "id": "c2a60c70-f359-498b-89da-9631c09b9715",
   "metadata": {},
   "outputs": [
    {
     "name": "stdout",
     "output_type": "stream",
     "text": [
      "2\n",
      "3\n",
      "5\n",
      "7\n",
      "11\n",
      "13\n",
      "17\n",
      "19\n",
      "23\n",
      "29\n",
      "31\n",
      "37\n",
      "41\n",
      "43\n",
      "47\n",
      "49\n",
      "53\n",
      "59\n",
      "61\n",
      "67\n"
     ]
    }
   ],
   "source": [
    " # Question no 5\n",
    "    \n",
    "def prime_num():\n",
    "    num = 1\n",
    "    while num < 1000:\n",
    "        if num == 1:\n",
    "            num += 1\n",
    "        elif num == 2:\n",
    "            yield num\n",
    "            num += 1\n",
    "        elif num == 3:\n",
    "            yield num\n",
    "            num += 1\n",
    "        elif num == 5:\n",
    "            yield num\n",
    "            num += 1\n",
    "        elif num % 2 == 0 or num % 3 == 0 or num % 5 == 0:\n",
    "            num += 1\n",
    "        else:\n",
    "            yield num\n",
    "            num += 1\n",
    "\n",
    "\n",
    "values = prime_num()\n",
    "for i in range(20):\n",
    "    print(next(values))\n",
    "    "
   ]
  },
  {
   "cell_type": "code",
   "execution_count": 2,
   "id": "3c92d561-36cd-46b3-bf0c-3dc3778a5a9e",
   "metadata": {},
   "outputs": [
    {
     "name": "stdout",
     "output_type": "stream",
     "text": [
      "0\n",
      "1\n",
      "1\n",
      "2\n",
      "3\n",
      "5\n",
      "8\n",
      "13\n",
      "21\n",
      "34\n"
     ]
    }
   ],
   "source": [
    "# Question no. 6\n",
    "\n",
    "def fibonacci_num():\n",
    "    a, b = 0, 1\n",
    "    while True:\n",
    "        yield a\n",
    "        a, b = b, a + b\n",
    "\n",
    "\n",
    "fib = fibonacci_num()\n",
    "for i in range(10):\n",
    "    print(next(fib))"
   ]
  },
  {
   "cell_type": "code",
   "execution_count": 4,
   "id": "6a7f8221-df1d-42d9-9f42-488849e8c30d",
   "metadata": {},
   "outputs": [
    {
     "name": "stdout",
     "output_type": "stream",
     "text": [
      "['p', 'w', 's', 'k', 'i', 'l', 'l', 's']\n"
     ]
    }
   ],
   "source": [
    " # Question no 7\n",
    "    \n",
    "string = [word for word in \"pwskills\"]\n",
    "print(string)    "
   ]
  },
  {
   "cell_type": "code",
   "execution_count": 7,
   "id": "b49adac2-70af-4452-a5dc-ff28dec91507",
   "metadata": {},
   "outputs": [
    {
     "name": "stdin",
     "output_type": "stream",
     "text": [
      "Please enter your no. ? 2332\n"
     ]
    },
    {
     "name": "stdout",
     "output_type": "stream",
     "text": [
      "Yes your no. 2332 is palindrome\n"
     ]
    }
   ],
   "source": [
    "# Question 8\n",
    "user_input = str(input(\"Please enter your no. ?\"))\n",
    "\n",
    "if user_input == user_input[::-1]:\n",
    "    print(f\"Yes your no. {user_input} is palindrome\")\n",
    "else:\n",
    "    print(f\"No, your no. {user_input} is not palindrome\")"
   ]
  },
  {
   "cell_type": "code",
   "execution_count": 8,
   "id": "50b4513f-d1f4-4891-a5d8-d5939e531fc7",
   "metadata": {},
   "outputs": [
    {
     "name": "stdout",
     "output_type": "stream",
     "text": [
      "[1, 3, 5, 7, 9, 11, 13, 15, 17, 19, 21, 23, 25, 27, 29, 31, 33, 35, 37, 39, 41, 43, 45, 47, 49, 51, 53, 55, 57, 59, 61, 63, 65, 67, 69, 71, 73, 75, 77, 79, 81, 83, 85, 87, 89, 91, 93, 95, 97, 99]\n"
     ]
    }
   ],
   "source": [
    "# Question 9\n",
    "\n",
    "odd_num = [num for num in [num for num in range(1,101)] if num%2 !=0]\n",
    "print(odd_num)\n"
   ]
  },
  {
   "cell_type": "code",
   "execution_count": null,
   "id": "915864be-f42f-457a-a8bb-980d367b9233",
   "metadata": {},
   "outputs": [],
   "source": []
  }
 ],
 "metadata": {
  "kernelspec": {
   "display_name": "Python 3 (ipykernel)",
   "language": "python",
   "name": "python3"
  },
  "language_info": {
   "codemirror_mode": {
    "name": "ipython",
    "version": 3
   },
   "file_extension": ".py",
   "mimetype": "text/x-python",
   "name": "python",
   "nbconvert_exporter": "python",
   "pygments_lexer": "ipython3",
   "version": "3.10.8"
  }
 },
 "nbformat": 4,
 "nbformat_minor": 5
}
