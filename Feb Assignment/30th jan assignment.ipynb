{
 "cells": [
  {
   "cell_type": "code",
   "execution_count": 1,
   "id": "5f19b311-246a-46f4-8596-8dd977042fd4",
   "metadata": {},
   "outputs": [
    {
     "name": "stdin",
     "output_type": "stream",
     "text": [
      "Please enter your marks ? 100000\n"
     ]
    },
    {
     "name": "stdout",
     "output_type": "stream",
     "text": [
      "Your grade is A\n"
     ]
    }
   ],
   "source": [
    "#Question no 1\n",
    "\n",
    "user_input = int(input(\"Please enter your marks ?\"))\n",
    "\n",
    "if user_input >90:\n",
    "    print(\"Your grade is A\")\n",
    "elif user_input > 80 :\n",
    "    print(\"Your grade is B\")\n",
    "elif user_input >=60:\n",
    "    print(\" Your grade is C\")\n",
    "else :\n",
    "    print(\"Your grade is D\")"
   ]
  },
  {
   "cell_type": "code",
   "execution_count": 2,
   "id": "3c116f89-4383-4b80-907a-6e1c53428409",
   "metadata": {},
   "outputs": [
    {
     "name": "stdin",
     "output_type": "stream",
     "text": [
      "Please enter your car prize ? 10000\n"
     ]
    },
    {
     "name": "stdout",
     "output_type": "stream",
     "text": [
      "Your road tax is 5%\n"
     ]
    }
   ],
   "source": [
    "# Question no. 2\n",
    "\n",
    "user_input = int(input(\"Please enter your car prize ?\"))\n",
    "\n",
    "if user_input > 100000:\n",
    "    print(\"Your road Tax  is 15%\")\n",
    "elif user_input > 50000 :\n",
    "    print(\"Your road tax is 10%\")\n",
    "else :\n",
    "    print(\"Your road tax is 5%\")"
   ]
  },
  {
   "cell_type": "code",
   "execution_count": null,
   "id": "9b6921c9-36f0-4d55-b235-ed06dee0897c",
   "metadata": {},
   "outputs": [],
   "source": [
    "# Question no. 3\n",
    "\n",
    "user_input = input(\"Please write your City name ?\").capitalize()\n",
    "city = {\"Delhi\" : \"Red fort\", \"Agra\":\"Tajmahal\", \"Jaipur\" : \"Jai Mahal\" }\n",
    "if user_input in city:\n",
    "    print(city[user_input])\n",
    "else:\n",
    "    print(\"city data is not here.\")"
   ]
  },
  {
   "cell_type": "code",
   "execution_count": 1,
   "id": "921015cd-f9ad-406a-9c29-7f1d02e9dd5c",
   "metadata": {},
   "outputs": [
    {
     "name": "stdin",
     "output_type": "stream",
     "text": [
      "Please enter your no. ? 1000\n"
     ]
    },
    {
     "name": "stdout",
     "output_type": "stream",
     "text": [
      "5\n"
     ]
    }
   ],
   "source": [
    "# Question no. 4\n",
    "\n",
    "user_input = int(input(\"Please enter your no. ?\"))\n",
    "count = 0\n",
    "while  user_input > 10:\n",
    "        user_input = user_input/3\n",
    "        count +=1        \n",
    "print(f\"{int(count)}\")\n",
    "                 "
   ]
  },
  {
   "cell_type": "code",
   "execution_count": 2,
   "id": "f62cbd3d-86e0-40ae-b0f8-546bb99329cd",
   "metadata": {},
   "outputs": [
    {
     "name": "stdout",
     "output_type": "stream",
     "text": [
      "A \"While\" Loop is used to repeat a specific block of code an unknown number of times,\n",
      "until a condition is met. For example, if we want to ask a user for a number between 1 and 10,\n",
      "we don't know how many times the user may enter a larger number, so we keep asking \n",
      "\"while the number is not between 1 and 10\".\n",
      "10\n",
      "9\n",
      "8\n",
      "7\n",
      "6\n",
      "5\n",
      "4\n",
      "3\n",
      "2\n",
      "1\n"
     ]
    }
   ],
   "source": [
    "# Question no. 5\n",
    "while_loop = \"\"\"A \"While\" Loop is used to repeat a specific block of code an unknown number of times,\n",
    "until a condition is met. For example, if we want to ask a user for a number between 1 and 10,\n",
    "we don't know how many times the user may enter a larger number, so we keep asking \n",
    "\"while the number is not between 1 and 10\".\"\"\"\n",
    "print(while_loop)\n",
    "#example\n",
    "i = 10\n",
    "while i >0 :\n",
    "    print(i)\n",
    "    i -=1"
   ]
  },
  {
   "cell_type": "code",
   "execution_count": 9,
   "id": "053a9cf7-194d-4cb2-8cbb-b2f0aa654259",
   "metadata": {},
   "outputs": [
    {
     "name": "stdin",
     "output_type": "stream",
     "text": [
      "Enter number of rows :  4\n"
     ]
    },
    {
     "name": "stdout",
     "output_type": "stream",
     "text": [
      "* \n",
      "* * \n",
      "* * * \n",
      "* * * * \n"
     ]
    }
   ],
   "source": [
    "#Question 6.\n",
    "n = int(input('Enter number of rows : '))\n",
    " \n",
    "i = 1\n",
    "while i <= n :\n",
    "    j = 1\n",
    "    \n",
    "    while j <= i:\n",
    "        print(\"*\", end = \" \")\n",
    "        j += 1    \n",
    "        \n",
    "    print()\n",
    "    i += 1\n"
   ]
  },
  {
   "cell_type": "code",
   "execution_count": null,
   "id": "fb2d9e59-94c1-4298-8e91-33c36905b417",
   "metadata": {},
   "outputs": [],
   "source": []
  },
  {
   "cell_type": "code",
   "execution_count": null,
   "id": "2e50bb81-c9a5-4b95-a3e5-c383081a8717",
   "metadata": {},
   "outputs": [],
   "source": [
    "# Question no. 7\n",
    "i = 10\n",
    "while i >0 :\n",
    "    print(i)\n",
    "    i -=1\n"
   ]
  },
  {
   "cell_type": "code",
   "execution_count": null,
   "id": "56c87829-6652-422f-9f02-2c930cafa216",
   "metadata": {},
   "outputs": [],
   "source": [
    "# Question no. 8\n",
    "i = 10\n",
    "while i >0 :\n",
    "    print(i)\n",
    "    i -=1\n"
   ]
  }
 ],
 "metadata": {
  "kernelspec": {
   "display_name": "Python 3 (ipykernel)",
   "language": "python",
   "name": "python3"
  },
  "language_info": {
   "codemirror_mode": {
    "name": "ipython",
    "version": 3
   },
   "file_extension": ".py",
   "mimetype": "text/x-python",
   "name": "python",
   "nbconvert_exporter": "python",
   "pygments_lexer": "ipython3",
   "version": "3.10.8"
  },
  "toc-autonumbering": true
 },
 "nbformat": 4,
 "nbformat_minor": 5
}
