{
 "cells": [
  {
   "cell_type": "markdown",
   "id": "f3edba68-d214-4b0f-b2a8-d714c500eb1e",
   "metadata": {},
   "source": [
    "Question 1. Explain why we have to use the Exception class while creating a Custom Exception.\n",
    "Note: Here Exception class refers to the base class for all the exceptions.\n",
    "Answer :In Python, the `Exception` class is the base class for all built-in exceptions. When we create a custom exception class, we usually inherit from the `Exception` class to create our own hierarchy of exceptions.\n",
    "\n",
    "By inheriting from the `Exception` class, we get access to all the behavior and attributes of the base class, including the ability to define custom constructors, methods, and properties. This can be useful when we want to define more specific error conditions and provide more detailed error messages for our custom exceptions.\n",
    "\n",
    "In addition, inheriting from the `Exception` class ensures that our custom exception is compatible with all the built-in exception handling mechanisms in Python. This means that we can catch our custom exception using the same `try-except` block as we would use for any other built-in exception.\n",
    "\n",
    "For example, if we define a custom exception class named `MyCustomException` that inherits from the Exception class, we can catch it using the following code:\n",
    "In summary, by inheriting from the `Exception` class, we can create custom exceptions that are compatible with Python's exception handling mechanisms, and that provide specific error conditions and messages for our programs."
   ]
  },
  {
   "cell_type": "code",
   "execution_count": null,
   "id": "480d99fa-db08-4587-bdd1-ea68895dc73f",
   "metadata": {},
   "outputs": [],
   "source": [
    "try:\n",
    "    # some code that may raise MyCustomException\n",
    "except MyCustomException as e:\n",
    "    # handle the exception here"
   ]
  },
  {
   "cell_type": "markdown",
   "id": "b8bab83b-8bdc-47d4-b73a-c6d906802a3d",
   "metadata": {},
   "source": []
  },
  {
   "cell_type": "markdown",
   "id": "c5b5544f-52df-4517-b6fd-60d7a414f35e",
   "metadata": {},
   "source": [
    "Question 2 :Write a python program to print Python Exception Hierarchy.\n",
    "Answer ;In this code, we start with the `BaseException` class, which is the base class for all exceptions in Python. We print the name of this class using the `__name__` attribute.\n",
    "\n",
    "We then define a variable named `current_exception` and initialize it to the `Exception` class, which is the base class for all non-system-exiting exceptions. We enter a `while` loop that continues until the `current_exception` is equal to the `BaseException` class.\n",
    "\n",
    "Inside the loop, we print the name of the `current_exception` class using the `__name__` attribute. We then update current_exception to be the base class of the current exception, which is accessed using the `__base__` attribute.\n",
    "\n",
    "When the loop completes, we will have printed the hierarchy of all non-system-exiting exceptions in Python, from the `Exception` class down to the `BaseException` class."
   ]
  },
  {
   "cell_type": "code",
   "execution_count": 2,
   "id": "4ffbe415-4b25-47a2-af90-65f0c5f1f1c0",
   "metadata": {},
   "outputs": [
    {
     "name": "stdout",
     "output_type": "stream",
     "text": [
      "BaseException\n",
      "Exception\n"
     ]
    }
   ],
   "source": [
    "def print_exception_hierarchy():\n",
    "    base_exception = BaseException\n",
    "    print(base_exception.__name__)\n",
    "    current_exception = Exception\n",
    "    while current_exception != base_exception:\n",
    "        print(current_exception.__name__)\n",
    "        current_exception = current_exception.__base__\n",
    "\n",
    "print_exception_hierarchy()\n"
   ]
  },
  {
   "cell_type": "markdown",
   "id": "49d2828b-1356-4f76-b5e5-9ef34f76d6a8",
   "metadata": {},
   "source": []
  },
  {
   "cell_type": "markdown",
   "id": "241e2222-819b-4b56-848e-d48e16464cd7",
   "metadata": {},
   "source": [
    "Question 3 :What errors are defined in the ArithmeticError class? Explain any two with an example.\n",
    "answer :The `ArithmeticError` class is a base class for errors that occur during arithmetic operations, such as division by `zero `or `overflow`. Here are two examples of errors that are defined in the `ArithmeticError` class:\n",
    "\n",
    "a. `ZeroDivisionError`: This error occurs when we try to divide a number by zero. Here's an example:\n",
    "In this code, we are trying to divide the value of a by the value of b, which is `zero` This results in a `ZeroDivisionError` exception being raised. We are catching the exception in the except block and printing the error message.\n",
    "\n",
    "b. `OverflowError`: This error occurs when we perform an arithmetic operation that results in a value that is too large to be represented by the data type. Here's an example\n",
    "In this code, we are trying to calculate the square of `a`, which is equal to 10 to the power of 1000. This results in a value that is too large to be represented by the data type, and an `OverflowError` exception is raised. We are catching the exception in the except block and printing the error message.\n",
    "\n",
    "\n",
    "These are just two examples of errors that are defined in the `ArithmeticError` class. Other errors in this class include `FloatingPointError`, `FusedMultiplyAdd`, `RecursionError`, and `AssertionError`, among others."
   ]
  },
  {
   "cell_type": "code",
   "execution_count": null,
   "id": "97e8a0f4-6f27-4ec4-a633-a594f860aa72",
   "metadata": {},
   "outputs": [],
   "source": [
    "\"\"\"ZeroDivision Error\"\"\"\n",
    "a = 10\n",
    "b = 0\n",
    "try:\n",
    "    c = a / b\n",
    "except ZeroDivisionError as e:\n",
    "    print(f\"Error: {e}\")\n",
    "\n",
    "\"\"\"OverflowErro\"\"\"\n",
    "a = 10**1000\n",
    "try:\n",
    "    b = a * a\n",
    "except OverflowError as e:\n",
    "    print(f\"Error: {e}\")\n"
   ]
  },
  {
   "cell_type": "markdown",
   "id": "952b8ed7-a3df-4ac4-a509-3412bc6b1230",
   "metadata": {},
   "source": []
  },
  {
   "cell_type": "markdown",
   "id": "ab022b84-5f1b-4dc4-bb42-53dd5b6a64a4",
   "metadata": {},
   "source": [
    "Question 4 :Why LookupError class is used? Explain with an example KeyError and IndexError.\n",
    "Answer :The `LookupError` class is a base class for errors that occur when a key or index is not found in a mapping or sequence. It is a subclass of the `Exception` class.\n",
    "\n",
    "Two examples of errors that are defined in the `LookupError` class are `KeyError` and `IndexError`. Here's an explanation of each with an example:\n",
    "\n",
    "a. `KeyError`: This error occurs when we try to access a dictionary key that does not exist. \n",
    "b. `IndexError`: This error occurs when we try to access a sequence (e.g. a list, tuple, or string) with an index that is out of range"
   ]
  },
  {
   "cell_type": "code",
   "execution_count": null,
   "id": "59cb4d18-83fc-4bbc-a0fb-89c03babe441",
   "metadata": {},
   "outputs": [],
   "source": [
    "\"\"\"KeyError\"\"\"\n",
    "my_dict = {'a': 1, 'b': 2, 'c': 3}\n",
    "try:\n",
    "    value = my_dict['d']\n",
    "except KeyError as e:\n",
    "    print(f\"Error: {e}\")\n",
    "\n",
    "\n",
    "\"\"\"IndexError\"\"\"\n",
    "my_list = [1, 2, 3]\n",
    "try:\n",
    "    value = my_list[3]\n",
    "except IndexError as e:\n",
    "    print(f\"Error: {e}\")\n"
   ]
  },
  {
   "cell_type": "markdown",
   "id": "8ab906e8-a341-4758-9f70-639a22e60694",
   "metadata": {},
   "source": []
  },
  {
   "cell_type": "markdown",
   "id": "d63ffaaa-9e52-4873-aa0f-3909bfed71ea",
   "metadata": {},
   "source": [
    "Question 5. Explain ImportError. What is ModuleNotFoundError?\n",
    "Answer :`ImportError` is a Python exception that is raised when a module or package cannot be imported. This error can occur for several reasons, such as a missing dependency or a typo in the module name. The `ImportError` class is a subclass of the `Exception` class.\n",
    "\n",
    "`ModuleNotFoundError` is a subclass of `ImportError` that was introduced in Python 3.6. It is raised when a module or package cannot be found. This error occurs when Python is unable to locate the module in any of the locations specified in the `sys.path` variable. Prior to Python 3.6, an `ImportError` exception would be raised instead of `ModuleNotFoundError`"
   ]
  },
  {
   "cell_type": "markdown",
   "id": "edabb8f0-2178-4e34-b257-110dbd21b1ab",
   "metadata": {},
   "source": []
  },
  {
   "cell_type": "markdown",
   "id": "d277e8d2-dd66-4eb8-9124-cae31c6a63b5",
   "metadata": {},
   "source": [
    "Question 6. List down some best practices for exception handling in python.\n",
    "Answer:Here are some best practices for exception handling in Python:\n",
    "\n",
    "1. Catch the right exceptions: When catching exceptions, it's important to be as specific as possible. Catching a broad `exception` like Exception can make it difficult to debug issues because it could be caused by any number of things. Instead, catch only the exceptions that you expect to occur in your code.\n",
    "\n",
    "2. Use `try-except` blocks sparingly: While `try-except` blocks are a powerful tool for handling exceptions, it's important to use them sparingly. In general, you should only use `try-except` blocks for code that is likely to raise an exception. Code that is not likely to raise an exception should not be included in a `try-except` block.\n",
    "\n",
    "3. Use `finally` blocks to clean up resources: If your code uses resources like files or network connections, it's important to release those resources when you're done with them. Use a `finally` block to ensure that the resources are released, even if an exception occurs.\n",
    "\n",
    "4. Don't ignore exceptions: It's important to handle exceptions in a meaningful way. Ignoring exceptions and simply printing an error message can make it difficult to diagnose issues. Instead, try to handle the exception in a way that allows the program to recover gracefully.\n",
    "\n",
    "5. Use context managers: Context managers (`with` statements) are a powerful tool for managing resources like files or network connections. They ensure that resources are properly released when you're done with them, even if an exception occurs.\n",
    "\n",
    "6. Log exceptions: Logging exceptions can be a helpful way to debug issues in production environments. Instead of printing error messages to the console, use a `logging` library like logging to log exceptions to a file or a remote server.\n",
    "\n",
    "7. Be consistent: When handling exceptions, it's important to be consistent in your approach. Use the same exception handling pattern throughout your codebase to make it easier to understand and maintain."
   ]
  },
  {
   "cell_type": "code",
   "execution_count": null,
   "id": "93531b2f-e1cb-4be8-ae18-714d6dbe0d90",
   "metadata": {},
   "outputs": [],
   "source": []
  }
 ],
 "metadata": {
  "kernelspec": {
   "display_name": "Python 3 (ipykernel)",
   "language": "python",
   "name": "python3"
  },
  "language_info": {
   "codemirror_mode": {
    "name": "ipython",
    "version": 3
   },
   "file_extension": ".py",
   "mimetype": "text/x-python",
   "name": "python",
   "nbconvert_exporter": "python",
   "pygments_lexer": "ipython3",
   "version": "3.10.8"
  }
 },
 "nbformat": 4,
 "nbformat_minor": 5
}
