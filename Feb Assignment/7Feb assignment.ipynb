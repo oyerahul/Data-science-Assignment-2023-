{
 "cells": [
  {
   "cell_type": "code",
   "execution_count": null,
   "id": "6955683a-5ad6-4471-b8e1-0b2ffc55bef2",
   "metadata": {},
   "outputs": [],
   "source": [
    "Assignment FEB 7"
   ]
  },
  {
   "cell_type": "code",
   "execution_count": null,
   "id": "efe19d98-f62e-4391-b75b-1d4e918f7f0f",
   "metadata": {},
   "outputs": [],
   "source": [
    "Question 1\n",
    "You are writing code for a company. The requirement of the company is that you create a python\n",
    "function that will check whether the password entered by the user is correct or not. The function should\n",
    "take the password as input and return the string “Valid Password” if the entered password follows the\n",
    "below-given password guidelines else it should return “Invalid Password”.\n",
    "\n",
    "Note: \n",
    "1. The Password should contain at least two uppercase letters and at least two lowercase letters.\n",
    "2. The Password should contain at least a number and three special characters.\n",
    "3. The length of the password should be 10 characters long.\n"
   ]
  },
  {
   "cell_type": "code",
   "execution_count": 4,
   "id": "e342bb74-511a-4d62-a9dc-f8aa8dd0a5b6",
   "metadata": {},
   "outputs": [
    {
     "name": "stdin",
     "output_type": "stream",
     "text": [
      "Please enter your passoward ? etfdhghgfyu@#$RA80\n"
     ]
    },
    {
     "name": "stdout",
     "output_type": "stream",
     "text": [
      "Valid Password\n"
     ]
    }
   ],
   "source": [
    "#Question 1\n",
    "\n",
    "import string\n",
    "\n",
    "\n",
    "def check_password(password):\n",
    "\n",
    "    if len(password) >= 10:\n",
    "        count_lower_case = 0\n",
    "        count_upper_case = 0\n",
    "        count_special = 0\n",
    "        count_int = 0\n",
    "        for word in password:\n",
    "            if word in string.ascii_lowercase:\n",
    "                count_lower_case += 1\n",
    "                continue\n",
    "            elif word in string.ascii_uppercase:\n",
    "                count_upper_case += 1\n",
    "                continue\n",
    "            elif word in string.punctuation:\n",
    "                count_special += 1\n",
    "                continue\n",
    "            elif word in string.octdigits:\n",
    "                count_int += 1\n",
    "                continue\n",
    "        if count_lower_case >= 2 or count_upper_case >= 2 or count_special >= 3 or count_int >= 1:\n",
    "            return \"Valid Password\"\n",
    "        else:\n",
    "            return \"Invalid Password\"\n",
    "    else:\n",
    "        return \"Invalid Password\"\n",
    "    \n",
    "user_input = input(\"Please enter your passoward ?\")\n",
    "print(check_password(user_input))"
   ]
  },
  {
   "cell_type": "code",
   "execution_count": null,
   "id": "74673c51-3a7c-4c9c-b470-1bc7977fc959",
   "metadata": {},
   "outputs": [],
   "source": [
    "Question 2.\n",
    "Solve the below-given questions using at least one of the following:\n",
    "1. Lambda function\n",
    "2. Filter function\n",
    "3. Map function\n",
    "4. List Comprehension\n"
   ]
  },
  {
   "cell_type": "code",
   "execution_count": 4,
   "id": "b9877161-c8dc-42f7-b667-03803f531e08",
   "metadata": {},
   "outputs": [
    {
     "name": "stdin",
     "output_type": "stream",
     "text": [
      "Please enter your string. India\n"
     ]
    },
    {
     "name": "stdout",
     "output_type": "stream",
     "text": [
      "True\n"
     ]
    }
   ],
   "source": [
    "#Question 2.\n",
    "\n",
    "# a. Check if the string starts with a particular letter.\n",
    "user_input = input(\"Please enter your string.\")\n",
    "check_correct = lambda input: True if input[0] == \"I\" else False\n",
    "print(check_correct(user_input))"
   ]
  },
  {
   "cell_type": "code",
   "execution_count": 5,
   "id": "bbcbce55-5580-407f-863f-75d95a820c9a",
   "metadata": {},
   "outputs": [
    {
     "name": "stdin",
     "output_type": "stream",
     "text": [
      "Please enter your string. 1234567\n"
     ]
    },
    {
     "name": "stdout",
     "output_type": "stream",
     "text": [
      "True\n"
     ]
    }
   ],
   "source": [
    "# b.  Check if the string is numeric.\n",
    "user_input = input(\"Please enter your string.\")\n",
    "check_correct = lambda input: True if input.isnumeric() else False\n",
    "print(check_correct(user_input))"
   ]
  },
  {
   "cell_type": "code",
   "execution_count": 6,
   "id": "64fcccd8-2990-4280-8711-3d91de65791b",
   "metadata": {},
   "outputs": [
    {
     "name": "stdout",
     "output_type": "stream",
     "text": [
      "[('orange', 80), ('mango', 99), ('grapes', 1000)]\n"
     ]
    }
   ],
   "source": [
    "# c. Sort a list of tuples having fruit names and their quantity.\n",
    "\n",
    "list_x = [(\"mango\", 99), (\"orange\", 80), (\"grapes\", 1000)]\n",
    "list_x.sort(key=lambda x: x[1])\n",
    "print(list_x)\n",
    "       "
   ]
  },
  {
   "cell_type": "code",
   "execution_count": 10,
   "id": "745980af-132a-4f53-a5aa-7cbf5a07a5f1",
   "metadata": {},
   "outputs": [
    {
     "name": "stdout",
     "output_type": "stream",
     "text": [
      "[1, 4, 9, 16, 25, 36, 49, 64, 81, 100, 121, 144, 169, 196, 225, 256, 289, 324, 361, 400, 441, 484, 529, 576, 625]\n"
     ]
    }
   ],
   "source": [
    "# d. Find the squares of numbers from 1 to 10.\n",
    "\n",
    "sq_list = [word**2 for word in range(1, 26)]\n",
    "print(sq_list)"
   ]
  },
  {
   "cell_type": "code",
   "execution_count": 11,
   "id": "8ab085c1-9295-4f5c-9afd-0f943f2945ca",
   "metadata": {},
   "outputs": [
    {
     "name": "stdout",
     "output_type": "stream",
     "text": [
      "[1, 8, 27, 64, 125, 216, 343, 512, 729, 1000]\n"
     ]
    }
   ],
   "source": [
    "# e. Find the cube root of numbers from 1 to 10.\n",
    "\n",
    "cube_list = [word**3 for word in range(1, 11)]\n",
    "print(cube_list)"
   ]
  },
  {
   "cell_type": "code",
   "execution_count": 4,
   "id": "87074fdc-f254-4e8f-ba0c-d82f6b2d9a29",
   "metadata": {},
   "outputs": [
    {
     "name": "stdin",
     "output_type": "stream",
     "text": [
      "Please enter your no.? 12\n"
     ]
    },
    {
     "name": "stdout",
     "output_type": "stream",
     "text": [
      "['True']\n"
     ]
    }
   ],
   "source": [
    "# f. Check if a given number is even.\n",
    "\n",
    "user_input = int(input(\"Please enter your no.?\"))\n",
    "new_list =[]\n",
    "new_list.append(user_input)\n",
    "result  = [ \"True\" for num in new_list if num%2 ==0]\n",
    "print(result)"
   ]
  },
  {
   "cell_type": "code",
   "execution_count": 8,
   "id": "db4e5c58-3016-4758-8580-43c5f20de890",
   "metadata": {},
   "outputs": [
    {
     "name": "stdout",
     "output_type": "stream",
     "text": [
      "The list of odd numbers is:  [1, 3, 5, 7, 9]\n"
     ]
    }
   ],
   "source": [
    "# g. Filter odd numbers from the given list.\n",
    "\n",
    "num_list = [1,2,3,4,5,6,7,8,9,10]\n",
    "odd = filter(lambda p : p%2 == 1, num_list)\n",
    "print(\"The list of odd numbers is: \", list(odd))\n"
   ]
  },
  {
   "cell_type": "code",
   "execution_count": 11,
   "id": "cdd5a32f-5fb7-4ba8-8525-da906e8a8a77",
   "metadata": {},
   "outputs": [
    {
     "name": "stdout",
     "output_type": "stream",
     "text": [
      "[-5, -4, -3, -2, -1]\n",
      "[0, 1, 2, 3, 4, 5, 6]\n"
     ]
    }
   ],
   "source": [
    "# h. Sort a list of integers into positive and negative integers lists.\n",
    "test_list =  [1,2,3,4,5,6,-1,-2,-3,-4,-5,0]\n",
    "list_a = [num for num in test_list if num < 0]\n",
    "list_b = [num for num in test_list if num >=0]\n",
    "list_a.sort()\n",
    "list_b.sort()\n",
    "print(list_a)\n",
    "print(list_b)"
   ]
  }
 ],
 "metadata": {
  "kernelspec": {
   "display_name": "Python 3 (ipykernel)",
   "language": "python",
   "name": "python3"
  },
  "language_info": {
   "codemirror_mode": {
    "name": "ipython",
    "version": 3
   },
   "file_extension": ".py",
   "mimetype": "text/x-python",
   "name": "python",
   "nbconvert_exporter": "python",
   "pygments_lexer": "ipython3",
   "version": "3.10.8"
  }
 },
 "nbformat": 4,
 "nbformat_minor": 5
}
