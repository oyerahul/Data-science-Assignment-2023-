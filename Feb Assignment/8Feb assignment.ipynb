{
 "cells": [
  {
   "cell_type": "markdown",
   "id": "f72b76f8-1896-4e0c-b478-0834de6aa1d3",
   "metadata": {},
   "source": [
    "Assignment Feb 8"
   ]
  },
  {
   "cell_type": "markdown",
   "id": "f1e3798c-e78f-46e8-9238-cfb44cba0a71",
   "metadata": {},
   "source": [
    "`Question 1` :What is Abstraction in OOps? Explain with an example.\n",
    "`Answer` :Abstraction is an important concept in Object-Oriented Programming (OOP) that refers to the act of hiding implementation details and exposing only the essential features of an object or class to the outside world. The goal of abstraction is to simplify the interaction between objects, making it easier for developers to understand and work with complex systems.\n",
    "\n",
    "An example of abstraction in Python could be a class for a bank account. A user of this class only needs to know that they can deposit money, withdraw money, and check their balance, but they don't need to know the implementation details of how these actions are performed.\n",
    "\n",
    "Here is a simple implementation of the bank account class in Python:"
   ]
  },
  {
   "cell_type": "code",
   "execution_count": 2,
   "id": "76fcfbee-15d7-4c41-8a67-909dd9049661",
   "metadata": {},
   "outputs": [
    {
     "name": "stdout",
     "output_type": "stream",
     "text": [
      "10000\n"
     ]
    }
   ],
   "source": [
    "class BankAccount:\n",
    "    def __init__(self, balance):\n",
    "        self.__balance = balance\n",
    "\n",
    "    def deposit(self, amount):\n",
    "        self.__balance += amount\n",
    "\n",
    "    def withdraw(self, amount):\n",
    "        if self.__balance >= amount:\n",
    "            self.__balance -= amount\n",
    "            return f\"Your transaction of {amount} is successful.\"\n",
    "        else:\n",
    "            return ValueError(\"Insufficient fund\")\n",
    "\n",
    "    def check_balance(self):\n",
    "        return self.__balance\n",
    "\n",
    "\n",
    "sohan = BankAccount(10000)\n",
    "sohan.\n",
    "print(sohan.check_balance())\n"
   ]
  },
  {
   "cell_type": "code",
   "execution_count": 1,
   "id": "7f9afe42-e459-47f7-be4c-8c796d5001ba",
   "metadata": {},
   "outputs": [
    {
     "name": "stdout",
     "output_type": "stream",
     "text": [
      "10000\n"
     ]
    }
   ],
   "source": [
    "class BankAccount:\n",
    "    def __init__(self, balance):\n",
    "        self.__balance = balance\n",
    "\n",
    "    def deposit(self, amount):\n",
    "        self.__balance += amount\n",
    "\n",
    "    def withdraw(self, amount):\n",
    "        if self.__balance >= amount:\n",
    "            self.__balance -= amount\n",
    "            return f\"Your transaction of {amount} is successful.\"\n",
    "        else:\n",
    "            return ValueError(\"Insufficient fund\")\n",
    "\n",
    "    def check_balance(self):\n",
    "        return self._balance\n",
    "\n",
    "\n",
    "sohan = BankAccount(10000)\n",
    "sohan.\n",
    "print(sohan.check_balance())\n"
   ]
  },
  {
   "cell_type": "code",
   "execution_count": 1,
   "id": "51444e46-36fa-4cbf-b16a-1782833e57f6",
   "metadata": {},
   "outputs": [
    {
     "name": "stdout",
     "output_type": "stream",
     "text": [
      "10000\n"
     ]
    }
   ],
   "source": [
    "class BankAccount:\n",
    "    def __init__(self, balance):\n",
    "        self.__balance = balance\n",
    "\n",
    "    def deposit(self, amount):\n",
    "        self.__balance += amount\n",
    "\n",
    "    def withdraw(self, amount):\n",
    "        if self.__balance >= amount:\n",
    "            self.__balance -= amount\n",
    "            return f\"Your transaction of {amount} is successful.\"\n",
    "        else:\n",
    "            return ValueError(\"Insufficient fund\")\n",
    "\n",
    "    def check_balance(self):\n",
    "        return self._balance\n",
    "\n",
    "\n",
    "sohan = BankAccount(10000)\n",
    "print(sohan.check_balance())\n"
   ]
  },
  {
   "cell_type": "markdown",
   "id": "68ec78f1-2738-4e9a-94fa-99105c0e3e82",
   "metadata": {},
   "source": [
    "In this example, the user only needs to know about the methods `deposit()`, `withdraw()`, and `check_balance()`, and does not need to know about the underlying `_balance` attribute. This makes it easier for them to interact with the class and reduces the risk of errors that could result from direct manipulation of the `_balance attribute`."
   ]
  },
  {
   "cell_type": "code",
   "execution_count": null,
   "id": "7f7da821-acf0-4c75-88cd-242e503f295e",
   "metadata": {},
   "outputs": [],
   "source": []
  },
  {
   "cell_type": "markdown",
   "id": "1644c55b-4562-47e0-ba04-b6ef7e06cdc1",
   "metadata": {},
   "source": [
    "`Question 2` :Differentiate between Abstraction and Encapsulation. Explain with an example.\n",
    "`Answer` :Abstraction and encapsulation are two important concepts in Object-Oriented Programming (OOP). While they are related, they have distinct differences.\n",
    "\n",
    "Abstraction refers to the act of hiding the implementation details of a class or object and exposing only the essential features to the outside world. The goal of abstraction is to simplify the interaction between objects, making it easier for developers to understand and work with complex systems.\n",
    "\n",
    "Encapsulation, on the other hand, is the practice of bundling data and methods that operate on that data within a single unit, or object. Encapsulation provides a level of security for the data by hiding it from the outside world and making it only accessible through a well-defined interface.\n",
    "\n",
    "An example of abstraction and encapsulation in Python could be a class for a bank account. The bank account class provides an abstraction of the underlying financial transactions by exposing only the essential features, such as deposit, withdraw, and check balance, to the outside world. The implementation details, such as the balance, are encapsulated within the class, and are only accessible through the well-defined interface provided by the class's methods."
   ]
  },
  {
   "cell_type": "code",
   "execution_count": 2,
   "id": "9855404e-3526-40bf-ae3e-b3d96d8e604e",
   "metadata": {},
   "outputs": [
    {
     "name": "stdout",
     "output_type": "stream",
     "text": [
      "100000\n"
     ]
    }
   ],
   "source": [
    "class BankAccount:\n",
    "    def __init__(self, balance):\n",
    "        self._balance = balance\n",
    "\n",
    "    def deposit(self, amount):\n",
    "        self._balance += amount\n",
    "\n",
    "    def withdraw(self, amount):\n",
    "        if self._balance >= amount:\n",
    "            self._balance -= amount\n",
    "            return f\"Your transaction of {amount} is successful.\"\n",
    "        else:\n",
    "            return ValueError(\"Insufficient fund\")\n",
    "\n",
    "    def check_balance(self):\n",
    "        return self._balance\n",
    "\n",
    "\n",
    "sohan = BankAccount(100000)\n",
    "print(sohan.check_balance())\n"
   ]
  },
  {
   "cell_type": "markdown",
   "id": "132bc37e-f7e7-4488-8468-3ae6629010e3",
   "metadata": {},
   "source": [
    "In this example, the bank account class provides abstraction by exposing only the methods `deposit()`, `withdraw()`, and `check_balance()`, while encapsulating the `_balance attribute`. This makes it easier for users of the class to interact with it and reduces the risk of errors that could result from direct manipulation of the `_balance` attribute."
   ]
  },
  {
   "cell_type": "markdown",
   "id": "27858a51-0cb3-4e69-838f-9b5c6899ebd8",
   "metadata": {},
   "source": [
    "`Question 3` :What is abc module in python? Why is it used?\n",
    "Answer :The `abc` module in Python stands for \"Abstract Base Classes\". It provides a way to define abstract classes in Python, which are classes that cannot be instantiated directly, but must be subclassed by concrete classes that implement their abstract methods.\n",
    "\n",
    "Abstract classes are useful when you want to define a common interface for a group of related classes, but you do not want to provide a default implementation for that interface. This allows you to ensure that all concrete classes that implement the interface have the same set of methods and attributes, making it easier to write code that works with any of those classes.\n",
    "\n",
    "The abc module provides two key decorators that are used to define abstract classes:\n",
    "\n",
    "1.`@abstractmethod`: This decorator is used to mark a method as abstract. Abstract methods are methods that do not have an implementation in the abstract class, but must be implemented by any concrete class that inherits from the abstract class.\n",
    "\n",
    "2.`@abc.abstractclassmethod`: This decorator is used to mark a class method as abstract. Class methods are methods that are bound to the class, rather than to an instance of the class.\n",
    "\n",
    "Here's an example of how to use the abc module to define an abstract class:\n",
    "In this example, the `Animal` class is an abstract base class that defines an abstract method called `speak()`. The `Dog` and `Cat` classes inherit from `Animal` and provide a concrete implementation of the `speak()` method. Since `Dog` and `Cat` implement the `speak()` method, they can be instantiated and used in code that expects an Animal object."
   ]
  },
  {
   "cell_type": "code",
   "execution_count": null,
   "id": "ec917784-815b-4e85-ab43-f58b15b30b07",
   "metadata": {},
   "outputs": [],
   "source": [
    "import abc\n",
    "\n",
    "class Animal(metaclass=abc.ABCMeta):\n",
    "    @abc.abstractmethod\n",
    "    def speak(self):\n",
    "        pass\n",
    "\n",
    "class Dog(Animal):\n",
    "    def speak(self):\n",
    "        return \"Woof!\"\n",
    "\n",
    "class Cat(Animal):\n",
    "    def speak(self):\n",
    "        return \"Meow!\"\n"
   ]
  },
  {
   "cell_type": "code",
   "execution_count": null,
   "id": "b7bf2ec1-36f1-4bd7-a20a-09b86a7dfeb3",
   "metadata": {},
   "outputs": [],
   "source": []
  },
  {
   "cell_type": "markdown",
   "id": "ebc43f99-1e9f-4a41-adb1-ae48b70e7ba1",
   "metadata": {},
   "source": [
    "`Question 4` :How can we achieve data abstraction?\n",
    "`Answer`: In Python, data abstraction can be achieved through the use of classes and objects. A class can be used to define an abstract data type, which encapsulates data and the operations that can be performed on that data. The class can then be used to create objects, which represent instances of the abstract data type. By hiding the implementation details of the data and operations within the class, and only exposing a public interface for interacting with the data, we can achieve data abstraction"
   ]
  },
  {
   "cell_type": "code",
   "execution_count": 3,
   "id": "71cdd05c-e469-4b39-96a7-153e81604285",
   "metadata": {},
   "outputs": [
    {
     "name": "stdout",
     "output_type": "stream",
     "text": [
      "3\n",
      "2\n",
      "1\n"
     ]
    }
   ],
   "source": [
    "class Stack:\n",
    "    def __init__(self):\n",
    "        self._stack = []\n",
    "\n",
    "    def push(self, item):\n",
    "        self._stack.append(item)\n",
    "\n",
    "    def pop(self):\n",
    "        return self._stack.pop()\n",
    "\n",
    "stack = Stack()\n",
    "stack.push(1)\n",
    "stack.push(2)\n",
    "stack.push(3)\n",
    "\n",
    "print(stack.pop()) # 3\n",
    "print(stack.pop()) # 2\n",
    "print(stack.pop()) # 1\n"
   ]
  },
  {
   "cell_type": "markdown",
   "id": "aac3dfc3-384d-4a4e-94f6-99f405ad0022",
   "metadata": {},
   "source": [
    "In this example, the `Stack` class defines an abstract data type for a stack. The stack is implemented as a list, and the `push` and `pop` methods allow items to be added to and removed from the stack. By keeping the implementation details of the stack within the class, and only exposing the `push` and `pop` methods, we achieve data abstraction. This makes it easy to change the implementation of the stack in the future, without affecting any code that uses the stack."
   ]
  },
  {
   "cell_type": "markdown",
   "id": "0034889d-9c08-44e0-ac6b-5960eef647fa",
   "metadata": {},
   "source": [
    "`Question 5`. Can we create an instance of an abstract class? Explain your answer.\n",
    "Answer :No, we cannot create an instance of an abstract class in Python. An abstract class is a class that has one or more abstract methods, which are methods that do not have an implementation in the abstract class but must be implemented in the subclass.\n",
    "\n",
    "Since an abstract class has one or more abstract methods that do not have an implementation, it is not possible to create an instance of an abstract class. Instead, we must create a concrete subclass that implements all the abstract methods defined in the abstract class. Once we have a concrete subclass, we can create an instance of that subclass.\n",
    "\n",
    "For example, consider the following abstract class:\n"
   ]
  },
  {
   "cell_type": "code",
   "execution_count": 3,
   "id": "a3897507-9778-4264-bd8e-f957d44e7a7b",
   "metadata": {},
   "outputs": [],
   "source": [
    "import abc\n",
    "\n",
    "class MyAbstractClass(metaclass=abc.ABCMeta):\n",
    "    \"\"\"Since this class has an abstract method `my_abstract_method` that does not have an implementation, \n",
    "    we cannot create an instance of this class directly. \n",
    "    Instead, we must create a concrete subclass that implements the `my_abstract_method` method, like this:\"\"\"\n",
    "\n",
    "    @abc.abstractmethod\n",
    "    def my_abstract_method(self):\n",
    "        pass\n",
    "\n",
    "\n",
    "class MyConcreteClass(MyAbstractClass):\n",
    "    \"\"\"This is perfectly valid because MyConcreteClass is a \n",
    "    concrete subclass that implements all the abstract methods defined in MyAbstractClass\"\"\"\n",
    "\n",
    "    def my_abstract_method(self):\n",
    "        print(\"This is a concrete implementation of the abstract method\")\n",
    "# Now, we can create an instance of the MyConcreteClass subclass:\n",
    "obj = MyConcreteClass()\n"
   ]
  },
  {
   "cell_type": "code",
   "execution_count": null,
   "id": "96fad65d-038f-46d5-8251-683f30f038be",
   "metadata": {},
   "outputs": [],
   "source": []
  }
 ],
 "metadata": {
  "kernelspec": {
   "display_name": "Python 3 (ipykernel)",
   "language": "python",
   "name": "python3"
  },
  "language_info": {
   "codemirror_mode": {
    "name": "ipython",
    "version": 3
   },
   "file_extension": ".py",
   "mimetype": "text/x-python",
   "name": "python",
   "nbconvert_exporter": "python",
   "pygments_lexer": "ipython3",
   "version": "3.10.8"
  }
 },
 "nbformat": 4,
 "nbformat_minor": 5
}
