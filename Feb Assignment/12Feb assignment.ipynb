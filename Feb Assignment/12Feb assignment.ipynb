{
 "cells": [
  {
   "cell_type": "markdown",
   "id": "88edfa4a-ec8f-4cbd-a348-af85f5fcd685",
   "metadata": {},
   "source": [
    "Question 1. What is an Exception in python? Write the difference between Exceptions and Syntax errors.\n",
    "Answer:In Python, an `exception` is an event that occurs during the execution of a program that disrupts the normal flow of the program's instructions. When an exception occurs, the program stops executing and Python raises an error message, providing information about what went wrong. Exceptions can occur for a variety of reasons, such as invalid input, file not found, network errors, and so on.\n",
    "\n",
    "`Syntax errors`, on the other hand, are errors that occur when the Python interpreter cannot parse the code because of incorrect syntax. These errors usually occur before the program is executed and prevent the program from running at all. Examples of syntax errors include misspelled keywords, missing colons, incorrect indentation, and other similar errors.\n",
    "\n",
    "The key differences between exceptions and syntax errors are as follows:\n",
    "\n",
    "1.Timing of occurrence: Syntax errors occur before the program starts running, while exceptions occur during program execution.\n",
    "\n",
    "2.Cause: Syntax errors are caused by incorrect syntax, whereas exceptions are caused by unexpected situations that occur during program execution.\n",
    "\n",
    "3.Handling: Syntax errors must be fixed by correcting the code, while exceptions can be handled by using try-except blocks, which allow you to catch the exception and handle it in a way that allows the program to continue running.\n",
    "\n",
    "4.Error message: Syntax errors usually provide a simple error message indicating the line number and type of error, while exceptions can provide more detailed information about the cause of the error, such as a traceback and a description of the error type.\n",
    "\n"
   ]
  },
  {
   "cell_type": "markdown",
   "id": "57d57ca9-767b-4d7c-b54e-e43f4f36906e",
   "metadata": {},
   "source": [
    "Question 2.What happens when the exception is not handled? Explain with example.\n",
    "Answer. When an exception is not handled in Python, the program will terminate and display an error message that includes a traceback showing the chain of function calls that led to the exception.\n",
    "\n",
    "Here's an example to illustrate what happens when an exception is not handled:"
   ]
  },
  {
   "cell_type": "code",
   "execution_count": 1,
   "id": "e6f9b270-4b09-4a61-8641-474b6b14502c",
   "metadata": {},
   "outputs": [
    {
     "name": "stdout",
     "output_type": "stream",
     "text": [
      "Cannot divide by zero\n"
     ]
    },
    {
     "ename": "ZeroDivisionError",
     "evalue": "division by zero",
     "output_type": "error",
     "traceback": [
      "\u001b[0;31m---------------------------------------------------------------------------\u001b[0m",
      "\u001b[0;31mZeroDivisionError\u001b[0m                         Traceback (most recent call last)",
      "Cell \u001b[0;32mIn[1], line 14\u001b[0m\n\u001b[1;32m     11\u001b[0m     \u001b[38;5;28mprint\u001b[39m(\u001b[38;5;124m\"\u001b[39m\u001b[38;5;124mResult is:\u001b[39m\u001b[38;5;124m\"\u001b[39m, result)\n\u001b[1;32m     13\u001b[0m \u001b[38;5;66;03m# Example 2: not handling the exception\u001b[39;00m\n\u001b[0;32m---> 14\u001b[0m result \u001b[38;5;241m=\u001b[39m \u001b[43mdivide\u001b[49m\u001b[43m(\u001b[49m\u001b[38;5;241;43m5\u001b[39;49m\u001b[43m,\u001b[49m\u001b[43m \u001b[49m\u001b[38;5;241;43m0\u001b[39;49m\u001b[43m)\u001b[49m\n\u001b[1;32m     15\u001b[0m \u001b[38;5;28mprint\u001b[39m(\u001b[38;5;124m\"\u001b[39m\u001b[38;5;124mResult is:\u001b[39m\u001b[38;5;124m\"\u001b[39m, result)\n",
      "Cell \u001b[0;32mIn[1], line 2\u001b[0m, in \u001b[0;36mdivide\u001b[0;34m(x, y)\u001b[0m\n\u001b[1;32m      1\u001b[0m \u001b[38;5;28;01mdef\u001b[39;00m \u001b[38;5;21mdivide\u001b[39m(x, y):\n\u001b[0;32m----> 2\u001b[0m     result \u001b[38;5;241m=\u001b[39m \u001b[43mx\u001b[49m\u001b[43m \u001b[49m\u001b[38;5;241;43m/\u001b[39;49m\u001b[43m \u001b[49m\u001b[43my\u001b[49m\n\u001b[1;32m      3\u001b[0m     \u001b[38;5;28;01mreturn\u001b[39;00m result\n",
      "\u001b[0;31mZeroDivisionError\u001b[0m: division by zero"
     ]
    }
   ],
   "source": [
    "def divide(x, y):\n",
    "    result = x / y\n",
    "    return result\n",
    "\n",
    "# Example 1: handling the exception\n",
    "try:\n",
    "    result = divide(5, 0)\n",
    "except ZeroDivisionError:\n",
    "    print(\"Cannot divide by zero\")\n",
    "else:\n",
    "    print(\"Result is:\", result)\n",
    "\n",
    "# Example 2: not handling the exception\n",
    "result = divide(5, 0)\n",
    "print(\"Result is:\", result)\n"
   ]
  },
  {
   "cell_type": "markdown",
   "id": "dc2fda08-7afc-46d1-9824-d9f6db92e276",
   "metadata": {},
   "source": [
    "Question 2.What happens when the exception is not handled? Explain with an example.\n",
    "Answer. with an error message displayed on the console or in a log file. This can lead to unexpected behavior and potentially corrupt data or files.\n",
    "\n",
    "Here's an example to illustrate what happens when an exception is not handled:\n",
    "In this code, we are trying to divide two numbers entered by the user. If the user enters `invalid input`, such as a string instead of a number, the `ValueError` exception will be raised and the program will print `\"Please enter valid numbers.\"` to the console."
   ]
  },
  {
   "cell_type": "code",
   "execution_count": 3,
   "id": "07fee474-e89d-4a57-b3f4-49358f000775",
   "metadata": {},
   "outputs": [
    {
     "name": "stdin",
     "output_type": "stream",
     "text": [
      "Enter the first number:  ghjg\n"
     ]
    },
    {
     "name": "stdout",
     "output_type": "stream",
     "text": [
      "Please enter valid numbers.\n"
     ]
    }
   ],
   "source": [
    "# Example Question 2\n",
    "try:\n",
    "    num1 = int(input(\"Enter the first number: \"))\n",
    "    num2 = int(input(\"Enter the second number: \"))\n",
    "    result = num1 / num2\n",
    "    print(f\"The result is: {result}\")\n",
    "except ValueError:\n",
    "    print(\"Please enter valid numbers.\")"
   ]
  },
  {
   "cell_type": "markdown",
   "id": "8bb0103e-cb83-424d-bdf3-cb5bce1fba91",
   "metadata": {},
   "source": [
    "Question 3. Which Python statements are used to catch and handle exceptions? Explain with example.\n",
    "Answer : In Python, the `try` and `except` statements are used to catch and handle exceptions. The `try` statement is used to enclose the code that may raise an `exception`, while the except statement is used to define the block of code that will handle the exception if it is raised.\n",
    "\n",
    "Here's an example of using try and except statements to handle a ValueError exception:\n",
    "In this code, we are trying to divide two numbers entered by the user. If the user enters invalid input, such as a string instead of a number, the `ValueError` exception will be raised. However, we have enclosed the code that may raise the exception within the `try` block, and we have defined the block of code that will handle the exception within the `except` block. If a `ValueError` exception is raised, the program will print \"Please enter valid numbers.\" to the console."
   ]
  },
  {
   "cell_type": "code",
   "execution_count": null,
   "id": "7bfca895-175d-4f2c-9f4e-ba7b93301933",
   "metadata": {},
   "outputs": [],
   "source": [
    "# Example Question 3?\n",
    "try:\n",
    "    num1 = int(input(\"Enter the first number: \"))\n",
    "    num2 = int(input(\"Enter the second number: \"))\n",
    "    result = num1 / num2\n",
    "    print(f\"The result is: {result}\")\n",
    "except ValueError:\n",
    "    print(\"Please enter valid numbers.\")\n",
    "\n",
    "\"\"\"We can also use multiple except statements to handle different types of exceptions. Here's an example:\"\"\"\n",
    "try:\n",
    "    num1 = int(input(\"Enter the first number: \"))\n",
    "    num2 = int(input(\"Enter the second number: \"))\n",
    "    result = num1 / num2\n",
    "    print(f\"The result is: {result}\")\n",
    "except ValueError:\n",
    "    print(\"Please enter valid numbers.\")\n",
    "except ZeroDivisionError:\n",
    "    print(\"Cannot divide by zero.\")\n"
   ]
  },
  {
   "cell_type": "markdown",
   "id": "8693ba4b-6c8c-4565-bd56-fa02a6698ab2",
   "metadata": {},
   "source": []
  },
  {
   "cell_type": "markdown",
   "id": "7b47686b-6c1e-434d-a8d5-a3161277a695",
   "metadata": {},
   "source": [
    "Question 4 :Explain with an example :\n",
    "a. try and else\n",
    "b. finally\n",
    "c. raise\n",
    "Answer:\n",
    "\n",
    "a. try and else:\n",
    "In Python, the else block can be used along with the try block to specify a code block that should be executed when no exception occurs in the try block. Here's an example:\n",
    "In this code, we are trying to divide two numbers entered by the user. If the user enters invalid input, such as a string instead of a number, a `ValueError` exception will be raised. If the user enters zero as the second number, a `ZeroDivisionErro`r exception will be raised. If neither exception occurs and the division operation is successful, the `else` block will execute and print the result.\n",
    "\n",
    "b. finally:\n",
    "In Python, the `finally` block can be used to specify a block of code that should be executed whether or not an exception occurs in the `try` block. Here's an example:\n",
    "In this code, we are trying to open a `file` named `\"myfile.txt\"` for reading. If an `IOErro` exception occurs while trying to open the file, the program will print an error message. Regardless of whether or not an exception occurs, the `finally` block will execute and close the file.\n",
    "\n",
    "c. raise:\n",
    "In Python, the `raise` statement can be used to raise an exception. Here's an example:\n",
    "In this code, we are defining a function named `divide` that performs division and raises a `ZeroDivisionError` exception if the second argument is zero. We are then calling the `divide` function with arguments 10 and 0 inside a `try` block. Since the second argument is `zero`, a `ZeroDivisionError` exception will be raised and caught in the except block, where we print the `error` message."
   ]
  },
  {
   "cell_type": "code",
   "execution_count": null,
   "id": "51354510-2ae7-416e-840d-6bea7c84c1aa",
   "metadata": {},
   "outputs": [],
   "source": [
    "\"\"\"example for a\"\"\"\n",
    "try:\n",
    "    num1 = int(input(\"Enter the first number: \"))\n",
    "    num2 = int(input(\"Enter the second number: \"))\n",
    "    result = num1 / num2\n",
    "except ValueError:\n",
    "    print(\"Please enter valid numbers.\")\n",
    "except ZeroDivisionError:\n",
    "    print(\"Cannot divide by zero.\")\n",
    "else:\n",
    "    print(f\"The result is: {result}\")\n",
    "\n",
    "\"\"\"example for b\"\"\"\n",
    "try:\n",
    "    f = open(\"myfile.txt\", \"r\")\n",
    "    # perform some file operations\n",
    "except IOError:\n",
    "    print(\"Error: could not open file\")\n",
    "finally:\n",
    "    f.close()\n",
    "\n",
    "\"\"\"Example for c\"\"\"\n",
    "def divide(num1, num2):\n",
    "    if num2 == 0:\n",
    "        raise ZeroDivisionError(\"Cannot divide by zero\")\n",
    "    return num1 / num2\n",
    "\n",
    "try:\n",
    "    result = divide(10, 0)\n",
    "except ZeroDivisionError as e:\n",
    "    print(e)\n"
   ]
  },
  {
   "cell_type": "markdown",
   "id": "dfae26c1-39bc-469e-b9a8-57d401851d05",
   "metadata": {},
   "source": []
  },
  {
   "cell_type": "markdown",
   "id": "34827767-740d-4bb7-95fd-4335caaaa4f4",
   "metadata": {},
   "source": [
    "Question 5 : What are custom exception in python ? Why do we need custom exception in python.? Explain with an example.\n",
    "Answer :In Python, custom exceptions are user-defined exceptions that are created by the programmer to represent specific errors that may occur in a program. Custom exceptions allow the programmer to define their own error conditions and provide custom error messages, which can make it easier to debug and maintain the code.\n",
    "\n",
    "We need custom exceptions in Python because built-in exceptions may not always be specific enough to describe the type of error that occurred in our code. For example, if we are building an application that reads and writes files, and encounters an error while reading a file, the built-in `IOError` exception may not provide enough information to determine the cause of the error. In such cases, we can define our own custom exception, such as `FileReadError`, to represent this specific error condition.\n",
    "ere's an example of defining and using a custom exception in Python:"
   ]
  },
  {
   "cell_type": "code",
   "execution_count": null,
   "id": "cfc08489-13d1-45ff-86f1-5e91140f0bc1",
   "metadata": {},
   "outputs": [],
   "source": [
    "class FileReadError(Exception):\n",
    "    def __init__(self, filename):\n",
    "        self.filename = filename\n",
    "    \n",
    "    def __str__(self):\n",
    "        return f\"Error reading file {self.filename}\"\n",
    "\n",
    "def read_file(filename):\n",
    "    try:\n",
    "        with open(filename, 'r') as f:\n",
    "            # perform file operations here\n",
    "    except IOError:\n",
    "        raise FileReadError(filename)\n",
    "\n",
    "try:\n",
    "    read_file(\"myfile.txt\")\n",
    "except FileReadError as e:\n",
    "    print(e)"
   ]
  },
  {
   "cell_type": "markdown",
   "id": "1c78106f-61a7-4ece-8b34-d30a01071f46",
   "metadata": {},
   "source": [
    "In this code, we have defined a custom exception named `FileReadError` that inherits from the base `Exception` class. The `FileReadError` exception takes a filename argument in its constructor, and overrides the `__str__` method to provide a custom error message.\n",
    "\n",
    "We are then defining a function named `read_file` that reads a file and raises a `FileReadError` exception if an `IOError` occurs while trying to read the file.\n",
    "\n",
    "In the try block, we are calling the `read_file` function and catching any `FileReadError` exceptions that may be raised. If a `FileReadError` exception is caught, we print the error message.\n",
    "Using custom exceptions can make our code more readable and easier to maintain, as it allows us to handle specific error conditions in a more meaningful way."
   ]
  },
  {
   "cell_type": "raw",
   "id": "03c447f4-4381-41ec-885b-58196caed64b",
   "metadata": {},
   "source": []
  },
  {
   "cell_type": "markdown",
   "id": "90564bc6-44ad-4a36-851e-16ce238f9662",
   "metadata": {},
   "source": [
    "Question 6 : Create a custom exception class.  Use that class to handle and exception. \n",
    "Answer :In this code, we have defined a custom exception class named `NegativeNumberError` that inherits from the base `Exception` class. The `NegativeNumberError` exception is raised when the input to the `calculate_square`function is a negative number.\n",
    "\n",
    "We are then defining a function named `calculate_square` that calculates the square of a number, and raises a `NegativeNumberError` exception if the input is negative.\n",
    "\n",
    "In the `try` block, we are calling the `calculate_square` function with a negative number (-5). Since the input is negative, a `NegativeNumberError` exception is raised. We are catching the exception in the `except` block and printing the error message."
   ]
  },
  {
   "cell_type": "code",
   "execution_count": 2,
   "id": "189b76fd-7a58-4d25-8544-a6e2862a0884",
   "metadata": {},
   "outputs": [
    {
     "name": "stdout",
     "output_type": "stream",
     "text": [
      "Error: Input must be a positive number\n"
     ]
    }
   ],
   "source": [
    "class NegativeNumberError(Exception):\n",
    "    \"\"\"Custom exception for negative numbers\"\"\"\n",
    "    pass\n",
    "\n",
    "def calculate_square(num):\n",
    "    if num < 0:\n",
    "        raise NegativeNumberError(\"Input must be a positive number\")\n",
    "    return num**2\n",
    "\n",
    "try:\n",
    "    result = calculate_square(-5)\n",
    "    print(result)\n",
    "except NegativeNumberError as e:\n",
    "    print(f\"Error: {e}\")\n"
   ]
  },
  {
   "cell_type": "code",
   "execution_count": null,
   "id": "2d3062aa-dd5a-4556-abb7-9a003188cac7",
   "metadata": {},
   "outputs": [],
   "source": []
  }
 ],
 "metadata": {
  "kernelspec": {
   "display_name": "Python 3 (ipykernel)",
   "language": "python",
   "name": "python3"
  },
  "language_info": {
   "codemirror_mode": {
    "name": "ipython",
    "version": 3
   },
   "file_extension": ".py",
   "mimetype": "text/x-python",
   "name": "python",
   "nbconvert_exporter": "python",
   "pygments_lexer": "ipython3",
   "version": "3.10.8"
  }
 },
 "nbformat": 4,
 "nbformat_minor": 5
}
