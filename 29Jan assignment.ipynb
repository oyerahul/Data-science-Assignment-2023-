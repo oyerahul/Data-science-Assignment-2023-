{
 "cells": [
  {
   "cell_type": "code",
   "execution_count": 2,
   "id": "f0d267ce-a90b-46d3-9d49-adc4ac0ef064",
   "metadata": {},
   "outputs": [],
   "source": [
    "QUESTION 1:-who developed python programming language\n",
    "ANSWER : Guido van Rossum\n"
   ]
  },
  {
   "cell_type": "code",
   "execution_count": 3,
   "id": "084c885d-eadf-43f5-b438-e581802b7197",
   "metadata": {},
   "outputs": [],
   "source": [
    "QUESTION 2:-which type of programming does python support\n",
    "ANSWER : Python is a multi-paradigm programming language. \n",
    "         Object-oriented programming and structured programming are fully supported, \n",
    "         and many of their features support functional programming and aspect-oriented\n",
    "         programming (including metaprogramming and metaobjects)"
   ]
  },
  {
   "cell_type": "code",
   "execution_count": null,
   "id": "7b75b768-0d75-4198-9aad-f8ffffe93ead",
   "metadata": {},
   "outputs": [],
   "source": [
    "QUESTION 3:-is python case sensitive when dealing with identifiers.\n",
    "ANSWER: Yes, Python is a case-sensitive language, i.e., it treats uppercase and lowercase characters differently.\n",
    "        This applies to identifiers too.\n",
    "        You must avoid using the same name with different cases while naming identifiers. \n",
    "        It is always good to use names that are more easily understood. \n",
    "        If you want to store counts of 2 values, you would rather name your variables count1 and count2 \n",
    "        instead of naming them C and c. \n",
    "        Although the latter would give you separate variables, it can cause a lack of understanding in \n",
    "        the longer run"
   ]
  },
  {
   "cell_type": "code",
   "execution_count": null,
   "id": "1a6a4361-8807-4231-aad3-dfdd89fe18c4",
   "metadata": {},
   "outputs": [],
   "source": [
    "QUESTION 4:-what is the correct extension of the python file.\n",
    "ANSWER: .py\n"
   ]
  },
  {
   "cell_type": "code",
   "execution_count": null,
   "id": "770f2eb9-c8fa-4b52-84ab-95c673488c49",
   "metadata": {},
   "outputs": [],
   "source": [
    "QUESTION 5:-is python code compiled or interpreted\n",
    "ANSWER : python compiled or interpreted both type of language\n",
    "\t\t The compilation part is hidden from the programmer thus\n",
    "         The compilation part is done first when we execute our code and this will generate byte code\n",
    "         and internally this byte code gets converted by the python virtual\n",
    "         machine(p.v.m) according to the underlying platform(machine+operating system)."
   ]
  },
  {
   "cell_type": "code",
   "execution_count": null,
   "id": "73eec099-e6d4-4880-984e-ea6506614875",
   "metadata": {},
   "outputs": [],
   "source": [
    "QUESTION 6:-name a few blocks of code used to define in python language \n",
    "ANSWER: Indentation is used to define a block of code in python. Braces {} are used to define \n",
    "        a block of code in most programming languages, like C, C++, and Java. \n",
    "        But this indentation makes python unique among all programming languages.\n",
    "        This indentation highlights the block of code. In Python, \n",
    "        indentation is done with whitespace. All statements with the same right-hand distance\n",
    "        belong to the same code block. If a block needs to be more nested, it is indented to the right.\n",
    "        \n",
    "EXAMPLE:\n",
    "\n",
    "name = 'SAURABH'\n",
    "    \n",
    "if name == 'SAURABH':\n",
    "    print('Correct Name!!')\n",
    "else:\n",
    "\tprint('InCorrect Name:(')\n",
    "print('HI')"
   ]
  },
  {
   "cell_type": "code",
   "execution_count": null,
   "id": "0fd13a9c-e1bf-446d-ac33-e291968449a4",
   "metadata": {},
   "outputs": [],
   "source": [
    "QUESTION 7:-states a character used to give single-line comment in python\n",
    "ANSWRE: #"
   ]
  },
  {
   "cell_type": "code",
   "execution_count": null,
   "id": "d804a5dd-a45e-4e3c-afb0-e540ba855ff2",
   "metadata": {},
   "outputs": [],
   "source": [
    "QUESTION 8:-mention functions which can help us to find the version of python that we are currently\n",
    "working on.\n",
    "ANSWER:  sys.version"
   ]
  },
  {
   "cell_type": "code",
   "execution_count": null,
   "id": "dd7aaf42-b599-406c-8da0-e38e063fb7df",
   "metadata": {},
   "outputs": [],
   "source": [
    "QUESTION 9:-python supports the creationof anonymous function at runtime using a construct called\n",
    "ANSWER : lambda"
   ]
  },
  {
   "cell_type": "code",
   "execution_count": null,
   "id": "a535c307-6d66-43dd-a7c7-511ef95ae7b9",
   "metadata": {},
   "outputs": [],
   "source": [
    "QUESTION 10:-what does pip stand for python\n",
    "ANSWER : fulll form of pip is preferred installation program\n",
    "         its is package management system to install and manage software packages written \n",
    "         in Python and found in Python Package Index (PyPI).\n",
    "         basically it is used to install additional libraries and packages that \n",
    "         are not part of the standard Python library"
   ]
  },
  {
   "cell_type": "code",
   "execution_count": null,
   "id": "74fe87dc-7073-467d-b82f-671edfabcd96",
   "metadata": {},
   "outputs": [],
   "source": [
    "QUESTION 11:-mention a few build in function in python\n",
    "ANSWER :print( ) function.\n",
    "        type( ) function.\n",
    "        input( ) function.\n",
    "        abs( ) function.\n",
    "        pow( ) function  "
   ]
  },
  {
   "cell_type": "code",
   "execution_count": null,
   "id": "5c4c3776-5f64-46c8-aabd-f42597220a4f",
   "metadata": {},
   "outputs": [],
   "source": [
    "QUESTION 12:-what is the maximum possible lenght of an identifier in python\n",
    "ANSWER :79 characters"
   ]
  },
  {
   "cell_type": "code",
   "execution_count": null,
   "id": "dc97aa24-aec4-4400-b399-2f5053f486a8",
   "metadata": {},
   "outputs": [],
   "source": [
    "QUESTION 13:-what are the benifit of using python\n",
    "ANSWER : 1.Easy to Read, Learn and Write\n",
    "         2.Dynamically Typed\n",
    "         3.Vast Libraries Support\n",
    "        it is also used in data science webdevlopment and in many more technologies"
   ]
  },
  {
   "cell_type": "code",
   "execution_count": null,
   "id": "16fe9988-4e89-4b21-804a-6ccf20811041",
   "metadata": {},
   "outputs": [],
   "source": [
    "QUESTION 14:how is memory manage in python\n",
    "ANSWER :Memory management in Python involves a private heap containing all Python objects and data structures.\n",
    "        The management of this private heap is ensured internally by the Python memory manager.\n",
    "        The Python memory manager has different components which deal with various dynamic storage management\n",
    "        aspects, like sharing, segmentation, preallocation or caching."
   ]
  },
  {
   "cell_type": "code",
   "execution_count": null,
   "id": "ee41b0c6-3ae2-4b74-bcaf-e75a7e013677",
   "metadata": {},
   "outputs": [],
   "source": [
    "QUESTION 15:how to install python on windows and set path variable\n",
    "ANSWER : how to install:\n",
    "       1. Open a browser to the Python website and download the Windows installer.\n",
    "       2. Double click on the downloaded file and install Python for all users, and ensure \n",
    "         that Python is added to your path. Click on Install now to begin.\n",
    "         Adding Python to the path will enable us to use the Python interpreter from any part of the filesystem.\n",
    "       3. After the installation is complete, click Disable path length limit and then Close.\n",
    "           Disabling the path length limit means we can use more than 260 characters in a file path.\n",
    "       4. Click Close to end the installation.\n",
    "    \n",
    "    \n",
    "       set path:\n",
    "       1.Right-clicking This PC and going to Properties.\n",
    "       2.Clicking on the Advanced system settings in the menu on the left.\n",
    "       3.Clicking on the Environment Variables button o​n the bottom right.\n",
    "       4.In the System variables section, selecting the Path variable and clicking on Edit. \n",
    "       The next screen will show all the directories that are currently a part of the PATH variable.\n",
    "       5.Clicking on New and entering Python’s install directory"
   ]
  },
  {
   "cell_type": "code",
   "execution_count": null,
   "id": "2f29482c-5b47-4656-a53e-eb8074750924",
   "metadata": {},
   "outputs": [],
   "source": [
    "QUESTION 16:is indentation required in python\n",
    "ANSWER : yes otherwise its give an error"
   ]
  }
 ],
 "metadata": {
  "kernelspec": {
   "display_name": "Python 3 (ipykernel)",
   "language": "python",
   "name": "python3"
  },
  "language_info": {
   "codemirror_mode": {
    "name": "ipython",
    "version": 3
   },
   "file_extension": ".py",
   "mimetype": "text/x-python",
   "name": "python",
   "nbconvert_exporter": "python",
   "pygments_lexer": "ipython3",
   "version": "3.10.8"
  }
 },
 "nbformat": 4,
 "nbformat_minor": 5
}
