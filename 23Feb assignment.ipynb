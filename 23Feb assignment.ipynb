{
 "cells": [
  {
   "cell_type": "markdown",
   "id": "7f2b022a-e83c-4165-a682-5e39ec5f1796",
   "metadata": {},
   "source": [
    "`Question1`. Create a Pandas Series that contains the following data: 4, 8, 15, 16, 23, and 42. Then, print the series."
   ]
  },
  {
   "cell_type": "code",
   "execution_count": 1,
   "id": "1215d9b7-5998-461c-9447-4a9ca0004a91",
   "metadata": {},
   "outputs": [
    {
     "name": "stdout",
     "output_type": "stream",
     "text": [
      "0     4\n",
      "1     8\n",
      "2    15\n",
      "3    16\n",
      "4    23\n",
      "5    24\n",
      "dtype: int64\n"
     ]
    }
   ],
   "source": [
    "# Answer\n",
    "import pandas as pd\n",
    "s = pd.Series([4,8,15,16,23,24])\n",
    "print(s)"
   ]
  },
  {
   "cell_type": "code",
   "execution_count": null,
   "id": "3cd59b2e-4263-4427-9726-44c0e3f49595",
   "metadata": {},
   "outputs": [],
   "source": []
  },
  {
   "cell_type": "markdown",
   "id": "ba21aa02-8c8e-43e2-8a21-3906665956cd",
   "metadata": {},
   "source": [
    "`Question 2` Create a variable of list type containing 10 elements in it, and apply pandas.Series function on the\n",
    "variable print it."
   ]
  },
  {
   "cell_type": "code",
   "execution_count": 2,
   "id": "d85c0460-92d8-4474-853b-0a73ea8fa7f8",
   "metadata": {},
   "outputs": [
    {
     "name": "stdout",
     "output_type": "stream",
     "text": [
      "0         apple\n",
      "1        banana\n",
      "2        cherry\n",
      "3          date\n",
      "4    elderberry\n",
      "5           fig\n",
      "6         grape\n",
      "7      honeydew\n",
      "8          imbe\n",
      "9     jackfruit\n",
      "dtype: object\n"
     ]
    }
   ],
   "source": [
    "# Answer\n",
    "import pandas as pd\n",
    "\n",
    "my_list = ['apple', 'banana', 'cherry', 'date', 'elderberry', 'fig', 'grape', 'honeydew', 'imbe', 'jackfruit']\n",
    "my_series = pd.Series(my_list)\n",
    "\n",
    "print(my_series)"
   ]
  },
  {
   "cell_type": "code",
   "execution_count": null,
   "id": "88f43b11-59e5-4bdc-b1fb-652ac1c1142a",
   "metadata": {},
   "outputs": [],
   "source": []
  },
  {
   "cell_type": "markdown",
   "id": "75a2e083-0747-4773-b358-5337bd3de012",
   "metadata": {},
   "source": [
    "`Question3` Create a Pandas DataFrame that contains the following data:"
   ]
  },
  {
   "cell_type": "code",
   "execution_count": 14,
   "id": "7de22cb2-376a-4edf-afe3-e80901784355",
   "metadata": {},
   "outputs": [
    {
     "data": {
      "text/html": [
       "<div>\n",
       "<style scoped>\n",
       "    .dataframe tbody tr th:only-of-type {\n",
       "        vertical-align: middle;\n",
       "    }\n",
       "\n",
       "    .dataframe tbody tr th {\n",
       "        vertical-align: top;\n",
       "    }\n",
       "\n",
       "    .dataframe thead th {\n",
       "        text-align: right;\n",
       "    }\n",
       "</style>\n",
       "<table border=\"1\" class=\"dataframe\">\n",
       "  <thead>\n",
       "    <tr style=\"text-align: right;\">\n",
       "      <th></th>\n",
       "      <th>Name</th>\n",
       "      <th>Age</th>\n",
       "      <th>Gender</th>\n",
       "    </tr>\n",
       "  </thead>\n",
       "  <tbody>\n",
       "    <tr>\n",
       "      <th>0</th>\n",
       "      <td>Alice</td>\n",
       "      <td>25</td>\n",
       "      <td>Female</td>\n",
       "    </tr>\n",
       "    <tr>\n",
       "      <th>1</th>\n",
       "      <td>Bob</td>\n",
       "      <td>30</td>\n",
       "      <td>Male</td>\n",
       "    </tr>\n",
       "    <tr>\n",
       "      <th>2</th>\n",
       "      <td>Claire</td>\n",
       "      <td>27</td>\n",
       "      <td>Female</td>\n",
       "    </tr>\n",
       "  </tbody>\n",
       "</table>\n",
       "</div>"
      ],
      "text/plain": [
       "     Name  Age  Gender\n",
       "0   Alice   25  Female\n",
       "1     Bob   30    Male\n",
       "2  Claire   27  Female"
      ]
     },
     "execution_count": 14,
     "metadata": {},
     "output_type": "execute_result"
    }
   ],
   "source": [
    "# Answer\n",
    "import pandas as pd\n",
    "\n",
    "data = {\"Name\" : ['Alice' ,'Bob' ,'Claire'],\n",
    "        \"Age\": [25, 30, 27],\n",
    "        \"Gender\": [\"Female\", \"Male\", \"Female\"]\n",
    "       }\n",
    "pd.DataFrame.from_dict(data)\n"
   ]
  },
  {
   "cell_type": "code",
   "execution_count": null,
   "id": "fe1c0222-6644-4cf2-8565-8cb3fd0bd7b8",
   "metadata": {},
   "outputs": [],
   "source": []
  },
  {
   "cell_type": "markdown",
   "id": "7a4b83b8-9c40-4c97-be03-c6dae8548905",
   "metadata": {},
   "source": [
    "`Question 4`. What is ‘DataFrame’ in pandas and how is it different from pandas.series? Explain with an example.\n",
    "\n",
    "`Answer` : In Pandas, a DataFrame is a 2-dimensional labeled data structure that is used to store and manipulate tabular data. It is similar to a spreadsheet or a SQL table, where rows represent individual observations, and columns represent the variables or features of the data.\n",
    "\n",
    "A Pandas Series, on the other hand, is a 1-dimensional labeled array that can hold any data type such as integers, floats, strings, etc. It is similar to a column in a spreadsheet or a field in a database table.\n",
    "\n",
    "Here's an example to illustrate the differences between a Pandas DataFrame and a Series:"
   ]
  },
  {
   "cell_type": "code",
   "execution_count": 7,
   "id": "eef9fe46-f9d2-45e5-9f3f-bee2aa54b362",
   "metadata": {},
   "outputs": [
    {
     "name": "stdout",
     "output_type": "stream",
     "text": [
      "0     4\n",
      "1     8\n",
      "2    15\n",
      "3    16\n",
      "4    23\n",
      "5    42\n",
      "Name: numbers, dtype: int64\n"
     ]
    }
   ],
   "source": [
    "# Answer\n",
    "import pandas as pd\n",
    "\n",
    "# creating a Series\n",
    "my_series = pd.Series([4, 8, 15, 16, 23, 42], name='numbers')\n",
    "\n",
    "print(my_series)"
   ]
  },
  {
   "cell_type": "code",
   "execution_count": 9,
   "id": "d9a06ce4-866c-4356-b19e-99b8d56589e4",
   "metadata": {},
   "outputs": [
    {
     "name": "stdout",
     "output_type": "stream",
     "text": [
      "      name  age  gender\n",
      "0    Alice   25  female\n",
      "1      Bob   32    male\n",
      "2  Charlie   19    male\n",
      "3    David   47    male\n",
      "4     Emma   31  female\n"
     ]
    }
   ],
   "source": [
    "# creating a DataFrame\n",
    "my_data = {'name': ['Alice', 'Bob', 'Charlie', 'David', 'Emma'],\n",
    "           'age': [25, 32, 19, 47, 31],\n",
    "           'gender': ['female', 'male', 'male', 'male', 'female']}\n",
    "\n",
    "my_dataframe = pd.DataFrame.from_dict(my_data)\n",
    "\n",
    "print(my_dataframe)\n"
   ]
  },
  {
   "cell_type": "code",
   "execution_count": null,
   "id": "35d84f90-c7f5-4eb1-b6d7-6c59fb6809b8",
   "metadata": {},
   "outputs": [],
   "source": []
  },
  {
   "cell_type": "markdown",
   "id": "141b8cf1-060c-4cf4-b8fc-20ccb2cf2053",
   "metadata": {},
   "source": [
    "`Questionn 5`. What are some common functions you can use to manipulate data in a Pandas DataFrame? Can\n",
    "you give an example of when you might use one of these functions?\n",
    "\n",
    "`Answer`:There are many built-in functions available in Pandas to manipulate data in a DataFrame. Some of the most common ones include:\n",
    "\n",
    "1. head() and tail(): These functions allow you to view the top or bottom N rows of a DataFrame, respectively. This can be useful when you want to get a quick overview of the data.\n",
    "\n",
    "2. describe(): This function generates a statistical summary of the DataFrame, including count, mean, standard deviation, minimum, maximum, and quartile values for each column. This can be useful when you want to get a quick sense of the distribution of the data.\n",
    "\n",
    "3. sort_values(): This function allows you to sort the DataFrame by one or more columns. This can be useful when you want to order the data based on a certain variable.\n",
    "\n",
    "4. groupby(): This function allows you to group the DataFrame by one or more columns and apply a function to each group. This can be useful when you want to aggregate data based on a certain variable.\n",
    "\n",
    "5. pivot_table(): This function allows you to create a pivot table from the DataFrame, which is a way of summarizing and aggregating data in a tabular format. This can be useful when you want to see how different variables are related to each other.\n",
    "\n",
    "6. apply(): This function allows you to apply a function to each element of a DataFrame. This can be useful when you want to transform the data in some way."
   ]
  },
  {
   "cell_type": "code",
   "execution_count": 15,
   "id": "dbc7d21d-2bb3-4a4b-88e1-5404eb3b28db",
   "metadata": {},
   "outputs": [],
   "source": [
    "import pandas as pd\n",
    "\n",
    "# create a DataFrame\n",
    "data = {'name': ['Alice', 'Bob', 'Charlie', 'David', 'Emma'],\n",
    "        'age': [25, 32, 19, 47, 31],\n",
    "        'gender': ['female', 'male', 'male', 'male', 'female'],\n",
    "        'salary': [50000, 75000, 40000, 100000, 60000]}\n",
    "\n",
    "df = pd.DataFrame(data)\n"
   ]
  },
  {
   "cell_type": "code",
   "execution_count": 16,
   "id": "8e4547fa-bd07-45de-990e-e5c83990319f",
   "metadata": {},
   "outputs": [
    {
     "data": {
      "text/html": [
       "<div>\n",
       "<style scoped>\n",
       "    .dataframe tbody tr th:only-of-type {\n",
       "        vertical-align: middle;\n",
       "    }\n",
       "\n",
       "    .dataframe tbody tr th {\n",
       "        vertical-align: top;\n",
       "    }\n",
       "\n",
       "    .dataframe thead th {\n",
       "        text-align: right;\n",
       "    }\n",
       "</style>\n",
       "<table border=\"1\" class=\"dataframe\">\n",
       "  <thead>\n",
       "    <tr style=\"text-align: right;\">\n",
       "      <th></th>\n",
       "      <th>name</th>\n",
       "      <th>age</th>\n",
       "      <th>gender</th>\n",
       "      <th>salary</th>\n",
       "    </tr>\n",
       "  </thead>\n",
       "  <tbody>\n",
       "    <tr>\n",
       "      <th>0</th>\n",
       "      <td>Alice</td>\n",
       "      <td>25</td>\n",
       "      <td>female</td>\n",
       "      <td>50000</td>\n",
       "    </tr>\n",
       "    <tr>\n",
       "      <th>1</th>\n",
       "      <td>Bob</td>\n",
       "      <td>32</td>\n",
       "      <td>male</td>\n",
       "      <td>75000</td>\n",
       "    </tr>\n",
       "    <tr>\n",
       "      <th>2</th>\n",
       "      <td>Charlie</td>\n",
       "      <td>19</td>\n",
       "      <td>male</td>\n",
       "      <td>40000</td>\n",
       "    </tr>\n",
       "    <tr>\n",
       "      <th>3</th>\n",
       "      <td>David</td>\n",
       "      <td>47</td>\n",
       "      <td>male</td>\n",
       "      <td>100000</td>\n",
       "    </tr>\n",
       "    <tr>\n",
       "      <th>4</th>\n",
       "      <td>Emma</td>\n",
       "      <td>31</td>\n",
       "      <td>female</td>\n",
       "      <td>60000</td>\n",
       "    </tr>\n",
       "  </tbody>\n",
       "</table>\n",
       "</div>"
      ],
      "text/plain": [
       "      name  age  gender  salary\n",
       "0    Alice   25  female   50000\n",
       "1      Bob   32    male   75000\n",
       "2  Charlie   19    male   40000\n",
       "3    David   47    male  100000\n",
       "4     Emma   31  female   60000"
      ]
     },
     "execution_count": 16,
     "metadata": {},
     "output_type": "execute_result"
    }
   ],
   "source": [
    "df"
   ]
  },
  {
   "cell_type": "code",
   "execution_count": 21,
   "id": "1a0637f9-3fa5-4d2a-98f7-c78dee181ada",
   "metadata": {},
   "outputs": [
    {
     "data": {
      "text/plain": [
       "name      object\n",
       "age        int64\n",
       "gender    object\n",
       "salary     int64\n",
       "dtype: object"
      ]
     },
     "execution_count": 21,
     "metadata": {},
     "output_type": "execute_result"
    }
   ],
   "source": [
    "df.dtypes"
   ]
  },
  {
   "cell_type": "code",
   "execution_count": 22,
   "id": "feece266-e12a-450b-b277-c297a593188a",
   "metadata": {},
   "outputs": [
    {
     "data": {
      "text/html": [
       "<div>\n",
       "<style scoped>\n",
       "    .dataframe tbody tr th:only-of-type {\n",
       "        vertical-align: middle;\n",
       "    }\n",
       "\n",
       "    .dataframe tbody tr th {\n",
       "        vertical-align: top;\n",
       "    }\n",
       "\n",
       "    .dataframe thead th {\n",
       "        text-align: right;\n",
       "    }\n",
       "</style>\n",
       "<table border=\"1\" class=\"dataframe\">\n",
       "  <thead>\n",
       "    <tr style=\"text-align: right;\">\n",
       "      <th></th>\n",
       "      <th>age</th>\n",
       "      <th>salary</th>\n",
       "    </tr>\n",
       "  </thead>\n",
       "  <tbody>\n",
       "    <tr>\n",
       "      <th>count</th>\n",
       "      <td>5.00000</td>\n",
       "      <td>5.000000</td>\n",
       "    </tr>\n",
       "    <tr>\n",
       "      <th>mean</th>\n",
       "      <td>30.80000</td>\n",
       "      <td>65000.000000</td>\n",
       "    </tr>\n",
       "    <tr>\n",
       "      <th>std</th>\n",
       "      <td>10.44988</td>\n",
       "      <td>23452.078799</td>\n",
       "    </tr>\n",
       "    <tr>\n",
       "      <th>min</th>\n",
       "      <td>19.00000</td>\n",
       "      <td>40000.000000</td>\n",
       "    </tr>\n",
       "    <tr>\n",
       "      <th>25%</th>\n",
       "      <td>25.00000</td>\n",
       "      <td>50000.000000</td>\n",
       "    </tr>\n",
       "    <tr>\n",
       "      <th>50%</th>\n",
       "      <td>31.00000</td>\n",
       "      <td>60000.000000</td>\n",
       "    </tr>\n",
       "    <tr>\n",
       "      <th>75%</th>\n",
       "      <td>32.00000</td>\n",
       "      <td>75000.000000</td>\n",
       "    </tr>\n",
       "    <tr>\n",
       "      <th>max</th>\n",
       "      <td>47.00000</td>\n",
       "      <td>100000.000000</td>\n",
       "    </tr>\n",
       "  </tbody>\n",
       "</table>\n",
       "</div>"
      ],
      "text/plain": [
       "            age         salary\n",
       "count   5.00000       5.000000\n",
       "mean   30.80000   65000.000000\n",
       "std    10.44988   23452.078799\n",
       "min    19.00000   40000.000000\n",
       "25%    25.00000   50000.000000\n",
       "50%    31.00000   60000.000000\n",
       "75%    32.00000   75000.000000\n",
       "max    47.00000  100000.000000"
      ]
     },
     "execution_count": 22,
     "metadata": {},
     "output_type": "execute_result"
    }
   ],
   "source": [
    "df.describe()"
   ]
  },
  {
   "cell_type": "code",
   "execution_count": 23,
   "id": "5673070f-e18c-417b-9d0b-f5e7c0c7805b",
   "metadata": {},
   "outputs": [
    {
     "data": {
      "text/plain": [
       "Index(['name', 'age', 'gender', 'salary'], dtype='object')"
      ]
     },
     "execution_count": 23,
     "metadata": {},
     "output_type": "execute_result"
    }
   ],
   "source": [
    "df.columns"
   ]
  },
  {
   "cell_type": "code",
   "execution_count": 24,
   "id": "c15efcb7-82fc-42aa-a8d6-64fd10826201",
   "metadata": {},
   "outputs": [],
   "source": [
    "# Adding new column to table\n",
    "df['Married'] = [\"Yes\",\"No\",\"Yes\",\"No\",\"Yes\"]"
   ]
  },
  {
   "cell_type": "code",
   "execution_count": 25,
   "id": "8f464e10-3d3e-4309-9e5f-9839037a178b",
   "metadata": {},
   "outputs": [
    {
     "data": {
      "text/html": [
       "<div>\n",
       "<style scoped>\n",
       "    .dataframe tbody tr th:only-of-type {\n",
       "        vertical-align: middle;\n",
       "    }\n",
       "\n",
       "    .dataframe tbody tr th {\n",
       "        vertical-align: top;\n",
       "    }\n",
       "\n",
       "    .dataframe thead th {\n",
       "        text-align: right;\n",
       "    }\n",
       "</style>\n",
       "<table border=\"1\" class=\"dataframe\">\n",
       "  <thead>\n",
       "    <tr style=\"text-align: right;\">\n",
       "      <th></th>\n",
       "      <th>name</th>\n",
       "      <th>age</th>\n",
       "      <th>gender</th>\n",
       "      <th>salary</th>\n",
       "      <th>Married</th>\n",
       "    </tr>\n",
       "  </thead>\n",
       "  <tbody>\n",
       "    <tr>\n",
       "      <th>0</th>\n",
       "      <td>Alice</td>\n",
       "      <td>25</td>\n",
       "      <td>female</td>\n",
       "      <td>50000</td>\n",
       "      <td>Yes</td>\n",
       "    </tr>\n",
       "    <tr>\n",
       "      <th>1</th>\n",
       "      <td>Bob</td>\n",
       "      <td>32</td>\n",
       "      <td>male</td>\n",
       "      <td>75000</td>\n",
       "      <td>No</td>\n",
       "    </tr>\n",
       "    <tr>\n",
       "      <th>2</th>\n",
       "      <td>Charlie</td>\n",
       "      <td>19</td>\n",
       "      <td>male</td>\n",
       "      <td>40000</td>\n",
       "      <td>Yes</td>\n",
       "    </tr>\n",
       "    <tr>\n",
       "      <th>3</th>\n",
       "      <td>David</td>\n",
       "      <td>47</td>\n",
       "      <td>male</td>\n",
       "      <td>100000</td>\n",
       "      <td>No</td>\n",
       "    </tr>\n",
       "    <tr>\n",
       "      <th>4</th>\n",
       "      <td>Emma</td>\n",
       "      <td>31</td>\n",
       "      <td>female</td>\n",
       "      <td>60000</td>\n",
       "      <td>Yes</td>\n",
       "    </tr>\n",
       "  </tbody>\n",
       "</table>\n",
       "</div>"
      ],
      "text/plain": [
       "      name  age  gender  salary Married\n",
       "0    Alice   25  female   50000     Yes\n",
       "1      Bob   32    male   75000      No\n",
       "2  Charlie   19    male   40000     Yes\n",
       "3    David   47    male  100000      No\n",
       "4     Emma   31  female   60000     Yes"
      ]
     },
     "execution_count": 25,
     "metadata": {},
     "output_type": "execute_result"
    }
   ],
   "source": [
    "df"
   ]
  },
  {
   "cell_type": "code",
   "execution_count": 26,
   "id": "b4a7e7e7-b506-453a-8785-16ddf144f158",
   "metadata": {},
   "outputs": [
    {
     "data": {
      "text/plain": [
       "100000"
      ]
     },
     "execution_count": 26,
     "metadata": {},
     "output_type": "execute_result"
    }
   ],
   "source": [
    "df[\"salary\"].max()"
   ]
  },
  {
   "cell_type": "code",
   "execution_count": null,
   "id": "0531a0ae-a686-4079-b897-a5ac32fa09dc",
   "metadata": {},
   "outputs": [],
   "source": []
  },
  {
   "cell_type": "markdown",
   "id": "20acb9cc-1414-41b2-b601-f4c22eb0feda",
   "metadata": {},
   "source": [
    "`Question 6`. Which of the following is mutable in nature Series, DataFrame, Panel?\n",
    "\n",
    "`Answer`; In Pandas, both Series and DataFrame are mutable in nature, meaning their values can be changed after creation. However, Panel is an immutable data structure in Pandas, which means that its values cannot be changed after creation.\n",
    "\n",
    "Note that starting from version 0.25, the Panel data structure has been deprecated and users are recommended to use multi-dimensional NumPy arrays or Xarray instead.\n"
   ]
  },
  {
   "cell_type": "code",
   "execution_count": null,
   "id": "7b2d24b3-b424-4dbc-8943-c3a240890b51",
   "metadata": {},
   "outputs": [],
   "source": []
  },
  {
   "cell_type": "markdown",
   "id": "24772930-5dcc-4a44-9093-4d6453e5b9f9",
   "metadata": {},
   "source": [
    "`Question 7`. Create a DataFrame using multiple Series. Explain with an example."
   ]
  },
  {
   "cell_type": "code",
   "execution_count": 34,
   "id": "e467c73b-edce-4446-88b2-f7c841a9c6ce",
   "metadata": {},
   "outputs": [],
   "source": [
    "import pandas as pd\n",
    "\n",
    "# create Series for name, age, and gender\n",
    "names = pd.Series(['Alice', 'Bob', 'Charlie', 'David', 'Emma'])\n",
    "ages = pd.Series([25, 32, 19, 47, 31])\n",
    "genders = pd.Series(['female', 'male', 'male', 'male', 'female'])\n",
    "salary = pd.Series([50000, 75000, 40000, 100000, 60000])\n",
    "kids = pd.Series([1, 2, 0, 3, 4])\n",
    "married = pd.Series([\"Yes\", \"No\", \"Yes\", \"No\", \"Yes\"])\n",
    "\n",
    "# create a dictionary of Series\n",
    "data = {'name': names, 'age': ages, 'gender': genders, 'Salary': salary, 'Kids':kids, 'Married': married }\n",
    "\n",
    "# create a DataFrame from the dictionary\n",
    "df1 = pd.DataFrame(data)"
   ]
  },
  {
   "cell_type": "code",
   "execution_count": 33,
   "id": "0f64758c-fcd4-4db6-b8cc-631e1a8746ae",
   "metadata": {},
   "outputs": [
    {
     "data": {
      "text/html": [
       "<div>\n",
       "<style scoped>\n",
       "    .dataframe tbody tr th:only-of-type {\n",
       "        vertical-align: middle;\n",
       "    }\n",
       "\n",
       "    .dataframe tbody tr th {\n",
       "        vertical-align: top;\n",
       "    }\n",
       "\n",
       "    .dataframe thead th {\n",
       "        text-align: right;\n",
       "    }\n",
       "</style>\n",
       "<table border=\"1\" class=\"dataframe\">\n",
       "  <thead>\n",
       "    <tr style=\"text-align: right;\">\n",
       "      <th></th>\n",
       "      <th>name</th>\n",
       "      <th>age</th>\n",
       "      <th>gender</th>\n",
       "      <th>Salary</th>\n",
       "      <th>Kids</th>\n",
       "      <th>Married</th>\n",
       "    </tr>\n",
       "  </thead>\n",
       "  <tbody>\n",
       "    <tr>\n",
       "      <th>0</th>\n",
       "      <td>Alice</td>\n",
       "      <td>25</td>\n",
       "      <td>female</td>\n",
       "      <td>50000</td>\n",
       "      <td>1</td>\n",
       "      <td>Yes</td>\n",
       "    </tr>\n",
       "    <tr>\n",
       "      <th>1</th>\n",
       "      <td>Bob</td>\n",
       "      <td>32</td>\n",
       "      <td>male</td>\n",
       "      <td>75000</td>\n",
       "      <td>2</td>\n",
       "      <td>No</td>\n",
       "    </tr>\n",
       "    <tr>\n",
       "      <th>2</th>\n",
       "      <td>Charlie</td>\n",
       "      <td>19</td>\n",
       "      <td>male</td>\n",
       "      <td>40000</td>\n",
       "      <td>0</td>\n",
       "      <td>Yes</td>\n",
       "    </tr>\n",
       "    <tr>\n",
       "      <th>3</th>\n",
       "      <td>David</td>\n",
       "      <td>47</td>\n",
       "      <td>male</td>\n",
       "      <td>100000</td>\n",
       "      <td>3</td>\n",
       "      <td>No</td>\n",
       "    </tr>\n",
       "    <tr>\n",
       "      <th>4</th>\n",
       "      <td>Emma</td>\n",
       "      <td>31</td>\n",
       "      <td>female</td>\n",
       "      <td>60000</td>\n",
       "      <td>4</td>\n",
       "      <td>Yes</td>\n",
       "    </tr>\n",
       "  </tbody>\n",
       "</table>\n",
       "</div>"
      ],
      "text/plain": [
       "      name  age  gender  Salary  Kids Married\n",
       "0    Alice   25  female   50000     1     Yes\n",
       "1      Bob   32    male   75000     2      No\n",
       "2  Charlie   19    male   40000     0     Yes\n",
       "3    David   47    male  100000     3      No\n",
       "4     Emma   31  female   60000     4     Yes"
      ]
     },
     "execution_count": 33,
     "metadata": {},
     "output_type": "execute_result"
    }
   ],
   "source": [
    "df1"
   ]
  },
  {
   "cell_type": "code",
   "execution_count": null,
   "id": "895ff955-876e-4ea4-85cb-3b720b34cea7",
   "metadata": {},
   "outputs": [],
   "source": []
  },
  {
   "cell_type": "markdown",
   "id": "fdda4fab-4b1a-4491-a8b7-b841d2836979",
   "metadata": {},
   "source": [
    "`Completed.....`"
   ]
  }
 ],
 "metadata": {
  "kernelspec": {
   "display_name": "Python 3 (ipykernel)",
   "language": "python",
   "name": "python3"
  },
  "language_info": {
   "codemirror_mode": {
    "name": "ipython",
    "version": 3
   },
   "file_extension": ".py",
   "mimetype": "text/x-python",
   "name": "python",
   "nbconvert_exporter": "python",
   "pygments_lexer": "ipython3",
   "version": "3.10.8"
  }
 },
 "nbformat": 4,
 "nbformat_minor": 5
}
