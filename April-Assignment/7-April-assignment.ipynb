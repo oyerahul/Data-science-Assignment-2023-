{
 "cells": [
  {
   "cell_type": "markdown",
   "id": "f1890b16-e313-47b1-b27e-a9d5e2025153",
   "metadata": {},
   "source": [
    "`Question 1`. What is the relationship between polynomial functions and kernel functions in machine learning\n",
    "algorithms?\n",
    "\n",
    "`Answer` :\n",
    "Polynomial functions and kernel functions are both mathematical tools used in machine learning, particularly in the context of support vector machines (SVMs) and kernelized methods. Let's explore their relationship:\n",
    "\n",
    "1. **Polynomial Functions:**\n",
    "   - Polynomial functions are mathematical functions that involve variables raised to whole number powers and multiplied by coefficients.\n",
    "   - In the context of machine learning, polynomial functions are often used as the basis functions for feature transformation in polynomial regression or kernelized SVMs.\n",
    "   - Polynomial regression involves fitting a polynomial function to the data, allowing for more complex relationships to be captured compared to linear regression.\n",
    "\n",
    "2. **Kernel Functions:**\n",
    "   - Kernel functions are used in machine learning algorithms, especially in support vector machines (SVMs), to transform the input data into a higher-dimensional space without explicitly computing the transformed feature vectors.\n",
    "   - The kernel trick is a way to implicitly map input data into a higher-dimensional space, allowing linear algorithms to effectively operate in a nonlinear feature space.\n",
    "   - Common kernel functions include the linear kernel, polynomial kernel, radial basis function (RBF) kernel, and others.\n",
    "\n",
    "3. **Relationship:**\n",
    "   - The polynomial kernel is a specific type of kernel function used in SVMs that is based on polynomial functions. It allows SVMs to capture non-linear relationships between features.\n",
    "   - The polynomial kernel is defined as $(K(x, y) = (x \\cdot y + c)^d)$, where $(x)$ and $(y)$ are input feature vectors, $(c)$ is a constant, and $(d)$ is the degree of the polynomial.\n",
    "   - Essentially, the polynomial kernel computes the inner product of the input feature vectors raised to a certain degree and adds a constant term.\n",
    "\n",
    "4. **Usage in SVMs:**\n",
    "   - In SVMs, the choice of kernel function, including the polynomial kernel, is crucial for capturing complex relationships in the data.\n",
    "   - The polynomial kernel allows SVMs to model non-linear decision boundaries by implicitly transforming the input features into a higher-dimensional space.\n",
    "\n",
    "In summary, the relationship between polynomial functions and kernel functions in machine learning lies in the fact that the polynomial kernel is a type of kernel function that uses polynomial functions to implicitly map data into a higher-dimensional space, enabling SVMs to capture non-linear patterns in the data."
   ]
  },
  {
   "cell_type": "code",
   "execution_count": null,
   "id": "a3f3d7f4-b184-4be4-9a10-af5c61cd4ead",
   "metadata": {},
   "outputs": [],
   "source": []
  },
  {
   "cell_type": "markdown",
   "id": "1783352d-152c-499c-bb55-165eaf4cede6",
   "metadata": {},
   "source": [
    "`Question 2`. How can we implement an SVM with a polynomial kernel in Python using Scikit-learn?\n",
    "\n",
    "`Answer` :\n",
    "Implementing an SVM with a polynomial kernel in Python using Scikit-learn is straightforward. Scikit-learn provides the `SVC` (Support Vector Classification) class, which allows you to specify the kernel type, including the polynomial kernel. Here's an example:\n",
    "\n",
    "```python\n",
    "from sklearn import datasets\n",
    "from sklearn.model_selection import train_test_split\n",
    "from sklearn.preprocessing import StandardScaler\n",
    "from sklearn.svm import SVC\n",
    "from sklearn.metrics import accuracy_score\n",
    "\n",
    "# Load a sample dataset (e.g., the Iris dataset)\n",
    "iris = datasets.load_iris()\n",
    "X = iris.data\n",
    "y = iris.target\n",
    "\n",
    "# Split the data into training and testing sets\n",
    "X_train, X_test, y_train, y_test = train_test_split(X, y, test_size=0.2, random_state=42)\n",
    "\n",
    "# Standardize the features (important for SVMs)\n",
    "scaler = StandardScaler()\n",
    "X_train_scaled = scaler.fit_transform(X_train)\n",
    "X_test_scaled = scaler.transform(X_test)\n",
    "\n",
    "# Create an SVM classifier with a polynomial kernel\n",
    "# You can adjust the degree parameter for the polynomial kernel\n",
    "# For example, degree=3 represents a cubic polynomial kernel\n",
    "svm_classifier = SVC(kernel='poly', degree=3, C=1.0, gamma='scale')  \n",
    "# C is the regularization parameter, and gamma is the kernel coefficient (auto uses 1/n_features)\n",
    "\n",
    "# Train the SVM classifier\n",
    "svm_classifier.fit(X_train_scaled, y_train)\n",
    "\n",
    "# Make predictions on the test set\n",
    "y_pred = svm_classifier.predict(X_test_scaled)\n",
    "\n",
    "# Evaluate the accuracy\n",
    "accuracy = accuracy_score(y_test, y_pred)\n",
    "print(f'Accuracy: {accuracy}')\n",
    "```\n",
    "\n",
    "In this example, we use the Iris dataset, split it into training and testing sets, standardize the features (important for SVMs), and then create an SVM classifier with a polynomial kernel using the `SVC` class. The `degree` parameter in the `SVC` class is used to specify the degree of the polynomial kernel.\n",
    "\n",
    "You can adjust the `degree`, `C`, and other parameters based on the characteristics of your dataset and the complexity of the relationships you want the SVM to capture. Experimentation with these parameters is often necessary to find the best model for your specific problem."
   ]
  },
  {
   "cell_type": "code",
   "execution_count": null,
   "id": "3a94008b-e500-414f-b5ed-9a47136038fe",
   "metadata": {},
   "outputs": [],
   "source": []
  },
  {
   "cell_type": "markdown",
   "id": "0efae261-f84d-483b-9c40-62c64c95ee02",
   "metadata": {},
   "source": [
    "`Question 3`. How does increasing the value of epsilon affect the number of support vectors in SVR?\n",
    "\n",
    "`Answer` :\n",
    "In Support Vector Regression (SVR), the parameter epsilon (denoted as ε) is part of the margin around the predicted values within which no penalty is associated with errors. Specifically, in SVR, you have two parameters that control the width of the ε-insensitive tube: ε and C.\n",
    "\n",
    "- **ε (epsilon):** The width of the ε-insensitive tube. It determines the margin within which errors are not penalized. Any prediction within ε distance from the true target is considered accurate.\n",
    "\n",
    "- **C:** The regularization parameter, which controls the trade-off between achieving a low training error and a low testing error. Higher values of C encourage a smaller-margin hyperplane, potentially leading to more training errors but fewer support vectors.\n",
    "\n",
    "Now, let's address your question about the effect of increasing the value of epsilon on the number of support vectors in SVR:\n",
    "\n",
    "1. **Increasing Epsilon:**\n",
    "   - When you increase the value of epsilon, you are essentially widening the ε-insensitive tube. This means that SVR becomes more tolerant to errors within this wider margin.\n",
    "   - As epsilon increases, the model becomes less sensitive to small deviations between the predicted values and the actual targets. This results in a larger margin where errors are not penalized.\n",
    "\n",
    "2. **Effect on Support Vectors:**\n",
    "   - Increasing epsilon generally leads to an increase in the number of support vectors. This is because a larger ε-insensitive tube allows more data points to fall within the margin without incurring a penalty.\n",
    "   - Support vectors are the data points that either lie on the margin or within the ε-insensitive tube. When epsilon is larger, more data points can be within this wider tube without violating the margin constraints.\n",
    "\n",
    "3. **Impact on Model Complexity:**\n",
    "   - A larger epsilon makes the model more flexible and tolerant to errors but may lead to a less precise fit to the training data. It could result in a smoother regression function with a larger margin.\n",
    "\n",
    "In summary, increasing the value of epsilon in SVR generally leads to a wider ε-insensitive tube, making the model more tolerant to errors. This, in turn, tends to increase the number of support vectors, as more data points can fall within the widened margin without penalty. The choice of epsilon should be based on the trade-off between model flexibility and precision that is suitable for the specific problem at hand."
   ]
  },
  {
   "cell_type": "code",
   "execution_count": null,
   "id": "b4e13f4e-ac98-4d22-afc1-bbe19998b0a1",
   "metadata": {},
   "outputs": [],
   "source": []
  },
  {
   "cell_type": "markdown",
   "id": "39441cce-f62b-4fc6-9f12-6848006a338d",
   "metadata": {},
   "source": [
    "`Question 4`. How does the choice of kernel function, C parameter, epsilon parameter, and gamma parameter\n",
    "affect the performance of Support Vector Regression (SVR)? Can you explain how each parameter works\n",
    "and provide examples of when you might want to increase or decrease its value?\n",
    "\n",
    "`Answer` :\n",
    "Support Vector Regression (SVR) is a powerful technique for regression tasks in machine learning. The performance of SVR is heavily influenced by its various parameters. Let's discuss the key parameters and their impact on SVR:\n",
    "\n",
    "1. **Kernel Function:**\n",
    "   - **Role:** The kernel function determines the type of decision boundary that the SVR will create in the feature space.\n",
    "   - **Options:**\n",
    "     - **Linear Kernel (`'linear'`):** Provides a linear decision boundary.\n",
    "     - **Polynomial Kernel (`'poly'`):** Introduces non-linearity, and you can control the degree of the polynomial with the `degree` parameter.\n",
    "     - **Radial Basis Function Kernel (`'rbf'` or `'gaussian'`):** Introduces non-linearity and is often suitable for capturing complex relationships.\n",
    "\n",
    "   - **Example:** Choose a polynomial kernel when the relationship between inputs and outputs is expected to be polynomial, or use an RBF kernel for a more flexible, non-linear fit.\n",
    "\n",
    "2. **C Parameter:**\n",
    "   - **Role:** The C parameter controls the trade-off between achieving a low training error and a low testing error. A smaller C encourages a larger-margin hyperplane, potentially allowing more training errors but fewer support vectors.\n",
    "   - **Impact:** Higher C values make the model more sensitive to errors, potentially leading to a smaller-margin hyperplane and more support vectors.\n",
    "\n",
    "   - **Example:** If the dataset has noise or outliers, a smaller C may be preferred to obtain a more robust model. If a precise fit to the training data is desired and the data is not noisy, a higher C may be chosen.\n",
    "\n",
    "3. **Epsilon Parameter (ε):**\n",
    "   - **Role:** Epsilon defines the width of the ε-insensitive tube, within which errors are not penalized.\n",
    "   - **Impact:** Larger epsilon values increase the tolerance for errors, resulting in a wider tube and potentially more support vectors.\n",
    "\n",
    "   - **Example:** Use a larger epsilon when a certain amount of error is acceptable in the predictions, and a wider margin is desired. Smaller epsilon values make the model less tolerant to errors.\n",
    "\n",
    "4. **Gamma Parameter:**\n",
    "   - **Role:** Gamma defines how far the influence of a single training example reaches. Low values mean a far reach, and high values mean a closer reach.\n",
    "   - **Impact:** A small gamma value leads to a smoother decision boundary, while a large gamma value makes the decision boundary more influenced by individual data points.\n",
    "\n",
    "   - **Example:** Use a small gamma when the dataset is large and diverse, and a large gamma when the dataset is small and more homogeneous. A large gamma might also be suitable when there is reason to believe that individual data points should have a strong influence on the model.\n",
    "\n",
    "In summary, the choice of kernel function, C parameter, epsilon parameter, and gamma parameter in SVR depends on the characteristics of the dataset and the desired trade-off between model flexibility and precision. It often involves experimentation and tuning to find the values that result in the best performance for a specific regression task. Regularization (C), tube width (epsilon), and the shape of the decision boundary (kernel function and gamma) are critical aspects to consider when fine-tuning an SVR model."
   ]
  },
  {
   "cell_type": "code",
   "execution_count": null,
   "id": "40fc74a3-6876-498a-a10c-6187dd223d28",
   "metadata": {},
   "outputs": [],
   "source": []
  },
  {
   "cell_type": "markdown",
   "id": "3e6e57de-99f7-45e3-bd1b-f5ae27ce0ed0",
   "metadata": {},
   "source": [
    "# <div style=\"padding: 15px; background-color: #D0A2F7; margin: 15px; color: #000000; font-family: 'New Times Roman', serif; font-size: 110%; text-align: center; border-radius: 10px; overflow: hidden; font-weight: bold;\"> Question 5: Assignment</div>\n",
    "- Dataset : [survey_lung_cancer](https://github.com/oyerahul/Data-science-Assignment-2023-/blob/main/April-Assignment/survey%20lung%20cancer.csv)\n",
    "- Import the necessary libraries and load the dataset\n",
    "- Split the dataset into training and testing sets\n",
    "- Preprocess the data using any technique of your choice ((e.g. scaling, normalization)\n",
    "- Create an instance of the SVC classifier and train it on the training data\n",
    "- hse the trained classifier to predict the labels of the testing data\n",
    "- Evaluate the performance of the classifier using any metric of your choice (e.g. accuracy, precision, recall, F1-score\n",
    "- Tune the hyperparameters of the SVC classifier using GridSearchCV or RandomizedSearchCV to improve its performanc_\n",
    "- Train the tuned classifier on the entire dataset\n",
    "- Save the trained classifier to a file for future use."
   ]
  },
  {
   "cell_type": "markdown",
   "id": "8b6ef905-7450-4ad2-abe0-89b65c6330a5",
   "metadata": {},
   "source": [
    "# <div style=\"padding: 10px; background-color: #29ADB2; margin: 10px; color: #000000; font-family: 'New Times Roman', serif; font-size: 70%; text-align: center; border-radius: 10px; overflow: hidden; font-weight: bold;\"> Importing Imp. Libraries </div>"
   ]
  },
  {
   "cell_type": "code",
   "execution_count": 67,
   "id": "5978684e-af23-44e2-a2f9-c4120a1ed444",
   "metadata": {},
   "outputs": [],
   "source": [
    "import numpy as np\n",
    "import pandas as pd\n",
    "import matplotlib.pyplot as plt\n",
    "import seaborn as sns\n",
    "from matplotlib.colors import ListedColormap\n",
    "\n",
    "#from Sk-learn\n",
    "from sklearn import datasets\n",
    "from sklearn.model_selection import train_test_split\n",
    "from sklearn.preprocessing import StandardScaler\n",
    "from sklearn.svm import SVC\n",
    "from sklearn.model_selection import GridSearchCV, cross_val_score\n",
    "\n",
    "#from feture engine\n",
    "from feature_engine.encoding import OneHotEncoder\n",
    "\n",
    "#From mlxtend\n",
    "from mlxtend.plotting import plot_decision_regions\n",
    "\n",
    "import warnings\n",
    "warnings.filterwarnings('ignore')"
   ]
  },
  {
   "cell_type": "markdown",
   "id": "c0e57273-9a58-45f4-b47f-842f850ebfa1",
   "metadata": {},
   "source": [
    "# <div style=\"padding: 10px; background-color: #29ADB2; margin: 10px; color: #000000; font-family: 'New Times Roman', serif; font-size: 70%; text-align: center; border-radius: 10px; overflow: hidden; font-weight: bold;\"> Importing the dataset </div>"
   ]
  },
  {
   "cell_type": "code",
   "execution_count": 68,
   "id": "f7a8c4f8-cce2-484a-a8cc-f6cbf66bac74",
   "metadata": {},
   "outputs": [],
   "source": [
    "# Load a sample dataset (e.g., the Iris dataset)\n",
    "df = pd.read_csv('survey_lung_cancer.csv')"
   ]
  },
  {
   "cell_type": "code",
   "execution_count": 69,
   "id": "542cb817-ec00-4305-b28f-6f3e9f56b27f",
   "metadata": {},
   "outputs": [
    {
     "data": {
      "text/html": [
       "<div>\n",
       "<style scoped>\n",
       "    .dataframe tbody tr th:only-of-type {\n",
       "        vertical-align: middle;\n",
       "    }\n",
       "\n",
       "    .dataframe tbody tr th {\n",
       "        vertical-align: top;\n",
       "    }\n",
       "\n",
       "    .dataframe thead th {\n",
       "        text-align: right;\n",
       "    }\n",
       "</style>\n",
       "<table border=\"1\" class=\"dataframe\">\n",
       "  <thead>\n",
       "    <tr style=\"text-align: right;\">\n",
       "      <th></th>\n",
       "      <th>GENDER</th>\n",
       "      <th>AGE</th>\n",
       "      <th>SMOKING</th>\n",
       "      <th>YELLOW_FINGERS</th>\n",
       "      <th>ANXIETY</th>\n",
       "      <th>PEER_PRESSURE</th>\n",
       "      <th>CHRONIC DISEASE</th>\n",
       "      <th>FATIGUE</th>\n",
       "      <th>ALLERGY</th>\n",
       "      <th>WHEEZING</th>\n",
       "      <th>ALCOHOL CONSUMING</th>\n",
       "      <th>COUGHING</th>\n",
       "      <th>SHORTNESS OF BREATH</th>\n",
       "      <th>SWALLOWING DIFFICULTY</th>\n",
       "      <th>CHEST PAIN</th>\n",
       "      <th>LUNG_CANCER</th>\n",
       "    </tr>\n",
       "  </thead>\n",
       "  <tbody>\n",
       "    <tr>\n",
       "      <th>0</th>\n",
       "      <td>M</td>\n",
       "      <td>69</td>\n",
       "      <td>1</td>\n",
       "      <td>2</td>\n",
       "      <td>2</td>\n",
       "      <td>1</td>\n",
       "      <td>1</td>\n",
       "      <td>2</td>\n",
       "      <td>1</td>\n",
       "      <td>2</td>\n",
       "      <td>2</td>\n",
       "      <td>2</td>\n",
       "      <td>2</td>\n",
       "      <td>2</td>\n",
       "      <td>2</td>\n",
       "      <td>YES</td>\n",
       "    </tr>\n",
       "    <tr>\n",
       "      <th>1</th>\n",
       "      <td>M</td>\n",
       "      <td>74</td>\n",
       "      <td>2</td>\n",
       "      <td>1</td>\n",
       "      <td>1</td>\n",
       "      <td>1</td>\n",
       "      <td>2</td>\n",
       "      <td>2</td>\n",
       "      <td>2</td>\n",
       "      <td>1</td>\n",
       "      <td>1</td>\n",
       "      <td>1</td>\n",
       "      <td>2</td>\n",
       "      <td>2</td>\n",
       "      <td>2</td>\n",
       "      <td>YES</td>\n",
       "    </tr>\n",
       "    <tr>\n",
       "      <th>2</th>\n",
       "      <td>F</td>\n",
       "      <td>59</td>\n",
       "      <td>1</td>\n",
       "      <td>1</td>\n",
       "      <td>1</td>\n",
       "      <td>2</td>\n",
       "      <td>1</td>\n",
       "      <td>2</td>\n",
       "      <td>1</td>\n",
       "      <td>2</td>\n",
       "      <td>1</td>\n",
       "      <td>2</td>\n",
       "      <td>2</td>\n",
       "      <td>1</td>\n",
       "      <td>2</td>\n",
       "      <td>NO</td>\n",
       "    </tr>\n",
       "    <tr>\n",
       "      <th>3</th>\n",
       "      <td>M</td>\n",
       "      <td>63</td>\n",
       "      <td>2</td>\n",
       "      <td>2</td>\n",
       "      <td>2</td>\n",
       "      <td>1</td>\n",
       "      <td>1</td>\n",
       "      <td>1</td>\n",
       "      <td>1</td>\n",
       "      <td>1</td>\n",
       "      <td>2</td>\n",
       "      <td>1</td>\n",
       "      <td>1</td>\n",
       "      <td>2</td>\n",
       "      <td>2</td>\n",
       "      <td>NO</td>\n",
       "    </tr>\n",
       "    <tr>\n",
       "      <th>4</th>\n",
       "      <td>F</td>\n",
       "      <td>63</td>\n",
       "      <td>1</td>\n",
       "      <td>2</td>\n",
       "      <td>1</td>\n",
       "      <td>1</td>\n",
       "      <td>1</td>\n",
       "      <td>1</td>\n",
       "      <td>1</td>\n",
       "      <td>2</td>\n",
       "      <td>1</td>\n",
       "      <td>2</td>\n",
       "      <td>2</td>\n",
       "      <td>1</td>\n",
       "      <td>1</td>\n",
       "      <td>NO</td>\n",
       "    </tr>\n",
       "  </tbody>\n",
       "</table>\n",
       "</div>"
      ],
      "text/plain": [
       "  GENDER  AGE  SMOKING  YELLOW_FINGERS  ANXIETY  PEER_PRESSURE  \\\n",
       "0      M   69        1               2        2              1   \n",
       "1      M   74        2               1        1              1   \n",
       "2      F   59        1               1        1              2   \n",
       "3      M   63        2               2        2              1   \n",
       "4      F   63        1               2        1              1   \n",
       "\n",
       "   CHRONIC DISEASE  FATIGUE   ALLERGY   WHEEZING  ALCOHOL CONSUMING  COUGHING  \\\n",
       "0                1         2         1         2                  2         2   \n",
       "1                2         2         2         1                  1         1   \n",
       "2                1         2         1         2                  1         2   \n",
       "3                1         1         1         1                  2         1   \n",
       "4                1         1         1         2                  1         2   \n",
       "\n",
       "   SHORTNESS OF BREATH  SWALLOWING DIFFICULTY  CHEST PAIN LUNG_CANCER  \n",
       "0                    2                      2           2         YES  \n",
       "1                    2                      2           2         YES  \n",
       "2                    2                      1           2          NO  \n",
       "3                    1                      2           2          NO  \n",
       "4                    2                      1           1          NO  "
      ]
     },
     "execution_count": 69,
     "metadata": {},
     "output_type": "execute_result"
    }
   ],
   "source": [
    "df.head()"
   ]
  },
  {
   "cell_type": "code",
   "execution_count": 70,
   "id": "1ef33166-fc24-4646-86c6-4eaf42e35130",
   "metadata": {},
   "outputs": [
    {
     "data": {
      "text/plain": [
       "(309, 16)"
      ]
     },
     "execution_count": 70,
     "metadata": {},
     "output_type": "execute_result"
    }
   ],
   "source": [
    "df.shape"
   ]
  },
  {
   "cell_type": "markdown",
   "id": "3bc95cf7-bcdc-4e65-b994-35c1bd623087",
   "metadata": {},
   "source": [
    "# <div style=\"padding: 10px; background-color: #29ADB2; margin: 10px; color: #000000; font-family: 'New Times Roman', serif; font-size: 70%; text-align: center; border-radius: 10px; overflow: hidden; font-weight: bold;\"> Feature Engeeniring</div>"
   ]
  },
  {
   "cell_type": "code",
   "execution_count": 71,
   "id": "7c9f2346-486f-43eb-91d8-9b1f23de998c",
   "metadata": {},
   "outputs": [],
   "source": [
    "encoder = OneHotEncoder(\n",
    "    top_categories=2,\n",
    "    variables= ['GENDER', 'LUNG_CANCER'],\n",
    "    ignore_format=True,\n",
    "    )\n",
    "\n",
    "# fit the encoder\n",
    "df = encoder.fit_transform(df)"
   ]
  },
  {
   "cell_type": "code",
   "execution_count": 72,
   "id": "5f84ffe5-e548-42d1-a6b3-087c1643b9e1",
   "metadata": {},
   "outputs": [
    {
     "data": {
      "text/plain": [
       "Index(['AGE', 'SMOKING', 'YELLOW_FINGERS', 'ANXIETY', 'PEER_PRESSURE',\n",
       "       'CHRONIC DISEASE', 'FATIGUE ', 'ALLERGY ', 'WHEEZING',\n",
       "       'ALCOHOL CONSUMING', 'COUGHING', 'SHORTNESS OF BREATH',\n",
       "       'SWALLOWING DIFFICULTY', 'CHEST PAIN', 'GENDER_M', 'GENDER_F',\n",
       "       'LUNG_CANCER_YES', 'LUNG_CANCER_NO'],\n",
       "      dtype='object')"
      ]
     },
     "execution_count": 72,
     "metadata": {},
     "output_type": "execute_result"
    }
   ],
   "source": [
    "df.columns"
   ]
  },
  {
   "cell_type": "code",
   "execution_count": 73,
   "id": "54b35352-fdc7-4e84-bc95-20e7045ef7da",
   "metadata": {},
   "outputs": [
    {
     "data": {
      "text/html": [
       "<div>\n",
       "<style scoped>\n",
       "    .dataframe tbody tr th:only-of-type {\n",
       "        vertical-align: middle;\n",
       "    }\n",
       "\n",
       "    .dataframe tbody tr th {\n",
       "        vertical-align: top;\n",
       "    }\n",
       "\n",
       "    .dataframe thead th {\n",
       "        text-align: right;\n",
       "    }\n",
       "</style>\n",
       "<table border=\"1\" class=\"dataframe\">\n",
       "  <thead>\n",
       "    <tr style=\"text-align: right;\">\n",
       "      <th></th>\n",
       "      <th>AGE</th>\n",
       "      <th>SMOKING</th>\n",
       "      <th>YELLOW_FINGERS</th>\n",
       "      <th>ANXIETY</th>\n",
       "      <th>PEER_PRESSURE</th>\n",
       "      <th>CHRONIC DISEASE</th>\n",
       "      <th>FATIGUE</th>\n",
       "      <th>ALLERGY</th>\n",
       "      <th>WHEEZING</th>\n",
       "      <th>ALCOHOL CONSUMING</th>\n",
       "      <th>COUGHING</th>\n",
       "      <th>SHORTNESS OF BREATH</th>\n",
       "      <th>SWALLOWING DIFFICULTY</th>\n",
       "      <th>CHEST PAIN</th>\n",
       "      <th>GENDER_M</th>\n",
       "      <th>LUNG_CANCER_YES</th>\n",
       "    </tr>\n",
       "  </thead>\n",
       "  <tbody>\n",
       "    <tr>\n",
       "      <th>0</th>\n",
       "      <td>69</td>\n",
       "      <td>1</td>\n",
       "      <td>2</td>\n",
       "      <td>2</td>\n",
       "      <td>1</td>\n",
       "      <td>1</td>\n",
       "      <td>2</td>\n",
       "      <td>1</td>\n",
       "      <td>2</td>\n",
       "      <td>2</td>\n",
       "      <td>2</td>\n",
       "      <td>2</td>\n",
       "      <td>2</td>\n",
       "      <td>2</td>\n",
       "      <td>1</td>\n",
       "      <td>1</td>\n",
       "    </tr>\n",
       "    <tr>\n",
       "      <th>1</th>\n",
       "      <td>74</td>\n",
       "      <td>2</td>\n",
       "      <td>1</td>\n",
       "      <td>1</td>\n",
       "      <td>1</td>\n",
       "      <td>2</td>\n",
       "      <td>2</td>\n",
       "      <td>2</td>\n",
       "      <td>1</td>\n",
       "      <td>1</td>\n",
       "      <td>1</td>\n",
       "      <td>2</td>\n",
       "      <td>2</td>\n",
       "      <td>2</td>\n",
       "      <td>1</td>\n",
       "      <td>1</td>\n",
       "    </tr>\n",
       "    <tr>\n",
       "      <th>2</th>\n",
       "      <td>59</td>\n",
       "      <td>1</td>\n",
       "      <td>1</td>\n",
       "      <td>1</td>\n",
       "      <td>2</td>\n",
       "      <td>1</td>\n",
       "      <td>2</td>\n",
       "      <td>1</td>\n",
       "      <td>2</td>\n",
       "      <td>1</td>\n",
       "      <td>2</td>\n",
       "      <td>2</td>\n",
       "      <td>1</td>\n",
       "      <td>2</td>\n",
       "      <td>0</td>\n",
       "      <td>0</td>\n",
       "    </tr>\n",
       "    <tr>\n",
       "      <th>3</th>\n",
       "      <td>63</td>\n",
       "      <td>2</td>\n",
       "      <td>2</td>\n",
       "      <td>2</td>\n",
       "      <td>1</td>\n",
       "      <td>1</td>\n",
       "      <td>1</td>\n",
       "      <td>1</td>\n",
       "      <td>1</td>\n",
       "      <td>2</td>\n",
       "      <td>1</td>\n",
       "      <td>1</td>\n",
       "      <td>2</td>\n",
       "      <td>2</td>\n",
       "      <td>1</td>\n",
       "      <td>0</td>\n",
       "    </tr>\n",
       "    <tr>\n",
       "      <th>4</th>\n",
       "      <td>63</td>\n",
       "      <td>1</td>\n",
       "      <td>2</td>\n",
       "      <td>1</td>\n",
       "      <td>1</td>\n",
       "      <td>1</td>\n",
       "      <td>1</td>\n",
       "      <td>1</td>\n",
       "      <td>2</td>\n",
       "      <td>1</td>\n",
       "      <td>2</td>\n",
       "      <td>2</td>\n",
       "      <td>1</td>\n",
       "      <td>1</td>\n",
       "      <td>0</td>\n",
       "      <td>0</td>\n",
       "    </tr>\n",
       "  </tbody>\n",
       "</table>\n",
       "</div>"
      ],
      "text/plain": [
       "   AGE  SMOKING  YELLOW_FINGERS  ANXIETY  PEER_PRESSURE  CHRONIC DISEASE  \\\n",
       "0   69        1               2        2              1                1   \n",
       "1   74        2               1        1              1                2   \n",
       "2   59        1               1        1              2                1   \n",
       "3   63        2               2        2              1                1   \n",
       "4   63        1               2        1              1                1   \n",
       "\n",
       "   FATIGUE   ALLERGY   WHEEZING  ALCOHOL CONSUMING  COUGHING  \\\n",
       "0         2         1         2                  2         2   \n",
       "1         2         2         1                  1         1   \n",
       "2         2         1         2                  1         2   \n",
       "3         1         1         1                  2         1   \n",
       "4         1         1         2                  1         2   \n",
       "\n",
       "   SHORTNESS OF BREATH  SWALLOWING DIFFICULTY  CHEST PAIN  GENDER_M  \\\n",
       "0                    2                      2           2         1   \n",
       "1                    2                      2           2         1   \n",
       "2                    2                      1           2         0   \n",
       "3                    1                      2           2         1   \n",
       "4                    2                      1           1         0   \n",
       "\n",
       "   LUNG_CANCER_YES  \n",
       "0                1  \n",
       "1                1  \n",
       "2                0  \n",
       "3                0  \n",
       "4                0  "
      ]
     },
     "execution_count": 73,
     "metadata": {},
     "output_type": "execute_result"
    }
   ],
   "source": [
    "df.drop(columns=['GENDER_F','LUNG_CANCER_NO'], axis=1).head()"
   ]
  },
  {
   "cell_type": "code",
   "execution_count": 74,
   "id": "13c123b2-74f1-4f11-a5f1-c23602be0e6d",
   "metadata": {},
   "outputs": [
    {
     "name": "stdout",
     "output_type": "stream",
     "text": [
      "Numerical Features Count 18\n",
      "Discrete features Count 17\n",
      "Continuous features Count 1\n",
      "Categorical features Count 0\n",
      "Binary Categorical features Count 0\n"
     ]
    }
   ],
   "source": [
    "#Check data types in df\n",
    "\n",
    "numerical_features = [feature for feature in df.columns if df[feature].dtypes != 'O']\n",
    "\n",
    "discrete_features = [feature for feature in numerical_features if len(df[feature].unique())<25]\n",
    "\n",
    "continuous_features = [feature for feature in numerical_features if feature not in discrete_features]\n",
    "\n",
    "categorical_features = [feature for feature in df.columns if feature not in numerical_features]\n",
    "\n",
    "binary_categorical_features = [feature for feature in categorical_features if len(df[feature].unique()) <=3]\n",
    "\n",
    "print(f\"Numerical Features Count {len(numerical_features)}\")\n",
    "print(f\"Discrete features Count {len(discrete_features)}\")\n",
    "print(f\"Continuous features Count {len(continuous_features)}\")\n",
    "print(f\"Categorical features Count {len(categorical_features)}\")\n",
    "print(f\"Binary Categorical features Count {len(binary_categorical_features)}\")"
   ]
  },
  {
   "cell_type": "markdown",
   "id": "9570e9ed-c0eb-4d5c-b053-4faa8227ad33",
   "metadata": {},
   "source": [
    "# <div style=\"padding: 10px; background-color: #29ADB2; margin: 10px; color: #000000; font-family: 'New Times Roman', serif; font-size: 70%; text-align: center; border-radius: 10px; overflow: hidden; font-weight: bold;\"> Splitting the dataset into the Training set and Test set </div>"
   ]
  },
  {
   "cell_type": "code",
   "execution_count": 75,
   "id": "5e9843e4-27f0-4a2a-af16-9eb1add01629",
   "metadata": {},
   "outputs": [],
   "source": [
    "X = df.iloc[:, :-1]\n",
    "y = df.iloc[:, -1]"
   ]
  },
  {
   "cell_type": "code",
   "execution_count": 76,
   "id": "b583d6d1-54ef-4aa0-922d-44e10eff362e",
   "metadata": {},
   "outputs": [],
   "source": [
    "X_train, X_test, y_train, y_test = train_test_split(X, y, test_size=0.2, random_state=42)"
   ]
  },
  {
   "cell_type": "markdown",
   "id": "1e1462af-9723-41ac-b236-2d139f2e31f4",
   "metadata": {},
   "source": [
    "# <div style=\"padding: 10px; background-color: #29ADB2; margin: 10px; color: #000000; font-family: 'New Times Roman', serif; font-size: 70%; text-align: center; border-radius: 10px; overflow: hidden; font-weight: bold;\"> Feature Scaling </div>"
   ]
  },
  {
   "cell_type": "code",
   "execution_count": 77,
   "id": "cf274242-cdf0-4e66-8447-0af846a7d312",
   "metadata": {},
   "outputs": [],
   "source": [
    "sc = StandardScaler()\n",
    "X_train = sc.fit_transform(X_train)\n",
    "X_test = sc.transform(X_test)"
   ]
  },
  {
   "cell_type": "markdown",
   "id": "393eeab8-8959-484e-a9ea-ffe50d51f3c3",
   "metadata": {},
   "source": [
    "# <div style=\"padding: 10px; background-color: #29ADB2; margin: 10px; color: #000000; font-family: 'New Times Roman', serif; font-size: 70%; text-align: center; border-radius: 10px; overflow: hidden; font-weight: bold;\"> Training the SVM model on the Training set </div>"
   ]
  },
  {
   "cell_type": "code",
   "execution_count": 78,
   "id": "5d84f00a-3c74-41a3-9019-0fdff1abb2af",
   "metadata": {},
   "outputs": [
    {
     "data": {
      "text/html": [
       "<style>#sk-container-id-3 {color: black;background-color: white;}#sk-container-id-3 pre{padding: 0;}#sk-container-id-3 div.sk-toggleable {background-color: white;}#sk-container-id-3 label.sk-toggleable__label {cursor: pointer;display: block;width: 100%;margin-bottom: 0;padding: 0.3em;box-sizing: border-box;text-align: center;}#sk-container-id-3 label.sk-toggleable__label-arrow:before {content: \"▸\";float: left;margin-right: 0.25em;color: #696969;}#sk-container-id-3 label.sk-toggleable__label-arrow:hover:before {color: black;}#sk-container-id-3 div.sk-estimator:hover label.sk-toggleable__label-arrow:before {color: black;}#sk-container-id-3 div.sk-toggleable__content {max-height: 0;max-width: 0;overflow: hidden;text-align: left;background-color: #f0f8ff;}#sk-container-id-3 div.sk-toggleable__content pre {margin: 0.2em;color: black;border-radius: 0.25em;background-color: #f0f8ff;}#sk-container-id-3 input.sk-toggleable__control:checked~div.sk-toggleable__content {max-height: 200px;max-width: 100%;overflow: auto;}#sk-container-id-3 input.sk-toggleable__control:checked~label.sk-toggleable__label-arrow:before {content: \"▾\";}#sk-container-id-3 div.sk-estimator input.sk-toggleable__control:checked~label.sk-toggleable__label {background-color: #d4ebff;}#sk-container-id-3 div.sk-label input.sk-toggleable__control:checked~label.sk-toggleable__label {background-color: #d4ebff;}#sk-container-id-3 input.sk-hidden--visually {border: 0;clip: rect(1px 1px 1px 1px);clip: rect(1px, 1px, 1px, 1px);height: 1px;margin: -1px;overflow: hidden;padding: 0;position: absolute;width: 1px;}#sk-container-id-3 div.sk-estimator {font-family: monospace;background-color: #f0f8ff;border: 1px dotted black;border-radius: 0.25em;box-sizing: border-box;margin-bottom: 0.5em;}#sk-container-id-3 div.sk-estimator:hover {background-color: #d4ebff;}#sk-container-id-3 div.sk-parallel-item::after {content: \"\";width: 100%;border-bottom: 1px solid gray;flex-grow: 1;}#sk-container-id-3 div.sk-label:hover label.sk-toggleable__label {background-color: #d4ebff;}#sk-container-id-3 div.sk-serial::before {content: \"\";position: absolute;border-left: 1px solid gray;box-sizing: border-box;top: 0;bottom: 0;left: 50%;z-index: 0;}#sk-container-id-3 div.sk-serial {display: flex;flex-direction: column;align-items: center;background-color: white;padding-right: 0.2em;padding-left: 0.2em;position: relative;}#sk-container-id-3 div.sk-item {position: relative;z-index: 1;}#sk-container-id-3 div.sk-parallel {display: flex;align-items: stretch;justify-content: center;background-color: white;position: relative;}#sk-container-id-3 div.sk-item::before, #sk-container-id-3 div.sk-parallel-item::before {content: \"\";position: absolute;border-left: 1px solid gray;box-sizing: border-box;top: 0;bottom: 0;left: 50%;z-index: -1;}#sk-container-id-3 div.sk-parallel-item {display: flex;flex-direction: column;z-index: 1;position: relative;background-color: white;}#sk-container-id-3 div.sk-parallel-item:first-child::after {align-self: flex-end;width: 50%;}#sk-container-id-3 div.sk-parallel-item:last-child::after {align-self: flex-start;width: 50%;}#sk-container-id-3 div.sk-parallel-item:only-child::after {width: 0;}#sk-container-id-3 div.sk-dashed-wrapped {border: 1px dashed gray;margin: 0 0.4em 0.5em 0.4em;box-sizing: border-box;padding-bottom: 0.4em;background-color: white;}#sk-container-id-3 div.sk-label label {font-family: monospace;font-weight: bold;display: inline-block;line-height: 1.2em;}#sk-container-id-3 div.sk-label-container {text-align: center;}#sk-container-id-3 div.sk-container {/* jupyter's `normalize.less` sets `[hidden] { display: none; }` but bootstrap.min.css set `[hidden] { display: none !important; }` so we also need the `!important` here to be able to override the default hidden behavior on the sphinx rendered scikit-learn.org. See: https://github.com/scikit-learn/scikit-learn/issues/21755 */display: inline-block !important;position: relative;}#sk-container-id-3 div.sk-text-repr-fallback {display: none;}</style><div id=\"sk-container-id-3\" class=\"sk-top-container\"><div class=\"sk-text-repr-fallback\"><pre>SVC(kernel=&#x27;linear&#x27;, random_state=0)</pre><b>In a Jupyter environment, please rerun this cell to show the HTML representation or trust the notebook. <br />On GitHub, the HTML representation is unable to render, please try loading this page with nbviewer.org.</b></div><div class=\"sk-container\" hidden><div class=\"sk-item\"><div class=\"sk-estimator sk-toggleable\"><input class=\"sk-toggleable__control sk-hidden--visually\" id=\"sk-estimator-id-5\" type=\"checkbox\" checked><label for=\"sk-estimator-id-5\" class=\"sk-toggleable__label sk-toggleable__label-arrow\">SVC</label><div class=\"sk-toggleable__content\"><pre>SVC(kernel=&#x27;linear&#x27;, random_state=0)</pre></div></div></div></div></div>"
      ],
      "text/plain": [
       "SVC(kernel='linear', random_state=0)"
      ]
     },
     "execution_count": 78,
     "metadata": {},
     "output_type": "execute_result"
    }
   ],
   "source": [
    "classifier = SVC(kernel = 'linear', random_state = 0)\n",
    "classifier.fit(X_train, y_train)"
   ]
  },
  {
   "cell_type": "markdown",
   "id": "619cb52a-b208-474a-82c9-2bcdfd67b71f",
   "metadata": {},
   "source": [
    "# <div style=\"padding: 10px; background-color: #29ADB2; margin: 10px; color: #000000; font-family: 'New Times Roman', serif; font-size: 70%; text-align: center; border-radius: 10px; overflow: hidden; font-weight: bold;\"> Evaluating the performance of the classifier </div>"
   ]
  },
  {
   "cell_type": "code",
   "execution_count": 79,
   "id": "ea0ebe5b-8373-4595-838c-03e2b83db1c2",
   "metadata": {},
   "outputs": [],
   "source": [
    "from sklearn.metrics import confusion_matrix, accuracy_score, classification_report\n",
    "\n",
    "y_pred = classifier.predict(X_test)"
   ]
  },
  {
   "cell_type": "code",
   "execution_count": 80,
   "id": "f623add6-18a8-47a6-9dae-c22c5d5ab274",
   "metadata": {},
   "outputs": [
    {
     "name": "stdout",
     "output_type": "stream",
     "text": [
      "Classification Report:\n",
      "              precision    recall  f1-score   support\n",
      "\n",
      "           0       1.00      1.00      1.00        60\n",
      "           1       1.00      1.00      1.00         2\n",
      "\n",
      "    accuracy                           1.00        62\n",
      "   macro avg       1.00      1.00      1.00        62\n",
      "weighted avg       1.00      1.00      1.00        62\n",
      "\n"
     ]
    }
   ],
   "source": [
    "# Classification Report\n",
    "print(\"Classification Report:\")\n",
    "print(classification_report(y_test, y_pred))"
   ]
  },
  {
   "cell_type": "code",
   "execution_count": 81,
   "id": "43342cbc-8de0-498e-b973-7473fdf2fa54",
   "metadata": {},
   "outputs": [
    {
     "name": "stdout",
     "output_type": "stream",
     "text": [
      "Confusion Matrix:\n",
      "[[60  0]\n",
      " [ 0  2]]\n"
     ]
    }
   ],
   "source": [
    "# Confusion Matrix\n",
    "conf_matrix = confusion_matrix(y_test, y_pred)\n",
    "print(\"Confusion Matrix:\")\n",
    "print(conf_matrix)"
   ]
  },
  {
   "cell_type": "code",
   "execution_count": 82,
   "id": "6b3f344c-5d01-4603-a5ea-ca14cfa882fd",
   "metadata": {},
   "outputs": [
    {
     "name": "stdout",
     "output_type": "stream",
     "text": [
      "Test Set Accuracy: 1.0\n"
     ]
    }
   ],
   "source": [
    "# accuracy\n",
    "accuracy = accuracy_score(y_test, y_pred)\n",
    "print(\"Test Set Accuracy:\", accuracy)\n"
   ]
  },
  {
   "cell_type": "markdown",
   "id": "4e537e0b-48c6-4e0d-9209-bc4ee9b6856a",
   "metadata": {},
   "source": [
    "# <div style=\"padding: 10px; background-color: #29ADB2; margin: 10px; color: #000000; font-family: 'New Times Roman', serif; font-size: 70%; text-align: center; border-radius: 10px; overflow: hidden; font-weight: bold;\"> Tune the hyperparameters </div>"
   ]
  },
  {
   "cell_type": "code",
   "execution_count": 83,
   "id": "1d08ffed-40f8-40d4-9c28-f229cbb86935",
   "metadata": {},
   "outputs": [
    {
     "data": {
      "text/html": [
       "<style>#sk-container-id-4 {color: black;background-color: white;}#sk-container-id-4 pre{padding: 0;}#sk-container-id-4 div.sk-toggleable {background-color: white;}#sk-container-id-4 label.sk-toggleable__label {cursor: pointer;display: block;width: 100%;margin-bottom: 0;padding: 0.3em;box-sizing: border-box;text-align: center;}#sk-container-id-4 label.sk-toggleable__label-arrow:before {content: \"▸\";float: left;margin-right: 0.25em;color: #696969;}#sk-container-id-4 label.sk-toggleable__label-arrow:hover:before {color: black;}#sk-container-id-4 div.sk-estimator:hover label.sk-toggleable__label-arrow:before {color: black;}#sk-container-id-4 div.sk-toggleable__content {max-height: 0;max-width: 0;overflow: hidden;text-align: left;background-color: #f0f8ff;}#sk-container-id-4 div.sk-toggleable__content pre {margin: 0.2em;color: black;border-radius: 0.25em;background-color: #f0f8ff;}#sk-container-id-4 input.sk-toggleable__control:checked~div.sk-toggleable__content {max-height: 200px;max-width: 100%;overflow: auto;}#sk-container-id-4 input.sk-toggleable__control:checked~label.sk-toggleable__label-arrow:before {content: \"▾\";}#sk-container-id-4 div.sk-estimator input.sk-toggleable__control:checked~label.sk-toggleable__label {background-color: #d4ebff;}#sk-container-id-4 div.sk-label input.sk-toggleable__control:checked~label.sk-toggleable__label {background-color: #d4ebff;}#sk-container-id-4 input.sk-hidden--visually {border: 0;clip: rect(1px 1px 1px 1px);clip: rect(1px, 1px, 1px, 1px);height: 1px;margin: -1px;overflow: hidden;padding: 0;position: absolute;width: 1px;}#sk-container-id-4 div.sk-estimator {font-family: monospace;background-color: #f0f8ff;border: 1px dotted black;border-radius: 0.25em;box-sizing: border-box;margin-bottom: 0.5em;}#sk-container-id-4 div.sk-estimator:hover {background-color: #d4ebff;}#sk-container-id-4 div.sk-parallel-item::after {content: \"\";width: 100%;border-bottom: 1px solid gray;flex-grow: 1;}#sk-container-id-4 div.sk-label:hover label.sk-toggleable__label {background-color: #d4ebff;}#sk-container-id-4 div.sk-serial::before {content: \"\";position: absolute;border-left: 1px solid gray;box-sizing: border-box;top: 0;bottom: 0;left: 50%;z-index: 0;}#sk-container-id-4 div.sk-serial {display: flex;flex-direction: column;align-items: center;background-color: white;padding-right: 0.2em;padding-left: 0.2em;position: relative;}#sk-container-id-4 div.sk-item {position: relative;z-index: 1;}#sk-container-id-4 div.sk-parallel {display: flex;align-items: stretch;justify-content: center;background-color: white;position: relative;}#sk-container-id-4 div.sk-item::before, #sk-container-id-4 div.sk-parallel-item::before {content: \"\";position: absolute;border-left: 1px solid gray;box-sizing: border-box;top: 0;bottom: 0;left: 50%;z-index: -1;}#sk-container-id-4 div.sk-parallel-item {display: flex;flex-direction: column;z-index: 1;position: relative;background-color: white;}#sk-container-id-4 div.sk-parallel-item:first-child::after {align-self: flex-end;width: 50%;}#sk-container-id-4 div.sk-parallel-item:last-child::after {align-self: flex-start;width: 50%;}#sk-container-id-4 div.sk-parallel-item:only-child::after {width: 0;}#sk-container-id-4 div.sk-dashed-wrapped {border: 1px dashed gray;margin: 0 0.4em 0.5em 0.4em;box-sizing: border-box;padding-bottom: 0.4em;background-color: white;}#sk-container-id-4 div.sk-label label {font-family: monospace;font-weight: bold;display: inline-block;line-height: 1.2em;}#sk-container-id-4 div.sk-label-container {text-align: center;}#sk-container-id-4 div.sk-container {/* jupyter's `normalize.less` sets `[hidden] { display: none; }` but bootstrap.min.css set `[hidden] { display: none !important; }` so we also need the `!important` here to be able to override the default hidden behavior on the sphinx rendered scikit-learn.org. See: https://github.com/scikit-learn/scikit-learn/issues/21755 */display: inline-block !important;position: relative;}#sk-container-id-4 div.sk-text-repr-fallback {display: none;}</style><div id=\"sk-container-id-4\" class=\"sk-top-container\"><div class=\"sk-text-repr-fallback\"><pre>GridSearchCV(cv=3, estimator=SVC(),\n",
       "             param_grid={&#x27;C&#x27;: [0.1, 1, 10], &#x27;gamma&#x27;: [&#x27;scale&#x27;, &#x27;auto&#x27;],\n",
       "                         &#x27;kernel&#x27;: [&#x27;linear&#x27;, &#x27;rbf&#x27;, &#x27;poly&#x27;]})</pre><b>In a Jupyter environment, please rerun this cell to show the HTML representation or trust the notebook. <br />On GitHub, the HTML representation is unable to render, please try loading this page with nbviewer.org.</b></div><div class=\"sk-container\" hidden><div class=\"sk-item sk-dashed-wrapped\"><div class=\"sk-label-container\"><div class=\"sk-label sk-toggleable\"><input class=\"sk-toggleable__control sk-hidden--visually\" id=\"sk-estimator-id-6\" type=\"checkbox\" ><label for=\"sk-estimator-id-6\" class=\"sk-toggleable__label sk-toggleable__label-arrow\">GridSearchCV</label><div class=\"sk-toggleable__content\"><pre>GridSearchCV(cv=3, estimator=SVC(),\n",
       "             param_grid={&#x27;C&#x27;: [0.1, 1, 10], &#x27;gamma&#x27;: [&#x27;scale&#x27;, &#x27;auto&#x27;],\n",
       "                         &#x27;kernel&#x27;: [&#x27;linear&#x27;, &#x27;rbf&#x27;, &#x27;poly&#x27;]})</pre></div></div></div><div class=\"sk-parallel\"><div class=\"sk-parallel-item\"><div class=\"sk-item\"><div class=\"sk-label-container\"><div class=\"sk-label sk-toggleable\"><input class=\"sk-toggleable__control sk-hidden--visually\" id=\"sk-estimator-id-7\" type=\"checkbox\" ><label for=\"sk-estimator-id-7\" class=\"sk-toggleable__label sk-toggleable__label-arrow\">estimator: SVC</label><div class=\"sk-toggleable__content\"><pre>SVC()</pre></div></div></div><div class=\"sk-serial\"><div class=\"sk-item\"><div class=\"sk-estimator sk-toggleable\"><input class=\"sk-toggleable__control sk-hidden--visually\" id=\"sk-estimator-id-8\" type=\"checkbox\" ><label for=\"sk-estimator-id-8\" class=\"sk-toggleable__label sk-toggleable__label-arrow\">SVC</label><div class=\"sk-toggleable__content\"><pre>SVC()</pre></div></div></div></div></div></div></div></div></div></div>"
      ],
      "text/plain": [
       "GridSearchCV(cv=3, estimator=SVC(),\n",
       "             param_grid={'C': [0.1, 1, 10], 'gamma': ['scale', 'auto'],\n",
       "                         'kernel': ['linear', 'rbf', 'poly']})"
      ]
     },
     "execution_count": 83,
     "metadata": {},
     "output_type": "execute_result"
    }
   ],
   "source": [
    "parameters = {'C': [0.1, 1, 10], 'kernel': ['linear', 'rbf', 'poly'], 'gamma': ['scale', 'auto']}\n",
    "svc = SVC()\n",
    "grid_search = GridSearchCV(svc, parameters, cv=3)\n",
    "grid_search.fit(X_train, y_train)"
   ]
  },
  {
   "cell_type": "code",
   "execution_count": 84,
   "id": "aa09a887-28a4-4bd8-b7c0-83bd5b43ce46",
   "metadata": {},
   "outputs": [
    {
     "name": "stdout",
     "output_type": "stream",
     "text": [
      "Best Hyperparameters: {'C': 0.1, 'gamma': 'scale', 'kernel': 'linear'}\n"
     ]
    }
   ],
   "source": [
    "# Get the best hyperparameters\n",
    "best_params = grid_search.best_params_\n",
    "print(\"Best Hyperparameters:\", best_params)"
   ]
  },
  {
   "cell_type": "code",
   "execution_count": 86,
   "id": "015ecfb7-4ce3-4f48-98e7-f49a1c66439a",
   "metadata": {},
   "outputs": [
    {
     "data": {
      "text/html": [
       "<style>#sk-container-id-5 {color: black;background-color: white;}#sk-container-id-5 pre{padding: 0;}#sk-container-id-5 div.sk-toggleable {background-color: white;}#sk-container-id-5 label.sk-toggleable__label {cursor: pointer;display: block;width: 100%;margin-bottom: 0;padding: 0.3em;box-sizing: border-box;text-align: center;}#sk-container-id-5 label.sk-toggleable__label-arrow:before {content: \"▸\";float: left;margin-right: 0.25em;color: #696969;}#sk-container-id-5 label.sk-toggleable__label-arrow:hover:before {color: black;}#sk-container-id-5 div.sk-estimator:hover label.sk-toggleable__label-arrow:before {color: black;}#sk-container-id-5 div.sk-toggleable__content {max-height: 0;max-width: 0;overflow: hidden;text-align: left;background-color: #f0f8ff;}#sk-container-id-5 div.sk-toggleable__content pre {margin: 0.2em;color: black;border-radius: 0.25em;background-color: #f0f8ff;}#sk-container-id-5 input.sk-toggleable__control:checked~div.sk-toggleable__content {max-height: 200px;max-width: 100%;overflow: auto;}#sk-container-id-5 input.sk-toggleable__control:checked~label.sk-toggleable__label-arrow:before {content: \"▾\";}#sk-container-id-5 div.sk-estimator input.sk-toggleable__control:checked~label.sk-toggleable__label {background-color: #d4ebff;}#sk-container-id-5 div.sk-label input.sk-toggleable__control:checked~label.sk-toggleable__label {background-color: #d4ebff;}#sk-container-id-5 input.sk-hidden--visually {border: 0;clip: rect(1px 1px 1px 1px);clip: rect(1px, 1px, 1px, 1px);height: 1px;margin: -1px;overflow: hidden;padding: 0;position: absolute;width: 1px;}#sk-container-id-5 div.sk-estimator {font-family: monospace;background-color: #f0f8ff;border: 1px dotted black;border-radius: 0.25em;box-sizing: border-box;margin-bottom: 0.5em;}#sk-container-id-5 div.sk-estimator:hover {background-color: #d4ebff;}#sk-container-id-5 div.sk-parallel-item::after {content: \"\";width: 100%;border-bottom: 1px solid gray;flex-grow: 1;}#sk-container-id-5 div.sk-label:hover label.sk-toggleable__label {background-color: #d4ebff;}#sk-container-id-5 div.sk-serial::before {content: \"\";position: absolute;border-left: 1px solid gray;box-sizing: border-box;top: 0;bottom: 0;left: 50%;z-index: 0;}#sk-container-id-5 div.sk-serial {display: flex;flex-direction: column;align-items: center;background-color: white;padding-right: 0.2em;padding-left: 0.2em;position: relative;}#sk-container-id-5 div.sk-item {position: relative;z-index: 1;}#sk-container-id-5 div.sk-parallel {display: flex;align-items: stretch;justify-content: center;background-color: white;position: relative;}#sk-container-id-5 div.sk-item::before, #sk-container-id-5 div.sk-parallel-item::before {content: \"\";position: absolute;border-left: 1px solid gray;box-sizing: border-box;top: 0;bottom: 0;left: 50%;z-index: -1;}#sk-container-id-5 div.sk-parallel-item {display: flex;flex-direction: column;z-index: 1;position: relative;background-color: white;}#sk-container-id-5 div.sk-parallel-item:first-child::after {align-self: flex-end;width: 50%;}#sk-container-id-5 div.sk-parallel-item:last-child::after {align-self: flex-start;width: 50%;}#sk-container-id-5 div.sk-parallel-item:only-child::after {width: 0;}#sk-container-id-5 div.sk-dashed-wrapped {border: 1px dashed gray;margin: 0 0.4em 0.5em 0.4em;box-sizing: border-box;padding-bottom: 0.4em;background-color: white;}#sk-container-id-5 div.sk-label label {font-family: monospace;font-weight: bold;display: inline-block;line-height: 1.2em;}#sk-container-id-5 div.sk-label-container {text-align: center;}#sk-container-id-5 div.sk-container {/* jupyter's `normalize.less` sets `[hidden] { display: none; }` but bootstrap.min.css set `[hidden] { display: none !important; }` so we also need the `!important` here to be able to override the default hidden behavior on the sphinx rendered scikit-learn.org. See: https://github.com/scikit-learn/scikit-learn/issues/21755 */display: inline-block !important;position: relative;}#sk-container-id-5 div.sk-text-repr-fallback {display: none;}</style><div id=\"sk-container-id-5\" class=\"sk-top-container\"><div class=\"sk-text-repr-fallback\"><pre>SVC(C=0.1, kernel=&#x27;linear&#x27;)</pre><b>In a Jupyter environment, please rerun this cell to show the HTML representation or trust the notebook. <br />On GitHub, the HTML representation is unable to render, please try loading this page with nbviewer.org.</b></div><div class=\"sk-container\" hidden><div class=\"sk-item\"><div class=\"sk-estimator sk-toggleable\"><input class=\"sk-toggleable__control sk-hidden--visually\" id=\"sk-estimator-id-9\" type=\"checkbox\" checked><label for=\"sk-estimator-id-9\" class=\"sk-toggleable__label sk-toggleable__label-arrow\">SVC</label><div class=\"sk-toggleable__content\"><pre>SVC(C=0.1, kernel=&#x27;linear&#x27;)</pre></div></div></div></div></div>"
      ],
      "text/plain": [
       "SVC(C=0.1, kernel='linear')"
      ]
     },
     "execution_count": 86,
     "metadata": {},
     "output_type": "execute_result"
    }
   ],
   "source": [
    "# Train the svc model with the best hyperparameters\n",
    "best_svc_model = SVC(**best_params)\n",
    "best_svc_model.fit(sc.transform(X), y)"
   ]
  },
  {
   "cell_type": "code",
   "execution_count": 88,
   "id": "1ed54643-2cf7-4def-a6a5-06a18814f2c9",
   "metadata": {},
   "outputs": [
    {
     "data": {
      "text/plain": [
       "['tuned_svm_classifier_model.pkl']"
      ]
     },
     "execution_count": 88,
     "metadata": {},
     "output_type": "execute_result"
    }
   ],
   "source": [
    "import joblib  # for saving the trained model\n",
    "\n",
    "# Save the trained classifier to a file for future use\n",
    "joblib.dump(best_svc_model, 'tuned_svm_classifier_model.pkl')"
   ]
  },
  {
   "cell_type": "markdown",
   "id": "364e93e7-8974-4903-8e1a-9b43966914f9",
   "metadata": {
    "tags": []
   },
   "source": [
    "# <div style=\"padding: 15px; background-color: #D0A2F7; margin: 15px; color: #000000; font-family: 'New Times Roman', serif; font-size: 110%; text-align: center; border-radius: 10px; overflow: hidden; font-weight: bold;\">**...Complete...**</div>"
   ]
  }
 ],
 "metadata": {
  "kernelspec": {
   "display_name": "Python 3 (ipykernel)",
   "language": "python",
   "name": "python3"
  },
  "language_info": {
   "codemirror_mode": {
    "name": "ipython",
    "version": 3
   },
   "file_extension": ".py",
   "mimetype": "text/x-python",
   "name": "python",
   "nbconvert_exporter": "python",
   "pygments_lexer": "ipython3",
   "version": "3.10.8"
  }
 },
 "nbformat": 4,
 "nbformat_minor": 5
}
