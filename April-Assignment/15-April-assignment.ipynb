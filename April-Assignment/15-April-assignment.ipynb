{
 "cells": [
  {
   "cell_type": "markdown",
   "id": "f1890b16-e313-47b1-b27e-a9d5e2025153",
   "metadata": {
    "tags": []
   },
   "source": [
    "# <div style=\"padding: 10px; background-color: #64CCC5; margin: 10px; color: #000000; font-family: 'New Times Roman', serif; font-size: 60%; text-align: center; border-radius: 10px; overflow: hidden; font-weight: bold;\"> Question 1:</div>\n",
    "**You are working on a machine learning project where you have a dataset containing numerical and\n",
    "categorical features. You have identified that some of the features are highly correlated and there are\n",
    "missing values in some of the columns. You want to bu#ld a pipeline that automates the feature\n",
    "engineering process and handles the missing values**\n",
    "\n",
    "**Design a pipelne that includes the follow#ng steps**\n",
    "-    Use an automated feature selection method to identify the important features in the dataset\n",
    "-    Create a numerical p#peline that includes the following steps\n",
    "-    Impute the missing values in the numerical columns using the mean of the column values\n",
    "-    Scale the numerical columns using standardisation\n",
    "-    Create a categorical pipeline that includes the follow#ng steps\n",
    "-    Impute the missing values in the categorical columns using the most frequent value of the column\n",
    "-    One-hot encode the categorical columns\n",
    "-    Combine the numerical and categorical pipelines using a ColumnTransformer\n",
    "-    Use a Random Forest Classifier to build the final mode\n",
    "-    Evaluate the accuracy of the model on the test dataset\n",
    "\n",
    "**Note!** Your solution should include code snippets for each step of the pipeline, and a brief explanatin of\n",
    "each step. You should also prov#de an interpretat#on of the results and suggest possible improvements for\n",
    "the pipeline"
   ]
  },
  {
   "cell_type": "markdown",
   "id": "55778374-c50d-4da2-a728-6aa2637977fc",
   "metadata": {},
   "source": [
    "Certainly! Below is a Python code snippet using scikit-learn to create a machine learning pipeline that addresses the specified requirements:\n",
    "\n",
    "```python\n",
    "from sklearn.compose import ColumnTransformer\n",
    "from sklearn.ensemble import RandomForestClassifier\n",
    "from sklearn.impute import SimpleImputer\n",
    "from sklearn.ensemble import RandomForestClassifier\n",
    "from sklearn.feature_selection import SelectFromModel\n",
    "from sklearn.pipeline import Pipeline\n",
    "from sklearn.preprocessing import StandardScaler, OneHotEncoder\n",
    "from sklearn.model_selection import train_test_split\n",
    "from sklearn.metrics import accuracy_score\n",
    "\n",
    "# Assuming 'X' is your feature matrix and 'y' is the target variable\n",
    "# X_train, X_test, y_train, y_test = train_test_split(X, y, test_size=0.2, random_state=42)\n",
    "\n",
    "# Step 1: Feature Selection\n",
    "feature_selector = SelectFromModel(RandomForestClassifier(n_estimators=100))\n",
    "feature_selection_pipeline = Pipeline(steps=[('feature_selector', feature_selector)])\n",
    "\n",
    "# Step 2: Numerical Pipeline\n",
    "numerical_features = X.select_dtypes(include=['int64', 'float64']).columns\n",
    "numerical_pipeline = Pipeline(steps=[\n",
    "    ('imputer', SimpleImputer(strategy='mean')),\n",
    "    ('scaler', StandardScaler())\n",
    "])\n",
    "\n",
    "# Step 3: Categorical Pipeline\n",
    "categorical_features = X.select_dtypes(include=['object']).columns\n",
    "categorical_pipeline = Pipeline(steps=[\n",
    "    ('imputer', SimpleImputer(strategy='most_frequent')),\n",
    "    ('onehot', OneHotEncoder(handle_unknown='ignore'))\n",
    "])\n",
    "\n",
    "# Step 4: Column Transformer\n",
    "preprocessor = ColumnTransformer(\n",
    "    transformers=[\n",
    "        ('num', numerical_pipeline, numerical_features),\n",
    "        ('cat', categorical_pipeline, categorical_features)\n",
    "    ])\n",
    "\n",
    "# Step 5: Final Pipeline with Random Forest Classifier\n",
    "final_pipeline = Pipeline(steps=[\n",
    "    ('feature_selection', feature_selection_pipeline),\n",
    "    ('preprocessor', preprocessor),\n",
    "    ('classifier', RandomForestClassifier(n_estimators=100))\n",
    "])\n",
    "\n",
    "# Step 6: Fit the model and evaluate on the test dataset\n",
    "final_pipeline.fit(X_train, y_train)\n",
    "y_pred = final_pipeline.predict(X_test)\n",
    "accuracy = accuracy_score(y_test, y_pred)\n",
    "\n",
    "print(f\"Model Accuracy: {accuracy:.4f}\")\n",
    "```\n",
    "\n",
    "Explanation:\n",
    "\n",
    "1. **Feature Selection:** Uses `SelectFromModel` with a Random Forest Classifier to automatically select important features.\n",
    "\n",
    "2. **Numerical Pipeline:** Imputes missing values with the mean and standardizes numerical features.\n",
    "\n",
    "3. **Categorical Pipeline:** Imputes missing values with the most frequent value and performs one-hot encoding for categorical features.\n",
    "\n",
    "4. **Column Transformer:** Combines the numerical and categorical pipelines.\n",
    "\n",
    "5. **Final Pipeline:** Integrates the feature selection, preprocessing, and a Random Forest Classifier into a single pipeline.\n",
    "\n",
    "6. **Model Evaluation:** Fits the model on the training set and evaluates its accuracy on the test set.\n",
    "\n",
    "Possible Improvements:\n",
    "\n",
    "- **Hyperparameter Tuning:** Perform hyperparameter tuning for both the feature selection method and the Random Forest Classifier.\n",
    "  \n",
    "- **Cross-Validation:** Implement cross-validation to get a more robust estimate of the model's performance.\n",
    "\n",
    "- **Additional Feature Engineering:** Experiment with additional feature engineering techniques, such as creating interaction terms or polynomial features.\n",
    "\n",
    "- **Handle Imbalanced Data:** If your classes are imbalanced, consider techniques such as oversampling, undersampling, or using different evaluation metrics.\n",
    "\n",
    "- **Model Interpretability:** Consider using model-agnostic interpretability techniques to understand the model's predictions better."
   ]
  },
  {
   "cell_type": "markdown",
   "id": "895f1d25-7919-4d1e-a262-287d24f07283",
   "metadata": {
    "tags": []
   },
   "source": [
    "# <div style=\"padding: 10px; background-color: #64CCC5; margin: 10px; color: #000000; font-family: 'New Times Roman', serif; font-size: 60%; text-align: center; border-radius: 10px; overflow: hidden; font-weight: bold;\"> Question 2:</div>\n",
    "**Build a pipeline that includes a random forest classifier and a logistic regression classifier, and then\n",
    "use a voting classifier to comb#ne their predictions. Tra#n the pipeline on the iris dataset and evaluate its\n",
    "accuracy.**"
   ]
  },
  {
   "cell_type": "code",
   "execution_count": 10,
   "id": "ccad11b3-6d93-4d43-9cf9-31993bccb498",
   "metadata": {},
   "outputs": [],
   "source": [
    "import numpy as np\n",
    "import matplotlib.pyplot as plt\n",
    "from sklearn.datasets import load_iris\n",
    "\n",
    "from sklearn.model_selection import train_test_split\n",
    "from sklearn.ensemble import RandomForestClassifier, VotingClassifier\n",
    "from sklearn.linear_model import LogisticRegression\n",
    "from sklearn.preprocessing import StandardScaler\n",
    "from sklearn.pipeline import Pipeline\n",
    "from sklearn.metrics import accuracy_score\n",
    "from sklearn.ensemble import RandomForestClassifier\n",
    "from sklearn.linear_model import LogisticRegression\n",
    "\n",
    "\n",
    "import warnings\n",
    "warnings.filterwarnings('ignore')"
   ]
  },
  {
   "cell_type": "code",
   "execution_count": 11,
   "id": "cefa24a5-38da-4fdd-b23b-d29f41f30c85",
   "metadata": {},
   "outputs": [],
   "source": [
    "iris = datasets.load_iris()"
   ]
  },
  {
   "cell_type": "code",
   "execution_count": 5,
   "id": "f1da2597-8108-4432-b3c3-67974a2a24fd",
   "metadata": {},
   "outputs": [],
   "source": [
    "X = iris.data\n",
    "y = iris.target"
   ]
  },
  {
   "cell_type": "code",
   "execution_count": 7,
   "id": "957da8de-70a3-46be-a7b6-1e0900e8c843",
   "metadata": {},
   "outputs": [],
   "source": [
    "# Split the data into training and testing sets\n",
    "X_train, X_test, y_train, y_test = train_test_split(X, y, test_size=0.2, random_state=42)"
   ]
  },
  {
   "cell_type": "code",
   "execution_count": 8,
   "id": "d2d9a034-42a1-4018-be13-c6fcf6ae2aa4",
   "metadata": {},
   "outputs": [],
   "source": [
    "pipeline = Pipeline([\n",
    "                    ('scaler', StandardScaler()), # Standardize the features\n",
    "                    ('ensamble', VotingClassifier(\n",
    "                        estimators=[\n",
    "                            ('rf', RandomForestClassifier(n_estimators=50, random_state=42)),\n",
    "                            ('lr', LogisticRegression(random_state=42))\n",
    "                        ],\n",
    "                        voting='soft'  # Use 'soft' for probability-based voting\n",
    "                    ))\n",
    "                ])"
   ]
  },
  {
   "cell_type": "code",
   "execution_count": 9,
   "id": "fb51a525-4c0d-465d-8a25-87305679e08a",
   "metadata": {},
   "outputs": [
    {
     "name": "stdout",
     "output_type": "stream",
     "text": [
      "Accuracy: 1.0000\n"
     ]
    }
   ],
   "source": [
    "# Train the pipeline on the training data\n",
    "pipeline.fit(X_train, y_train)\n",
    "\n",
    "# Make predictions on the test data\n",
    "y_pred = pipeline.predict(X_test)\n",
    "\n",
    "# Evaluate accuracy\n",
    "accuracy = accuracy_score(y_test, y_pred)\n",
    "print(f'Accuracy: {accuracy:.4f}')"
   ]
  },
  {
   "cell_type": "markdown",
   "id": "d6df23ba-af27-4bff-84e5-3034f5f4e092",
   "metadata": {
    "tags": []
   },
   "source": [
    "# <div style=\"padding: 15px; background-color: #D2E0FB; margin: 15px; color: #000000; font-family: 'New Times Roman', serif; font-size: 110%; text-align: center; border-radius: 10px; overflow: hidden; font-weight: bold;\"> ***...Complete...***</div>"
   ]
  }
 ],
 "metadata": {
  "kernelspec": {
   "display_name": "Python 3 (ipykernel)",
   "language": "python",
   "name": "python3"
  },
  "language_info": {
   "codemirror_mode": {
    "name": "ipython",
    "version": 3
   },
   "file_extension": ".py",
   "mimetype": "text/x-python",
   "name": "python",
   "nbconvert_exporter": "python",
   "pygments_lexer": "ipython3",
   "version": "3.10.8"
  }
 },
 "nbformat": 4,
 "nbformat_minor": 5
}
