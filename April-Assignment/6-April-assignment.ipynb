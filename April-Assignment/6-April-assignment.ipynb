{
 "cells": [
  {
   "cell_type": "markdown",
   "id": "f1890b16-e313-47b1-b27e-a9d5e2025153",
   "metadata": {},
   "source": [
    "`Question 1`. What is the mathematical formula for a linear SVM?\n",
    "\n",
    "`Answer` :\n",
    "In the context of support vector machines (SVMs), the linear SVM can be represented by the following mathematical formula:\n",
    "\n",
    "Given a set of training data points $((x_1, y_1), (x_2, y_2), \\ldots, (x_n, y_n))$, where $(x_i)$ represents the feature vector of the $(i$)-th data point and $(y_i$) represents its corresponding class label (either -1 or 1 for binary classification), the goal of a linear SVM is to find a hyperplane that separates the data points of different classes with the maximum margin.\n",
    "\n",
    "The equation of the hyperplane is given by:\n",
    "\n",
    "$$ f(x) = \\text{sign}\\left(\\sum_{i=1}^{n} \\alpha_i y_i K(x_i, x) + b\\right) $$\n",
    "\n",
    "Here:\n",
    "- $( f(x) $) is the decision function that assigns a class label based on the sign of the expression.\n",
    "- $( \\alpha_i $) are the Lagrange multipliers (also called weights), one for each training data point.\n",
    "- $( y_i $) is the class label of the $(i$)-th data point.\n",
    "- $( K(x_i, x) $) is the kernel function, representing the similarity between the $(i$)-th and $(x$).\n",
    "- $( b $) is the bias term.\n",
    "\n",
    "The most common choice for the kernel function in linear SVM is the linear kernel, which simply computes the dot product between $(x_i$) and $(x$):\n",
    "\n",
    "$$ K(x_i, x) = x_i \\cdot x $$\n",
    "\n",
    "In the case of a linear kernel, the decision function simplifies to:\n",
    "\n",
    "$$ f(x) = \\text{sign}\\left(\\sum_{i=1}^{n} \\alpha_i y_i (x_i \\cdot x) + b\\right) $$\n",
    "\n",
    "The optimization problem involves finding the values of $( \\alpha_i $) and $( b $) that maximize the margin while satisfying certain constraints. This is typically done using techniques such as quadratic programming."
   ]
  },
  {
   "cell_type": "code",
   "execution_count": null,
   "id": "a3f3d7f4-b184-4be4-9a10-af5c61cd4ead",
   "metadata": {},
   "outputs": [],
   "source": []
  },
  {
   "cell_type": "markdown",
   "id": "1783352d-152c-499c-bb55-165eaf4cede6",
   "metadata": {},
   "source": [
    "`Question 2`. What is the objective function of a linear SVM?\n",
    "\n",
    "`Answer` :\n",
    "The objective function of a linear Support Vector Machine (SVM) is formulated to find the optimal hyperplane that maximizes the margin between classes. The problem is often expressed as a constrained optimization problem. Here's the standard formulation:\n",
    "\n",
    "Given a set of training data points $((x_1, y_1), (x_2, y_2), \\ldots, (x_n, y_n)$), where $(x_i$) is the feature vector of the $(i)-th$ data point and $(y_i$) is its corresponding class label (either -1 or 1 for binary classification), the objective function for a linear SVM can be expressed as:\n",
    "\n",
    "$$ \\text{Minimize} \\quad \\frac{1}{2} \\|w\\|^2 $$\n",
    "\n",
    "subject to the constraints:\n",
    "\n",
    "$$[ y_i(w \\cdot x_i + b) \\geq 1 \\quad \\text{for } i = 1, 2, \\ldots, n ]$$\n",
    "\n",
    "Here:\n",
    "- $(w)$ is the weight vector (normal to the hyperplane) that we are trying to optimize.\n",
    "- $(b)$ is the bias term.\n",
    "- $(\\|w\\|)$ is the Euclidean norm (magnitude) of the weight vector.\n",
    "\n",
    "The goal is to minimize the $(L2)-norm$ of the weight vector $((\\frac{1}{2} \\|w\\|^2))$ subject to the constraint that each data point is correctly classified and lies on the correct side of the decision boundary. The term $(\\frac{1}{2} \\|w\\|^2)$ serves as a regularization term that encourages a larger margin.\n",
    "\n",
    "The constraints $(y_i(w \\cdot x_i + b) \\geq 1)$ ensure that each data point is correctly classified and is on the correct side of the margin (or on the correct side of the decision boundary). The margin is defined as the distance between the hyperplane and the nearest data point from either class, and maximizing this margin is the primary objective of the linear SVM.\n",
    "\n",
    "The optimization problem is typically solved using techniques such as quadratic programming to find the optimal values for $(w)$ and $(b)$. The Lagrange multipliers ($(\\alpha_i$)) are introduced to convert the inequality constraints into equality constraints in the Lagrangian dual form of the problem."
   ]
  },
  {
   "cell_type": "code",
   "execution_count": null,
   "id": "3a94008b-e500-414f-b5ed-9a47136038fe",
   "metadata": {},
   "outputs": [],
   "source": []
  },
  {
   "cell_type": "markdown",
   "id": "0efae261-f84d-483b-9c40-62c64c95ee02",
   "metadata": {},
   "source": [
    "`Question 3`. What is the kernel trick in SVM?\n",
    "\n",
    "`Answer` :he kernel trick in Support Vector Machines (SVMs) is a clever method that allows SVMs to work well with data that isn't easily separable by a straight line. Instead of explicitly transforming the data into a higher-dimensional space, the kernel trick uses a shortcut.\n",
    "\n",
    "In the SVM equations, there's a term $(K(x_i, x)$), called the kernel function. This function calculates a measure of similarity between two data points without actually transforming them. It's like saying, \"How similar are these two points without explicitly telling me what the points look like in a higher-dimensional space?\"\n",
    "\n",
    "The key equation for SVM with the kernel trick is:\n",
    "\n",
    "$$f(x) = \\text{sign}\\left(\\sum_{i=1}^{n} \\alpha_i y_i K(x_i, x) + b\\right) $$\n",
    "\n",
    "Here's what you need to know:\n",
    "- $( K(x_i, x) )$ is the kernel function.\n",
    "- $( \\alpha_i )$ are some special numbers.\n",
    "- $( y_i )$ is whether a point is in one class or another.\n",
    "- $( b )$ is a kind of adjustment.\n",
    "\n",
    "The different types of kernel functions (like linear, polynomial, Gaussian, etc.) let the SVM find complex patterns in the data without explicitly going into a higher-dimensional space. It's a trick because it saves a lot of computation while still allowing SVMs to handle more complex relationships in the data."
   ]
  },
  {
   "cell_type": "code",
   "execution_count": null,
   "id": "b4e13f4e-ac98-4d22-afc1-bbe19998b0a1",
   "metadata": {},
   "outputs": [],
   "source": []
  },
  {
   "cell_type": "markdown",
   "id": "39441cce-f62b-4fc6-9f12-6848006a338d",
   "metadata": {},
   "source": [
    "`Question 4`. What is the role of support vectors in SVM Explain with example\n",
    "\n",
    "`Answer` :\n",
    "In the context of Support Vector Machines (SVM), support vectors play a crucial role in defining the decision boundary between different classes. SVM is a supervised machine learning algorithm used for classification and regression tasks. It aims to find an optimal hyperplane that separates data points of different classes in a high-dimensional space.\n",
    "\n",
    "Support vectors are the data points from the training set that lie closest to the decision boundary. These data points have a significant influence on determining the position and orientation of the decision boundary. The decision boundary is constructed in such a way that it maximally separates the support vectors of different classes.\n",
    "\n",
    "To explain the role of support vectors, let's consider a simple example. Suppose we have a binary classification problem with two classes, class A and class B. We have a 2-dimensional feature space with data points from both classes scattered across it.\n",
    "\n",
    "In SVM, the goal is to find the hyperplane that maximizes the margin between the two classes. The margin is defined as the distance between the hyperplane and the nearest data points from each class. The support vectors are the data points that lie on the margin or within the margin boundary.\n",
    "\n",
    "During the training of SVM, the algorithm identifies a subset of the training data points as support vectors. These support vectors are the critical elements that guide the classification process. They represent the most challenging or influential data points that contribute to the definition of the decision boundary.\n",
    "\n",
    "Once the support vectors are identified, they are used to calculate the parameters of the hyperplane, such as the weights and biases. The decision boundary is then determined based on these parameters. The support vectors determine the position and orientation of the decision boundary in such a way that it maximally separates the classes while maintaining the maximum margin.\n",
    "\n",
    "The importance of support vectors becomes evident when new unseen data points need to be classified. The decision boundary is solely dependent on the position of the support vectors, and their influence extends to the classification of new data points. Any new data point that lies within the margin boundary or on the wrong side of the decision boundary is likely to be misclassified.\n",
    "\n",
    "In summary, support vectors are the critical data points that lie closest to the decision boundary in SVM. They play a vital role in determining the position and orientation of the decision boundary and have a significant influence on the classification of new data points."
   ]
  },
  {
   "cell_type": "code",
   "execution_count": null,
   "id": "87c33dcc-bc65-4c46-a29f-b7080273de65",
   "metadata": {},
   "outputs": [],
   "source": []
  },
  {
   "cell_type": "markdown",
   "id": "fc6193fa-ca0f-407d-83d4-c7d1a637d3e1",
   "metadata": {},
   "source": [
    "`Question 5`.\n",
    "**SVM Implementation through Iris dataset.**\n",
    "- Load the iris dataset from the scikit-learn library and split it into a training set and a testing set\n",
    "- Train a linear SVM classifier on the training set and predict the labels for the testing set\n",
    "- Compute the accuracy of the model on the testing set\n",
    "- Plot the decision boundaries of the trained model using two of the features\n",
    "- Try different values of the regularisation parameter C and see how it affects the performance of the model.\n",
    "\n",
    "**Bonus task:** \n",
    "Implement a linear SVM classifier from scratch using Python and compare its performance with the scikit-learn implementation."
   ]
  },
  {
   "cell_type": "markdown",
   "id": "d45bf828-2d76-41d4-821e-daf23280e2fb",
   "metadata": {},
   "source": [
    "# <div style=\"padding: 15px; background-color: #29ADB2; margin: 15px; color: #000000; font-family: 'New Times Roman', serif; font-size: 110%; text-align: center; border-radius: 10px; overflow: hidden; font-weight: bold;\"> Importing Imp. Libraries </div>"
   ]
  },
  {
   "cell_type": "code",
   "execution_count": 58,
   "id": "993aa3ab-5de9-4eac-8b58-df2e8bf35684",
   "metadata": {},
   "outputs": [],
   "source": [
    "import numpy as np\n",
    "import pandas as pd\n",
    "import matplotlib.pyplot as plt\n",
    "import seaborn as sns\n",
    "from matplotlib.colors import ListedColormap\n",
    "\n",
    "#from Sk-learn\n",
    "from sklearn.model_selection import train_test_split\n",
    "from sklearn.svm import SVC\n",
    "from sklearn.model_selection import GridSearchCV, cross_val_score\n",
    "from sklearn import datasets\n",
    "\n",
    "#From mlxtend\n",
    "from mlxtend.plotting import plot_decision_regions\n",
    "\n",
    "import warnings\n",
    "warnings.filterwarnings('ignore')"
   ]
  },
  {
   "cell_type": "markdown",
   "id": "a05fed0e-f4ee-4362-bc0b-1e6d48c75aea",
   "metadata": {},
   "source": [
    "# <div style=\"padding: 15px; background-color: #29ADB2; margin: 15px; color: #000000; font-family: 'New Times Roman', serif; font-size: 110%; text-align: center; border-radius: 10px; overflow: hidden; font-weight: bold;\"> Load Dataset </div>"
   ]
  },
  {
   "cell_type": "code",
   "execution_count": 59,
   "id": "03090ed6-9807-4ada-928a-6b8887d5bd4b",
   "metadata": {},
   "outputs": [],
   "source": [
    "iris = datasets.load_iris()"
   ]
  },
  {
   "cell_type": "code",
   "execution_count": 60,
   "id": "b56d46ec-720c-4d6a-9b13-e60461edd4a8",
   "metadata": {},
   "outputs": [],
   "source": [
    "X = iris.data\n",
    "y = iris.target"
   ]
  },
  {
   "cell_type": "code",
   "execution_count": 61,
   "id": "8eda2c10-1118-4017-b5e7-a3c6adb103bc",
   "metadata": {},
   "outputs": [],
   "source": [
    "X_train, X_test, y_train, y_test = train_test_split(X, y, test_size=0.3, random_state=42)"
   ]
  },
  {
   "cell_type": "markdown",
   "id": "ba7a2be8-fcd8-4a33-aae7-fc04de1356ef",
   "metadata": {},
   "source": [
    "# <div style=\"padding: 15px; background-color: #29ADB2; margin: 15px; color: #000000; font-family: 'New Times Roman', serif; font-size: 110%; text-align: center; border-radius: 10px; overflow: hidden; font-weight: bold;\"> Train a linear SVM  </div>"
   ]
  },
  {
   "cell_type": "code",
   "execution_count": 62,
   "id": "7b7a455c-c8fa-4729-b07d-52d77cac06eb",
   "metadata": {},
   "outputs": [],
   "source": [
    "svc_model = SVC(kernel='linear')"
   ]
  },
  {
   "cell_type": "code",
   "execution_count": 63,
   "id": "5b0e8358-b188-4b32-8619-6746f0a6910d",
   "metadata": {},
   "outputs": [
    {
     "data": {
      "text/html": [
       "<style>#sk-container-id-4 {color: black;background-color: white;}#sk-container-id-4 pre{padding: 0;}#sk-container-id-4 div.sk-toggleable {background-color: white;}#sk-container-id-4 label.sk-toggleable__label {cursor: pointer;display: block;width: 100%;margin-bottom: 0;padding: 0.3em;box-sizing: border-box;text-align: center;}#sk-container-id-4 label.sk-toggleable__label-arrow:before {content: \"▸\";float: left;margin-right: 0.25em;color: #696969;}#sk-container-id-4 label.sk-toggleable__label-arrow:hover:before {color: black;}#sk-container-id-4 div.sk-estimator:hover label.sk-toggleable__label-arrow:before {color: black;}#sk-container-id-4 div.sk-toggleable__content {max-height: 0;max-width: 0;overflow: hidden;text-align: left;background-color: #f0f8ff;}#sk-container-id-4 div.sk-toggleable__content pre {margin: 0.2em;color: black;border-radius: 0.25em;background-color: #f0f8ff;}#sk-container-id-4 input.sk-toggleable__control:checked~div.sk-toggleable__content {max-height: 200px;max-width: 100%;overflow: auto;}#sk-container-id-4 input.sk-toggleable__control:checked~label.sk-toggleable__label-arrow:before {content: \"▾\";}#sk-container-id-4 div.sk-estimator input.sk-toggleable__control:checked~label.sk-toggleable__label {background-color: #d4ebff;}#sk-container-id-4 div.sk-label input.sk-toggleable__control:checked~label.sk-toggleable__label {background-color: #d4ebff;}#sk-container-id-4 input.sk-hidden--visually {border: 0;clip: rect(1px 1px 1px 1px);clip: rect(1px, 1px, 1px, 1px);height: 1px;margin: -1px;overflow: hidden;padding: 0;position: absolute;width: 1px;}#sk-container-id-4 div.sk-estimator {font-family: monospace;background-color: #f0f8ff;border: 1px dotted black;border-radius: 0.25em;box-sizing: border-box;margin-bottom: 0.5em;}#sk-container-id-4 div.sk-estimator:hover {background-color: #d4ebff;}#sk-container-id-4 div.sk-parallel-item::after {content: \"\";width: 100%;border-bottom: 1px solid gray;flex-grow: 1;}#sk-container-id-4 div.sk-label:hover label.sk-toggleable__label {background-color: #d4ebff;}#sk-container-id-4 div.sk-serial::before {content: \"\";position: absolute;border-left: 1px solid gray;box-sizing: border-box;top: 0;bottom: 0;left: 50%;z-index: 0;}#sk-container-id-4 div.sk-serial {display: flex;flex-direction: column;align-items: center;background-color: white;padding-right: 0.2em;padding-left: 0.2em;position: relative;}#sk-container-id-4 div.sk-item {position: relative;z-index: 1;}#sk-container-id-4 div.sk-parallel {display: flex;align-items: stretch;justify-content: center;background-color: white;position: relative;}#sk-container-id-4 div.sk-item::before, #sk-container-id-4 div.sk-parallel-item::before {content: \"\";position: absolute;border-left: 1px solid gray;box-sizing: border-box;top: 0;bottom: 0;left: 50%;z-index: -1;}#sk-container-id-4 div.sk-parallel-item {display: flex;flex-direction: column;z-index: 1;position: relative;background-color: white;}#sk-container-id-4 div.sk-parallel-item:first-child::after {align-self: flex-end;width: 50%;}#sk-container-id-4 div.sk-parallel-item:last-child::after {align-self: flex-start;width: 50%;}#sk-container-id-4 div.sk-parallel-item:only-child::after {width: 0;}#sk-container-id-4 div.sk-dashed-wrapped {border: 1px dashed gray;margin: 0 0.4em 0.5em 0.4em;box-sizing: border-box;padding-bottom: 0.4em;background-color: white;}#sk-container-id-4 div.sk-label label {font-family: monospace;font-weight: bold;display: inline-block;line-height: 1.2em;}#sk-container-id-4 div.sk-label-container {text-align: center;}#sk-container-id-4 div.sk-container {/* jupyter's `normalize.less` sets `[hidden] { display: none; }` but bootstrap.min.css set `[hidden] { display: none !important; }` so we also need the `!important` here to be able to override the default hidden behavior on the sphinx rendered scikit-learn.org. See: https://github.com/scikit-learn/scikit-learn/issues/21755 */display: inline-block !important;position: relative;}#sk-container-id-4 div.sk-text-repr-fallback {display: none;}</style><div id=\"sk-container-id-4\" class=\"sk-top-container\"><div class=\"sk-text-repr-fallback\"><pre>SVC(kernel=&#x27;linear&#x27;)</pre><b>In a Jupyter environment, please rerun this cell to show the HTML representation or trust the notebook. <br />On GitHub, the HTML representation is unable to render, please try loading this page with nbviewer.org.</b></div><div class=\"sk-container\" hidden><div class=\"sk-item\"><div class=\"sk-estimator sk-toggleable\"><input class=\"sk-toggleable__control sk-hidden--visually\" id=\"sk-estimator-id-6\" type=\"checkbox\" checked><label for=\"sk-estimator-id-6\" class=\"sk-toggleable__label sk-toggleable__label-arrow\">SVC</label><div class=\"sk-toggleable__content\"><pre>SVC(kernel=&#x27;linear&#x27;)</pre></div></div></div></div></div>"
      ],
      "text/plain": [
       "SVC(kernel='linear')"
      ]
     },
     "execution_count": 63,
     "metadata": {},
     "output_type": "execute_result"
    }
   ],
   "source": [
    "svc_model.fit(X_train, y_train)"
   ]
  },
  {
   "cell_type": "markdown",
   "id": "ef113b1d-40aa-4d4a-a10a-2273e4ba54a1",
   "metadata": {},
   "source": [
    "# <div style=\"padding: 15px; background-color: #29ADB2; margin: 15px; color: #000000; font-family: 'New Times Roman', serif; font-size: 110%; text-align: center; border-radius: 10px; overflow: hidden; font-weight: bold;\"> Model Evaluation </div>"
   ]
  },
  {
   "cell_type": "code",
   "execution_count": 64,
   "id": "c61da525-e0b3-4c45-9945-1d1069b6321e",
   "metadata": {},
   "outputs": [],
   "source": [
    "from sklearn.metrics import accuracy_score, classification_report, confusion_matrix"
   ]
  },
  {
   "cell_type": "code",
   "execution_count": 65,
   "id": "30dd4874-26f5-4f21-8eb6-b0e9c9960d69",
   "metadata": {},
   "outputs": [],
   "source": [
    "y_pred = svc_model.predict(X_test)"
   ]
  },
  {
   "cell_type": "code",
   "execution_count": 66,
   "id": "1e2633f1-d336-4f8a-993b-8a67904c3675",
   "metadata": {},
   "outputs": [
    {
     "name": "stdout",
     "output_type": "stream",
     "text": [
      "Test Set Accuracy: 1.0\n"
     ]
    }
   ],
   "source": [
    "# accuracy report\n",
    "accuracy = accuracy_score(y_test, y_pred)\n",
    "print(\"Test Set Accuracy:\", accuracy)"
   ]
  },
  {
   "cell_type": "code",
   "execution_count": 67,
   "id": "5978684e-af23-44e2-a2f9-c4120a1ed444",
   "metadata": {},
   "outputs": [
    {
     "name": "stdout",
     "output_type": "stream",
     "text": [
      "Classification Report:\n",
      "              precision    recall  f1-score   support\n",
      "\n",
      "           0       1.00      1.00      1.00        19\n",
      "           1       1.00      1.00      1.00        13\n",
      "           2       1.00      1.00      1.00        13\n",
      "\n",
      "    accuracy                           1.00        45\n",
      "   macro avg       1.00      1.00      1.00        45\n",
      "weighted avg       1.00      1.00      1.00        45\n",
      "\n"
     ]
    }
   ],
   "source": [
    "#Classification report\n",
    "print(\"Classification Report:\")\n",
    "print(classification_report(y_test, y_pred))"
   ]
  },
  {
   "cell_type": "code",
   "execution_count": 68,
   "id": "36ee7cdb-80bb-462c-be21-709ad8bd3f38",
   "metadata": {},
   "outputs": [
    {
     "name": "stdout",
     "output_type": "stream",
     "text": [
      "Confusion Matrix:\n",
      "[[19  0  0]\n",
      " [ 0 13  0]\n",
      " [ 0  0 13]]\n"
     ]
    }
   ],
   "source": [
    "# Confusion Matrix\n",
    "conf_matrix = confusion_matrix(y_test, y_pred)\n",
    "print(\"Confusion Matrix:\")\n",
    "print(conf_matrix)"
   ]
  },
  {
   "cell_type": "markdown",
   "id": "253b277b-baca-4477-aa99-9666e5ff5e3b",
   "metadata": {},
   "source": [
    "# <div style=\"padding: 15px; background-color: #29ADB2; margin: 15px; color: #000000; font-family: 'New Times Roman', serif; font-size: 110%; text-align: center; border-radius: 10px; overflow: hidden; font-weight: bold;\"> Plot decision boundaries </div>"
   ]
  },
  {
   "cell_type": "code",
   "execution_count": 69,
   "id": "9ecd873b-9160-4579-b7e3-2da52b3a8471",
   "metadata": {},
   "outputs": [
    {
     "name": "stdout",
     "output_type": "stream",
     "text": [
      "Requirement already satisfied: mlxtend in /opt/conda/lib/python3.10/site-packages (0.23.0)\n",
      "Requirement already satisfied: matplotlib>=3.0.0 in /opt/conda/lib/python3.10/site-packages (from mlxtend) (3.6.2)\n",
      "Requirement already satisfied: scipy>=1.2.1 in /opt/conda/lib/python3.10/site-packages (from mlxtend) (1.9.3)\n",
      "Requirement already satisfied: numpy>=1.16.2 in /opt/conda/lib/python3.10/site-packages (from mlxtend) (1.23.5)\n",
      "Requirement already satisfied: joblib>=0.13.2 in /opt/conda/lib/python3.10/site-packages (from mlxtend) (1.2.0)\n",
      "Requirement already satisfied: pandas>=0.24.2 in /opt/conda/lib/python3.10/site-packages (from mlxtend) (1.5.2)\n",
      "Requirement already satisfied: scikit-learn>=1.0.2 in /opt/conda/lib/python3.10/site-packages (from mlxtend) (1.2.0)\n",
      "Requirement already satisfied: fonttools>=4.22.0 in /opt/conda/lib/python3.10/site-packages (from matplotlib>=3.0.0->mlxtend) (4.38.0)\n",
      "Requirement already satisfied: cycler>=0.10 in /opt/conda/lib/python3.10/site-packages (from matplotlib>=3.0.0->mlxtend) (0.11.0)\n",
      "Requirement already satisfied: pyparsing>=2.2.1 in /opt/conda/lib/python3.10/site-packages (from matplotlib>=3.0.0->mlxtend) (3.0.9)\n",
      "Requirement already satisfied: packaging>=20.0 in /opt/conda/lib/python3.10/site-packages (from matplotlib>=3.0.0->mlxtend) (22.0)\n",
      "Requirement already satisfied: python-dateutil>=2.7 in /opt/conda/lib/python3.10/site-packages (from matplotlib>=3.0.0->mlxtend) (2.8.2)\n",
      "Requirement already satisfied: kiwisolver>=1.0.1 in /opt/conda/lib/python3.10/site-packages (from matplotlib>=3.0.0->mlxtend) (1.4.4)\n",
      "Requirement already satisfied: pillow>=6.2.0 in /opt/conda/lib/python3.10/site-packages (from matplotlib>=3.0.0->mlxtend) (9.2.0)\n",
      "Requirement already satisfied: contourpy>=1.0.1 in /opt/conda/lib/python3.10/site-packages (from matplotlib>=3.0.0->mlxtend) (1.0.6)\n",
      "Requirement already satisfied: pytz>=2020.1 in /opt/conda/lib/python3.10/site-packages (from pandas>=0.24.2->mlxtend) (2022.6)\n",
      "Requirement already satisfied: threadpoolctl>=2.0.0 in /opt/conda/lib/python3.10/site-packages (from scikit-learn>=1.0.2->mlxtend) (3.1.0)\n",
      "Requirement already satisfied: six>=1.5 in /opt/conda/lib/python3.10/site-packages (from python-dateutil>=2.7->matplotlib>=3.0.0->mlxtend) (1.16.0)\n"
     ]
    }
   ],
   "source": [
    "!pip install mlxtend"
   ]
  },
  {
   "cell_type": "code",
   "execution_count": null,
   "id": "de4beed1-5a66-4921-9b49-bafcc4606ec3",
   "metadata": {},
   "outputs": [],
   "source": []
  },
  {
   "cell_type": "code",
   "execution_count": 70,
   "id": "3c645295-f41e-4294-9620-888651c159cf",
   "metadata": {},
   "outputs": [
    {
     "data": {
      "image/png": "[encoded data removed]",
      "text/plain": [
       "<Figure size 640x480 with 1 Axes>"
      ]
     },
     "metadata": {},
     "output_type": "display_data"
    }
   ],
   "source": [
    "X = iris.data[:, [0, 2]]\n",
    "y = iris.target\n",
    "\n",
    "# Training a classifier with two feature\n",
    "svm = SVC(C=0.5, kernel='linear')\n",
    "svm.fit(X, y)\n",
    "\n",
    "\n",
    "# Plotting decision regions\n",
    "plot_decision_regions(X, y, clf=svm, legend=2)\n",
    "\n",
    "# Adding axes annotations\n",
    "plt.xlabel('sepal length [cm]')\n",
    "plt.ylabel('petal length [cm]')\n",
    "plt.title('SVM on Iris')\n",
    "plt.show()"
   ]
  },
  {
   "cell_type": "code",
   "execution_count": null,
   "id": "af402c7f-dc2b-4ba2-bd59-19b203e6563e",
   "metadata": {},
   "outputs": [],
   "source": []
  },
  {
   "cell_type": "markdown",
   "id": "6a2ad697-c7f0-4acc-97b5-896525953994",
   "metadata": {},
   "source": [
    "# <div style=\"padding: 15px; background-color: #29ADB2; margin: 15px; color: #000000; font-family: 'New Times Roman', serif; font-size: 110%; text-align: center; border-radius: 10px; overflow: hidden; font-weight: bold;\"> Regularisation parameter C  </div>"
   ]
  },
  {
   "cell_type": "code",
   "execution_count": 71,
   "id": "dbf99720-076a-45ff-acf4-2363cd15a8ab",
   "metadata": {},
   "outputs": [],
   "source": [
    "X = iris.data\n",
    "y = iris.target\n",
    "\n",
    "# Split the data into training and testing sets\n",
    "X_train, X_test, y_train, y_test = train_test_split(X, y, test_size=0.2, random_state=42)\n",
    "\n",
    "# Define the parameter grid for the grid search\n",
    "param_grid = {\n",
    "    'C': [0.1, 1, 10],                # Values of the regularization parameter\n",
    "    'kernel': ['linear', 'rbf'],      # Types of kernel functions\n",
    "    'gamma': ['scale', 'auto']        # Kernel coefficient for 'rbf' kernel\n",
    "}\n",
    "\n",
    "# Create the SVM classifier\n",
    "svm = SVC()"
   ]
  },
  {
   "cell_type": "code",
   "execution_count": 72,
   "id": "ee079983-6a5e-47c2-90da-dbe96fc658fd",
   "metadata": {},
   "outputs": [
    {
     "data": {
      "text/html": [
       "<style>#sk-container-id-5 {color: black;background-color: white;}#sk-container-id-5 pre{padding: 0;}#sk-container-id-5 div.sk-toggleable {background-color: white;}#sk-container-id-5 label.sk-toggleable__label {cursor: pointer;display: block;width: 100%;margin-bottom: 0;padding: 0.3em;box-sizing: border-box;text-align: center;}#sk-container-id-5 label.sk-toggleable__label-arrow:before {content: \"▸\";float: left;margin-right: 0.25em;color: #696969;}#sk-container-id-5 label.sk-toggleable__label-arrow:hover:before {color: black;}#sk-container-id-5 div.sk-estimator:hover label.sk-toggleable__label-arrow:before {color: black;}#sk-container-id-5 div.sk-toggleable__content {max-height: 0;max-width: 0;overflow: hidden;text-align: left;background-color: #f0f8ff;}#sk-container-id-5 div.sk-toggleable__content pre {margin: 0.2em;color: black;border-radius: 0.25em;background-color: #f0f8ff;}#sk-container-id-5 input.sk-toggleable__control:checked~div.sk-toggleable__content {max-height: 200px;max-width: 100%;overflow: auto;}#sk-container-id-5 input.sk-toggleable__control:checked~label.sk-toggleable__label-arrow:before {content: \"▾\";}#sk-container-id-5 div.sk-estimator input.sk-toggleable__control:checked~label.sk-toggleable__label {background-color: #d4ebff;}#sk-container-id-5 div.sk-label input.sk-toggleable__control:checked~label.sk-toggleable__label {background-color: #d4ebff;}#sk-container-id-5 input.sk-hidden--visually {border: 0;clip: rect(1px 1px 1px 1px);clip: rect(1px, 1px, 1px, 1px);height: 1px;margin: -1px;overflow: hidden;padding: 0;position: absolute;width: 1px;}#sk-container-id-5 div.sk-estimator {font-family: monospace;background-color: #f0f8ff;border: 1px dotted black;border-radius: 0.25em;box-sizing: border-box;margin-bottom: 0.5em;}#sk-container-id-5 div.sk-estimator:hover {background-color: #d4ebff;}#sk-container-id-5 div.sk-parallel-item::after {content: \"\";width: 100%;border-bottom: 1px solid gray;flex-grow: 1;}#sk-container-id-5 div.sk-label:hover label.sk-toggleable__label {background-color: #d4ebff;}#sk-container-id-5 div.sk-serial::before {content: \"\";position: absolute;border-left: 1px solid gray;box-sizing: border-box;top: 0;bottom: 0;left: 50%;z-index: 0;}#sk-container-id-5 div.sk-serial {display: flex;flex-direction: column;align-items: center;background-color: white;padding-right: 0.2em;padding-left: 0.2em;position: relative;}#sk-container-id-5 div.sk-item {position: relative;z-index: 1;}#sk-container-id-5 div.sk-parallel {display: flex;align-items: stretch;justify-content: center;background-color: white;position: relative;}#sk-container-id-5 div.sk-item::before, #sk-container-id-5 div.sk-parallel-item::before {content: \"\";position: absolute;border-left: 1px solid gray;box-sizing: border-box;top: 0;bottom: 0;left: 50%;z-index: -1;}#sk-container-id-5 div.sk-parallel-item {display: flex;flex-direction: column;z-index: 1;position: relative;background-color: white;}#sk-container-id-5 div.sk-parallel-item:first-child::after {align-self: flex-end;width: 50%;}#sk-container-id-5 div.sk-parallel-item:last-child::after {align-self: flex-start;width: 50%;}#sk-container-id-5 div.sk-parallel-item:only-child::after {width: 0;}#sk-container-id-5 div.sk-dashed-wrapped {border: 1px dashed gray;margin: 0 0.4em 0.5em 0.4em;box-sizing: border-box;padding-bottom: 0.4em;background-color: white;}#sk-container-id-5 div.sk-label label {font-family: monospace;font-weight: bold;display: inline-block;line-height: 1.2em;}#sk-container-id-5 div.sk-label-container {text-align: center;}#sk-container-id-5 div.sk-container {/* jupyter's `normalize.less` sets `[hidden] { display: none; }` but bootstrap.min.css set `[hidden] { display: none !important; }` so we also need the `!important` here to be able to override the default hidden behavior on the sphinx rendered scikit-learn.org. See: https://github.com/scikit-learn/scikit-learn/issues/21755 */display: inline-block !important;position: relative;}#sk-container-id-5 div.sk-text-repr-fallback {display: none;}</style><div id=\"sk-container-id-5\" class=\"sk-top-container\"><div class=\"sk-text-repr-fallback\"><pre>GridSearchCV(cv=5, estimator=SVC(),\n",
       "             param_grid={&#x27;C&#x27;: [0.1, 1, 10], &#x27;gamma&#x27;: [&#x27;scale&#x27;, &#x27;auto&#x27;],\n",
       "                         &#x27;kernel&#x27;: [&#x27;linear&#x27;, &#x27;rbf&#x27;]},\n",
       "             scoring=&#x27;accuracy&#x27;)</pre><b>In a Jupyter environment, please rerun this cell to show the HTML representation or trust the notebook. <br />On GitHub, the HTML representation is unable to render, please try loading this page with nbviewer.org.</b></div><div class=\"sk-container\" hidden><div class=\"sk-item sk-dashed-wrapped\"><div class=\"sk-label-container\"><div class=\"sk-label sk-toggleable\"><input class=\"sk-toggleable__control sk-hidden--visually\" id=\"sk-estimator-id-7\" type=\"checkbox\" ><label for=\"sk-estimator-id-7\" class=\"sk-toggleable__label sk-toggleable__label-arrow\">GridSearchCV</label><div class=\"sk-toggleable__content\"><pre>GridSearchCV(cv=5, estimator=SVC(),\n",
       "             param_grid={&#x27;C&#x27;: [0.1, 1, 10], &#x27;gamma&#x27;: [&#x27;scale&#x27;, &#x27;auto&#x27;],\n",
       "                         &#x27;kernel&#x27;: [&#x27;linear&#x27;, &#x27;rbf&#x27;]},\n",
       "             scoring=&#x27;accuracy&#x27;)</pre></div></div></div><div class=\"sk-parallel\"><div class=\"sk-parallel-item\"><div class=\"sk-item\"><div class=\"sk-label-container\"><div class=\"sk-label sk-toggleable\"><input class=\"sk-toggleable__control sk-hidden--visually\" id=\"sk-estimator-id-8\" type=\"checkbox\" ><label for=\"sk-estimator-id-8\" class=\"sk-toggleable__label sk-toggleable__label-arrow\">estimator: SVC</label><div class=\"sk-toggleable__content\"><pre>SVC()</pre></div></div></div><div class=\"sk-serial\"><div class=\"sk-item\"><div class=\"sk-estimator sk-toggleable\"><input class=\"sk-toggleable__control sk-hidden--visually\" id=\"sk-estimator-id-9\" type=\"checkbox\" ><label for=\"sk-estimator-id-9\" class=\"sk-toggleable__label sk-toggleable__label-arrow\">SVC</label><div class=\"sk-toggleable__content\"><pre>SVC()</pre></div></div></div></div></div></div></div></div></div></div>"
      ],
      "text/plain": [
       "GridSearchCV(cv=5, estimator=SVC(),\n",
       "             param_grid={'C': [0.1, 1, 10], 'gamma': ['scale', 'auto'],\n",
       "                         'kernel': ['linear', 'rbf']},\n",
       "             scoring='accuracy')"
      ]
     },
     "execution_count": 72,
     "metadata": {},
     "output_type": "execute_result"
    }
   ],
   "source": [
    "# Create the GridSearchCV object\n",
    "grid_search = GridSearchCV(svm, param_grid, cv=5, scoring='accuracy')\n",
    "\n",
    "# Perform the grid search on the training data\n",
    "grid_search.fit(X_train, y_train)\n"
   ]
  },
  {
   "cell_type": "code",
   "execution_count": 73,
   "id": "edecfdfa-85cb-407e-9828-ee3eee35908f",
   "metadata": {},
   "outputs": [
    {
     "name": "stdout",
     "output_type": "stream",
     "text": [
      "Best Parameters: {'C': 1, 'gamma': 'scale', 'kernel': 'linear'}\n",
      "Best Accuracy: 0.9583333333333334\n"
     ]
    }
   ],
   "source": [
    "# Print the best parameters and the corresponding accuracy\n",
    "print(\"Best Parameters:\", grid_search.best_params_)\n",
    "print(\"Best Accuracy:\", grid_search.best_score_)"
   ]
  },
  {
   "cell_type": "code",
   "execution_count": 74,
   "id": "ba5ae55b-50f3-46e2-963a-75da5ba2a342",
   "metadata": {},
   "outputs": [
    {
     "name": "stdout",
     "output_type": "stream",
     "text": [
      "Test Accuracy of Best Model: 1.0\n"
     ]
    }
   ],
   "source": [
    "# Evaluate the best model on the test data\n",
    "best_model = grid_search.best_estimator_\n",
    "test_accuracy = best_model.score(X_test, y_test)\n",
    "print(\"Test Accuracy of Best Model:\", test_accuracy)"
   ]
  },
  {
   "cell_type": "code",
   "execution_count": null,
   "id": "d7141b4b-ff2c-4646-8983-dc5d99cf6d68",
   "metadata": {},
   "outputs": [],
   "source": []
  },
  {
   "cell_type": "markdown",
   "id": "364e93e7-8974-4903-8e1a-9b43966914f9",
   "metadata": {},
   "source": [
    "# <div style=\"padding: 15px; background-color: #D0A2F7; margin: 15px; color: #000000; font-family: 'New Times Roman', serif; font-size: 110%; text-align: center; border-radius: 10px; overflow: hidden; font-weight: bold;\">**...Complete...**</div>"
   ]
  }
 ],
 "metadata": {
  "kernelspec": {
   "display_name": "Python 3 (ipykernel)",
   "language": "python",
   "name": "python3"
  },
  "language_info": {
   "codemirror_mode": {
    "name": "ipython",
    "version": 3
   },
   "file_extension": ".py",
   "mimetype": "text/x-python",
   "name": "python",
   "nbconvert_exporter": "python",
   "pygments_lexer": "ipython3",
   "version": "3.10.8"
  }
 },
 "nbformat": 4,
 "nbformat_minor": 5
}
