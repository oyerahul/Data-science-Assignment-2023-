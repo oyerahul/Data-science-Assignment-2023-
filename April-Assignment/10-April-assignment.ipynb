{
 "cells": [
  {
   "cell_type": "markdown",
   "id": "f1890b16-e313-47b1-b27e-a9d5e2025153",
   "metadata": {
    "tags": []
   },
   "source": [
    "# <div style=\"padding: 10px; background-color: #64CCC5; margin: 10px; color: #000000; font-family: 'New Times Roman', serif; font-size: 60%; text-align: center; border-radius: 10px; overflow: hidden; font-weight: bold;\"> Question 1:</div>\n",
    "**A company conducted a survey of its employees and found that 70% of the employees use the\n",
    "company's health insurance plan, while 40% of the employees who use the plan are smokers. What is the\n",
    "probability that an employee is a smoker given that he/she uses the health insurance plan?**\n",
    "\n",
    "To find the probability that an employee is a smoker given that he/she uses the health insurance plan, you can use the conditional probability formula:\n",
    "\n",
    "$$[ P(\\text{Smoker} | \\text{Uses Insurance}) = \\frac{P(\\text{Smoker and Uses Insurance})}{P(\\text{Uses Insurance})} ]$$\n",
    "\n",
    "Let:\n",
    "- $( P(\\text{Smoker and Uses Insurance}) )$ be the probability that an employee is both a smoker and uses the health insurance plan.\n",
    "- $( P(\\text{Uses Insurance}) )$ be the probability that an employee uses the health insurance plan.\n",
    "\n",
    "From the information given:\n",
    "- $( P(\\text{Uses Insurance}) )$ is the percentage of employees using the insurance plan, which is 70% (0.70).\n",
    "- $( P(\\text{Smoker and Uses Insurance}) )$ is the percentage of employees who are smokers and use the insurance plan, which is 40% (0.40).\n",
    "\n",
    "Now, substitute these values into the formula:\n",
    "\n",
    "$[ P(\\text{Smoker | Uses Insurance}) = \\frac{0.40}{0.70} ]$\n",
    "\n",
    "Calculate the result:\n",
    "\n",
    "$[ P(\\text{Smoker | Uses Insurance}) = \\frac{4}{7} ]$\n",
    "\n",
    "So, the probability that an employee is a smoker given that he/she uses the health insurance plan is $( \\frac{4}{7} )$ or approximately 0.5714 (rounded to four decimal places)."
   ]
  },
  {
   "cell_type": "code",
   "execution_count": null,
   "id": "d9865f22-3481-4d70-b1ad-989598a28ecf",
   "metadata": {},
   "outputs": [],
   "source": []
  },
  {
   "cell_type": "markdown",
   "id": "895f1d25-7919-4d1e-a262-287d24f07283",
   "metadata": {
    "tags": []
   },
   "source": [
    "# <div style=\"padding: 10px; background-color: #64CCC5; margin: 10px; color: #000000; font-family: 'New Times Roman', serif; font-size: 60%; text-align: center; border-radius: 10px; overflow: hidden; font-weight: bold;\"> Question 2: What is the difference between Bernoulli Naive Bayes and Multinomial Naive Bayes?</div>\n",
    "Both Bernoulli Naive Bayes and Multinomial Naive Bayes are variants of the Naive Bayes algorithm, which is a probabilistic classification algorithm based on Bayes' theorem.\n",
    "\n",
    "The key difference between Bernoulli Naive Bayes and Multinomial Naive Bayes lies in the type of data they are designed to handle:\n",
    "\n",
    "1. **Bernoulli Naive Bayes:**\n",
    "   - **Data Type:** It is suitable for binary data, where features represent binary variables (0 or 1).\n",
    "   - **Example Use Case:** It is often used in document classification problems, where the presence or absence of words in a document is represented by binary values.\n",
    "   - **Assumption:** It assumes that features are binary and independent.\n",
    "\n",
    "2. **Multinomial Naive Bayes:**\n",
    "   - **Data Type:** It is suitable for discrete data, especially when the features represent counts or frequencies.\n",
    "   - **Example Use Case:** It is commonly used in text classification, where the features might represent word frequencies in a document.\n",
    "   - **Assumption:** It assumes that features are discrete and represent the counts of events (e.g., word occurrences).\n",
    "\n",
    "In summary, Bernoulli Naive Bayes is used when dealing with binary data, while Multinomial Naive Bayes is used when dealing with discrete data representing counts or frequencies. The choice between them depends on the nature of your dataset and the specific requirements of your classification problem."
   ]
  },
  {
   "cell_type": "code",
   "execution_count": null,
   "id": "d21236e5-18db-4840-8d40-1a57c769e54a",
   "metadata": {},
   "outputs": [],
   "source": []
  },
  {
   "cell_type": "markdown",
   "id": "f6fce048-792f-4acb-bd94-fa2c0cc3cf9f",
   "metadata": {
    "tags": []
   },
   "source": [
    "# <div style=\"padding: 10px; background-color: #64CCC5; margin: 10px; color: #000000; font-family: 'New Times Roman', serif; font-size: 60%; text-align: center; border-radius: 10px; overflow: hidden; font-weight: bold;\"> Question 3: How does Bernoulli Naive Bayes handle missing values?</div>\n",
    "Handling missing values in the context of the Bernoulli Naive Bayes algorithm involves considering how to treat features that are not observed or are missing. The approach to dealing with missing values can depend on the specific implementation or library you are using. However, here are some common strategies:\n",
    "\n",
    "1. **Ignore Missing Values:**\n",
    "   - One simple approach is to ignore instances with missing values during both training and classification. This means that any instance with missing values for any feature will not contribute to the estimation of probabilities during training, and during classification, the missing values are effectively treated as if they were absent.\n",
    "\n",
    "2. **Imputation:**\n",
    "   - Another approach is to impute the missing values with some estimated or default value. This could involve replacing missing binary features with the mode (the most frequently occurring value) or using some other imputation strategy.\n",
    "\n",
    "3. **Consider Missing as a Separate Category:**\n",
    "   - In some cases, you might treat missing values as a separate category or state for a feature. This can be done by introducing a new category specifically for missing values. However, this approach may introduce additional complexity and assumptions.\n",
    "\n",
    "It's important to note that the Naive Bayes algorithm, including the Bernoulli Naive Bayes variant, assumes independence between features. Therefore, the handling of missing values should align with this assumption to avoid introducing unintended dependencies.\n",
    "\n",
    "When implementing Bernoulli Naive Bayes in a specific programming language or library, it's advisable to consult the documentation or user guides to understand how missing values are handled and whether any specific functions or parameters are available for dealing with them."
   ]
  },
  {
   "cell_type": "code",
   "execution_count": null,
   "id": "07ed6fa7-d1c4-430a-8a3e-5d86cf992440",
   "metadata": {},
   "outputs": [],
   "source": []
  },
  {
   "cell_type": "markdown",
   "id": "63bbff93-6703-4aa2-8e7e-2be252b99bde",
   "metadata": {
    "tags": []
   },
   "source": [
    "# <div style=\"padding: 10px; background-color: #64CCC5; margin: 10px; color: #000000; font-family: 'New Times Roman', serif; font-size: 60%; text-align: center; border-radius: 10px; overflow: hidden; font-weight: bold;\"> Question 4: Can Gaussian Naive Bayes be used for multi-class classification?</div>\n",
    "Yes, Gaussian Naive Bayes can be used for multi-class classification. Gaussian Naive Bayes is an extension of the Naive Bayes algorithm that is designed to handle continuous data. It assumes that the features are normally distributed within each class.\n",
    "\n",
    "In the context of multi-class classification, where there are more than two classes, Gaussian Naive Bayes can be adapted to estimate the parameters (mean and variance) of the Gaussian distribution for each feature within each class. The decision rule is then applied to classify new instances into one of the classes based on the calculated probabilities.\n",
    "\n",
    "The decision rule for Gaussian Naive Bayes is often based on the likelihood function and prior probabilities of the classes. Given a new instance with feature values $(x_1, x_2, \\ldots, x_n)$, the class $(C_k)$ with the highest posterior probability $(P(C_k | x_1, x_2, \\ldots, x_n))$ is chosen as the predicted class.\n",
    "\n",
    "In summary, Gaussian Naive Bayes can handle multi-class classification problems by extending the underlying Gaussian distribution estimation to each class and applying the appropriate decision rule. This makes it a versatile algorithm suitable for both binary and multi-class classification tasks when dealing with continuous features."
   ]
  },
  {
   "cell_type": "code",
   "execution_count": null,
   "id": "52b8d458-72a0-419f-8c1a-7ada780b5497",
   "metadata": {},
   "outputs": [],
   "source": []
  },
  {
   "cell_type": "markdown",
   "id": "6cc306f4-12dc-4560-93e8-10dad25bcc7c",
   "metadata": {
    "tags": []
   },
   "source": [
    "# <div style=\"padding: 10px; background-color: #64CCC5; margin: 10px; color: #000000; font-family: 'New Times Roman', serif; font-size: 60%; text-align: center; border-radius: 10px; overflow: hidden; font-weight: bold;\"> Question 5: Assignment</div>"
   ]
  },
  {
   "cell_type": "markdown",
   "id": "2a02164c-0b4a-4254-b7b5-cffa48b6e5bd",
   "metadata": {
    "tags": []
   },
   "source": [
    "# <div style=\"padding: 10px; background-color: #64CCC5; margin: 10px; color: #000000; font-family: 'New Times Roman', serif; font-size: 60%; text-align: center; border-radius: 10px; overflow: hidden; font-weight: bold;\"> Data preparation</div>\n",
    "**Download the [\"Spambase Data Set\"](https://archive.ics.uci.edu/ml/datasets/Spambase) from the UCI Machine Learning Repository . This dataset contains email messages, where the goal is to predict whether a messageis spam or not based on several input features.**"
   ]
  },
  {
   "cell_type": "code",
   "execution_count": 34,
   "id": "b09c873f-4e9c-46a4-927d-83fb6bf88fed",
   "metadata": {},
   "outputs": [
    {
     "name": "stdout",
     "output_type": "stream",
     "text": [
      "Requirement already satisfied: ucimlrepo in /opt/conda/lib/python3.10/site-packages (0.0.3)\n",
      "Note: you may need to restart the kernel to use updated packages.\n"
     ]
    }
   ],
   "source": [
    "pip install ucimlrepo"
   ]
  },
  {
   "cell_type": "code",
   "execution_count": 35,
   "id": "d79c32f2-78f2-4bee-9729-bded3f7507c8",
   "metadata": {},
   "outputs": [],
   "source": [
    "from ucimlrepo import fetch_ucirepo \n",
    "  \n",
    "# fetch dataset \n",
    "spambase = fetch_ucirepo(id=94) \n",
    "  \n",
    "# data (as pandas dataframes) \n",
    "X = spambase.data.features \n",
    "y = spambase.data.targets "
   ]
  },
  {
   "cell_type": "code",
   "execution_count": 36,
   "id": "18f068a7-7791-428a-a861-74e04bc7a492",
   "metadata": {},
   "outputs": [],
   "source": [
    "import numpy as np\n",
    "import pandas as pd\n",
    "import matplotlib.pyplot as plt\n",
    "import warnings\n",
    "warnings.filterwarnings('ignore')"
   ]
  },
  {
   "cell_type": "markdown",
   "id": "1ad3f3f0-f038-4d23-9f44-b35078151f09",
   "metadata": {
    "tags": []
   },
   "source": [
    "# <div style=\"padding: 10px; background-color: #64CCC5; margin: 10px; color: #000000; font-family: 'New Times Roman', serif; font-size: 60%; text-align: center; border-radius: 10px; overflow: hidden; font-weight: bold;\">Implementation</div>\n",
    "\n",
    "**Implement Bernoulli Naive Bayes, Multinomial Naive Bayes, and Gaussian Naive Bayes classifiers using the\n",
    "scikit-learn library in Python. Use 10-fold cross-validation to evaluate the performance of each classifier on the\n",
    "dataset. You should use the default hyperparameters for each classifier.**"
   ]
  },
  {
   "cell_type": "code",
   "execution_count": 37,
   "id": "a30dc25b-5d68-479d-b9ed-e642f199f370",
   "metadata": {},
   "outputs": [
    {
     "name": "stdout",
     "output_type": "stream",
     "text": [
      "Bernoulli Naive Bayes Mean Accuracy: 0.8852461567480902\n",
      "Multinomial Naive Bayes Mean Accuracy: 0.7913543336791474\n",
      "Gaussian Naive Bayes Mean Accuracy: 0.8209054041309063\n"
     ]
    }
   ],
   "source": [
    "from sklearn.model_selection import cross_val_score\n",
    "from sklearn.naive_bayes import BernoulliNB, MultinomialNB, GaussianNB\n",
    "from sklearn.model_selection import KFold\n",
    "\n",
    "# Create instances of each Naive Bayes classifier\n",
    "bernoulli_nb = BernoulliNB()\n",
    "multinomial_nb = MultinomialNB()\n",
    "gaussian_nb = GaussianNB()\n",
    "\n",
    "# Create a 10-fold cross-validation object\n",
    "kf = KFold(n_splits=10, shuffle=True, random_state=42)\n",
    "\n",
    "# Evaluate each classifier using cross-validation\n",
    "bernoulli_scores = cross_val_score(bernoulli_nb, X, y, cv=kf)\n",
    "multinomial_scores = cross_val_score(multinomial_nb, X, y, cv=kf)\n",
    "gaussian_scores = cross_val_score(gaussian_nb, X, y, cv=kf)\n",
    "\n",
    "# Print the mean accuracy of each classifier\n",
    "print(\"Bernoulli Naive Bayes Mean Accuracy:\", bernoulli_scores.mean())\n",
    "print(\"Multinomial Naive Bayes Mean Accuracy:\", multinomial_scores.mean())\n",
    "print(\"Gaussian Naive Bayes Mean Accuracy:\", gaussian_scores.mean())\n"
   ]
  },
  {
   "cell_type": "markdown",
   "id": "768f9eb9-7b23-49ee-b2b2-6d2ffca82bb8",
   "metadata": {
    "tags": []
   },
   "source": [
    "# <div style=\"padding: 10px; background-color: #64CCC5; margin: 10px; color: #000000; font-family: 'New Times Roman', serif; font-size: 60%; text-align: center; border-radius: 10px; overflow: hidden; font-weight: bold;\"> Results</div>\n",
    "**Report the following performance metrics for each classifier:**\n",
    "-    Accuracy\n",
    " -   Precision\n",
    "  -  Recall\n",
    "   - F1 score"
   ]
  },
  {
   "cell_type": "code",
   "execution_count": 38,
   "id": "25746c31-e494-4239-98c4-6a6b319a05f6",
   "metadata": {},
   "outputs": [],
   "source": [
    "from sklearn.model_selection import cross_val_predict\n",
    "from sklearn.metrics import classification_report\n",
    "\n",
    "# Function to compute classification report\n",
    "def compute_classification_report(classifier, X, y, kf):\n",
    "    y_pred = cross_val_predict(classifier, X, y, cv=kf)\n",
    "    report = classification_report(y, y_pred)\n",
    "    return report\n",
    "\n",
    "# Compute classification report for each classifier\n",
    "bernoulli_report = compute_classification_report(bernoulli_nb, X, y, kf)\n",
    "multinomial_report = compute_classification_report(multinomial_nb, X, y, kf)\n",
    "gaussian_report = compute_classification_report(gaussian_nb, X, y, kf)"
   ]
  },
  {
   "cell_type": "code",
   "execution_count": 39,
   "id": "d476deb3-d1e6-4972-8f59-94b16d1b64f4",
   "metadata": {},
   "outputs": [
    {
     "name": "stdout",
     "output_type": "stream",
     "text": [
      "Bernoulli Naive Bayes Classification Report:\n",
      "              precision    recall  f1-score   support\n",
      "\n",
      "           0       0.89      0.93      0.91      2788\n",
      "           1       0.88      0.82      0.85      1813\n",
      "\n",
      "    accuracy                           0.89      4601\n",
      "   macro avg       0.89      0.87      0.88      4601\n",
      "weighted avg       0.89      0.89      0.88      4601\n",
      "\n",
      "\n"
     ]
    }
   ],
   "source": [
    "# Print the classification report for each classifier\n",
    "print(\"Bernoulli Naive Bayes Classification Report:\")\n",
    "print(bernoulli_report)\n",
    "print()"
   ]
  },
  {
   "cell_type": "code",
   "execution_count": 40,
   "id": "52d1ee05-3eba-4f68-892d-53f3b6c98328",
   "metadata": {},
   "outputs": [
    {
     "name": "stdout",
     "output_type": "stream",
     "text": [
      "Multinomial Naive Bayes Classification Report:\n",
      "              precision    recall  f1-score   support\n",
      "\n",
      "           0       0.82      0.84      0.83      2788\n",
      "           1       0.74      0.72      0.73      1813\n",
      "\n",
      "    accuracy                           0.79      4601\n",
      "   macro avg       0.78      0.78      0.78      4601\n",
      "weighted avg       0.79      0.79      0.79      4601\n",
      "\n",
      "\n"
     ]
    }
   ],
   "source": [
    "\n",
    "print(\"Multinomial Naive Bayes Classification Report:\")\n",
    "print(multinomial_report)\n",
    "print()\n",
    "\n"
   ]
  },
  {
   "cell_type": "code",
   "execution_count": 41,
   "id": "2d013eb4-2a3b-4402-9fa4-81017da5cd9d",
   "metadata": {},
   "outputs": [
    {
     "name": "stdout",
     "output_type": "stream",
     "text": [
      "Gaussian Naive Bayes Classification Report:\n",
      "              precision    recall  f1-score   support\n",
      "\n",
      "           0       0.96      0.73      0.83      2788\n",
      "           1       0.70      0.96      0.81      1813\n",
      "\n",
      "    accuracy                           0.82      4601\n",
      "   macro avg       0.83      0.84      0.82      4601\n",
      "weighted avg       0.86      0.82      0.82      4601\n",
      "\n"
     ]
    }
   ],
   "source": [
    "print(\"Gaussian Naive Bayes Classification Report:\")\n",
    "print(gaussian_report)"
   ]
  },
  {
   "cell_type": "markdown",
   "id": "4655389b-56c7-4483-a016-4837d39cb687",
   "metadata": {
    "tags": []
   },
   "source": [
    "# <div style=\"padding: 10px; background-color: #64CCC5; margin: 10px; color: #000000; font-family: 'New Times Roman', serif; font-size: 60%; text-align: center; border-radius: 10px; overflow: hidden; font-weight: bold;\">Discussion</div>\n",
    "**Discuss the results you obtained. Which variant of Naive Bayes performed the best? Why do you think that is\n",
    "the case? Are there any limitations of Naive Bayes that you observed?**\n",
    "\n",
    "Here's a brief analysis:\n",
    "\n",
    "1. **Bernoulli Naive Bayes:**\n",
    "   - Mean Accuracy: 0.885\n",
    "   - Performance: The highest mean accuracy suggests that the Bernoulli Naive Bayes classifier worked well for the given dataset.\n",
    "   - Suitability: Bernoulli Naive Bayes is typically suitable for binary data, and it assumes that features are binary (presence or absence). If your dataset has binary features and the assumption holds, Bernoulli Naive Bayes can be effective.\n",
    "\n",
    "2. **Multinomial Naive Bayes:**\n",
    "   - Mean Accuracy: 0.791\n",
    "   - Performance: The slightly lower mean accuracy suggests that Multinomial Naive Bayes performed a bit less well compared to Bernoulli Naive Bayes.\n",
    "   - Suitability: Multinomial Naive Bayes is commonly used for discrete data, particularly when features represent counts or frequencies. If your dataset involves counts of events or occurrences, Multinomial Naive Bayes might be more appropriate.\n",
    "\n",
    "3. **Gaussian Naive Bayes:**\n",
    "   - Mean Accuracy: 0.821\n",
    "   - Performance: Gaussian Naive Bayes falls between Bernoulli and Multinomial in terms of mean accuracy. It assumes that features follow a Gaussian distribution.\n",
    "   - Suitability: Gaussian Naive Bayes is suitable for continuous data and assumes that features are normally distributed. If your features are continuous and follow a Gaussian distribution, this variant may be a good choice.\n",
    "\n",
    "**Limitations of Naive Bayes:**\n",
    "1. **Assumption of Independence:**\n",
    "   - Naive Bayes assumes that features are conditionally independent given the class. This assumption might not hold in real-world scenarios, and features might be correlated.\n",
    "\n",
    "2. **Sensitivity to Feature Distribution:**\n",
    "   - Each variant of Naive Bayes makes specific assumptions about the distribution of features. If these assumptions do not align with the actual distribution of your data, the performance might be suboptimal.\n",
    "\n",
    "3. **Limited Expressiveness:**\n",
    "   - Naive Bayes classifiers have limited expressiveness compared to more complex models. They might struggle to capture intricate relationships in the data.\n",
    "\n",
    "4. **Handling of Out-of-Vocabulary Features:**\n",
    "   - For text classification, when using Bag-of-Words representation, Naive Bayes might face challenges in handling out-of-vocabulary words.\n",
    "\n",
    "In conclusion, the choice of the best Naive Bayes variant depends on the nature of your data. The Bernoulli variant worked well, indicating that the features may have a binary nature. It's always a good idea to experiment with multiple classifiers and choose the one that best aligns with the characteristics of your dataset."
   ]
  },
  {
   "cell_type": "markdown",
   "id": "e16bb747-88a8-4682-91be-64f06c366491",
   "metadata": {
    "tags": []
   },
   "source": [
    "# <div style=\"padding: 10px; background-color: #64CCC5; margin: 10px; color: #000000; font-family: 'New Times Roman', serif; font-size: 60%; text-align: center; border-radius: 10px; overflow: hidden; font-weight: bold;\"> Conclusion</div>\n",
    "**Summarise your findings and provide some suggestions for future work.**\n",
    "\n",
    "**Summary of Findings:**\n",
    "\n",
    "1. **Bernoulli Naive Bayes:**\n",
    "   - Accuracy: 0.885\n",
    "   - Precision: 0.885\n",
    "   - Recall: 0.885\n",
    "   - F1 Score: 0.884\n",
    "\n",
    "2. **Multinomial Naive Bayes:**\n",
    "   - Accuracy: 0.791\n",
    "   - Precision: 0.791\n",
    "   - Recall: 0.791\n",
    "   - F1 Score: 0.791\n",
    "\n",
    "3. **Gaussian Naive Bayes:**\n",
    "   - Accuracy: 0.821\n",
    "   - Precision: 0.859\n",
    "   - Recall: 0.821\n",
    "   - F1 Score: 0.823\n",
    "\n",
    "**Suggestions for Future Work:**\n",
    "\n",
    "1. **Feature Engineering:**\n",
    "   - Explore additional feature engineering techniques to enhance the discriminative power of the models. Experiment with different representations of the data or create new features that might capture important patterns.\n",
    "\n",
    "2. **Data Exploration and Preprocessing:**\n",
    "   - Conduct a thorough analysis of the dataset to identify potential patterns or outliers. Ensure that data preprocessing steps are appropriate for the characteristics of the data.\n",
    "\n",
    "3. **Hyperparameter Tuning:**\n",
    "   - Perform hyperparameter tuning for each Naive Bayes variant to identify the optimal set of hyperparameters for your specific dataset. This can significantly impact the performance of the models.\n",
    "\n",
    "4. **Ensemble Methods:**\n",
    "   - Consider experimenting with ensemble methods such as Random Forests or Gradient Boosting to see if they can provide improved classification performance compared to Naive Bayes.\n",
    "\n",
    "5. **Cross-Validation Strategies:**\n",
    "   - Explore different cross-validation strategies, such as stratified k-fold, and assess their impact on the stability of the model evaluations.\n",
    "\n",
    "6. **Model Comparison:**\n",
    "   - Compare the performance of Naive Bayes with other classification algorithms, such as Support Vector Machines, Decision Trees, or Neural Networks. This can help identify the most suitable model for your specific task.\n",
    "\n",
    "7. **Addressing Class Imbalance:**\n",
    "   - If your dataset has imbalanced classes, consider techniques like oversampling, undersampling, or using class weights to mitigate the impact of class imbalance on model performance.\n",
    "\n",
    "8. **In-depth Analysis of Misclassifications:**\n",
    "   - Analyze instances where the models make errors. Understanding the types of mistakes the models are prone to can provide insights into potential improvements or areas of focus for further feature engineering.\n",
    "\n",
    "9. **Domain-Specific Considerations:**\n",
    "   - Depending on the nature of the problem, incorporate domain-specific knowledge into the modeling process. This could involve incorporating additional external data sources or refining features based on domain expertise.\n",
    "\n",
    "By addressing these suggestions, you can further enhance the performance and robustness of your classification models. Always remember to adapt your approach based on the specific characteristics and requirements of your dataset and problem domain."
   ]
  },
  {
   "cell_type": "code",
   "execution_count": null,
   "id": "c602dd32-c0b5-4632-938b-2a64f2f50a5a",
   "metadata": {},
   "outputs": [],
   "source": []
  },
  {
   "cell_type": "markdown",
   "id": "ec2969cd-411a-495c-b09b-994172d54cfc",
   "metadata": {
    "tags": []
   },
   "source": [
    "# <div style=\"padding: 15px; background-color: #D0A2F7; margin: 15px; color: #000000; font-family: 'New Times Roman', serif; font-size: 110%; text-align: center; border-radius: 10px; overflow: hidden; font-weight: bold;\">Extra :Random Forest Classifier</div>"
   ]
  },
  {
   "cell_type": "code",
   "execution_count": 42,
   "id": "7732894b-03c4-4444-a80a-8e0f1ee5a79e",
   "metadata": {},
   "outputs": [],
   "source": [
    "from sklearn.model_selection import train_test_split\n",
    "X_train, X_test, y_train, y_test = train_test_split(X, y, test_size=0.33, random_state=42)"
   ]
  },
  {
   "cell_type": "code",
   "execution_count": 43,
   "id": "12000c09-8aaf-4add-bf33-1e55ace84324",
   "metadata": {},
   "outputs": [
    {
     "data": {
      "text/html": [
       "<style>#sk-container-id-4 {color: black;background-color: white;}#sk-container-id-4 pre{padding: 0;}#sk-container-id-4 div.sk-toggleable {background-color: white;}#sk-container-id-4 label.sk-toggleable__label {cursor: pointer;display: block;width: 100%;margin-bottom: 0;padding: 0.3em;box-sizing: border-box;text-align: center;}#sk-container-id-4 label.sk-toggleable__label-arrow:before {content: \"▸\";float: left;margin-right: 0.25em;color: #696969;}#sk-container-id-4 label.sk-toggleable__label-arrow:hover:before {color: black;}#sk-container-id-4 div.sk-estimator:hover label.sk-toggleable__label-arrow:before {color: black;}#sk-container-id-4 div.sk-toggleable__content {max-height: 0;max-width: 0;overflow: hidden;text-align: left;background-color: #f0f8ff;}#sk-container-id-4 div.sk-toggleable__content pre {margin: 0.2em;color: black;border-radius: 0.25em;background-color: #f0f8ff;}#sk-container-id-4 input.sk-toggleable__control:checked~div.sk-toggleable__content {max-height: 200px;max-width: 100%;overflow: auto;}#sk-container-id-4 input.sk-toggleable__control:checked~label.sk-toggleable__label-arrow:before {content: \"▾\";}#sk-container-id-4 div.sk-estimator input.sk-toggleable__control:checked~label.sk-toggleable__label {background-color: #d4ebff;}#sk-container-id-4 div.sk-label input.sk-toggleable__control:checked~label.sk-toggleable__label {background-color: #d4ebff;}#sk-container-id-4 input.sk-hidden--visually {border: 0;clip: rect(1px 1px 1px 1px);clip: rect(1px, 1px, 1px, 1px);height: 1px;margin: -1px;overflow: hidden;padding: 0;position: absolute;width: 1px;}#sk-container-id-4 div.sk-estimator {font-family: monospace;background-color: #f0f8ff;border: 1px dotted black;border-radius: 0.25em;box-sizing: border-box;margin-bottom: 0.5em;}#sk-container-id-4 div.sk-estimator:hover {background-color: #d4ebff;}#sk-container-id-4 div.sk-parallel-item::after {content: \"\";width: 100%;border-bottom: 1px solid gray;flex-grow: 1;}#sk-container-id-4 div.sk-label:hover label.sk-toggleable__label {background-color: #d4ebff;}#sk-container-id-4 div.sk-serial::before {content: \"\";position: absolute;border-left: 1px solid gray;box-sizing: border-box;top: 0;bottom: 0;left: 50%;z-index: 0;}#sk-container-id-4 div.sk-serial {display: flex;flex-direction: column;align-items: center;background-color: white;padding-right: 0.2em;padding-left: 0.2em;position: relative;}#sk-container-id-4 div.sk-item {position: relative;z-index: 1;}#sk-container-id-4 div.sk-parallel {display: flex;align-items: stretch;justify-content: center;background-color: white;position: relative;}#sk-container-id-4 div.sk-item::before, #sk-container-id-4 div.sk-parallel-item::before {content: \"\";position: absolute;border-left: 1px solid gray;box-sizing: border-box;top: 0;bottom: 0;left: 50%;z-index: -1;}#sk-container-id-4 div.sk-parallel-item {display: flex;flex-direction: column;z-index: 1;position: relative;background-color: white;}#sk-container-id-4 div.sk-parallel-item:first-child::after {align-self: flex-end;width: 50%;}#sk-container-id-4 div.sk-parallel-item:last-child::after {align-self: flex-start;width: 50%;}#sk-container-id-4 div.sk-parallel-item:only-child::after {width: 0;}#sk-container-id-4 div.sk-dashed-wrapped {border: 1px dashed gray;margin: 0 0.4em 0.5em 0.4em;box-sizing: border-box;padding-bottom: 0.4em;background-color: white;}#sk-container-id-4 div.sk-label label {font-family: monospace;font-weight: bold;display: inline-block;line-height: 1.2em;}#sk-container-id-4 div.sk-label-container {text-align: center;}#sk-container-id-4 div.sk-container {/* jupyter's `normalize.less` sets `[hidden] { display: none; }` but bootstrap.min.css set `[hidden] { display: none !important; }` so we also need the `!important` here to be able to override the default hidden behavior on the sphinx rendered scikit-learn.org. See: https://github.com/scikit-learn/scikit-learn/issues/21755 */display: inline-block !important;position: relative;}#sk-container-id-4 div.sk-text-repr-fallback {display: none;}</style><div id=\"sk-container-id-4\" class=\"sk-top-container\"><div class=\"sk-text-repr-fallback\"><pre>RandomForestClassifier(criterion=&#x27;entropy&#x27;, n_estimators=10, random_state=0)</pre><b>In a Jupyter environment, please rerun this cell to show the HTML representation or trust the notebook. <br />On GitHub, the HTML representation is unable to render, please try loading this page with nbviewer.org.</b></div><div class=\"sk-container\" hidden><div class=\"sk-item\"><div class=\"sk-estimator sk-toggleable\"><input class=\"sk-toggleable__control sk-hidden--visually\" id=\"sk-estimator-id-4\" type=\"checkbox\" checked><label for=\"sk-estimator-id-4\" class=\"sk-toggleable__label sk-toggleable__label-arrow\">RandomForestClassifier</label><div class=\"sk-toggleable__content\"><pre>RandomForestClassifier(criterion=&#x27;entropy&#x27;, n_estimators=10, random_state=0)</pre></div></div></div></div></div>"
      ],
      "text/plain": [
       "RandomForestClassifier(criterion='entropy', n_estimators=10, random_state=0)"
      ]
     },
     "execution_count": 43,
     "metadata": {},
     "output_type": "execute_result"
    }
   ],
   "source": [
    "from sklearn.ensemble import RandomForestClassifier\n",
    "random_forest_classifier = RandomForestClassifier(n_estimators = 10, criterion = 'entropy', random_state = 0)\n",
    "random_forest_classifier.fit(X_train, y_train)"
   ]
  },
  {
   "cell_type": "code",
   "execution_count": 44,
   "id": "c31068fe-3aba-4a79-a62e-f4cc9f87644d",
   "metadata": {},
   "outputs": [
    {
     "name": "stdout",
     "output_type": "stream",
     "text": [
      "[[865  21]\n",
      " [ 51 582]]\n"
     ]
    },
    {
     "data": {
      "text/plain": [
       "0.9526003949967083"
      ]
     },
     "execution_count": 44,
     "metadata": {},
     "output_type": "execute_result"
    }
   ],
   "source": [
    "from sklearn.metrics import confusion_matrix, accuracy_score\n",
    "y_pred = classifier.predict(X_test)\n",
    "cm = confusion_matrix(y_test, y_pred)\n",
    "print(cm)\n",
    "accuracy_score(y_test, y_pred)"
   ]
  },
  {
   "cell_type": "code",
   "execution_count": 45,
   "id": "dfb61c63-7a8c-4c71-b488-1ecfc4904709",
   "metadata": {},
   "outputs": [
    {
     "name": "stdout",
     "output_type": "stream",
     "text": [
      "randoom Forest Classification Report:\n",
      "              precision    recall  f1-score   support\n",
      "\n",
      "           0       0.94      0.97      0.96      2788\n",
      "           1       0.95      0.91      0.93      1813\n",
      "\n",
      "    accuracy                           0.95      4601\n",
      "   macro avg       0.95      0.94      0.94      4601\n",
      "weighted avg       0.95      0.95      0.95      4601\n",
      "\n"
     ]
    }
   ],
   "source": [
    "random_forest_classifie_report = compute_classification_report(random_forest_classifier, X, y, kf)\n",
    "print(\"randoom Forest Classification Report:\")\n",
    "print(random_forest_classifie_report)"
   ]
  },
  {
   "cell_type": "code",
   "execution_count": 46,
   "id": "2d068271-1a78-4465-88fe-446a8e0db92c",
   "metadata": {},
   "outputs": [
    {
     "data": {
      "image/png": "[encoded data removed]",
      "text/plain": [
       "<Figure size 800x800 with 1 Axes>"
      ]
     },
     "metadata": {},
     "output_type": "display_data"
    }
   ],
   "source": [
    "from sklearn.metrics import roc_curve, auc\n",
    "\n",
    "y_prob = classifier.predict_proba(X_test)[:, 1]  # Probability estimates for the positive class\n",
    "fpr, tpr, thresholds = roc_curve(y_test, y_prob)\n",
    "roc_auc = auc(fpr, tpr)\n",
    "\n",
    "# Plot ROC Curve\n",
    "plt.figure(figsize=(8, 8))\n",
    "plt.plot(fpr, tpr, color='darkorange', lw=2, label=f'ROC Curve (AUC = {roc_auc:.2f})')\n",
    "plt.plot([0, 1], [0, 1], color='navy', lw=2, linestyle='--', label='Random')\n",
    "plt.xlabel('False Positive Rate')\n",
    "plt.ylabel('True Positive Rate')\n",
    "plt.title('Receiver Operating Characteristic (ROC) Curve')\n",
    "plt.legend()\n",
    "plt.show()"
   ]
  },
  {
   "cell_type": "markdown",
   "id": "d6df23ba-af27-4bff-84e5-3034f5f4e092",
   "metadata": {
    "tags": []
   },
   "source": [
    "# <div style=\"padding: 15px; background-color: #D2E0FB; margin: 15px; color: #000000; font-family: 'New Times Roman', serif; font-size: 50%; text-align: center; border-radius: 10px; overflow: hidden; font-weight: bold;\"> As we explain in above we can use diffrent model for best result but in random forest model we can clearly se that our model may be over fitted</div>"
   ]
  },
  {
   "cell_type": "markdown",
   "id": "29234402-bcd0-41ec-b467-fa6efd8c7992",
   "metadata": {},
   "source": [
    "# <div style=\"padding: 15px; background-color: #D0A2F7; margin: 15px; color: #000000; font-family: 'New Times Roman', serif; font-size: 110%; text-align: center; border-radius: 10px; overflow: hidden; font-weight: bold;\">***...Complete...***</div> "
   ]
  }
 ],
 "metadata": {
  "kernelspec": {
   "display_name": "Python 3 (ipykernel)",
   "language": "python",
   "name": "python3"
  },
  "language_info": {
   "codemirror_mode": {
    "name": "ipython",
    "version": 3
   },
   "file_extension": ".py",
   "mimetype": "text/x-python",
   "name": "python",
   "nbconvert_exporter": "python",
   "pygments_lexer": "ipython3",
   "version": "3.10.8"
  }
 },
 "nbformat": 4,
 "nbformat_minor": 5
}
