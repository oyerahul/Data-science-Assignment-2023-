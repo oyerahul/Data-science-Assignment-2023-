{
 "cells": [
  {
   "cell_type": "markdown",
   "id": "a1efc73d-ac7f-4fcb-b5ac-cc2d427f6f73",
   "metadata": {},
   "source": [
    "Question 1:Which function is used to open a file? What are the different modes of opening a file? Explain each mode of file opening.\n",
    "Answer: In Python, the function used to open a file is `open()`.\n",
    "The different modes of opening a file in Python are:\n",
    "\n",
    "1.`\"r\"` (read mode): This mode opens a file for reading only. It raises an error if the file does not exist.\n",
    "\n",
    "2.`\"w\"` (write mode): This mode opens a file for writing only. If the file already exists, it truncates the file to zero length. If the file does not exist, it creates a new file.\n",
    "\n",
    "3.`\"a\"` (append mode): This mode opens a file for writing only. If the file already exists, it appends data to the end of the file. If the file does not exist, it creates a new file.\n",
    "\n",
    "4.`\"x\"` (exclusive creation mode): This mode creates a new file and opens it for writing only. If the file already exists, it raises an error.\n",
    "\n",
    "5.`\"b\"` (binary mode): This mode opens a file in binary mode. It should be used with one of the other modes (e.g., \"rb\" for read mode in binary).\n",
    "\n",
    "Modes can be combined with a plus sign (\"+\") to allow both reading and writing. For example, `\"r+\"` opens the file for both reading and writing.\n",
    "\n",
    "It's important to note that when a file is opened, it should always be closed after use using the close() function.\n"
   ]
  },
  {
   "cell_type": "raw",
   "id": "fdc9c7b7-2fe5-4b84-af90-a26fe6a9ddaf",
   "metadata": {},
   "source": []
  },
  {
   "cell_type": "markdown",
   "id": "58dfcdeb-a0ef-4f66-bc97-bc03c918c1f5",
   "metadata": {},
   "source": [
    "Question 2: Why close() function is used? Why is it important to close a file?\n",
    "Answer : The `close()` function is used to close a file that was previously opened using the `open()` function in Python.\n",
    "It is important to close a file after use for several reasons:\n",
    "\n",
    "1.To free up system resources: When a file is opened, the operating system assigns resources to handle the file. If a file is not closed after use, these resources will continue to be allocated until the program terminates or the file is closed. This can lead to resource exhaustion, which can cause problems for the operating system and other applications.\n",
    "\n",
    "2.To ensure data is written to the file: When a file is opened for writing, data is written to an internal buffer until it is written to the file on disk. If the file is not closed properly, the data in the buffer may not be written to the file, which can result in data loss or corruption.\n",
    "\n",
    "3.To prevent accidental modification: If a file is not closed after use, it can still be modified by other programs or users, which can lead to unexpected behavior and errors.\n",
    "\n",
    "To avoid these problems, it's important to always close a file after use using the close() function. Alternatively, you can use a context manager (`with open(...)` as file:) to automatically `close` the file when the block of code is exited."
   ]
  },
  {
   "cell_type": "raw",
   "id": "f90f8b19-2c5e-4dcd-8c24-9165ed95691b",
   "metadata": {},
   "source": []
  },
  {
   "cell_type": "markdown",
   "id": "8f9b478f-182f-43fb-b0c7-a6290d41ef88",
   "metadata": {},
   "source": [
    "Questin 3. Write a python program to create a text file. Write ‘I want to become a Data Scientist’ in that file. Then\n",
    "close the file. Open this file and read the content of the file.\n",
    "Answer:"
   ]
  },
  {
   "cell_type": "code",
   "execution_count": 1,
   "id": "71bcc48a-2738-414e-afb1-9953529b97af",
   "metadata": {},
   "outputs": [
    {
     "name": "stdout",
     "output_type": "stream",
     "text": [
      "I want to become data scientist.\n"
     ]
    }
   ],
   "source": [
    "# Write a string to the file\n",
    "with open(\"text.txt\", \"w\") as file:\n",
    "    file.write(\"I want to become data scientist.\")\n",
    "\n",
    " # Open the file in read mode\n",
    "with open(\"text.txt\") as file:\n",
    "    # Print the content of the file\n",
    "    print(file.read())"
   ]
  },
  {
   "cell_type": "markdown",
   "id": "3779aabd-bd1a-4df7-800f-f6fca4000faf",
   "metadata": {},
   "source": [
    "Question4. Explain the following with python code: read(), readline() and readlines().\n",
    "Answer:In Python, there are several ways to read the contents of a file. Here's a brief explanation of `read()`, `readline()`, and `readlines()`, along with examples of how to use them:\n",
    "\n",
    "1.`read()`: This method reads the entire content of a file and returns it as a string. If the file is too large, it may not fit into memory."
   ]
  },
  {
   "cell_type": "code",
   "execution_count": 5,
   "id": "c4912a0a-4cf1-4173-ac3f-30d934109b23",
   "metadata": {},
   "outputs": [
    {
     "name": "stdout",
     "output_type": "stream",
     "text": [
      "I want to become a data scientist.I am learning Python.Data science is interesting.\n"
     ]
    }
   ],
   "source": [
    "# Open the file in read mode\n",
    "file = open(\"example.txt\", \"r\")\n",
    "\n",
    "# Read the entire content of the file\n",
    "content = file.read()\n",
    "\n",
    "# Close the file\n",
    "file.close()\n",
    "\n",
    "# Print the content of the file\n",
    "print(content)\n"
   ]
  },
  {
   "cell_type": "markdown",
   "id": "b75dca2b-5804-4ed9-b5b8-404f40a6d344",
   "metadata": {},
   "source": [
    "2.`readline()`: This method reads one line at a time from the file and returns it as a string. It returns an empty string when the end of the file is reached"
   ]
  },
  {
   "cell_type": "code",
   "execution_count": 6,
   "id": "e6dd32e5-6310-4992-b9f8-229fb8835022",
   "metadata": {},
   "outputs": [
    {
     "name": "stdout",
     "output_type": "stream",
     "text": [
      "I want to become a data scientist.I am learning Python.Data science is interesting.\n",
      "\n"
     ]
    }
   ],
   "source": [
    "# Open the file in read mode\n",
    "file = open(\"example.txt\", \"r\")\n",
    "\n",
    "# Read the first line of the file\n",
    "line1 = file.readline()\n",
    "\n",
    "# Read the second line of the file\n",
    "line2 = file.readline()\n",
    "\n",
    "# Close the file\n",
    "file.close()\n",
    "\n",
    "# Print the first two lines of the file\n",
    "print(line1)\n",
    "print(line2)\n"
   ]
  },
  {
   "cell_type": "markdown",
   "id": "9bfc99d2-4f63-4496-ada0-2db6deaf3e77",
   "metadata": {},
   "source": [
    "3.`readlines()`: This method reads all the lines of a file and returns them as a list of strings. Each line is a separate element in the list"
   ]
  },
  {
   "cell_type": "code",
   "execution_count": 7,
   "id": "9d8baaa8-946a-4853-88ee-2ec30e3f4128",
   "metadata": {},
   "outputs": [
    {
     "name": "stdout",
     "output_type": "stream",
     "text": [
      "I want to become a data scientist.I am learning Python.Data science is interesting.\n"
     ]
    }
   ],
   "source": [
    "# Open the file in read mode\n",
    "file = open(\"example.txt\", \"r\")\n",
    "\n",
    "# Read all the lines of the file\n",
    "lines = file.readlines()\n",
    "\n",
    "# Close the file\n",
    "file.close()\n",
    "\n",
    "# Print all the lines of the file\n",
    "for line in lines:\n",
    "    print(line)\n"
   ]
  },
  {
   "cell_type": "markdown",
   "id": "a8251917-832e-4176-9905-3b589dc6d24f",
   "metadata": {},
   "source": [
    "In all three examples, we first open the file in read mode using the open() function, and then read the content of the file using the appropriate method. We then close the file using the `close()` function.\n",
    "\n",
    "The output of the above code will depend on the content of the file `\"example.txt\"`. In general, `read()` returns the entire content of the file as a single string, `readline()` returns one line at a time, and `readlines()` returns a list of all the lines in the file."
   ]
  },
  {
   "cell_type": "raw",
   "id": "5291916e-b8ef-4e33-bb5a-7854a5ead1a1",
   "metadata": {},
   "source": []
  },
  {
   "cell_type": "markdown",
   "id": "7cd544ce-0775-4f0b-aabc-6e1a38168bcc",
   "metadata": {},
   "source": [
    "Question 5. Explain why with statement is used with open(). What is the advantage of using with statement and open() together?\n",
    "Answer:In Python, the with statement is used in conjunction with the `open()` function to manage the opening and closing of a file.The advantage of using the` with` statement with `open()` is that it automatically takes care of closing the file once the block of code inside the `with` statement is completed or an exception is raised. This is done through the use of a context manager, which guarantees that the file is properly closed, even if an error occurs during the execution of the block.\n",
    "\n",
    "Here is an example that shows how to use the with statement with open() to read the contents of a file:"
   ]
  },
  {
   "cell_type": "code",
   "execution_count": null,
   "id": "754cc799-9366-4fd7-a64c-704e58f96458",
   "metadata": {},
   "outputs": [],
   "source": [
    "# Open the file in read mode using with statement\n",
    "with open(\"example.txt\", \"r\") as file:\n",
    "    # Read the content of the file\n",
    "    content = file.read()\n",
    "\n",
    "# The file is automatically closed when the block is exited\n",
    "print(content)\n"
   ]
  },
  {
   "cell_type": "markdown",
   "id": "0d3d16c8-ad2e-4c5a-ac46-3aaec5a24bb5",
   "metadata": {},
   "source": []
  },
  {
   "cell_type": "markdown",
   "id": "b931a078-a6ae-49fe-a514-878996319e43",
   "metadata": {},
   "source": [
    "Question 6. Explain the write() and writelines() functions. Give a suitable example.\n",
    "Answer :n Python, the `write()` and `writelines()` functions are used to write data to a file. Here's a brief explanation of both functions, along with an example of how to use them:\n",
    "\n",
    "1.`write()`: This method is used to write a string to a file. If the file doesn't exist, it will be created. If the file already exists, the content of the file will be overwritten. The write() method returns the number of characters written to the file."
   ]
  },
  {
   "cell_type": "code",
   "execution_count": 3,
   "id": "03effbf8-a664-40a0-a4da-3ab63c5c372c",
   "metadata": {},
   "outputs": [],
   "source": [
    "# Open the file in write mode\n",
    "file = open(\"example.txt\", \"w\")\n",
    "\n",
    "# Write a string to the file\n",
    "file.write(\"I want to become a data scientist.\")\n",
    "\n",
    "# Close the file\n",
    "file.close()\n"
   ]
  },
  {
   "cell_type": "markdown",
   "id": "d6675fb6-ab29-457e-8c47-b7bb02da5436",
   "metadata": {},
   "source": [
    "2.`writelines()`: This method is used to write a list of strings to a file. If the file doesn't exist, it will be created. If the file already exists, the content of the file will be overwritten."
   ]
  },
  {
   "cell_type": "code",
   "execution_count": 4,
   "id": "e45da716-791b-4581-a16f-54575a18db3c",
   "metadata": {},
   "outputs": [],
   "source": [
    "# Open the file in write mode\n",
    "file = open(\"example.txt\", \"w\")\n",
    "\n",
    "# Write a list of strings to the file\n",
    "lines = [\"I want to become a data scientist.\", \"I am learning Python.\", \"Data science is interesting.\"]\n",
    "file.writelines(lines)\n",
    "\n",
    "# Close the file\n",
    "file.close()\n",
    "\n",
    "\"\"\"The output of the above code will create or overwrite the file \n",
    "\"example.txt\" with the content that we wrote to it using the write() or writelines() method.\"\"\""
   ]
  }
 ],
 "metadata": {
  "kernelspec": {
   "display_name": "Python 3 (ipykernel)",
   "language": "python",
   "name": "python3"
  },
  "language_info": {
   "codemirror_mode": {
    "name": "ipython",
    "version": 3
   },
   "file_extension": ".py",
   "mimetype": "text/x-python",
   "name": "python",
   "nbconvert_exporter": "python",
   "pygments_lexer": "ipython3",
   "version": "3.10.8"
  }
 },
 "nbformat": 4,
 "nbformat_minor": 5
}
