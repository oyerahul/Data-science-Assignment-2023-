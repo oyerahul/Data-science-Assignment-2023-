{
 "cells": [
  {
   "cell_type": "code",
   "execution_count": 15,
   "id": "3f3768c2-7070-4196-879f-6de9c06c01fa",
   "metadata": {},
   "outputs": [
    {
     "name": "stdout",
     "output_type": "stream",
     "text": [
      "Original list of tuples:\n",
      "[('Sachin Tendulkar', 34357), ('Ricky Ponting', 27483), ('Jack Kallis', 25534), ('Virat Kohli', 24936)]\n",
      "\n",
      "Sorting the List of Tuples:\n",
      "[('Virat Kohli', 24936), ('Jack Kallis', 25534), ('Ricky Ponting', 27483), ('Sachin Tendulkar', 34357)]\n"
     ]
    }
   ],
   "source": [
    "# Question no. 1\n",
    "\"\"\"Create a python program to sort the given list of tuples based on integer value using a\n",
    "lambda function.\"\"\"\n",
    "\n",
    "list_q1 = [('Sachin Tendulkar', 34357), ('Ricky Ponting', 27483), ('Jack Kallis', 25534),\n",
    "           ('Virat Kohli', 24936)]\n",
    "\n",
    "print(\"Original list of tuples:\")\n",
    "print(list_q1)\n",
    "list_q1.sort(key = lambda x: x[1])\n",
    "print(\"\\nSorting the List of Tuples:\")\n",
    "print(list_q1)\n"
   ]
  },
  {
   "cell_type": "code",
   "execution_count": 2,
   "id": "9b6403e2-bc74-4b16-bdba-9bc70a131045",
   "metadata": {},
   "outputs": [
    {
     "name": "stdout",
     "output_type": "stream",
     "text": [
      "[1, 4, 9, 16, 25, 36, 49, 64, 81, 100]\n"
     ]
    }
   ],
   "source": [
    "# Question no. 2\n",
    "\"\"\"Write a Python Program to find the squares of all the numbers\n",
    "in the given list of integers using lambda and map functions.\"\"\"\n",
    "\n",
    "num_list = [1, 2, 3, 4, 5, 6, 7, 8, 9, 10]\n",
    "num_sq = list(map(lambda num: num ** 2, num_list))\n",
    "print(num_sq)"
   ]
  },
  {
   "cell_type": "code",
   "execution_count": 10,
   "id": "bec8d255-f703-45dd-9470-83e6d7ab0561",
   "metadata": {},
   "outputs": [
    {
     "name": "stdout",
     "output_type": "stream",
     "text": [
      "('1', '2', '3', '4', '5', '6', '7', '8', '9', '10')\n"
     ]
    }
   ],
   "source": [
    "#Question no. 3\n",
    "\"\"\"Write a python program to convert the given list of integers into a \n",
    "tuple of strings. Use map andlambda functions\"\"\"\n",
    "\n",
    "listx = [1, 2, 3, 4, 5, 6, 7, 8, 9, 10]\n",
    "convert_tuple = tuple(map(lambda num : f\"{num}\" , listx))\n",
    "print(convert_tuple)"
   ]
  },
  {
   "cell_type": "code",
   "execution_count": 13,
   "id": "e9649c97-e6b1-405f-b436-fa75779302e9",
   "metadata": {},
   "outputs": [
    {
     "name": "stdout",
     "output_type": "stream",
     "text": [
      "15511210043330985984000000\n"
     ]
    }
   ],
   "source": [
    "# Question no. 4\n",
    "\"\"\"Write a python program using reduce function to compute the product of a list containing \n",
    "numbers from 1 to 25.\"\"\"\n",
    "\n",
    "from functools import reduce\n",
    "\n",
    "list_num = []\n",
    "for i in range(1,26):\n",
    "    list_num.append(i)\n",
    "    \n",
    "list_product = reduce(lambda x, y: x*y , list_num)  \n",
    "print(list_product)\n"
   ]
  },
  {
   "cell_type": "code",
   "execution_count": 4,
   "id": "64e89b13-ee4b-4ffe-b46f-d9b764c2e9ca",
   "metadata": {},
   "outputs": [
    {
     "name": "stdout",
     "output_type": "stream",
     "text": [
      "[6, 60, 90, 120]\n"
     ]
    }
   ],
   "source": [
    "# Question no. 5\n",
    "\"\"\"Write a python program to filter the numbers in a given list \n",
    "that are divisible by 2 and 3 using the filter function.\"\"\"\n",
    "\n",
    "num =[2, 3, 6, 9, 27, 60, 90, 120, 55, 46]\n",
    "new_list = list(filter(lambda x : x%2==0 and x%3 ==0, num))\n",
    "print(new_list)"
   ]
  },
  {
   "cell_type": "code",
   "execution_count": 8,
   "id": "9129287c-f457-4fd7-aeb2-64c04f038557",
   "metadata": {},
   "outputs": [
    {
     "name": "stdout",
     "output_type": "stream",
     "text": [
      "['php', 'aba', 'radar', 'level']\n"
     ]
    }
   ],
   "source": [
    "# Question no. 6\n",
    "\"\"\"Write a python program to find palindromes in the given list of strings using \n",
    "lambda and filter function.\"\"\"\n",
    "\n",
    "list1 = ['python', 'php', 'aba', 'radar', 'level']\n",
    "palindrome_list = list(filter(lambda word: word == word[::-1], list1))\n",
    "print(palindrome_list)"
   ]
  },
  {
   "cell_type": "code",
   "execution_count": null,
   "id": "ee6dacc5-4f6b-4577-97d3-9656841db1d5",
   "metadata": {},
   "outputs": [],
   "source": []
  }
 ],
 "metadata": {
  "kernelspec": {
   "display_name": "Python 3 (ipykernel)",
   "language": "python",
   "name": "python3"
  },
  "language_info": {
   "codemirror_mode": {
    "name": "ipython",
    "version": 3
   },
   "file_extension": ".py",
   "mimetype": "text/x-python",
   "name": "python",
   "nbconvert_exporter": "python",
   "pygments_lexer": "ipython3",
   "version": "3.10.8"
  }
 },
 "nbformat": 4,
 "nbformat_minor": 5
}
