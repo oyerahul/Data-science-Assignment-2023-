{
 "cells": [
  {
   "cell_type": "raw",
   "id": "f8220070-1aa1-4bd3-abb6-5a4664a6555f",
   "metadata": {},
   "source": [
    "Question 1 :Create a vehicle class with an init method having instance variables as name_of_vehicle, max_speed and average_of_vehicle."
   ]
  },
  {
   "cell_type": "code",
   "execution_count": 10,
   "id": "ed641196-85d9-4b8a-98e6-67594e6fabe5",
   "metadata": {},
   "outputs": [],
   "source": [
    "\n",
    "class Vehicle:\n",
    "\n",
    "    def __init__(self, name_of_vehicle, max_speed, average_of_vehicle):\n",
    "        self.name_of_vehicle = name_of_vehicle\n",
    "        self.max_speed = max_speed\n",
    "        self.average_of_vehicle = average_of_vehicle"
   ]
  },
  {
   "cell_type": "raw",
   "id": "231a9e4c-8c86-4ab4-be9e-41d174209e1b",
   "metadata": {},
   "source": [
    "QUestion 2. Create a child class car from the vehicle class created in Que 1, which will inherit the vehicle class.Create a method named seating_capacity which takes capacity as an argument and returns the name of the vehicle and its seating capacity."
   ]
  },
  {
   "cell_type": "code",
   "execution_count": 11,
   "id": "af438280-91d4-475d-a0d6-234bf5bd3d97",
   "metadata": {},
   "outputs": [],
   "source": [
    "\n",
    "class Car(Vehicle):\n",
    "\n",
    "    def seating_capacity(self, seat_capacity):\n",
    "        self.vehicle_seats = seat_capacity\n",
    "        return self.name_of_vehicle, seat_capacity"
   ]
  },
  {
   "cell_type": "code",
   "execution_count": 12,
   "id": "5899e4cc-e2d9-4037-9c8f-97f0ec407195",
   "metadata": {},
   "outputs": [
    {
     "name": "stdout",
     "output_type": "stream",
     "text": [
      "('Tata', 1)\n"
     ]
    }
   ],
   "source": [
    "Rohal = Car(\"Tata\", 33, 30)\n",
    "print(Rohal.seating_capacity(1))"
   ]
  },
  {
   "cell_type": "markdown",
   "id": "8e11bb0d-a6df-4b3f-8127-40afdf1f33fc",
   "metadata": {},
   "source": [
    "Question 3: What is multiple inheritance? Write a python code to demonstrate multiple inheritance.\n",
    "answer : Multiple inheritance is a feature of object-oriented programming languages that allows a class to inherit from multiple parent classes. This allows a class to inherit attributes and behaviors from multiple parent classes, which can make it easier to reuse code and create more complex data types.\n",
    "\n",
    "Here's an example of multiple inheritance in Python:"
   ]
  },
  {
   "cell_type": "code",
   "execution_count": 1,
   "id": "d8323a11-3ea1-4803-8cfb-493d16659f44",
   "metadata": {},
   "outputs": [
    {
     "name": "stdout",
     "output_type": "stream",
     "text": [
      "Fido\n",
      "John\n",
      "I'm an animal!\n",
      "Woof!\n"
     ]
    }
   ],
   "source": [
    "class Animal:\n",
    "    def __init__(self, name):\n",
    "        self.name = name\n",
    "\n",
    "    def speak(self):\n",
    "        return \"I'm an animal!\"\n",
    "\n",
    "class Pet:\n",
    "    def __init__(self, name, owner):\n",
    "        self.name = name\n",
    "        self.owner = owner\n",
    "\n",
    "    def speak(self):\n",
    "        return \"I'm a pet!\"\n",
    "\n",
    "class Dog(Animal, Pet):\n",
    "    def __init__(self, name, owner):\n",
    "        Animal.__init__(self, name)\n",
    "        Pet.__init__(self, name, owner)\n",
    "\n",
    "    def bark(self):\n",
    "        return \"Woof!\"\n",
    "\n",
    "dog = Dog(\"Fido\", \"John\")\n",
    "print(dog.name) # Fido\n",
    "print(dog.owner) # John\n",
    "print(dog.speak()) # I'm a pet!\n",
    "print(dog.bark()) # Woof!\n"
   ]
  },
  {
   "cell_type": "markdown",
   "id": "d5d802b5-7bd5-40ee-ad3b-928eb542ddce",
   "metadata": {},
   "source": [
    "In this example, the `Animal` class represents an animal, and the `Pet` class represents a pet. The `Dog` class is a subclass of both `Animal` and `Pet`, and inherits the attributes and behaviors from both parent classes. When a method is present in both parent classes, the method from the first parent class in the inheritance list is used. In this case, the speak method from the `Pet` class is used, because it appears first in the inheritance list."
   ]
  },
  {
   "cell_type": "code",
   "execution_count": null,
   "id": "f95da79f-75ef-4db9-98e1-9b3f9ad5d08b",
   "metadata": {},
   "outputs": [],
   "source": []
  },
  {
   "cell_type": "markdown",
   "id": "1a1f25fe-7fce-4b33-9fdb-dedb48e53b73",
   "metadata": {},
   "source": [
    "Question 4. What are getter and setter in python? Create a class and create a getter and a setter method in this class.\n",
    "Answer .Getters and setters are methods that allow you to access and modify the attributes of an object. In Python, they are commonly used to control access to an object's attributes, ensure that data is stored and retrieved in a consistent way, and enforce constraints on the type and value of data stored in an object's attributes.\n",
    "\n",
    "Here's an example of a class with a getter and a setter method in Python:\n",
    "\n",
    "In this example, the `Circle` class has a `radius` attribute, which is used to store the radius of a circle. The `get_radius` method returns the value of the radius attribute, while the `set_radius` method sets the value of the radius attribute. The `set_radius` method also checks that the value passed to it is positive and raises a ValueError if it is not. This allows you to enforce constraints on the type and value of the data stored in the `radius` attribute."
   ]
  },
  {
   "cell_type": "code",
   "execution_count": 2,
   "id": "89512cce-6c27-4479-8d91-82eaeee71c3e",
   "metadata": {},
   "outputs": [
    {
     "name": "stdout",
     "output_type": "stream",
     "text": [
      "10\n",
      "20\n"
     ]
    }
   ],
   "source": [
    "class Circle:\n",
    "    def __init__(self, radius):\n",
    "        self.radius = radius\n",
    "\n",
    "    def get_radius(self):\n",
    "        return self.radius\n",
    "\n",
    "    def set_radius(self, radius):\n",
    "        if radius <= 0:\n",
    "            raise ValueError(\"Radius must be positive.\")\n",
    "        self.radius = radius\n",
    "\n",
    "circle = Circle(10)\n",
    "print(circle.get_radius()) # 10\n",
    "\n",
    "circle.set_radius(20)\n",
    "print(circle.get_radius()) # 20\n"
   ]
  },
  {
   "cell_type": "markdown",
   "id": "06578d62-9f32-4000-8e30-84b688045ae1",
   "metadata": {},
   "source": []
  },
  {
   "cell_type": "markdown",
   "id": "21e53134-f81a-4796-9141-d4d986d41db7",
   "metadata": {},
   "source": [
    "Question 5. What is method overriding in python? Write a python code to demonstrate method overriding.\n",
    "Answer :Method Overriding is a feature in object-oriented programming that allows a subclass or derived class to provide a different implementation of a method that is already provided by its superclass or base class. The idea behind method overriding is to allow subclasses to specialize the behavior defined in their superclass by providing a different implementation of the method.\n",
    "\n",
    "Here's a simple example of method overriding in Python:\n",
    "\n",
    "In this example, the `Dog` class overrides the `make_sound` method of the `Animal` class to provide a different implementation. When the `make_sound` method of the dog object is called, the implementation of the method in the `Dog` class is executed, not the implementation in the `Animal` class."
   ]
  },
  {
   "cell_type": "code",
   "execution_count": 3,
   "id": "86df4aa3-a1fd-4aa6-ac2a-7f495cf58a7f",
   "metadata": {},
   "outputs": [
    {
     "name": "stdout",
     "output_type": "stream",
     "text": [
      "Dog barks\n"
     ]
    }
   ],
   "source": [
    "class Animal:\n",
    "    def make_sound(self):\n",
    "        print(\"Animal makes a sound\")\n",
    "\n",
    "class Dog(Animal):\n",
    "    def make_sound(self):\n",
    "        print(\"Dog barks\")\n",
    "\n",
    "dog = Dog()\n",
    "dog.make_sound()\n"
   ]
  },
  {
   "cell_type": "code",
   "execution_count": null,
   "id": "745e05fd-f756-434f-ae39-39627d8f3f79",
   "metadata": {},
   "outputs": [],
   "source": []
  }
 ],
 "metadata": {
  "kernelspec": {
   "display_name": "Python 3 (ipykernel)",
   "language": "python",
   "name": "python3"
  },
  "language_info": {
   "codemirror_mode": {
    "name": "ipython",
    "version": 3
   },
   "file_extension": ".py",
   "mimetype": "text/x-python",
   "name": "python",
   "nbconvert_exporter": "python",
   "pygments_lexer": "ipython3",
   "version": "3.10.8"
  }
 },
 "nbformat": 4,
 "nbformat_minor": 5
}
