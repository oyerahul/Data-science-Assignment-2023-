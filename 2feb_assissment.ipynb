{
 "cells": [
  {
   "cell_type": "code",
   "execution_count": 1,
   "id": "77217a03-3b55-443a-af19-b83cdc9632ed",
   "metadata": {},
   "outputs": [
    {
     "name": "stdout",
     "output_type": "stream",
     "text": [
      "1\n",
      "2\n",
      "3\n",
      "1\n",
      "2\n",
      "3\n",
      "4\n",
      "5\n"
     ]
    }
   ],
   "source": [
    "#  Question no. 1\n",
    "\"For Loop: A for loop is an iteration method that is best used when you know the number of iterations ahead of time\"\n",
    "#eg:\n",
    "n = [1, 2, 3]  \n",
    "for i in n:  \n",
    "    print(i)\n",
    "\n",
    "\n",
    "\"While Loop: A while loop is an iteration method that is best used when you don't know the number of iterations ahead of time.\"\n",
    "#eg:\n",
    "i = 1 \n",
    "while i < 6:  \n",
    "    print(i)\n",
    "    i += 1  "
   ]
  },
  {
   "cell_type": "code",
   "execution_count": 7,
   "id": "b44410b9-3cab-4b08-9e19-b39c4a57d18a",
   "metadata": {},
   "outputs": [
    {
     "name": "stdout",
     "output_type": "stream",
     "text": [
      "55\n",
      "3628800\n"
     ]
    }
   ],
   "source": [
    "# Question no 2 (using while loop)\n",
    "sum_ = 0\n",
    "product = 1\n",
    "i= 1\n",
    "while i <=10:\n",
    "    sum_ +=i\n",
    "    product = product*i\n",
    "    i +=1\n",
    "print(sum_)\n",
    "print(product)"
   ]
  },
  {
   "cell_type": "code",
   "execution_count": 6,
   "id": "b96967fa-0598-41aa-82a7-7f49d5bd8614",
   "metadata": {},
   "outputs": [
    {
     "name": "stdout",
     "output_type": "stream",
     "text": [
      "55\n",
      "3628800\n"
     ]
    }
   ],
   "source": [
    "# Question 2 (using for loop)\n",
    "num_sum =0\n",
    "num_product = 1\n",
    "for num in range(1,11):\n",
    "    num_sum += num\n",
    "    num_product = num_product*num\n",
    "print(num_sum)\n",
    "print(num_product)"
   ]
  },
  {
   "cell_type": "code",
   "execution_count": null,
   "id": "f2a9b8c0-80db-47c0-a5e1-ab946542e53a",
   "metadata": {},
   "outputs": [],
   "source": [
    "# Question no 3\n",
    "user_input = int(input(\"please enter your monthly unit consumed ?\"))\n",
    "bill = 0\n",
    "if user_input <= 100:\n",
    "    bill = user_input * 4.5\n",
    "    print(f\"{user_input} is your monthly unit and total bill is {bill}\")\n",
    "elif user_input <= 200:\n",
    "    bill = 450 + (user_input - 100) * 6\n",
    "    print(f\"{user_input} is your monthly unit and total bill is {bill}\")\n",
    "elif user_input <= 300:\n",
    "    bill = 450 + 600 + (user_input - 200) * 10\n",
    "    print(f\"{user_input} is your monthly unit and total bill is {bill}\")\n",
    "else:\n",
    "    bill = 450 + 600 + 1000 + (user_input - 300) * 20\n",
    "    print(f\"{user_input} is your monthly unit and total bill is {bill}\")\n"
   ]
  },
  {
   "cell_type": "code",
   "execution_count": null,
   "id": "be2e8699-4808-426c-ba66-42614f8b3092",
   "metadata": {},
   "outputs": [],
   "source": [
    "# question no. 4\n",
    "\n",
    "nums = []\n",
    "for num in range(1, 101):\n",
    "    nums.append(num)\n",
    "\n",
    "new_list = []\n",
    "for num in nums:\n",
    "    cube = num * num\n",
    "    while cube % 5 == 0 or cube % 4 == 0:\n",
    "        new_list.append(num)\n",
    "        break\n",
    "print(new_list)"
   ]
  },
  {
   "cell_type": "code",
   "execution_count": null,
   "id": "e0a14411-4689-431c-aada-79982117c830",
   "metadata": {},
   "outputs": [],
   "source": [
    "#Question no. 5\n",
    "\n",
    "string = \"I want to become a data scientist\"\n"
   ]
  },
  {
   "cell_type": "code",
   "execution_count": null,
   "id": "7a269a29-2ed8-4391-a6fb-fb69f097ac6e",
   "metadata": {},
   "outputs": [],
   "source": []
  }
 ],
 "metadata": {
  "kernelspec": {
   "display_name": "Python 3 (ipykernel)",
   "language": "python",
   "name": "python3"
  },
  "language_info": {
   "codemirror_mode": {
    "name": "ipython",
    "version": 3
   },
   "file_extension": ".py",
   "mimetype": "text/x-python",
   "name": "python",
   "nbconvert_exporter": "python",
   "pygments_lexer": "ipython3",
   "version": "3.10.8"
  }
 },
 "nbformat": 4,
 "nbformat_minor": 5
}
