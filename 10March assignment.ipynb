{
 "cells": [
  {
   "cell_type": "markdown",
   "id": "f1890b16-e313-47b1-b27e-a9d5e2025153",
   "metadata": {},
   "source": [
    "`Question 1`. What is Estimation Statistics? Explain point estimate and interval estimate.\n",
    "\n",
    "`Answer` :\n",
    "`Point Estimate`: A point estimate is a single value that is used to estimate an unknown population parameter. It is typically calculated from sample data and serves as the best guess or approximation of the parameter. For example, the sample mean is often used as a point estimate for the population mean.\n",
    "\n",
    "`Interval Estimate`: An interval estimate provides a range of values within which the population parameter is likely to fall. It takes into account both the point estimate and the variability of the estimate. The most common type of interval estimate is the confidence interval, which provides a range of values with a specified level of confidence. For example, a 95% confidence interval for the population mean represents a range of values within which we are 95% confident that the true population mean lies."
   ]
  },
  {
   "cell_type": "code",
   "execution_count": null,
   "id": "4eef0d44-f7f7-44de-9175-46a1fbd64830",
   "metadata": {},
   "outputs": [],
   "source": []
  },
  {
   "cell_type": "markdown",
   "id": "1783352d-152c-499c-bb55-165eaf4cede6",
   "metadata": {},
   "source": [
    "`Question 2`. Write a Python function to estimate the population mean using a sample mean and standard deviation.\n",
    "\n",
    "`Answer` :"
   ]
  },
  {
   "cell_type": "code",
   "execution_count": 1,
   "id": "5b822dc2-a13a-4aed-a151-817adc474f99",
   "metadata": {},
   "outputs": [],
   "source": [
    "import math\n",
    "\n",
    "def estimate_population_mean(sample_mean, sample_std_dev, sample_size):\n",
    "    std_error = sample_std_dev / math.sqrt(sample_size)\n",
    "    margin_of_error = 1.96 * std_error  # Assuming a 95% confidence level\n",
    "    lower_bound = sample_mean - margin_of_error\n",
    "    upper_bound = sample_mean + margin_of_error\n",
    "    return (lower_bound, upper_bound)"
   ]
  },
  {
   "cell_type": "code",
   "execution_count": null,
   "id": "18f5835c-59c7-420d-bc59-9862e32c4312",
   "metadata": {},
   "outputs": [],
   "source": []
  },
  {
   "cell_type": "markdown",
   "id": "0efae261-f84d-483b-9c40-62c64c95ee02",
   "metadata": {},
   "source": [
    "`Question 3`. What is Hypothesis testing? Why is it used? State the importance of Hypothesis testing.\n",
    "\n",
    "`Answer` : Hypothesis testing is a statistical method used to make inferences and draw conclusions about a population based on sample data. It involves formulating a null hypothesis and an alternative hypothesis, collecting data, and performing statistical tests to determine the likelihood of the observed data under the null hypothesis.\n",
    "\n",
    "Hypothesis testing is used to assess the evidence against a claim or hypothesis about a population parameter, such as the population mean, population proportion, or the difference between population means. It helps in making decisions, drawing conclusions, and evaluating the significance of the results.\n",
    "\n",
    "The importance of hypothesis testing lies in its ability to provide a systematic and objective approach to answer research questions and make informed decisions. It allows researchers to draw conclusions based on evidence from data and provides a framework for statistical inference."
   ]
  },
  {
   "cell_type": "code",
   "execution_count": null,
   "id": "68721e09-bfb0-4cee-a022-573c662936a7",
   "metadata": {},
   "outputs": [],
   "source": []
  },
  {
   "cell_type": "markdown",
   "id": "39441cce-f62b-4fc6-9f12-6848006a338d",
   "metadata": {},
   "source": [
    "`Question 4`. Create a hypothesis that states whether the average weight of male college students is greater than the average weight of female college students.\n",
    "\n",
    "`Answer` :\n",
    "`Hypothesis`: The average weight of male college students is greater than the average weight of female college students.\n",
    "\n",
    "`Null Hypothesis (H0)`: The average weight of male college students is not greater than the average weight of female college students.\n",
    "\n",
    "`Alternative Hypothesis (Ha)`: The average weight of male college students is greater than the average weight of female college students."
   ]
  },
  {
   "cell_type": "code",
   "execution_count": null,
   "id": "86ad6d9f-ec1b-4e5b-aa6d-303a56bde234",
   "metadata": {},
   "outputs": [],
   "source": []
  },
  {
   "cell_type": "markdown",
   "id": "3e6e57de-99f7-45e3-bd1b-f5ae27ce0ed0",
   "metadata": {},
   "source": [
    "`Question 5`. Write a Python script to conduct a hypothesis test on the difference between two population means, given a sample from each population.\n",
    "\n",
    "`Answer` :"
   ]
  },
  {
   "cell_type": "code",
   "execution_count": 2,
   "id": "25526169-59eb-48d3-ab6e-998549738ed2",
   "metadata": {},
   "outputs": [
    {
     "name": "stdout",
     "output_type": "stream",
     "text": [
      "T-statistic: -5.0\n",
      "P-value: 0.001052825793366539\n",
      "Result: Reject null hypothesis\n"
     ]
    }
   ],
   "source": [
    "import numpy as np\n",
    "from scipy import stats\n",
    "\n",
    "def hypothesis_test(sample1, sample2, alpha):\n",
    "    # Perform independent t-test\n",
    "    t_statistic, p_value = stats.ttest_ind(sample1, sample2)\n",
    "\n",
    "    # Compare p-value with significance level\n",
    "    if p_value < alpha:\n",
    "        result = \"Reject null hypothesis\"\n",
    "    else:\n",
    "        result = \"Fail to reject null hypothesis\"\n",
    "\n",
    "    return t_statistic, p_value, result\n",
    "\n",
    "# Example usage\n",
    "sample1 = np.array([1, 2, 3, 4, 5])\n",
    "sample2 = np.array([6, 7, 8, 9, 10])\n",
    "alpha = 0.05\n",
    "\n",
    "t_statistic, p_value, result = hypothesis_test(sample1, sample2, alpha)\n",
    "\n",
    "print(\"T-statistic:\", t_statistic)\n",
    "print(\"P-value:\", p_value)\n",
    "print(\"Result:\", result)"
   ]
  },
  {
   "cell_type": "code",
   "execution_count": null,
   "id": "a5aa4667-691c-4cd5-afdb-5cc88eeee712",
   "metadata": {},
   "outputs": [],
   "source": []
  },
  {
   "cell_type": "markdown",
   "id": "fc6193fa-ca0f-407d-83d4-c7d1a637d3e1",
   "metadata": {},
   "source": [
    "`Question 6`. What is a null and alternative hypothesis? Give some examples.\n",
    "\n",
    "`Answer` :In hypothesis testing, the null hypothesis (H0) and the alternative hypothesis (Ha) are two contrasting statements about a population parameter. The null hypothesis represents the status quo or the claim being tested, while the alternative hypothesis represents an alternative claim or the research hypothesis.\n",
    "\n",
    "Examples:\n",
    "\n",
    "`Null Hypothesis (H0)`: The mean height of a population is equal to 170 cm.\n",
    "\n",
    "`Alternative Hypothesis (Ha)`: The mean height of a population is not equal to 170 cm.\n",
    "\n",
    "\n",
    "`Null Hypothesis (H0)`:The average response time for a website is less than or equal to 3 seconds.\n",
    "\n",
    "`Alternative Hypothesis (Ha)`: The average response time for a website is greater than 3 seconds.\n",
    "\n",
    "\n",
    "`Null Hypothesis (H0)`: The proportion of defective products is equal to 0.10.\n",
    "\n",
    "`Alternative Hypothesis (Ha)`: The proportion of defective products is not equal to 0.10."
   ]
  },
  {
   "cell_type": "code",
   "execution_count": null,
   "id": "57b86c41-40fd-4db0-87bc-5e970b1f7c2b",
   "metadata": {},
   "outputs": [],
   "source": []
  },
  {
   "cell_type": "markdown",
   "id": "2290e8a4-aed8-4f2c-968e-cfb7df4744d4",
   "metadata": {},
   "source": [
    "`Question 7`. Write down the steps involved in hypothesis testing.\n",
    "\n",
    "`Answer` :The steps involved in hypothesis testing are as follows:\n",
    "\n",
    "1.    State the hypotheses: Clearly define the null hypothesis (H0) and the alternative hypothesis (Ha) based on the research question.\n",
    "\n",
    "2.    Set the significance level (alpha): Determine the desired level of significance for the test, which represents the probability of rejecting the null hypothesis when it is true. Commonly used values are 0.05 and 0.01.\n",
    "\n",
    "3.    Collect and analyze the data: Collect a sample of data and calculate relevant sample statistics (e.g., sample mean, sample proportion).\n",
    "\n",
    "4.   Determine the test statistic: Select an appropriate test statistic based on the type of data and the hypotheses being tested (e.g., t-statistic for means, z-statistic for proportions).\n",
    "\n",
    "5.   Calculate the p-value: Use the test statistic to calculate the p-value, which represents the probability of obtaining the observed data (or more extreme) under the null hypothesis.\n",
    "\n",
    "6.    Make a decision: Compare the p-value with the significance level. If the p-value is less than or equal to the significance level, reject the null hypothesis. Otherwise, fail to reject the null hypothesis.\n",
    "\n",
    "7.    Interpret the results: Provide a conclusion based on the decision made in the previous step, taking into account the context of the problem and any limitations of the study."
   ]
  },
  {
   "cell_type": "code",
   "execution_count": null,
   "id": "f46ec8f4-fd8b-4205-bb93-d64e8c62dac5",
   "metadata": {},
   "outputs": [],
   "source": []
  },
  {
   "cell_type": "markdown",
   "id": "c15655a5-43f4-41cc-a119-ec160182e120",
   "metadata": {},
   "source": [
    "`Question 8`. Define p-value and explain its significance in hypothesis testing.\n",
    "\n",
    "`Answer` :The p-value is a probability value that measures the strength of evidence against the null hypothesis. It represents the probability of obtaining the observed data (or more extreme) under the assumption that the null hypothesis is true. In hypothesis testing, the p-value is compared to the significance level (alpha) to make a decision about the null hypothesis.\n",
    "\n",
    "The significance of the p-value in hypothesis testing is as follows:\n",
    "\n",
    "1.    If the p-value is less than the significance level (p-value < alpha), there is strong evidence against the null hypothesis. It suggests that the observed data is unlikely to occur if the null hypothesis is true, and therefore, the null hypothesis is rejected in favor of the alternative hypothesis.\n",
    "\n",
    "2.    If the p-value is greater than or equal to the significance level (p-value >= alpha), there is insufficient evidence to reject the null hypothesis. It suggests that the observed data is reasonably likely to occur even if the null hypothesis is true, and therefore, the null hypothesis is not rejected.\n",
    "\n",
    "3.    The choice of the significance level (alpha) determines the threshold for determining whether the evidence is strong enough to reject the null hypothesis. Commonly used significance levels are 0.05 (5%) and 0.01 (1%)."
   ]
  },
  {
   "cell_type": "code",
   "execution_count": null,
   "id": "f247a5de-f55c-4caf-b7af-c9d52cf2dd44",
   "metadata": {},
   "outputs": [],
   "source": []
  },
  {
   "cell_type": "markdown",
   "id": "799990c3-3a63-4195-aa15-85983ca1180b",
   "metadata": {},
   "source": [
    "`Question 9`. Generate a Student's t-distribution plot using Python's matplotlib library, with the degrees of freedom parameter set to 10.\n",
    "\n",
    "`Answer` :"
   ]
  },
  {
   "cell_type": "code",
   "execution_count": 3,
   "id": "0372e1dc-e7cf-4ee9-9233-21bd2bb7ee05",
   "metadata": {},
   "outputs": [
    {
     "data": {
      "image/png": "[encoded data removed]",
      "text/plain": [
       "<Figure size 640x480 with 1 Axes>"
      ]
     },
     "metadata": {},
     "output_type": "display_data"
    }
   ],
   "source": [
    "import numpy as np\n",
    "import matplotlib.pyplot as plt\n",
    "from scipy.stats import t\n",
    "\n",
    "# Generate x values\n",
    "x = np.linspace(-4, 4, 100)\n",
    "\n",
    "# Calculate y values from t-distribution\n",
    "df = 10  # Degrees of freedom\n",
    "y = t.pdf(x, df)\n",
    "\n",
    "# Plot the t-distribution\n",
    "plt.plot(x, y)\n",
    "plt.title(\"Student's t-Distribution (df=10)\")\n",
    "plt.xlabel(\"x\")\n",
    "plt.ylabel(\"Probability Density\")\n",
    "plt.show()"
   ]
  },
  {
   "cell_type": "code",
   "execution_count": null,
   "id": "24516b78-9b1c-4ade-9658-879c7d21769c",
   "metadata": {},
   "outputs": [],
   "source": []
  },
  {
   "cell_type": "markdown",
   "id": "e0baf855-bac0-4896-ab8c-3c91c6c91e02",
   "metadata": {},
   "source": [
    "`Question 10`.Write a Python program to calculate the two-sample t-test for independent samples, given two random samples of equal size and a null hypothesis that the population means are equal. \n",
    "\n",
    "`Answer` :"
   ]
  },
  {
   "cell_type": "code",
   "execution_count": 4,
   "id": "dd25205b-2083-4828-903c-97f643deadd7",
   "metadata": {},
   "outputs": [
    {
     "name": "stdout",
     "output_type": "stream",
     "text": [
      "T-statistic: -5.0\n",
      "P-value: 0.001052825793366539\n"
     ]
    }
   ],
   "source": [
    "import numpy as np\n",
    "from scipy.stats import ttest_ind\n",
    "\n",
    "def two_sample_ttest(sample1, sample2):\n",
    "    t_statistic, p_value = ttest_ind(sample1, sample2)\n",
    "    return t_statistic, p_value\n",
    "\n",
    "# Example usage\n",
    "sample1 = np.array([1, 2, 3, 4, 5])\n",
    "sample2 = np.array([6, 7, 8, 9, 10])\n",
    "\n",
    "t_statistic, p_value = two_sample_ttest(sample1, sample2)\n",
    "\n",
    "print(\"T-statistic:\", t_statistic)\n",
    "print(\"P-value:\", p_value)"
   ]
  },
  {
   "cell_type": "code",
   "execution_count": null,
   "id": "3427ca8d-108e-4146-bdbe-1316d5c46612",
   "metadata": {},
   "outputs": [],
   "source": []
  },
  {
   "cell_type": "markdown",
   "id": "529633a2-a2bb-4a4e-991e-a3406e2856f9",
   "metadata": {},
   "source": [
    "`Question 11`. What is Student’s t distribution? When to use the t-Distribution.\n",
    "\n",
    "`Answer` :`The Student's t distribution`, also known as the t-distribution, is a probability distribution that is similar to the normal distribution but with heavier tails. It is commonly used in statistical inference when dealing with small sample sizes or situations where the population standard deviation is unknown. The t-distribution is characterized by its degrees of freedom, which affect the shape of the distribution. As the degrees of freedom increase, the t-distribution approaches the shape of the normal distribution.\n",
    "\n",
    "You should use the t-distribution in the following situations:\n",
    "\n",
    "1. When you are working with a sample from a population and need to make inferences about the population mean.\n",
    "2. When the population standard deviation is unknown, and you have to estimate it from the sample data.\n",
    "3. When dealing with small sample sizes (typically less than 30) where the normal distribution may not be appropriate due to its assumptions."
   ]
  },
  {
   "cell_type": "code",
   "execution_count": null,
   "id": "afc68cbc-c2bf-404f-b828-e809da36bf30",
   "metadata": {},
   "outputs": [],
   "source": []
  },
  {
   "cell_type": "markdown",
   "id": "b582047e-4297-4cb4-aba6-aad78e8402a4",
   "metadata": {},
   "source": [
    "`Question 12`. What is t-statistic? State the formula for t-statistic.\n",
    "\n",
    "`Answer` : The t-statistic is a measure used in hypothesis testing to determine if there is a significant difference between the sample mean and the hypothesized population mean. The formula for the t-statistic is as follows:\n",
    "\n",
    "t= x-u/s/n\n",
    "\n",
    "1. x is the sample mean.\n",
    "2. μ is the hypothesized population mean.\n",
    "3. s is the sample standard deviation.\n",
    "4. n is the sample size.\n",
    "5. t is the t-statistic."
   ]
  },
  {
   "cell_type": "code",
   "execution_count": null,
   "id": "db5fb651-fe18-4727-8bce-95681de5e647",
   "metadata": {},
   "outputs": [],
   "source": []
  },
  {
   "cell_type": "markdown",
   "id": "1598ccbe-c14f-4d2f-94a1-6636f3f23954",
   "metadata": {},
   "source": [
    "`Question 13`. A coffee shop owner wants to estimate the average daily revenue for their shop. They take a random sample of 50 days and find the sample mean revenue to be `$500` with a standard deviation of $50. Estimate the population mean revenue with a 95% confidence interval.\n",
    "\n",
    "`Answer` :lower and upper bounds of the 95% confidence interval for the population mean daily revenue for the coffee shop. This interval estimates where the true population mean revenue is likely to fall with 95% confidence.\n",
    "\n",
    "The result will provide you with an estimated range for the population mean daily revenue. For example, if the result is \n",
    "`$495 to $505`, you can be 95% confident that the true population mean daily revenue falls within this range."
   ]
  },
  {
   "cell_type": "code",
   "execution_count": 5,
   "id": "7a0c8733-bbb9-4a40-92c0-09de9e404708",
   "metadata": {},
   "outputs": [
    {
     "data": {
      "text/plain": [
       "(486.1409617565032, 513.8590382434968)"
      ]
     },
     "execution_count": 5,
     "metadata": {},
     "output_type": "execute_result"
    }
   ],
   "source": [
    "import scipy.stats as stats\n",
    "import math\n",
    "\n",
    "# Given values\n",
    "sample_mean = 500  # Sample mean revenue\n",
    "sample_stddev = 50  # Sample standard deviation\n",
    "sample_size = 50  # Sample size\n",
    "confidence_level = 0.95  # 95% confidence level\n",
    "\n",
    "# Calculate the critical value (Z) for a 95% confidence interval\n",
    "critical_value = stats.norm.ppf(1 - (1 - confidence_level) / 2)\n",
    "\n",
    "# Calculate the margin of error\n",
    "margin_of_error = critical_value * (sample_stddev / math.sqrt(sample_size))\n",
    "\n",
    "# Calculate the lower and upper bounds of the confidence interval\n",
    "lower_bound = sample_mean - margin_of_error\n",
    "upper_bound = sample_mean + margin_of_error\n",
    "\n",
    "(lower_bound, upper_bound)\n"
   ]
  },
  {
   "cell_type": "code",
   "execution_count": null,
   "id": "f6907978-201e-4e72-bc64-3aea7eed2fda",
   "metadata": {},
   "outputs": [],
   "source": []
  },
  {
   "cell_type": "markdown",
   "id": "29ea9785-0d8b-4730-b131-c3589a009df6",
   "metadata": {},
   "source": [
    "`Question 14`.A researcher hypothesizes that a new drug will decrease blood pressure by 10 mmHg. They conduct a clinical trial with 100 patients and find that the sample mean decrease in blood pressure is 8 mmHg with a standard deviation of 3 mmHg. Test the hypothesis with a significance level of 0.05. \n",
    "\n",
    "`Answer` :"
   ]
  },
  {
   "cell_type": "code",
   "execution_count": null,
   "id": "35b0ee72-8f23-4d15-8f46-d97cf3b263a4",
   "metadata": {},
   "outputs": [],
   "source": []
  },
  {
   "cell_type": "markdown",
   "id": "17ecbf48-4f53-4200-94be-39b864fd2062",
   "metadata": {},
   "source": [
    "`Question 15`. An electronics company produces a certain type of product with a mean weight of 5 pounds and a standard deviation of 0.5 pounds. A random sample of 25 products is taken, and the sample mean weight is found to be 4.8 pounds. Test the hypothesis that the true mean weight of the products is less than 5 pounds with a significance level of 0.01.\n",
    "\n",
    "`Answer` :"
   ]
  },
  {
   "cell_type": "code",
   "execution_count": 1,
   "id": "3d063504-5572-4af3-8871-10ac3aca23e4",
   "metadata": {},
   "outputs": [
    {
     "name": "stdout",
     "output_type": "stream",
     "text": [
      "Reject the null hypothesis\n"
     ]
    }
   ],
   "source": [
    "import numpy as np\n",
    "from scipy.stats import t\n",
    "\n",
    "# Given data\n",
    "sample_mean = 8\n",
    "sample_std = 3\n",
    "sample_size = 100\n",
    "hypothesized_mean = 10\n",
    "significance_level = 0.05\n",
    "\n",
    "# Calculate the test statistic (t-score)\n",
    "standard_error = sample_std / np.sqrt(sample_size)\n",
    "t_score = (sample_mean - hypothesized_mean) / standard_error\n",
    "\n",
    "# Calculate the critical value (t-critical)\n",
    "degrees_of_freedom = sample_size - 1\n",
    "t_critical = t.ppf(1 - significance_level, degrees_of_freedom)\n",
    "\n",
    "# Perform the hypothesis test\n",
    "if t_score < -t_critical or t_score > t_critical:\n",
    "    print(\"Reject the null hypothesis\")\n",
    "else:\n",
    "    print(\"Fail to reject the null hypothesis\")"
   ]
  },
  {
   "cell_type": "code",
   "execution_count": null,
   "id": "f674a6f7-4c68-4aa4-b217-b3f0bdc09fe1",
   "metadata": {},
   "outputs": [],
   "source": []
  },
  {
   "cell_type": "markdown",
   "id": "911f26d2-8160-4a17-9849-f98ddcbf6171",
   "metadata": {},
   "source": [
    "`Question 16`. Two groups of students are given different study materials to prepare for a test. The first group (n1 =30) has a mean score of 80 with a standard deviation of 10, and the second group (n2 = 40) has a mean score of 75 with a standard deviation of 8. Test the hypothesis that the population means for the two\n",
    "groups are equal with a significance level of 0.01.\n",
    "\n",
    "`Answer` :"
   ]
  },
  {
   "cell_type": "code",
   "execution_count": 2,
   "id": "2739adc6-71bf-4997-8ff4-95cca57bd9b2",
   "metadata": {},
   "outputs": [
    {
     "name": "stdout",
     "output_type": "stream",
     "text": [
      "Fail to reject the null hypothesis\n"
     ]
    }
   ],
   "source": [
    "import numpy as np\n",
    "from scipy.stats import t\n",
    "\n",
    "# Group 1 data\n",
    "n1 = 30\n",
    "mean1 = 80\n",
    "std1 = 10\n",
    "\n",
    "# Group 2 data\n",
    "n2 = 40\n",
    "mean2 = 75\n",
    "std2 = 8\n",
    "\n",
    "# Significance level\n",
    "significance_level = 0.01\n",
    "\n",
    "# Calculate the test statistic (t-score)\n",
    "se1 = std1 / np.sqrt(n1)\n",
    "se2 = std2 / np.sqrt(n2)\n",
    "t_score = (mean1 - mean2) / np.sqrt(se1**2 + se2**2)\n",
    "\n",
    "# Calculate the degrees of freedom\n",
    "degrees_of_freedom = n1 + n2 - 2\n",
    "\n",
    "# Calculate the critical value (t-critical)\n",
    "t_critical = t.ppf(1 - significance_level / 2, degrees_of_freedom)\n",
    "\n",
    "# Perform the hypothesis test\n",
    "if t_score < -t_critical or t_score > t_critical:\n",
    "    print(\"Reject the null hypothesis\")\n",
    "else:\n",
    "    print(\"Fail to reject the null hypothesis\")"
   ]
  },
  {
   "cell_type": "code",
   "execution_count": null,
   "id": "7ca59788-a836-4206-9af4-0f21260b301e",
   "metadata": {},
   "outputs": [],
   "source": []
  },
  {
   "cell_type": "markdown",
   "id": "53cec668-40da-4ec2-bf10-aaababb9ffe6",
   "metadata": {},
   "source": [
    "`Question 17`. A marketing company wants to estimate the average number of ads watched by viewers during a TV program. They take a random sample of 50 viewers and find that the sample mean is 4 with a standard deviation of 1.5. Estimate the population mean with a 99% confidence interval.\n",
    "\n",
    "`Answer` :To estimate the population mean number of ads watched by viewers with a 99% confidence interval, we can use the following formula:\n",
    "\n",
    "Confidence interval = sample mean ± (critical value) * (standard deviation / sqrt(sample size))\n",
    "\n",
    "Given the information:\n",
    "\n",
    "Sample mean = 4\n",
    "\n",
    "Standard deviation = 1.5\n",
    "\n",
    "Sample size = 50\n",
    "\n",
    "Confidence level = 99% (which corresponds to a significance level of 0.01, assuming a two-tailed test)\n",
    "\n",
    "First, we need to find the critical value associated with a 99% confidence level and 49 degrees of freedom (sample size minus 1). From a t-distribution table or using statistical software, the critical value is approximately 2.68.\n",
    "\n",
    "Plugging in the values into the formula, we get:\n",
    "\n",
    "Confidence interval = 4 ± (2.68) * (1.5 / sqrt(50))\n",
    "\n",
    "Confidence interval = 4 ± (2.68) * (1.5 / 7.07)\n",
    "\n",
    "Confidence interval = 4 ± 0.32\n",
    "\n",
    "Therefore, the 99% confidence interval for the population mean number of ads watched by viewers is approximately 3.68 to 4.32."
   ]
  },
  {
   "cell_type": "code",
   "execution_count": 3,
   "id": "a44211a2-c033-42e5-aec9-e471484ec57b",
   "metadata": {},
   "outputs": [
    {
     "name": "stdout",
     "output_type": "stream",
     "text": [
      "Confidence Interval: (3.4535840896844654, 4.546415910315535)\n"
     ]
    }
   ],
   "source": [
    "import numpy as np\n",
    "from scipy.stats import norm\n",
    "\n",
    "# Sample data\n",
    "sample_mean = 4\n",
    "sample_std = 1.5\n",
    "sample_size = 50\n",
    "\n",
    "# Confidence level\n",
    "confidence_level = 0.99\n",
    "\n",
    "# Calculate the standard error\n",
    "standard_error = sample_std / np.sqrt(sample_size)\n",
    "\n",
    "# Calculate the margin of error\n",
    "z_critical = norm.ppf((1 + confidence_level) / 2)\n",
    "margin_of_error = z_critical * standard_error\n",
    "\n",
    "# Calculate the confidence interval\n",
    "confidence_interval = (sample_mean - margin_of_error, sample_mean + margin_of_error)\n",
    "\n",
    "# Print the results\n",
    "print(\"Confidence Interval:\", confidence_interval)"
   ]
  },
  {
   "cell_type": "code",
   "execution_count": null,
   "id": "509e378c-ca62-4782-958e-34376e4c405d",
   "metadata": {},
   "outputs": [],
   "source": []
  }
 ],
 "metadata": {
  "kernelspec": {
   "display_name": "Python 3 (ipykernel)",
   "language": "python",
   "name": "python3"
  },
  "language_info": {
   "codemirror_mode": {
    "name": "ipython",
    "version": 3
   },
   "file_extension": ".py",
   "mimetype": "text/x-python",
   "name": "python",
   "nbconvert_exporter": "python",
   "pygments_lexer": "ipython3",
   "version": "3.10.8"
  }
 },
 "nbformat": 4,
 "nbformat_minor": 5
}
